{
  "cells": [
    {
      "cell_type": "markdown",
      "metadata": {
        "id": "view-in-github",
        "colab_type": "text"
      },
      "source": [
        "<a href=\"https://colab.research.google.com/github/mrzResearchArena/esm-embedding-clustering/blob/main/Clustering-kmeans-HC.ipynb\" target=\"_parent\"><img src=\"https://colab.research.google.com/assets/colab-badge.svg\" alt=\"Open In Colab\"/></a>"
      ]
    },
    {
      "cell_type": "code",
      "execution_count": 1,
      "metadata": {
        "id": "nzikJC9Tk2Fw",
        "colab": {
          "base_uri": "https://localhost:8080/"
        },
        "outputId": "297d8da9-cba0-4c17-ca14-356f0b99b031"
      },
      "outputs": [
        {
          "output_type": "stream",
          "name": "stdout",
          "text": [
            "Drive already mounted at /drive; to attempt to forcibly remount, call drive.mount(\"/drive\", force_remount=True).\n"
          ]
        }
      ],
      "source": [
        "from google.colab import drive\n",
        "drive.mount('/drive')"
      ]
    },
    {
      "cell_type": "code",
      "execution_count": 2,
      "metadata": {
        "id": "Jljeiq0alckl"
      },
      "outputs": [],
      "source": [
        "from sklearn.cluster import KMeans\n",
        "from sklearn.cluster import AgglomerativeClustering\n",
        "import numpy as np\n",
        "from sklearn.metrics.pairwise import cosine_similarity\n",
        "# from sklearn.decomposition import PCA\n",
        "import time"
      ]
    },
    {
      "cell_type": "code",
      "execution_count": null,
      "metadata": {
        "id": "HXY9bO3nlYVE"
      },
      "outputs": [],
      "source": [
        "# # X = np.array([[1, 2],\n",
        "#               [1, 4],\n",
        "#               [1, 0],\n",
        "#               [10, 2],\n",
        "#               [10, 4],\n",
        "#               [10, 0]])\n",
        "# X"
      ]
    },
    {
      "cell_type": "code",
      "execution_count": null,
      "metadata": {
        "id": "YnOeEEDwmJ5S",
        "colab": {
          "base_uri": "https://localhost:8080/"
        },
        "outputId": "7f9bc466-4092-4f81-9251-b70e351debe0"
      },
      "outputs": [
        {
          "output_type": "stream",
          "name": "stdout",
          "text": [
            "sample_data\n"
          ]
        }
      ],
      "source": [
        "!ls"
      ]
    },
    {
      "cell_type": "code",
      "execution_count": null,
      "metadata": {
        "id": "yUU-qavLmNlq",
        "colab": {
          "base_uri": "https://localhost:8080/"
        },
        "outputId": "d4819830-9a0a-4873-f91c-961bedaf684b"
      },
      "outputs": [
        {
          "output_type": "stream",
          "name": "stdout",
          "text": [
            "/content\n"
          ]
        }
      ],
      "source": [
        "!pwd"
      ]
    },
    {
      "cell_type": "code",
      "execution_count": null,
      "metadata": {
        "id": "fEWlZar0l5vU"
      },
      "outputs": [],
      "source": [
        "X = np.load('/drive/My Drive/ESM/Xs-35667.npy')"
      ]
    },
    {
      "cell_type": "code",
      "execution_count": null,
      "metadata": {
        "id": "tN7H-3Pkme1Q",
        "colab": {
          "base_uri": "https://localhost:8080/"
        },
        "outputId": "62755428-476f-4f92-b0ec-5b86313e4140"
      },
      "outputs": [
        {
          "output_type": "execute_result",
          "data": {
            "text/plain": [
              "(35667, 1280)"
            ]
          },
          "metadata": {},
          "execution_count": 7
        }
      ],
      "source": [
        "X.shape"
      ]
    },
    {
      "cell_type": "code",
      "execution_count": null,
      "metadata": {
        "id": "2TDI7Ls1-khP"
      },
      "outputs": [],
      "source": [
        "# np.save(file='Xcosine.npy', arr=Xcosine)"
      ]
    },
    {
      "cell_type": "code",
      "execution_count": null,
      "metadata": {
        "id": "gGd8ZVK0_JAx"
      },
      "outputs": [],
      "source": [
        "# Xcosine = np.load('Xcosine.npy')"
      ]
    },
    {
      "cell_type": "code",
      "execution_count": null,
      "metadata": {
        "id": "o1ZU5LezmwOI"
      },
      "outputs": [],
      "source": [
        "# Xcosine.shape"
      ]
    },
    {
      "cell_type": "code",
      "execution_count": null,
      "metadata": {
        "id": "cWv4jVzXD13C"
      },
      "outputs": [],
      "source": [
        "# pca = PCA(n_components=1000)"
      ]
    },
    {
      "cell_type": "code",
      "execution_count": null,
      "metadata": {
        "id": "A7E9ae9vEbL5"
      },
      "outputs": [],
      "source": [
        "# begin = time.time()\n",
        "\n",
        "# pca.fit(Xcosine)\n",
        "\n",
        "# print(time.time() - begin)"
      ]
    },
    {
      "cell_type": "code",
      "execution_count": null,
      "metadata": {
        "id": "_zwFTBI_mzBm"
      },
      "outputs": [],
      "source": [
        "# begin = time.time()\n",
        "\n",
        "# kmeans = KMeans(n_clusters=2, random_state=0, verbose=0).fit(X)\n",
        "\n",
        "# print(time.time() - begin)"
      ]
    },
    {
      "cell_type": "code",
      "execution_count": null,
      "metadata": {
        "id": "Bj9X5g7fm6Fg"
      },
      "outputs": [],
      "source": [
        "# kmeansOutputs = kmeans.labels_"
      ]
    },
    {
      "cell_type": "code",
      "execution_count": null,
      "metadata": {
        "id": "O-qj3YOMm8DU"
      },
      "outputs": [],
      "source": [
        "# set(kmeansOutputs)"
      ]
    },
    {
      "cell_type": "code",
      "execution_count": null,
      "metadata": {
        "id": "zOLv6i-cozlH"
      },
      "outputs": [],
      "source": [
        "# np.save(arr=kmeansOutputs, file='kmeans')"
      ]
    },
    {
      "cell_type": "code",
      "source": [
        "# X = np.load('/drive/My Drive/ESM/Xs-35667.npy')"
      ],
      "metadata": {
        "id": "y-mD9CGO2git"
      },
      "execution_count": null,
      "outputs": []
    },
    {
      "cell_type": "code",
      "source": [
        "# X.shape"
      ],
      "metadata": {
        "id": "rVTK-1GxCp4J",
        "colab": {
          "base_uri": "https://localhost:8080/"
        },
        "outputId": "cf87a31a-d8c7-49a4-fe60-d45c3f27b949"
      },
      "execution_count": null,
      "outputs": [
        {
          "output_type": "execute_result",
          "data": {
            "text/plain": [
              "(35667, 1280)"
            ]
          },
          "metadata": {},
          "execution_count": 53
        }
      ]
    },
    {
      "cell_type": "code",
      "source": [
        "HCmodel = AgglomerativeClustering(n_clusters=536, affinity='cosine', linkage='average')"
      ],
      "metadata": {
        "id": "gtdgnyKm2lo2"
      },
      "execution_count": null,
      "outputs": []
    },
    {
      "cell_type": "code",
      "source": [
        "begin = time.time()\n",
        "\n",
        "HCmodel.fit(X)\n",
        "\n",
        "print(time.time() - begin)"
      ],
      "metadata": {
        "id": "mKQWxf4I2qSv"
      },
      "execution_count": null,
      "outputs": []
    },
    {
      "cell_type": "code",
      "source": [
        "HCmodel.labels_"
      ],
      "metadata": {
        "id": "Iw08A1jn3FKk"
      },
      "execution_count": null,
      "outputs": []
    },
    {
      "cell_type": "code",
      "source": [
        "# https://github.com/DeMoriarty/fast_pytorch_kmeans/blob/master/fast_pytorch_kmeans/kmeans.py\n",
        "# https://github.com/subhadarship/kmeans_pytorch\n",
        "https://stackoverflow.com/questions/44759982/are-there-any-implementations-of-kmeans-with-cosine-distance-in-apache-spark-pys"
      ],
      "metadata": {
        "id": "e-cr7quGHG5U"
      },
      "execution_count": null,
      "outputs": []
    },
    {
      "cell_type": "markdown",
      "source": [
        "### K-Means (PyTorch Acceleration)\n",
        "\n",
        "- This tool can run on both GPU and CPU.\n",
        "    - However, I am forced to use CPU memory. Be that as it may, the CPU contains more memory compared to GPU in Google Colab Pro (i.e., The available CPU and GPU memory are 25.5 GB and 14.5 GB, respectively.).\n",
        "\n",
        "- able to train batch-wise"
      ],
      "metadata": {
        "id": "fK96TWneGaGe"
      }
    },
    {
      "cell_type": "code",
      "source": [
        "# !pip install kmeans-pytorch\n",
        "!pip install git+https://github.com/subhadarship/kmeans_pytorch"
      ],
      "metadata": {
        "id": "n1B0Za6uVy1h",
        "colab": {
          "base_uri": "https://localhost:8080/"
        },
        "outputId": "1f4e10df-a310-4c27-fdd3-e9e5f84b4827"
      },
      "execution_count": 2,
      "outputs": [
        {
          "output_type": "stream",
          "name": "stdout",
          "text": [
            "Looking in indexes: https://pypi.org/simple, https://us-python.pkg.dev/colab-wheels/public/simple/\n",
            "Collecting git+https://github.com/subhadarship/kmeans_pytorch\n",
            "  Cloning https://github.com/subhadarship/kmeans_pytorch to /tmp/pip-req-build-36_hnh_y\n",
            "  Running command git clone -q https://github.com/subhadarship/kmeans_pytorch /tmp/pip-req-build-36_hnh_y\n",
            "Building wheels for collected packages: kmeans-pytorch\n",
            "  Building wheel for kmeans-pytorch (setup.py) ... \u001b[?25l\u001b[?25hdone\n",
            "  Created wheel for kmeans-pytorch: filename=kmeans_pytorch-0.3-py3-none-any.whl size=10310 sha256=fb03b7a406c6d4439a0c8c7ca3eb28448a4af1d05017d960822e5b40af24dae6\n",
            "  Stored in directory: /tmp/pip-ephem-wheel-cache-mv_w6uq5/wheels/48/2d/12/6bd529adcb4ffb4f45ed39fa9cef9d69c96100b091bb54286c\n",
            "Successfully built kmeans-pytorch\n",
            "Installing collected packages: kmeans-pytorch\n",
            "Successfully installed kmeans-pytorch-0.3\n"
          ]
        }
      ]
    },
    {
      "cell_type": "code",
      "source": [
        "import torch\n",
        "import numpy as np\n",
        "import matplotlib.pyplot as plt\n",
        "from kmeans_pytorch import kmeans, kmeans_predict\n",
        "import time"
      ],
      "metadata": {
        "id": "D2SdvVn_LWU6"
      },
      "execution_count": 3,
      "outputs": []
    },
    {
      "cell_type": "code",
      "source": [
        "# set random seed\n",
        "np.random.seed(101)"
      ],
      "metadata": {
        "id": "kkFbrPdWLdu1"
      },
      "execution_count": 4,
      "outputs": []
    },
    {
      "cell_type": "code",
      "source": [
        "from google.colab import drive\n",
        "drive.mount('/drive')"
      ],
      "metadata": {
        "colab": {
          "base_uri": "https://localhost:8080/"
        },
        "id": "LIlTQRFgHObp",
        "outputId": "965b966e-cde8-4d18-d31f-f066feb8617a"
      },
      "execution_count": 6,
      "outputs": [
        {
          "output_type": "stream",
          "name": "stdout",
          "text": [
            "Mounted at /drive\n"
          ]
        }
      ]
    },
    {
      "cell_type": "code",
      "source": [
        "# data\n",
        "X = np.load('/drive/My Drive/ESM/Xs-35667.npy')\n",
        "X.shape"
      ],
      "metadata": {
        "colab": {
          "base_uri": "https://localhost:8080/"
        },
        "id": "JwK7bm4Uzuba",
        "outputId": "a869ba8a-5ca5-4476-ea7a-dac916baede1"
      },
      "execution_count": 7,
      "outputs": [
        {
          "output_type": "execute_result",
          "data": {
            "text/plain": [
              "(35667, 1280)"
            ]
          },
          "metadata": {},
          "execution_count": 7
        }
      ]
    },
    {
      "cell_type": "code",
      "source": [
        "# X = X[:10000,:]\n",
        "X.shape"
      ],
      "metadata": {
        "colab": {
          "base_uri": "https://localhost:8080/"
        },
        "id": "xP80ICNCzJ9k",
        "outputId": "3729edbb-20a2-4087-920e-a42edde0ebbc"
      },
      "execution_count": 8,
      "outputs": [
        {
          "output_type": "execute_result",
          "data": {
            "text/plain": [
              "(35667, 1280)"
            ]
          },
          "metadata": {},
          "execution_count": 8
        }
      ]
    },
    {
      "cell_type": "code",
      "source": [
        "X = torch.from_numpy(X)\n",
        "X.shape"
      ],
      "metadata": {
        "id": "H4lQ3BXkLrYh",
        "colab": {
          "base_uri": "https://localhost:8080/"
        },
        "outputId": "5d8245cd-ba79-4002-d0e7-7363ad415350"
      },
      "execution_count": 9,
      "outputs": [
        {
          "output_type": "execute_result",
          "data": {
            "text/plain": [
              "torch.Size([35667, 1280])"
            ]
          },
          "metadata": {},
          "execution_count": 9
        }
      ]
    },
    {
      "cell_type": "code",
      "source": [
        "# set device\n",
        "# if torch.cuda.is_available():\n",
        "#     device = torch.device('cuda:0')\n",
        "# else:\n",
        "#     device = torch.device('cpu')\n",
        "\n",
        "device = torch.device('cpu')\n",
        "print(f'device: {device}')"
      ],
      "metadata": {
        "id": "6fRA81yoLjq9",
        "colab": {
          "base_uri": "https://localhost:8080/"
        },
        "outputId": "e4f43dcb-7382-4c3d-f501-aaf7b42c3dbd"
      },
      "execution_count": 15,
      "outputs": [
        {
          "output_type": "stream",
          "name": "stdout",
          "text": [
            "device: cpu\n"
          ]
        }
      ]
    },
    {
      "cell_type": "code",
      "source": [
        "help(kmeans)"
      ],
      "metadata": {
        "id": "uTJoDdNrMNs5",
        "colab": {
          "base_uri": "https://localhost:8080/"
        },
        "outputId": "de75ddeb-c1f2-4198-c482-65c446ca55d6"
      },
      "execution_count": 11,
      "outputs": [
        {
          "output_type": "stream",
          "name": "stdout",
          "text": [
            "Help on function kmeans in module kmeans_pytorch:\n",
            "\n",
            "kmeans(X, num_clusters, distance='euclidean', cluster_centers=[], tol=0.0001, tqdm_flag=True, iter_limit=0, device=device(type='cpu'), gamma_for_soft_dtw=0.001, seed=None)\n",
            "    perform kmeans\n",
            "    :param X: (torch.tensor) matrix\n",
            "    :param num_clusters: (int) number of clusters\n",
            "    :param distance: (str) distance [options: 'euclidean', 'cosine'] [default: 'euclidean']\n",
            "    :param seed: (int) seed for kmeans\n",
            "    :param tol: (float) threshold [default: 0.0001]\n",
            "    :param device: (torch.device) device [default: cpu]\n",
            "    :param tqdm_flag: Allows to turn logs on and off\n",
            "    :param iter_limit: hard limit for max number of iterations\n",
            "    :param gamma_for_soft_dtw: approaches to (hard) DTW as gamma -> 0\n",
            "    :return: (torch.tensor, torch.tensor) cluster ids, cluster centers\n",
            "\n"
          ]
        }
      ]
    },
    {
      "cell_type": "code",
      "source": [
        "# k-means\n",
        "\n",
        "num_clusters = 153\n",
        "\n",
        "begin = time.time()\n",
        "\n",
        "cluster_ids_x, cluster_centers = kmeans(\n",
        "    X=X[:30000,:],\n",
        "    num_clusters=num_clusters,\n",
        "    distance='cosine',\n",
        "    device=device,\n",
        ")\n",
        "\n",
        "print()\n",
        "print(time.time() - begin)"
      ],
      "metadata": {
        "id": "cjRDlpsMMGtj",
        "colab": {
          "base_uri": "https://localhost:8080/"
        },
        "outputId": "aa90f958-1896-4ec7-a714-0cfad37e32be"
      },
      "execution_count": 16,
      "outputs": [
        {
          "output_type": "stream",
          "name": "stdout",
          "text": [
            "running k-means on cpu..\n"
          ]
        },
        {
          "output_type": "stream",
          "name": "stderr",
          "text": [
            "\n",
            "[running kmeans]: 0it [00:00, ?it/s]\u001b[A\n",
            "[running kmeans]: 0it [00:08, ?it/s, center_shift=89802.351562, iteration=1, tol=0.000100]\u001b[A\n",
            "[running kmeans]: 1it [00:08,  8.33s/it, center_shift=89802.351562, iteration=1, tol=0.000100]\u001b[A\n",
            "[running kmeans]: 1it [00:17,  8.33s/it, center_shift=6212.250977, iteration=2, tol=0.000100] \u001b[A\n",
            "[running kmeans]: 2it [00:17,  9.08s/it, center_shift=6212.250977, iteration=2, tol=0.000100]\u001b[A\n",
            "[running kmeans]: 2it [00:30,  9.08s/it, center_shift=2467.134033, iteration=3, tol=0.000100]\u001b[A\n",
            "[running kmeans]: 3it [00:30, 10.69s/it, center_shift=2467.134033, iteration=3, tol=0.000100]\u001b[A\n",
            "[running kmeans]: 3it [00:34, 10.69s/it, center_shift=1020.569641, iteration=4, tol=0.000100]\u001b[A\n",
            "[running kmeans]: 4it [00:34,  7.96s/it, center_shift=1020.569641, iteration=4, tol=0.000100]\u001b[A\n",
            "[running kmeans]: 4it [00:37,  7.96s/it, center_shift=534.985046, iteration=5, tol=0.000100] \u001b[A\n",
            "[running kmeans]: 5it [00:38,  6.42s/it, center_shift=534.985046, iteration=5, tol=0.000100]\u001b[A\n",
            "[running kmeans]: 5it [00:41,  6.42s/it, center_shift=256.966187, iteration=6, tol=0.000100]\u001b[A\n",
            "[running kmeans]: 6it [00:41,  5.51s/it, center_shift=256.966187, iteration=6, tol=0.000100]\u001b[A\n",
            "[running kmeans]: 6it [00:45,  5.51s/it, center_shift=165.335831, iteration=7, tol=0.000100]\u001b[A\n",
            "[running kmeans]: 7it [00:45,  4.91s/it, center_shift=165.335831, iteration=7, tol=0.000100]\u001b[A\n",
            "[running kmeans]: 7it [00:49,  4.91s/it, center_shift=102.168770, iteration=8, tol=0.000100]\u001b[A\n",
            "[running kmeans]: 8it [00:49,  4.54s/it, center_shift=102.168770, iteration=8, tol=0.000100]\u001b[A\n",
            "[running kmeans]: 8it [00:52,  4.54s/it, center_shift=117.252258, iteration=9, tol=0.000100]\u001b[A\n",
            "[running kmeans]: 9it [00:52,  4.27s/it, center_shift=117.252258, iteration=9, tol=0.000100]\u001b[A\n",
            "[running kmeans]: 9it [00:56,  4.27s/it, center_shift=88.722153, iteration=10, tol=0.000100]\u001b[A\n",
            "[running kmeans]: 10it [00:56,  4.11s/it, center_shift=88.722153, iteration=10, tol=0.000100]\u001b[A\n",
            "[running kmeans]: 10it [01:00,  4.11s/it, center_shift=85.456467, iteration=11, tol=0.000100]\u001b[A\n",
            "[running kmeans]: 11it [01:00,  3.99s/it, center_shift=85.456467, iteration=11, tol=0.000100]\u001b[A\n",
            "[running kmeans]: 11it [01:04,  3.99s/it, center_shift=55.616867, iteration=12, tol=0.000100]\u001b[A\n",
            "[running kmeans]: 12it [01:04,  3.90s/it, center_shift=55.616867, iteration=12, tol=0.000100]\u001b[A\n",
            "[running kmeans]: 12it [01:07,  3.90s/it, center_shift=47.021820, iteration=13, tol=0.000100]\u001b[A\n",
            "[running kmeans]: 13it [01:07,  3.83s/it, center_shift=47.021820, iteration=13, tol=0.000100]\u001b[A\n",
            "[running kmeans]: 13it [01:11,  3.83s/it, center_shift=35.373310, iteration=14, tol=0.000100]\u001b[A\n",
            "[running kmeans]: 14it [01:11,  3.80s/it, center_shift=35.373310, iteration=14, tol=0.000100]\u001b[A\n",
            "[running kmeans]: 14it [01:15,  3.80s/it, center_shift=28.425371, iteration=15, tol=0.000100]\u001b[A\n",
            "[running kmeans]: 15it [01:15,  3.77s/it, center_shift=28.425371, iteration=15, tol=0.000100]\u001b[A\n",
            "[running kmeans]: 15it [01:18,  3.77s/it, center_shift=24.726078, iteration=16, tol=0.000100]\u001b[A\n",
            "[running kmeans]: 16it [01:18,  3.75s/it, center_shift=24.726078, iteration=16, tol=0.000100]\u001b[A\n",
            "[running kmeans]: 16it [01:22,  3.75s/it, center_shift=18.057608, iteration=17, tol=0.000100]\u001b[A\n",
            "[running kmeans]: 17it [01:22,  3.73s/it, center_shift=18.057608, iteration=17, tol=0.000100]\u001b[A\n",
            "[running kmeans]: 17it [01:26,  3.73s/it, center_shift=14.464150, iteration=18, tol=0.000100]\u001b[A\n",
            "[running kmeans]: 18it [01:26,  3.72s/it, center_shift=14.464150, iteration=18, tol=0.000100]\u001b[A\n",
            "[running kmeans]: 18it [01:29,  3.72s/it, center_shift=10.353637, iteration=19, tol=0.000100]\u001b[A\n",
            "[running kmeans]: 19it [01:29,  3.71s/it, center_shift=10.353637, iteration=19, tol=0.000100]\u001b[A\n",
            "[running kmeans]: 19it [01:33,  3.71s/it, center_shift=10.871292, iteration=20, tol=0.000100]\u001b[A\n",
            "[running kmeans]: 20it [01:33,  3.70s/it, center_shift=10.871292, iteration=20, tol=0.000100]\u001b[A\n",
            "[running kmeans]: 20it [01:37,  3.70s/it, center_shift=10.636721, iteration=21, tol=0.000100]\u001b[A\n",
            "[running kmeans]: 21it [01:37,  3.69s/it, center_shift=10.636721, iteration=21, tol=0.000100]\u001b[A\n",
            "[running kmeans]: 21it [01:40,  3.69s/it, center_shift=8.823023, iteration=22, tol=0.000100] \u001b[A\n",
            "[running kmeans]: 22it [01:40,  3.70s/it, center_shift=8.823023, iteration=22, tol=0.000100]\u001b[A\n",
            "[running kmeans]: 22it [01:44,  3.70s/it, center_shift=10.070172, iteration=23, tol=0.000100]\u001b[A\n",
            "[running kmeans]: 23it [01:44,  3.69s/it, center_shift=10.070172, iteration=23, tol=0.000100]\u001b[A\n",
            "[running kmeans]: 23it [01:48,  3.69s/it, center_shift=7.717380, iteration=24, tol=0.000100] \u001b[A\n",
            "[running kmeans]: 24it [01:48,  3.70s/it, center_shift=7.717380, iteration=24, tol=0.000100]\u001b[A\n",
            "[running kmeans]: 24it [01:52,  3.70s/it, center_shift=4.952748, iteration=25, tol=0.000100]\u001b[A\n",
            "[running kmeans]: 25it [01:52,  3.70s/it, center_shift=4.952748, iteration=25, tol=0.000100]\u001b[A\n",
            "[running kmeans]: 25it [01:55,  3.70s/it, center_shift=3.452175, iteration=26, tol=0.000100]\u001b[A\n",
            "[running kmeans]: 26it [01:55,  3.70s/it, center_shift=3.452175, iteration=26, tol=0.000100]\u001b[A\n",
            "[running kmeans]: 26it [01:59,  3.70s/it, center_shift=3.076856, iteration=27, tol=0.000100]\u001b[A\n",
            "[running kmeans]: 27it [01:59,  3.70s/it, center_shift=3.076856, iteration=27, tol=0.000100]\u001b[A\n",
            "[running kmeans]: 27it [02:03,  3.70s/it, center_shift=2.425168, iteration=28, tol=0.000100]\u001b[A\n",
            "[running kmeans]: 28it [02:03,  3.70s/it, center_shift=2.425168, iteration=28, tol=0.000100]\u001b[A\n",
            "[running kmeans]: 28it [02:06,  3.70s/it, center_shift=2.126832, iteration=29, tol=0.000100]\u001b[A\n",
            "[running kmeans]: 29it [02:06,  3.69s/it, center_shift=2.126832, iteration=29, tol=0.000100]\u001b[A\n",
            "[running kmeans]: 29it [02:10,  3.69s/it, center_shift=1.365456, iteration=30, tol=0.000100]\u001b[A\n",
            "[running kmeans]: 30it [02:10,  3.70s/it, center_shift=1.365456, iteration=30, tol=0.000100]\u001b[A\n",
            "[running kmeans]: 30it [02:14,  3.70s/it, center_shift=1.307413, iteration=31, tol=0.000100]\u001b[A\n",
            "[running kmeans]: 31it [02:14,  3.70s/it, center_shift=1.307413, iteration=31, tol=0.000100]\u001b[A\n",
            "[running kmeans]: 31it [02:17,  3.70s/it, center_shift=1.474564, iteration=32, tol=0.000100]\u001b[A\n",
            "[running kmeans]: 32it [02:17,  3.70s/it, center_shift=1.474564, iteration=32, tol=0.000100]\u001b[A\n",
            "[running kmeans]: 32it [02:21,  3.70s/it, center_shift=1.531342, iteration=33, tol=0.000100]\u001b[A\n",
            "[running kmeans]: 33it [02:21,  3.71s/it, center_shift=1.531342, iteration=33, tol=0.000100]\u001b[A\n",
            "[running kmeans]: 33it [02:25,  3.71s/it, center_shift=1.627962, iteration=34, tol=0.000100]\u001b[A\n",
            "[running kmeans]: 34it [02:25,  3.70s/it, center_shift=1.627962, iteration=34, tol=0.000100]\u001b[A\n",
            "[running kmeans]: 34it [02:29,  3.70s/it, center_shift=2.341361, iteration=35, tol=0.000100]\u001b[A\n",
            "[running kmeans]: 35it [02:29,  3.70s/it, center_shift=2.341361, iteration=35, tol=0.000100]\u001b[A\n",
            "[running kmeans]: 35it [02:32,  3.70s/it, center_shift=4.010017, iteration=36, tol=0.000100]\u001b[A\n",
            "[running kmeans]: 36it [02:32,  3.70s/it, center_shift=4.010017, iteration=36, tol=0.000100]\u001b[A\n",
            "[running kmeans]: 36it [02:36,  3.70s/it, center_shift=5.116343, iteration=37, tol=0.000100]\u001b[A\n",
            "[running kmeans]: 37it [02:36,  3.69s/it, center_shift=5.116343, iteration=37, tol=0.000100]\u001b[A\n",
            "[running kmeans]: 37it [02:40,  3.69s/it, center_shift=0.572522, iteration=38, tol=0.000100]\u001b[A\n",
            "[running kmeans]: 38it [02:40,  3.69s/it, center_shift=0.572522, iteration=38, tol=0.000100]\u001b[A\n",
            "[running kmeans]: 38it [02:43,  3.69s/it, center_shift=0.425813, iteration=39, tol=0.000100]\u001b[A\n",
            "[running kmeans]: 39it [02:43,  3.69s/it, center_shift=0.425813, iteration=39, tol=0.000100]\u001b[A\n",
            "[running kmeans]: 39it [02:47,  3.69s/it, center_shift=0.426147, iteration=40, tol=0.000100]\u001b[A\n",
            "[running kmeans]: 40it [02:47,  3.70s/it, center_shift=0.426147, iteration=40, tol=0.000100]\u001b[A\n",
            "[running kmeans]: 40it [02:51,  3.70s/it, center_shift=0.635171, iteration=41, tol=0.000100]\u001b[A\n",
            "[running kmeans]: 41it [02:51,  3.69s/it, center_shift=0.635171, iteration=41, tol=0.000100]\u001b[A\n",
            "[running kmeans]: 41it [02:54,  3.69s/it, center_shift=0.735474, iteration=42, tol=0.000100]\u001b[A\n",
            "[running kmeans]: 42it [02:54,  3.69s/it, center_shift=0.735474, iteration=42, tol=0.000100]\u001b[A\n",
            "[running kmeans]: 42it [02:58,  3.69s/it, center_shift=0.745364, iteration=43, tol=0.000100]\u001b[A\n",
            "[running kmeans]: 43it [02:58,  3.70s/it, center_shift=0.745364, iteration=43, tol=0.000100]\u001b[A\n",
            "[running kmeans]: 43it [03:02,  3.70s/it, center_shift=0.484665, iteration=44, tol=0.000100]\u001b[A\n",
            "[running kmeans]: 44it [03:02,  3.71s/it, center_shift=0.484665, iteration=44, tol=0.000100]\u001b[A\n",
            "[running kmeans]: 44it [03:06,  3.71s/it, center_shift=0.217500, iteration=45, tol=0.000100]\u001b[A\n",
            "[running kmeans]: 45it [03:06,  3.71s/it, center_shift=0.217500, iteration=45, tol=0.000100]\u001b[A\n",
            "[running kmeans]: 45it [03:09,  3.71s/it, center_shift=0.144169, iteration=46, tol=0.000100]\u001b[A\n",
            "[running kmeans]: 46it [03:09,  3.70s/it, center_shift=0.144169, iteration=46, tol=0.000100]\u001b[A\n",
            "[running kmeans]: 46it [03:13,  3.70s/it, center_shift=0.152922, iteration=47, tol=0.000100]\u001b[A\n",
            "[running kmeans]: 47it [03:13,  3.69s/it, center_shift=0.152922, iteration=47, tol=0.000100]\u001b[A\n",
            "[running kmeans]: 47it [03:17,  3.69s/it, center_shift=0.120639, iteration=48, tol=0.000100]\u001b[A\n",
            "[running kmeans]: 48it [03:17,  3.69s/it, center_shift=0.120639, iteration=48, tol=0.000100]\u001b[A\n",
            "[running kmeans]: 48it [03:20,  3.69s/it, center_shift=0.143604, iteration=49, tol=0.000100]\u001b[A\n",
            "[running kmeans]: 49it [03:20,  3.69s/it, center_shift=0.143604, iteration=49, tol=0.000100]\u001b[A\n",
            "[running kmeans]: 49it [03:24,  3.69s/it, center_shift=0.080449, iteration=50, tol=0.000100]\u001b[A\n",
            "[running kmeans]: 50it [03:24,  3.69s/it, center_shift=0.080449, iteration=50, tol=0.000100]\u001b[A\n",
            "[running kmeans]: 50it [03:28,  3.69s/it, center_shift=0.077409, iteration=51, tol=0.000100]\u001b[A\n",
            "[running kmeans]: 51it [03:28,  3.69s/it, center_shift=0.077409, iteration=51, tol=0.000100]\u001b[A\n",
            "[running kmeans]: 51it [03:31,  3.69s/it, center_shift=0.058966, iteration=52, tol=0.000100]\u001b[A\n",
            "[running kmeans]: 52it [03:31,  3.69s/it, center_shift=0.058966, iteration=52, tol=0.000100]\u001b[A\n",
            "[running kmeans]: 52it [03:35,  3.69s/it, center_shift=0.043615, iteration=53, tol=0.000100]\u001b[A\n",
            "[running kmeans]: 53it [03:35,  3.69s/it, center_shift=0.043615, iteration=53, tol=0.000100]\u001b[A\n",
            "[running kmeans]: 53it [03:39,  3.69s/it, center_shift=0.018611, iteration=54, tol=0.000100]\u001b[A\n",
            "[running kmeans]: 54it [03:39,  3.70s/it, center_shift=0.018611, iteration=54, tol=0.000100]\u001b[A\n",
            "[running kmeans]: 54it [03:42,  3.70s/it, center_shift=0.008461, iteration=55, tol=0.000100]\u001b[A\n",
            "[running kmeans]: 55it [03:42,  3.69s/it, center_shift=0.008461, iteration=55, tol=0.000100]\u001b[A\n",
            "[running kmeans]: 55it [03:46,  3.69s/it, center_shift=0.001761, iteration=56, tol=0.000100]\u001b[A\n",
            "[running kmeans]: 56it [03:46,  3.69s/it, center_shift=0.001761, iteration=56, tol=0.000100]\u001b[A\n",
            "[running kmeans]: 56it [03:50,  3.69s/it, center_shift=0.000000, iteration=57, tol=0.000100]\u001b[A\n",
            "[running kmeans]: 57it [03:50,  4.04s/it, center_shift=0.000000, iteration=57, tol=0.000100]"
          ]
        },
        {
          "output_type": "stream",
          "name": "stdout",
          "text": [
            "\n",
            "230.3351697921753\n"
          ]
        },
        {
          "output_type": "stream",
          "name": "stderr",
          "text": [
            "\n"
          ]
        }
      ]
    },
    {
      "cell_type": "code",
      "source": [
        "print(cluster_ids_x)\n",
        "print(cluster_centers)"
      ],
      "metadata": {
        "colab": {
          "base_uri": "https://localhost:8080/"
        },
        "id": "0PHCRyS8Dt5t",
        "outputId": "3d1ab378-02e9-4b3a-826a-e37867879a52"
      },
      "execution_count": 17,
      "outputs": [
        {
          "output_type": "stream",
          "name": "stdout",
          "text": [
            "tensor([17, 78, 78,  ...,  2, 20,  1])\n",
            "tensor([[ 0.0812,  0.1334, -0.1107,  ..., -0.0461,  0.0361,  0.1923],\n",
            "        [ 0.0314,  0.1396,  0.0531,  ..., -0.0448,  0.0161,  0.1095],\n",
            "        [ 0.0550,  0.1556,  0.0045,  ..., -0.0610, -0.1153,  0.0474],\n",
            "        ...,\n",
            "        [-0.0973,  0.1178, -0.0665,  ...,  0.0960,  0.0286,  0.2469],\n",
            "        [ 0.0191,  0.1475, -0.2121,  ...,  0.1577, -0.1047, -0.1347],\n",
            "        [-0.0308,  0.2546,  0.0544,  ..., -0.0603, -0.1300, -0.0379]])\n"
          ]
        }
      ]
    },
    {
      "cell_type": "code",
      "source": [
        "len(set(cluster_ids_x))"
      ],
      "metadata": {
        "colab": {
          "base_uri": "https://localhost:8080/"
        },
        "id": "PVxqSUD6GNPz",
        "outputId": "38ee515c-71ac-4e0f-bea0-caaa134ed711"
      },
      "execution_count": 18,
      "outputs": [
        {
          "output_type": "execute_result",
          "data": {
            "text/plain": [
              "30000"
            ]
          },
          "metadata": {},
          "execution_count": 18
        }
      ]
    },
    {
      "cell_type": "code",
      "source": [
        "device"
      ],
      "metadata": {
        "colab": {
          "base_uri": "https://localhost:8080/"
        },
        "id": "jBKjSK6HJtgF",
        "outputId": "f33853b3-3f2a-40ab-c378-0cdd843b2d1f"
      },
      "execution_count": 19,
      "outputs": [
        {
          "output_type": "execute_result",
          "data": {
            "text/plain": [
              "device(type='cpu')"
            ]
          },
          "metadata": {},
          "execution_count": 19
        }
      ]
    },
    {
      "cell_type": "code",
      "source": [
        "!nvidia-smi"
      ],
      "metadata": {
        "colab": {
          "base_uri": "https://localhost:8080/"
        },
        "id": "mDIVvrdjJv0X",
        "outputId": "702b4fae-ba84-4ea7-9125-3a0e315daa8c"
      },
      "execution_count": 20,
      "outputs": [
        {
          "output_type": "stream",
          "name": "stdout",
          "text": [
            "Fri Aug 19 12:49:55 2022       \n",
            "+-----------------------------------------------------------------------------+\n",
            "| NVIDIA-SMI 460.32.03    Driver Version: 460.32.03    CUDA Version: 11.2     |\n",
            "|-------------------------------+----------------------+----------------------+\n",
            "| GPU  Name        Persistence-M| Bus-Id        Disp.A | Volatile Uncorr. ECC |\n",
            "| Fan  Temp  Perf  Pwr:Usage/Cap|         Memory-Usage | GPU-Util  Compute M. |\n",
            "|                               |                      |               MIG M. |\n",
            "|===============================+======================+======================|\n",
            "|   0  Tesla T4            Off  | 00000000:00:04.0 Off |                    0 |\n",
            "| N/A   47C    P0    27W /  70W |    906MiB / 15109MiB |      0%      Default |\n",
            "|                               |                      |                  N/A |\n",
            "+-------------------------------+----------------------+----------------------+\n",
            "                                                                               \n",
            "+-----------------------------------------------------------------------------+\n",
            "| Processes:                                                                  |\n",
            "|  GPU   GI   CI        PID   Type   Process name                  GPU Memory |\n",
            "|        ID   ID                                                   Usage      |\n",
            "|=============================================================================|\n",
            "+-----------------------------------------------------------------------------+\n"
          ]
        }
      ]
    },
    {
      "cell_type": "code",
      "source": [
        "# print(cluster_ids_x)\n",
        "# print(cluster_centers)"
      ],
      "metadata": {
        "id": "rDIhM_N01tH6"
      },
      "execution_count": null,
      "outputs": []
    },
    {
      "cell_type": "code",
      "source": [
        "# cluster_centers"
      ],
      "metadata": {
        "id": "2ukPmQKv3R37"
      },
      "execution_count": null,
      "outputs": []
    },
    {
      "cell_type": "code",
      "source": [
        "# begin = time.time()\n",
        "\n",
        "# cluster_ids_x, cluster_centers = kmeans(\n",
        "#     X=b2,\n",
        "#     num_clusters=num_clusters,\n",
        "#     cluster_centers = cluster_centers,\n",
        "#     distance='cosine',\n",
        "#     device=device,\n",
        "# )\n",
        "\n",
        "# print()\n",
        "# print(time.time() - begin)"
      ],
      "metadata": {
        "colab": {
          "base_uri": "https://localhost:8080/"
        },
        "id": "73UiyrMI1ZOY",
        "outputId": "8d0d8b28-831d-4464-e934-69f463b3ef33"
      },
      "execution_count": 17,
      "outputs": [
        {
          "output_type": "stream",
          "name": "stdout",
          "text": [
            "running k-means on cpu..\n",
            "resuming\n"
          ]
        },
        {
          "output_type": "stream",
          "name": "stderr",
          "text": [
            "[running kmeans]: 38it [00:57,  1.53s/it, center_shift=0.000000, iteration=38, tol=0.000100]"
          ]
        },
        {
          "output_type": "stream",
          "name": "stdout",
          "text": [
            "\n",
            "59.47051739692688\n"
          ]
        },
        {
          "output_type": "stream",
          "name": "stderr",
          "text": [
            "\n"
          ]
        }
      ]
    },
    {
      "cell_type": "code",
      "source": [
        "# begin = time.time()\n",
        "\n",
        "# cluster_ids_x, cluster_centers = kmeans(\n",
        "#     X=b3,\n",
        "#     cluster_centers = cluster_centers,\n",
        "#     num_clusters=num_clusters,\n",
        "#     distance='cosine',\n",
        "#     device=device\n",
        "# )\n",
        "\n",
        "# print()\n",
        "# print(time.time() - begin)"
      ],
      "metadata": {
        "id": "PvNefq3V1ysP",
        "colab": {
          "base_uri": "https://localhost:8080/"
        },
        "outputId": "e1144651-905e-4698-bd04-eb0fd9591cdb"
      },
      "execution_count": 18,
      "outputs": [
        {
          "output_type": "stream",
          "name": "stdout",
          "text": [
            "running k-means on cpu..\n",
            "resuming\n"
          ]
        },
        {
          "output_type": "stream",
          "name": "stderr",
          "text": [
            "[running kmeans]: 33it [00:49,  1.51s/it, center_shift=0.000000, iteration=33, tol=0.000100]"
          ]
        },
        {
          "output_type": "stream",
          "name": "stdout",
          "text": [
            "\n",
            "51.37775921821594\n"
          ]
        },
        {
          "output_type": "stream",
          "name": "stderr",
          "text": [
            "\n"
          ]
        }
      ]
    },
    {
      "cell_type": "code",
      "source": [
        "# print(cluster_ids_x)\n",
        "# print(cluster_centers)"
      ],
      "metadata": {
        "id": "f8GfYrYcMg0_"
      },
      "execution_count": 19,
      "outputs": []
    },
    {
      "cell_type": "code",
      "source": [
        "begin = time.time()\n",
        "\n",
        "cluster_ids_x, cluster_centers = kmeans(\n",
        "    X=b4,\n",
        "    num_clusters=num_clusters,\n",
        "    distance='cosine',\n",
        "    cluster_centers = cluster_centers,\n",
        "    device=device\n",
        ")\n",
        "\n",
        "print()\n",
        "print(time.time() - begin)"
      ],
      "metadata": {
        "id": "eV-d9Whm10GD",
        "colab": {
          "base_uri": "https://localhost:8080/"
        },
        "outputId": "840102f9-1f5f-4cbb-9a70-fbe1dc9b15dc"
      },
      "execution_count": 20,
      "outputs": [
        {
          "output_type": "stream",
          "name": "stdout",
          "text": [
            "running k-means on cpu..\n",
            "resuming\n"
          ]
        },
        {
          "output_type": "stream",
          "name": "stderr",
          "text": [
            "[running kmeans]: 27it [00:23,  1.15it/s, center_shift=0.000000, iteration=27, tol=0.000100]"
          ]
        },
        {
          "output_type": "stream",
          "name": "stdout",
          "text": [
            "\n",
            "24.38821244239807\n"
          ]
        },
        {
          "output_type": "stream",
          "name": "stderr",
          "text": [
            "\n"
          ]
        }
      ]
    },
    {
      "cell_type": "code",
      "source": [
        "# print(cluster_ids_x)\n",
        "# print(cluster_centers)"
      ],
      "metadata": {
        "id": "wUHYxW_K2CRb"
      },
      "execution_count": 18,
      "outputs": []
    },
    {
      "cell_type": "code",
      "source": [
        "cluster_ids_X = kmeans_predict(\n",
        "    X=X[:32000],\n",
        "    cluster_centers = cluster_centers,\n",
        "    distance='cosine',\n",
        "    device=device,\n",
        ")"
      ],
      "metadata": {
        "id": "CB6wAtg32ftg",
        "colab": {
          "base_uri": "https://localhost:8080/"
        },
        "outputId": "9e02df7e-5f2c-405d-a858-f0acb09dfe87"
      },
      "execution_count": null,
      "outputs": [
        {
          "output_type": "stream",
          "name": "stdout",
          "text": [
            "predicting on cpu..\n"
          ]
        }
      ]
    },
    {
      "cell_type": "code",
      "source": [
        "cluster_ids_X"
      ],
      "metadata": {
        "id": "fjzbhKkI2lFj",
        "colab": {
          "base_uri": "https://localhost:8080/"
        },
        "outputId": "98d00cb3-e769-44b6-97c1-a190e381e8b4"
      },
      "execution_count": 34,
      "outputs": [
        {
          "output_type": "execute_result",
          "data": {
            "text/plain": [
              "tensor([ 50, 134, 134,  ...,  50, 124,  53])"
            ]
          },
          "metadata": {},
          "execution_count": 34
        }
      ]
    },
    {
      "cell_type": "code",
      "source": [
        "len(set(cluster_ids_X))"
      ],
      "metadata": {
        "colab": {
          "base_uri": "https://localhost:8080/"
        },
        "id": "HhX3-7gvCX7f",
        "outputId": "16494506-b90e-4c01-85ae-b9a9a1397df1"
      },
      "execution_count": 35,
      "outputs": [
        {
          "output_type": "execute_result",
          "data": {
            "text/plain": [
              "30000"
            ]
          },
          "metadata": {},
          "execution_count": 35
        }
      ]
    },
    {
      "cell_type": "code",
      "source": [
        "cluster_centers.shape"
      ],
      "metadata": {
        "id": "AwszXGTjMoVt"
      },
      "execution_count": null,
      "outputs": []
    },
    {
      "cell_type": "code",
      "source": [
        "from nltk.cluster import KMeansClusterer, cosine_distance\n",
        "import numpy as np"
      ],
      "metadata": {
        "id": "3F4wbq2TXCvK"
      },
      "execution_count": null,
      "outputs": []
    },
    {
      "cell_type": "code",
      "source": [
        "# vectors = [np.array(f) for f in [[2, 1], [1, 3], [4, 7], [6, 7]]]\n",
        "# # means = [[4, 3], [5, 5]]"
      ],
      "metadata": {
        "id": "IH6HZ028X_VX"
      },
      "execution_count": null,
      "outputs": []
    },
    {
      "cell_type": "code",
      "source": [
        "X.shape"
      ],
      "metadata": {
        "colab": {
          "base_uri": "https://localhost:8080/"
        },
        "id": "AH-eKvuWYpNa",
        "outputId": "8a95151a-820e-4dee-fc82-e70ab1bf2383"
      },
      "execution_count": null,
      "outputs": [
        {
          "output_type": "execute_result",
          "data": {
            "text/plain": [
              "(35667, 1280)"
            ]
          },
          "metadata": {},
          "execution_count": 18
        }
      ]
    },
    {
      "cell_type": "code",
      "source": [
        "v = X[0:23000, :]"
      ],
      "metadata": {
        "id": "QvBIfHJakVq8"
      },
      "execution_count": null,
      "outputs": []
    },
    {
      "cell_type": "code",
      "source": [
        "v.shape"
      ],
      "metadata": {
        "colab": {
          "base_uri": "https://localhost:8080/"
        },
        "id": "g631-Dmake7w",
        "outputId": "d69a377d-4994-4719-e4d3-89e2dfee831c"
      },
      "execution_count": null,
      "outputs": [
        {
          "output_type": "execute_result",
          "data": {
            "text/plain": [
              "(23000, 1280)"
            ]
          },
          "metadata": {},
          "execution_count": 22
        }
      ]
    },
    {
      "cell_type": "code",
      "source": [
        "# K=5"
      ],
      "metadata": {
        "id": "mWcrCs3qYhbg"
      },
      "execution_count": null,
      "outputs": []
    },
    {
      "cell_type": "code",
      "source": [
        "K=153\n",
        "\n",
        "begin = time.time()\n",
        "\n",
        "clusterer = KMeansClusterer(num_means=K, \n",
        "                            distance=cosine_distance,\n",
        "                            initial_means=None,\n",
        "                            repeats=1)\n",
        "clusters = clusterer.cluster(v, True, trace=True)\n",
        "\n",
        "# print(\"Clustered:\", vectors)\n",
        "print(\"As:\", clusters)\n",
        "print(\"Means:\", clusterer.means())\n",
        "print()\n",
        "\n",
        "print(f'Time elapsed: {time.time() - begin} seconds')"
      ],
      "metadata": {
        "colab": {
          "base_uri": "https://localhost:8080/"
        },
        "id": "8-kMldKFXGo5",
        "outputId": "d87150f8-dff1-4f0c-c225-11ade057484c"
      },
      "execution_count": null,
      "outputs": [
        {
          "output_type": "stream",
          "name": "stdout",
          "text": [
            "k-means trial 0\n",
            "iteration\n",
            "iteration\n",
            "iteration\n",
            "iteration\n",
            "iteration\n",
            "iteration\n",
            "iteration\n",
            "iteration\n",
            "iteration\n",
            "iteration\n",
            "iteration\n",
            "iteration\n",
            "iteration\n",
            "iteration\n",
            "iteration\n",
            "iteration\n",
            "iteration\n",
            "iteration\n",
            "iteration\n",
            "iteration\n",
            "iteration\n",
            "iteration\n",
            "iteration\n",
            "iteration\n",
            "iteration\n",
            "iteration\n",
            "iteration\n",
            "iteration\n",
            "iteration\n",
            "iteration\n",
            "iteration\n",
            "iteration\n",
            "iteration\n",
            "iteration\n",
            "iteration\n",
            "iteration\n",
            "iteration\n",
            "iteration\n",
            "iteration\n",
            "iteration\n",
            "iteration\n",
            "iteration\n",
            "iteration\n",
            "iteration\n",
            "iteration\n",
            "iteration\n",
            "iteration\n",
            "iteration\n",
            "iteration\n",
            "iteration\n",
            "iteration\n",
            "iteration\n",
            "iteration\n",
            "iteration\n",
            "iteration\n",
            "iteration\n",
            "iteration\n",
            "iteration\n",
            "iteration\n",
            "iteration\n",
            "iteration\n",
            "iteration\n",
            "iteration\n",
            "iteration\n",
            "iteration\n",
            "iteration\n",
            "iteration\n",
            "iteration\n",
            "iteration\n",
            "iteration\n",
            "iteration\n",
            "iteration\n",
            "iteration\n",
            "iteration\n",
            "iteration\n",
            "iteration\n",
            "iteration\n",
            "iteration\n",
            "iteration\n",
            "iteration\n",
            "As: [26, 16, 16, 26, 26, 16, 26, 26, 16, 148, 16, 16, 16, 16, 16, 16, 16, 16, 16, 16, 16, 16, 16, 16, 16, 16, 16, 38, 16, 16, 16, 16, 16, 16, 16, 16, 16, 16, 16, 16, 16, 16, 16, 16, 16, 16, 16, 16, 16, 16, 16, 16, 16, 16, 16, 16, 16, 16, 16, 16, 16, 16, 16, 16, 16, 16, 16, 16, 16, 16, 16, 16, 16, 16, 16, 16, 16, 16, 16, 16, 16, 16, 16, 16, 16, 16, 16, 16, 16, 16, 16, 16, 16, 16, 16, 16, 16, 16, 16, 16, 16, 16, 16, 16, 16, 16, 16, 16, 16, 16, 16, 16, 16, 16, 16, 16, 16, 16, 16, 16, 16, 16, 16, 16, 16, 16, 16, 16, 16, 16, 16, 16, 16, 16, 16, 16, 16, 16, 16, 16, 16, 16, 16, 16, 16, 16, 16, 16, 16, 140, 140, 140, 140, 140, 140, 140, 140, 140, 140, 140, 140, 140, 140, 140, 140, 140, 140, 140, 140, 140, 140, 140, 140, 140, 140, 140, 140, 140, 140, 140, 140, 140, 140, 140, 140, 140, 140, 140, 140, 140, 140, 140, 140, 140, 140, 140, 140, 140, 140, 140, 140, 140, 140, 140, 140, 140, 140, 140, 140, 140, 140, 140, 16, 16, 16, 16, 26, 68, 16, 38, 148, 16, 16, 16, 16, 16, 16, 26, 38, 16, 16, 16, 16, 16, 16, 16, 38, 140, 16, 16, 16, 16, 16, 16, 16, 26, 16, 16, 16, 140, 16, 16, 16, 150, 60, 32, 60, 15, 61, 148, 70, 32, 38, 90, 102, 102, 102, 102, 102, 102, 107, 60, 107, 107, 107, 107, 70, 107, 133, 107, 107, 107, 107, 107, 107, 107, 107, 107, 107, 107, 107, 107, 107, 107, 68, 11, 3, 3, 3, 68, 79, 79, 38, 79, 79, 79, 38, 38, 79, 79, 79, 79, 79, 36, 36, 79, 36, 36, 36, 36, 36, 36, 36, 36, 36, 36, 36, 36, 36, 36, 36, 36, 36, 36, 36, 36, 36, 36, 36, 36, 36, 36, 36, 36, 36, 36, 36, 36, 36, 36, 36, 36, 36, 36, 36, 36, 36, 36, 36, 36, 36, 36, 36, 36, 36, 36, 36, 36, 36, 36, 36, 36, 38, 38, 38, 38, 85, 6, 6, 6, 38, 3, 79, 79, 38, 38, 79, 38, 45, 45, 3, 79, 38, 38, 38, 38, 38, 38, 3, 38, 38, 38, 38, 23, 23, 23, 23, 23, 23, 23, 23, 23, 23, 23, 23, 23, 23, 23, 23, 23, 23, 23, 23, 23, 23, 23, 23, 23, 23, 23, 23, 23, 23, 23, 23, 23, 60, 23, 23, 23, 23, 23, 23, 23, 60, 60, 60, 23, 23, 23, 23, 23, 23, 23, 23, 23, 60, 48, 23, 23, 23, 23, 23, 23, 23, 23, 23, 23, 23, 23, 23, 23, 23, 23, 23, 23, 45, 23, 23, 23, 23, 23, 23, 23, 23, 23, 23, 23, 23, 23, 23, 23, 23, 23, 23, 23, 23, 23, 23, 23, 23, 23, 23, 23, 23, 23, 23, 23, 23, 23, 23, 23, 23, 23, 23, 23, 23, 23, 23, 23, 23, 23, 23, 23, 23, 23, 23, 23, 23, 23, 23, 147, 147, 147, 147, 147, 147, 147, 147, 147, 147, 147, 147, 147, 78, 78, 147, 78, 147, 147, 147, 147, 12, 70, 12, 147, 70, 3, 70, 70, 70, 70, 70, 70, 70, 70, 147, 147, 147, 147, 147, 147, 147, 147, 147, 147, 147, 147, 147, 147, 147, 12, 147, 147, 147, 70, 70, 12, 3, 147, 147, 147, 147, 147, 147, 147, 147, 78, 147, 12, 78, 147, 12, 78, 70, 99, 99, 99, 79, 67, 67, 99, 99, 12, 135, 135, 12, 135, 135, 135, 12, 12, 12, 48, 70, 78, 12, 70, 78, 3, 48, 48, 135, 78, 12, 12, 12, 12, 48, 70, 48, 48, 48, 135, 67, 15, 38, 70, 99, 70, 99, 50, 87, 50, 87, 50, 50, 50, 50, 50, 50, 50, 50, 50, 50, 50, 50, 50, 50, 50, 50, 50, 50, 50, 50, 50, 50, 50, 50, 50, 50, 50, 50, 50, 50, 50, 50, 50, 50, 50, 50, 50, 70, 26, 71, 71, 87, 87, 87, 3, 26, 78, 26, 38, 15, 70, 3, 3, 99, 87, 140, 50, 3, 50, 70, 147, 50, 70, 147, 15, 147, 147, 147, 147, 48, 48, 147, 147, 147, 78, 147, 147, 147, 147, 147, 147, 147, 78, 147, 147, 70, 12, 147, 147, 147, 147, 70, 50, 147, 147, 50, 87, 147, 70, 70, 70, 70, 70, 71, 12, 131, 70, 48, 48, 48, 70, 15, 48, 48, 48, 3, 78, 3, 87, 87, 87, 87, 87, 87, 15, 87, 87, 87, 87, 87, 87, 87, 87, 67, 108, 108, 68, 108, 87, 87, 87, 99, 68, 15, 26, 68, 15, 87, 67, 15, 26, 68, 67, 87, 87, 87, 68, 82, 6, 68, 67, 11, 15, 70, 11, 78, 70, 70, 147, 147, 73, 147, 147, 147, 147, 147, 147, 147, 147, 78, 3, 78, 73, 38, 67, 87, 15, 15, 15, 15, 15, 15, 48, 45, 12, 78, 73, 73, 73, 78, 78, 78, 3, 78, 73, 73, 48, 78, 78, 78, 70, 78, 48, 78, 12, 78, 87, 87, 87, 87, 82, 6, 45, 108, 108, 108, 108, 15, 15, 108, 108, 108, 15, 68, 108, 108, 15, 15, 68, 108, 108, 108, 108, 108, 108, 108, 108, 108, 26, 55, 26, 55, 55, 35, 15, 15, 61, 61, 61, 78, 78, 68, 87, 87, 68, 15, 78, 78, 78, 68, 87, 67, 67, 67, 68, 87, 71, 67, 108, 108, 108, 108, 87, 68, 108, 67, 15, 85, 45, 15, 78, 3, 70, 82, 3, 82, 60, 3, 38, 3, 38, 70, 3, 3, 3, 3, 70, 68, 68, 68, 68, 68, 68, 87, 35, 67, 15, 6, 67, 38, 15, 108, 108, 67, 68, 45, 38, 87, 108, 68, 108, 26, 26, 87, 15, 87, 68, 67, 15, 7, 7, 15, 67, 108, 108, 108, 108, 108, 67, 26, 68, 15, 14, 15, 67, 26, 67, 67, 67, 67, 45, 35, 35, 68, 67, 102, 3, 15, 38, 82, 108, 108, 108, 108, 87, 87, 108, 108, 15, 108, 108, 108, 108, 15, 15, 108, 87, 108, 108, 108, 87, 55, 55, 108, 87, 87, 67, 108, 26, 67, 108, 87, 108, 26, 67, 55, 108, 108, 73, 78, 73, 73, 78, 73, 73, 78, 3, 3, 3, 73, 61, 147, 48, 3, 15, 108, 108, 108, 15, 55, 108, 55, 108, 55, 55, 108, 70, 78, 78, 108, 87, 87, 108, 108, 108, 108, 87, 70, 55, 108, 108, 55, 55, 108, 87, 108, 68, 108, 108, 108, 108, 108, 108, 70, 55, 26, 108, 108, 108, 108, 15, 108, 108, 108, 108, 108, 68, 68, 55, 55, 67, 108, 108, 68, 67, 108, 108, 108, 108, 108, 87, 108, 87, 87, 87, 87, 87, 87, 87, 87, 87, 87, 87, 32, 32, 87, 87, 87, 87, 87, 87, 87, 87, 87, 87, 87, 87, 87, 87, 87, 87, 87, 87, 87, 87, 87, 87, 87, 87, 87, 87, 87, 87, 87, 87, 87, 87, 87, 38, 38, 38, 79, 38, 38, 102, 102, 102, 102, 6, 79, 140, 140, 45, 45, 45, 15, 150, 26, 150, 26, 26, 90, 32, 26, 26, 68, 67, 87, 48, 7, 7, 6, 7, 7, 87, 6, 7, 7, 90, 90, 7, 6, 7, 131, 99, 71, 99, 90, 102, 38, 38, 38, 83, 6, 83, 83, 83, 83, 83, 83, 83, 83, 83, 83, 83, 83, 83, 83, 83, 83, 83, 83, 38, 83, 83, 83, 78, 83, 38, 83, 83, 83, 83, 83, 83, 83, 11, 83, 11, 83, 83, 83, 83, 83, 83, 83, 38, 83, 83, 83, 83, 83, 83, 38, 83, 38, 83, 83, 83, 38, 68, 3, 6, 6, 79, 6, 6, 79, 6, 6, 83, 6, 68, 6, 6, 108, 90, 71, 26, 78, 35, 35, 133, 38, 99, 99, 99, 99, 90, 90, 71, 71, 71, 71, 148, 3, 3, 3, 3, 3, 3, 3, 3, 3, 3, 3, 3, 3, 3, 72, 72, 72, 72, 67, 67, 79, 67, 67, 67, 79, 79, 79, 38, 3, 102, 102, 38, 38, 85, 3, 38, 3, 3, 38, 3, 3, 6, 3, 3, 78, 3, 6, 140, 85, 68, 72, 72, 68, 72, 72, 148, 148, 3, 3, 3, 3, 3, 3, 3, 38, 38, 3, 3, 6, 6, 79, 79, 79, 79, 79, 79, 79, 79, 79, 79, 79, 79, 79, 79, 79, 79, 79, 79, 79, 79, 79, 79, 140, 79, 79, 79, 79, 79, 79, 79, 89, 79, 79, 79, 79, 79, 6, 6, 70, 70, 82, 82, 140, 6, 79, 38, 38, 3, 3, 6, 6, 6, 6, 82, 79, 140, 45, 85, 82, 6, 140, 68, 68, 68, 11, 11, 11, 11, 11, 11, 11, 11, 11, 11, 11, 140, 82, 14, 140, 82, 82, 96, 96, 96, 96, 96, 96, 96, 48, 96, 96, 96, 61, 78, 3, 3, 61, 61, 61, 61, 61, 78, 3, 78, 61, 70, 61, 3, 3, 38, 6, 38, 83, 83, 83, 83, 83, 83, 78, 83, 83, 82, 14, 140, 140, 140, 140, 82, 140, 140, 140, 102, 102, 102, 102, 38, 38, 38, 82, 38, 38, 140, 14, 82, 140, 26, 88, 1, 61, 1, 1, 1, 96, 96, 96, 96, 96, 96, 96, 96, 96, 96, 96, 147, 147, 96, 96, 96, 96, 96, 96, 96, 147, 147, 147, 96, 96, 96, 147, 96, 96, 96, 96, 96, 96, 9, 9, 9, 32, 9, 9, 9, 9, 9, 9, 9, 9, 9, 9, 9, 9, 9, 9, 9, 9, 9, 9, 9, 9, 9, 9, 9, 9, 32, 9, 9, 32, 9, 9, 9, 9, 70, 9, 9, 9, 9, 9, 3, 3, 9, 70, 9, 9, 9, 9, 9, 9, 70, 9, 70, 9, 9, 9, 9, 68, 11, 131, 131, 70, 38, 70, 38, 9, 3, 3, 78, 3, 78, 3, 70, 9, 135, 9, 78, 9, 9, 9, 9, 9, 9, 9, 6, 6, 9, 9, 9, 70, 9, 9, 9, 9, 70, 70, 14, 6, 6, 140, 140, 79, 3, 6, 6, 6, 6, 79, 140, 61, 79, 38, 79, 79, 79, 79, 23, 23, 38, 23, 23, 23, 23, 23, 23, 23, 23, 23, 60, 23, 23, 23, 23, 23, 23, 23, 23, 23, 23, 23, 23, 23, 23, 23, 23, 38, 38, 38, 36, 140, 140, 63, 63, 3, 3, 38, 79, 140, 3, 3, 3, 3, 78, 3, 79, 38, 79, 3, 3, 78, 3, 3, 3, 26, 3, 3, 38, 60, 90, 26, 26, 26, 3, 3, 3, 3, 140, 140, 79, 140, 79, 79, 79, 79, 79, 79, 38, 6, 6, 6, 6, 68, 6, 68, 6, 6, 6, 6, 6, 6, 78, 78, 78, 3, 3, 36, 3, 3, 36, 38, 36, 36, 3, 140, 26, 131, 68, 131, 148, 90, 79, 79, 38, 68, 68, 72, 72, 72, 45, 6, 79, 79, 61, 38, 6, 38, 79, 38, 79, 38, 38, 68, 38, 6, 45, 6, 6, 152, 152, 152, 152, 152, 48, 152, 48, 152, 152, 48, 48, 152, 48, 152, 152, 152, 152, 152, 152, 152, 152, 152, 79, 67, 152, 152, 152, 152, 152, 68, 68, 152, 152, 152, 152, 152, 152, 152, 152, 152, 152, 152, 152, 152, 152, 152, 152, 152, 152, 48, 152, 152, 152, 152, 152, 152, 152, 152, 152, 152, 152, 139, 139, 139, 139, 139, 139, 139, 139, 139, 139, 139, 139, 139, 139, 139, 139, 139, 139, 48, 60, 139, 139, 139, 139, 139, 139, 152, 152, 152, 139, 139, 139, 139, 139, 139, 139, 139, 152, 152, 152, 139, 139, 152, 139, 139, 152, 152, 152, 152, 152, 139, 152, 152, 139, 139, 152, 152, 48, 48, 152, 152, 152, 152, 48, 152, 152, 152, 152, 152, 152, 152, 152, 152, 152, 139, 139, 45, 139, 152, 152, 152, 152, 152, 139, 152, 152, 152, 152, 152, 152, 152, 152, 6, 72, 72, 72, 72, 72, 72, 72, 72, 72, 72, 72, 72, 72, 72, 148, 38, 26, 38, 148, 38, 38, 38, 3, 150, 26, 148, 38, 6, 140, 85, 85, 85, 85, 85, 85, 45, 85, 82, 85, 85, 85, 85, 85, 85, 85, 85, 85, 85, 85, 140, 14, 140, 14, 85, 85, 14, 82, 140, 85, 85, 82, 14, 85, 85, 85, 14, 85, 85, 85, 85, 85, 140, 82, 85, 85, 85, 85, 85, 82, 82, 82, 82, 82, 85, 85, 85, 85, 85, 85, 140, 85, 85, 85, 85, 140, 85, 82, 140, 85, 33, 33, 26, 140, 33, 33, 33, 33, 33, 68, 33, 33, 33, 140, 33, 33, 33, 33, 33, 33, 44, 44, 44, 44, 44, 44, 44, 44, 44, 44, 44, 44, 44, 44, 44, 44, 44, 44, 44, 44, 44, 44, 44, 44, 44, 44, 44, 44, 44, 44, 44, 44, 44, 44, 44, 44, 48, 44, 44, 44, 44, 44, 44, 44, 44, 38, 38, 38, 38, 38, 38, 79, 38, 38, 38, 70, 39, 39, 39, 39, 70, 70, 70, 39, 70, 10, 10, 70, 70, 10, 70, 70, 61, 12, 10, 34, 34, 34, 85, 34, 34, 34, 34, 34, 34, 34, 34, 15, 34, 34, 34, 34, 34, 34, 34, 34, 34, 34, 34, 34, 34, 34, 48, 34, 34, 48, 34, 34, 34, 34, 34, 34, 34, 34, 34, 34, 34, 34, 34, 34, 34, 34, 34, 34, 34, 34, 48, 34, 34, 34, 34, 15, 34, 34, 15, 34, 34, 34, 34, 15, 34, 34, 34, 34, 45, 131, 145, 145, 60, 145, 145, 145, 145, 145, 145, 145, 60, 45, 60, 140, 145, 145, 145, 145, 145, 145, 145, 145, 145, 145, 145, 145, 145, 145, 145, 145, 145, 145, 145, 145, 145, 145, 145, 145, 145, 145, 145, 140, 145, 140, 145, 145, 145, 145, 60, 140, 145, 145, 145, 82, 140, 82, 82, 140, 38, 38, 38, 35, 35, 35, 35, 35, 61, 82, 82, 6, 32, 6, 61, 140, 32, 148, 38, 38, 38, 38, 38, 38, 26, 72, 72, 26, 6, 6, 6, 6, 6, 6, 140, 6, 90, 87, 87, 90, 90, 6, 140, 6, 6, 38, 38, 140, 38, 3, 3, 3, 38, 38, 3, 6, 6, 140, 82, 38, 38, 38, 79, 79, 79, 38, 38, 6, 85, 35, 60, 3, 99, 99, 99, 99, 99, 99, 99, 99, 99, 99, 99, 99, 99, 99, 99, 99, 99, 99, 99, 99, 99, 99, 99, 99, 99, 99, 99, 87, 87, 87, 87, 87, 87, 87, 87, 79, 6, 3, 99, 78, 78, 78, 3, 48, 99, 99, 99, 99, 99, 99, 99, 99, 99, 99, 99, 87, 87, 99, 48, 7, 99, 99, 99, 99, 99, 99, 99, 99, 99, 87, 87, 87, 32, 68, 90, 70, 68, 90, 3, 3, 78, 48, 48, 48, 147, 70, 147, 3, 147, 48, 78, 78, 3, 12, 6, 81, 81, 81, 81, 81, 81, 81, 81, 81, 81, 81, 81, 81, 81, 81, 81, 81, 81, 81, 81, 81, 81, 81, 81, 81, 81, 81, 81, 81, 81, 81, 81, 81, 81, 81, 81, 81, 81, 81, 81, 81, 81, 81, 81, 81, 81, 81, 97, 97, 81, 81, 81, 81, 81, 81, 81, 81, 81, 81, 81, 97, 81, 81, 81, 81, 97, 97, 97, 97, 97, 97, 97, 97, 97, 97, 81, 81, 97, 81, 81, 81, 97, 81, 97, 81, 97, 97, 81, 81, 97, 97, 81, 81, 81, 81, 81, 81, 81, 81, 81, 81, 81, 81, 97, 81, 81, 81, 97, 81, 81, 81, 81, 97, 81, 81, 81, 81, 67, 81, 81, 81, 97, 97, 97, 97, 97, 81, 78, 81, 81, 78, 78, 81, 61, 85, 81, 78, 85, 81, 85, 81, 38, 81, 81, 81, 81, 81, 81, 81, 81, 81, 81, 81, 38, 81, 81, 81, 81, 81, 81, 81, 81, 81, 81, 97, 81, 81, 81, 81, 81, 81, 81, 81, 97, 81, 81, 85, 81, 78, 81, 81, 81, 81, 81, 81, 97, 97, 81, 61, 78, 81, 78, 81, 81, 81, 81, 97, 81, 97, 81, 81, 81, 81, 97, 81, 97, 81, 81, 97, 81, 81, 81, 81, 81, 81, 81, 81, 97, 81, 78, 81, 81, 81, 38, 38, 38, 38, 38, 38, 38, 38, 38, 38, 38, 38, 38, 38, 38, 38, 38, 38, 38, 38, 36, 63, 79, 0, 0, 0, 0, 0, 0, 0, 0, 0, 0, 0, 0, 0, 0, 0, 0, 0, 0, 0, 0, 0, 0, 0, 0, 0, 0, 0, 0, 0, 0, 0, 0, 0, 0, 0, 0, 0, 0, 0, 0, 0, 0, 0, 0, 0, 0, 0, 0, 0, 0, 0, 0, 0, 0, 82, 0, 6, 85, 85, 79, 85, 38, 61, 61, 61, 61, 35, 35, 35, 35, 35, 35, 35, 99, 99, 99, 99, 99, 99, 99, 99, 99, 99, 68, 99, 99, 99, 99, 6, 82, 99, 99, 99, 140, 99, 99, 99, 82, 99, 99, 67, 99, 46, 46, 46, 46, 46, 46, 46, 46, 46, 46, 46, 46, 46, 46, 46, 46, 46, 46, 46, 46, 46, 46, 46, 46, 46, 46, 46, 46, 46, 46, 46, 46, 46, 46, 46, 46, 46, 46, 46, 46, 46, 46, 46, 46, 46, 46, 46, 46, 46, 46, 46, 46, 46, 46, 46, 46, 46, 46, 46, 46, 46, 46, 46, 46, 46, 46, 46, 46, 46, 46, 46, 46, 46, 46, 46, 46, 46, 46, 46, 46, 46, 46, 46, 46, 46, 46, 46, 46, 46, 46, 46, 46, 46, 46, 46, 46, 46, 46, 46, 46, 46, 46, 46, 46, 46, 46, 46, 46, 46, 46, 46, 46, 46, 46, 46, 46, 46, 46, 46, 46, 46, 46, 46, 46, 46, 46, 46, 46, 46, 46, 46, 46, 46, 46, 46, 46, 46, 46, 46, 46, 46, 46, 46, 46, 46, 46, 46, 46, 46, 46, 46, 46, 46, 46, 46, 46, 46, 46, 46, 46, 46, 46, 46, 46, 46, 46, 46, 46, 46, 46, 46, 140, 6, 6, 6, 6, 6, 6, 6, 6, 68, 79, 85, 85, 38, 3, 3, 48, 3, 79, 3, 38, 38, 3, 48, 140, 38, 3, 3, 61, 3, 26, 140, 85, 85, 85, 85, 140, 3, 38, 3, 3, 3, 3, 45, 67, 85, 85, 85, 85, 6, 85, 82, 3, 38, 22, 22, 22, 22, 22, 22, 22, 22, 22, 22, 22, 85, 85, 85, 38, 38, 140, 22, 22, 22, 22, 38, 22, 22, 22, 22, 6, 6, 6, 6, 6, 140, 140, 140, 140, 6, 6, 82, 85, 85, 6, 6, 6, 6, 140, 11, 11, 11, 11, 11, 11, 11, 11, 11, 99, 99, 11, 11, 99, 11, 90, 11, 15, 11, 11, 11, 11, 148, 148, 32, 32, 148, 60, 15, 148, 32, 32, 148, 32, 38, 38, 140, 78, 78, 78, 3, 3, 83, 78, 78, 78, 83, 83, 35, 35, 83, 83, 83, 83, 83, 83, 83, 83, 83, 83, 83, 83, 83, 83, 83, 83, 83, 83, 15, 83, 83, 78, 83, 78, 83, 83, 83, 78, 78, 83, 83, 78, 83, 83, 83, 83, 78, 83, 83, 83, 15, 83, 83, 35, 83, 83, 78, 83, 83, 83, 83, 83, 83, 83, 90, 148, 131, 131, 90, 6, 140, 68, 68, 87, 12, 68, 83, 83, 83, 87, 140, 83, 131, 83, 60, 83, 60, 83, 83, 83, 83, 68, 68, 15, 38, 68, 83, 133, 133, 90, 90, 90, 90, 90, 61, 14, 61, 131, 131, 60, 68, 90, 90, 82, 15, 90, 131, 82, 90, 3, 38, 68, 61, 67, 140, 140, 140, 148, 15, 82, 148, 6, 11, 11, 15, 15, 15, 15, 15, 15, 15, 6, 6, 6, 6, 6, 82, 6, 67, 79, 6, 85, 85, 85, 38, 45, 85, 140, 38, 6, 6, 140, 63, 82, 140, 140, 140, 140, 140, 140, 38, 38, 38, 38, 61, 61, 61, 38, 61, 38, 61, 38, 14, 38, 79, 70, 70, 70, 70, 70, 70, 60, 70, 70, 70, 70, 70, 70, 70, 70, 70, 70, 60, 60, 60, 70, 70, 60, 140, 140, 140, 14, 140, 140, 38, 140, 45, 140, 6, 79, 6, 6, 140, 6, 82, 140, 140, 6, 6, 6, 140, 6, 140, 82, 45, 140, 79, 45, 79, 6, 6, 140, 6, 76, 76, 26, 26, 140, 140, 6, 140, 82, 6, 79, 79, 6, 140, 14, 38, 3, 140, 85, 85, 140, 140, 140, 14, 140, 85, 14, 140, 140, 140, 140, 146, 146, 48, 146, 78, 146, 146, 48, 146, 146, 146, 15, 146, 146, 85, 146, 67, 146, 146, 146, 25, 25, 25, 25, 146, 146, 146, 48, 146, 146, 102, 102, 102, 102, 140, 140, 140, 82, 6, 83, 83, 61, 78, 83, 38, 61, 83, 83, 61, 83, 61, 83, 83, 38, 83, 83, 35, 85, 38, 61, 38, 83, 61, 38, 38, 83, 38, 38, 35, 61, 83, 83, 26, 26, 148, 68, 72, 15, 71, 148, 85, 26, 26, 82, 6, 45, 6, 6, 82, 82, 148, 32, 32, 90, 148, 148, 6, 140, 82, 82, 82, 82, 82, 82, 82, 140, 140, 82, 82, 82, 82, 82, 140, 140, 79, 140, 45, 14, 82, 36, 36, 36, 36, 36, 36, 36, 36, 36, 36, 36, 78, 48, 78, 48, 78, 48, 48, 12, 35, 48, 48, 48, 78, 79, 140, 140, 45, 63, 140, 140, 140, 140, 140, 140, 140, 45, 45, 61, 61, 61, 78, 78, 61, 78, 61, 61, 3, 3, 3, 3, 48, 61, 60, 78, 78, 3, 61, 3, 78, 3, 78, 3, 48, 61, 3, 78, 78, 3, 67, 60, 60, 133, 88, 88, 88, 88, 88, 88, 88, 88, 88, 88, 88, 88, 88, 88, 88, 60, 36, 1, 133, 133, 133, 15, 133, 133, 133, 133, 133, 133, 133, 133, 88, 88, 88, 88, 88, 88, 133, 133, 88, 88, 102, 140, 140, 140, 90, 71, 32, 71, 90, 48, 71, 12, 12, 71, 71, 90, 68, 68, 90, 33, 68, 33, 33, 33, 33, 33, 68, 33, 33, 38, 140, 71, 71, 148, 48, 71, 150, 60, 70, 70, 70, 60, 15, 32, 32, 131, 60, 133, 140, 133, 6, 15, 150, 32, 15, 15, 133, 131, 32, 32, 140, 33, 68, 32, 90, 140, 6, 79, 140, 90, 140, 90, 32, 70, 32, 32, 133, 32, 32, 32, 33, 148, 32, 32, 32, 32, 32, 32, 60, 60, 12, 60, 68, 32, 32, 32, 140, 140, 140, 133, 32, 32, 32, 90, 32, 70, 32, 131, 32, 32, 32, 133, 133, 32, 133, 133, 12, 32, 133, 140, 82, 85, 85, 140, 82, 116, 116, 116, 116, 116, 116, 116, 116, 116, 116, 116, 116, 116, 116, 116, 116, 116, 116, 116, 116, 116, 116, 116, 116, 116, 116, 116, 116, 116, 116, 116, 116, 116, 116, 116, 116, 116, 116, 116, 116, 116, 116, 116, 116, 116, 116, 116, 116, 116, 116, 116, 116, 116, 116, 116, 116, 116, 116, 116, 116, 60, 60, 116, 116, 15, 116, 116, 116, 116, 116, 120, 120, 116, 116, 116, 15, 70, 60, 60, 60, 12, 12, 12, 1, 120, 120, 120, 120, 120, 120, 120, 120, 120, 120, 120, 120, 120, 120, 116, 116, 15, 72, 72, 72, 72, 68, 72, 72, 72, 72, 72, 72, 68, 72, 72, 72, 72, 131, 72, 72, 72, 72, 72, 68, 72, 68, 37, 37, 37, 37, 37, 131, 37, 150, 37, 37, 37, 37, 37, 10, 10, 10, 10, 37, 37, 12, 10, 12, 12, 12, 10, 37, 37, 37, 37, 37, 37, 37, 37, 37, 37, 37, 37, 37, 37, 37, 37, 37, 150, 37, 37, 37, 37, 37, 37, 37, 37, 37, 37, 37, 12, 12, 37, 10, 12, 12, 133, 10, 12, 12, 12, 12, 12, 12, 12, 37, 37, 37, 37, 37, 37, 37, 37, 37, 37, 37, 37, 37, 37, 37, 37, 37, 37, 37, 37, 37, 37, 37, 37, 12, 37, 37, 37, 37, 37, 37, 90, 37, 37, 37, 37, 37, 37, 37, 37, 55, 37, 37, 37, 37, 37, 37, 37, 37, 37, 37, 37, 37, 37, 37, 37, 37, 37, 37, 37, 37, 37, 37, 37, 37, 37, 37, 37, 37, 37, 37, 37, 37, 37, 37, 37, 37, 37, 37, 37, 37, 37, 37, 150, 12, 37, 37, 37, 133, 12, 38, 38, 38, 38, 11, 38, 38, 140, 72, 68, 88, 67, 133, 133, 67, 67, 71, 131, 3, 14, 82, 3, 14, 45, 140, 63, 63, 60, 78, 12, 70, 70, 12, 35, 70, 12, 12, 48, 78, 60, 12, 12, 78, 12, 78, 78, 78, 78, 70, 60, 78, 78, 70, 70, 70, 78, 48, 48, 78, 78, 78, 35, 26, 70, 70, 150, 48, 48, 48, 15, 48, 48, 48, 48, 85, 35, 35, 61, 61, 35, 3, 48, 61, 35, 38, 3, 3, 3, 15, 15, 133, 26, 35, 48, 70, 48, 48, 12, 67, 79, 78, 78, 12, 38, 6, 26, 70, 70, 85, 140, 78, 150, 150, 70, 70, 70, 70, 70, 45, 1, 78, 60, 60, 61, 1, 48, 1, 48, 60, 14, 70, 48, 48, 60, 70, 70, 48, 70, 48, 32, 78, 78, 60, 70, 70, 26, 60, 60, 12, 70, 70, 70, 6, 15, 15, 48, 48, 60, 70, 3, 48, 60, 60, 60, 60, 48, 60, 48, 15, 70, 70, 3, 12, 3, 3, 26, 61, 61, 61, 38, 38, 38, 3, 3, 3, 78, 26, 12, 70, 70, 15, 78, 3, 12, 90, 35, 3, 70, 70, 38, 3, 12, 3, 3, 12, 70, 26, 148, 45, 45, 26, 116, 116, 116, 116, 78, 78, 15, 3, 140, 35, 15, 15, 3, 3, 3, 15, 15, 70, 116, 116, 116, 116, 116, 116, 116, 116, 70, 116, 12, 12, 35, 3, 3, 12, 70, 12, 12, 12, 70, 70, 12, 12, 70, 79, 48, 48, 78, 3, 78, 70, 78, 78, 48, 70, 78, 78, 3, 70, 70, 70, 70, 78, 78, 78, 3, 3, 48, 35, 3, 85, 85, 61, 32, 32, 32, 90, 79, 3, 3, 3, 35, 38, 38, 3, 35, 35, 15, 90, 85, 79, 6, 38, 38, 38, 38, 35, 3, 79, 45, 38, 68, 68, 38, 67, 35, 61, 35, 38, 38, 85, 85, 61, 61, 35, 36, 36, 36, 36, 61, 61, 82, 26, 26, 15, 26, 26, 90, 15, 26, 26, 26, 26, 26, 26, 26, 26, 67, 26, 26, 67, 26, 148, 26, 26, 26, 26, 140, 15, 26, 26, 140, 67, 26, 26, 26, 68, 15, 67, 26, 90, 26, 26, 26, 151, 21, 21, 151, 21, 151, 21, 21, 151, 21, 21, 21, 21, 21, 21, 21, 21, 21, 21, 21, 151, 21, 151, 151, 151, 151, 28, 28, 28, 21, 151, 151, 21, 21, 21, 151, 151, 21, 28, 28, 151, 151, 151, 21, 21, 151, 21, 21, 151, 28, 21, 21, 28, 28, 21, 21, 21, 21, 21, 21, 21, 21, 21, 21, 151, 21, 28, 21, 21, 21, 28, 67, 67, 67, 67, 36, 36, 36, 36, 38, 61, 61, 61, 61, 61, 61, 38, 82, 38, 61, 61, 38, 61, 61, 38, 61, 61, 38, 61, 61, 72, 72, 72, 131, 131, 72, 72, 72, 60, 72, 72, 72, 72, 72, 72, 72, 72, 72, 72, 72, 72, 72, 72, 72, 72, 60, 72, 72, 72, 72, 72, 72, 72, 72, 72, 72, 60, 72, 72, 72, 72, 72, 72, 72, 72, 72, 72, 72, 72, 72, 131, 72, 72, 60, 71, 90, 60, 68, 60, 71, 60, 120, 120, 120, 120, 26, 120, 67, 120, 60, 90, 70, 120, 90, 15, 32, 120, 60, 70, 71, 70, 71, 120, 32, 90, 71, 32, 120, 120, 71, 71, 71, 71, 120, 120, 120, 120, 71, 90, 26, 26, 26, 26, 26, 26, 133, 32, 70, 120, 32, 60, 32, 131, 120, 72, 70, 70, 60, 71, 32, 32, 32, 32, 32, 32, 90, 26, 68, 68, 26, 26, 26, 82, 82, 68, 26, 38, 26, 140, 140, 26, 82, 82, 79, 79, 26, 72, 72, 72, 72, 26, 26, 26, 139, 139, 68, 68, 139, 139, 139, 139, 139, 72, 72, 139, 139, 139, 139, 139, 68, 22, 22, 22, 22, 22, 22, 22, 22, 22, 22, 22, 22, 22, 22, 22, 22, 22, 22, 22, 22, 22, 22, 22, 22, 22, 22, 22, 22, 22, 22, 22, 22, 22, 22, 22, 22, 22, 22, 22, 22, 22, 22, 22, 22, 22, 22, 22, 22, 22, 22, 22, 22, 22, 22, 22, 22, 22, 22, 22, 22, 22, 22, 22, 22, 22, 22, 22, 22, 22, 22, 22, 22, 22, 22, 22, 22, 22, 89, 89, 140, 140, 140, 38, 38, 26, 38, 79, 82, 82, 45, 79, 79, 79, 38, 6, 38, 38, 79, 38, 6, 82, 38, 79, 82, 14, 82, 140, 82, 14, 82, 45, 82, 63, 3, 68, 90, 6, 6, 26, 23, 23, 23, 23, 23, 23, 23, 23, 23, 23, 23, 23, 23, 23, 23, 23, 23, 23, 23, 23, 23, 23, 23, 23, 23, 23, 15, 23, 23, 23, 23, 23, 23, 23, 23, 23, 23, 23, 23, 23, 23, 23, 23, 23, 23, 23, 23, 23, 15, 90, 90, 90, 90, 90, 90, 15, 90, 15, 90, 90, 90, 90, 15, 90, 83, 83, 83, 83, 83, 83, 83, 83, 15, 83, 78, 83, 83, 83, 38, 79, 38, 38, 61, 61, 38, 60, 48, 1, 60, 60, 22, 60, 90, 90, 67, 67, 61, 61, 38, 3, 83, 38, 78, 3, 83, 78, 83, 78, 83, 38, 83, 102, 102, 102, 102, 140, 140, 61, 35, 79, 82, 32, 90, 90, 68, 90, 6, 6, 133, 72, 72, 72, 72, 72, 72, 72, 72, 72, 72, 72, 72, 26, 140, 140, 38, 38, 38, 38, 140, 3, 3, 3, 79, 79, 6, 6, 11, 6, 11, 11, 102, 102, 102, 148, 148, 32, 90, 131, 150, 68, 35, 32, 3, 48, 48, 48, 48, 48, 48, 48, 15, 3, 61, 70, 70, 45, 78, 3, 82, 3, 3, 3, 3, 78, 3, 3, 6, 38, 6, 60, 48, 35, 35, 15, 15, 14, 61, 61, 61, 48, 6, 6, 6, 90, 24, 90, 38, 79, 85, 61, 61, 140, 140, 79, 140, 60, 60, 82, 82, 85, 6, 85, 140, 140, 6, 68, 26, 61, 26, 68, 133, 38, 140, 140, 79, 140, 79, 25, 90, 71, 133, 3, 148, 90, 25, 82, 38, 26, 140, 11, 79, 6, 6, 68, 15, 60, 60, 131, 32, 26, 68, 26, 68, 26, 82, 38, 38, 38, 38, 6, 85, 85, 78, 3, 3, 3, 3, 79, 82, 82, 82, 14, 45, 14, 72, 38, 61, 6, 85, 79, 79, 85, 85, 140, 14, 85, 3, 85, 140, 140, 140, 140, 26, 26, 6, 82, 82, 131, 38, 67, 72, 72, 72, 72, 72, 72, 68, 72, 72, 72, 72, 72, 67, 138, 72, 72, 35, 82, 133, 78, 72, 72, 72, 90, 148, 148, 82, 150, 15, 68, 90, 68, 148, 26, 131, 90, 7, 71, 32, 90, 71, 90, 131, 60, 73, 73, 73, 60, 12, 12, 78, 32, 73, 73, 60, 12, 15, 35, 35, 71, 79, 26, 82, 15, 90, 26, 12, 12, 78, 60, 70, 12, 26, 70, 70, 70, 55, 90, 133, 15, 148, 26, 148, 26, 6, 3, 78, 3, 78, 6, 78, 78, 3, 3, 38, 26, 26, 26, 6, 82, 38, 35, 11, 38, 38, 61, 82, 85, 38, 61, 67, 6, 79, 79, 140, 140, 79, 38, 140, 140, 140, 45, 45, 45, 3, 3, 3, 3, 3, 3, 35, 78, 3, 78, 78, 78, 78, 78, 78, 61, 35, 38, 3, 38, 6, 140, 45, 14, 140, 140, 3, 3, 38, 38, 3, 38, 38, 38, 38, 38, 38, 3, 3, 3, 45, 79, 67, 68, 26, 85, 6, 6, 38, 140, 79, 79, 38, 79, 38, 6, 38, 38, 6, 26, 26, 35, 79, 79, 6, 38, 82, 140, 26, 26, 82, 6, 15, 15, 15, 15, 150, 150, 150, 150, 61, 140, 72, 26, 6, 61, 36, 35, 90, 32, 15, 14, 38, 38, 140, 90, 90, 38, 82, 78, 78, 78, 140, 140, 140, 85, 140, 6, 140, 140, 140, 6, 140, 140, 45, 38, 38, 38, 38, 38, 35, 35, 35, 38, 38, 38, 38, 38, 38, 67, 140, 140, 38, 38, 26, 26, 26, 3, 68, 70, 26, 140, 6, 6, 6, 6, 6, 6, 26, 38, 45, 6, 15, 148, 148, 38, 148, 140, 140, 140, 140, 82, 82, 3, 38, 38, 45, 85, 122, 122, 122, 122, 122, 122, 122, 122, 122, 122, 122, 122, 27, 27, 122, 122, 122, 122, 136, 98, 98, 98, 98, 144, 144, 45, 45, 144, 144, 98, 98, 98, 63, 136, 136, 122, 27, 29, 136, 27, 136, 27, 136, 27, 92, 92, 27, 92, 27, 92, 29, 29, 27, 27, 92, 92, 136, 136, 27, 92, 92, 27, 92, 92, 92, 92, 92, 92, 92, 92, 92, 92, 92, 29, 29, 29, 29, 27, 136, 27, 27, 27, 27, 136, 27, 136, 27, 92, 29, 92, 29, 27, 136, 27, 27, 92, 136, 136, 136, 136, 136, 136, 136, 136, 136, 136, 136, 136, 136, 136, 92, 136, 136, 136, 136, 136, 136, 136, 92, 92, 136, 136, 136, 136, 136, 136, 27, 136, 27, 136, 136, 136, 136, 92, 136, 136, 136, 27, 136, 136, 136, 136, 136, 136, 136, 136, 136, 136, 27, 27, 136, 136, 27, 136, 136, 136, 92, 92, 92, 92, 92, 92, 92, 92, 92, 92, 92, 92, 92, 92, 92, 92, 92, 92, 92, 92, 92, 92, 92, 92, 92, 92, 92, 92, 92, 92, 92, 92, 92, 92, 92, 92, 92, 92, 92, 92, 92, 92, 92, 92, 92, 92, 92, 92, 92, 92, 92, 92, 92, 92, 92, 92, 92, 92, 92, 92, 92, 92, 92, 92, 92, 92, 92, 92, 92, 92, 92, 92, 92, 92, 92, 92, 92, 92, 92, 92, 92, 92, 92, 92, 92, 92, 92, 92, 92, 92, 92, 92, 92, 92, 92, 92, 92, 92, 92, 92, 92, 92, 92, 92, 92, 92, 92, 92, 92, 92, 136, 92, 92, 92, 92, 128, 29, 29, 92, 29, 29, 29, 29, 29, 29, 29, 29, 29, 29, 92, 29, 29, 29, 29, 29, 29, 29, 29, 29, 29, 29, 29, 29, 49, 29, 29, 29, 29, 29, 29, 29, 29, 29, 29, 29, 29, 92, 92, 92, 92, 136, 29, 29, 29, 27, 29, 27, 128, 69, 47, 42, 69, 42, 69, 74, 69, 69, 136, 128, 42, 69, 128, 42, 42, 69, 69, 69, 69, 69, 69, 69, 69, 69, 69, 128, 128, 74, 47, 47, 47, 47, 47, 47, 47, 43, 69, 42, 128, 128, 128, 128, 128, 128, 128, 128, 128, 128, 128, 128, 128, 128, 128, 128, 128, 128, 128, 128, 128, 128, 128, 128, 128, 128, 128, 128, 128, 128, 128, 128, 128, 128, 128, 128, 128, 29, 128, 128, 128, 128, 128, 128, 128, 128, 128, 128, 128, 128, 128, 92, 128, 128, 128, 128, 128, 128, 128, 128, 128, 128, 128, 128, 128, 128, 128, 128, 128, 42, 74, 74, 74, 74, 74, 74, 74, 74, 74, 74, 74, 74, 74, 74, 74, 74, 74, 74, 74, 74, 42, 42, 42, 42, 42, 42, 43, 42, 42, 42, 42, 42, 42, 42, 42, 42, 42, 42, 42, 42, 42, 42, 42, 42, 42, 42, 42, 42, 128, 42, 42, 42, 42, 42, 42, 42, 42, 42, 42, 42, 42, 42, 42, 42, 42, 69, 42, 42, 42, 42, 42, 42, 42, 42, 42, 42, 42, 42, 42, 42, 42, 42, 42, 47, 69, 69, 42, 42, 69, 69, 42, 42, 43, 43, 94, 94, 94, 94, 94, 94, 94, 94, 94, 43, 51, 51, 51, 94, 43, 43, 43, 43, 43, 43, 43, 57, 43, 144, 98, 98, 111, 98, 10, 10, 10, 144, 57, 144, 144, 144, 144, 144, 144, 144, 144, 57, 144, 57, 57, 57, 57, 95, 95, 95, 144, 95, 95, 95, 136, 144, 144, 57, 144, 144, 136, 57, 57, 57, 57, 57, 57, 57, 57, 57, 95, 95, 57, 144, 144, 144, 144, 98, 122, 122, 122, 122, 136, 122, 122, 122, 122, 122, 122, 122, 122, 122, 122, 122, 122, 122, 122, 27, 122, 122, 122, 122, 27, 122, 122, 122, 122, 144, 98, 144, 115, 144, 144, 122, 49, 115, 27, 27, 49, 47, 49, 136, 69, 69, 115, 49, 49, 49, 49, 69, 122, 49, 49, 49, 47, 94, 47, 47, 115, 49, 49, 69, 136, 49, 49, 94, 49, 115, 49, 49, 49, 49, 51, 49, 49, 51, 115, 94, 128, 49, 49, 49, 94, 49, 49, 49, 47, 115, 49, 47, 49, 69, 49, 49, 144, 49, 49, 49, 49, 47, 92, 47, 49, 49, 49, 47, 144, 27, 49, 49, 49, 49, 49, 51, 49, 49, 49, 47, 49, 115, 69, 49, 115, 69, 27, 49, 43, 49, 47, 27, 49, 49, 128, 49, 49, 115, 49, 49, 27, 49, 115, 49, 94, 51, 10, 49, 49, 47, 49, 49, 47, 49, 47, 49, 49, 49, 51, 115, 57, 49, 94, 49, 27, 51, 57, 49, 47, 49, 49, 27, 49, 49, 49, 115, 115, 49, 49, 49, 95, 69, 27, 49, 27, 49, 49, 47, 49, 47, 47, 94, 49, 27, 49, 49, 49, 49, 49, 47, 49, 49, 128, 47, 51, 49, 57, 27, 49, 49, 49, 47, 49, 49, 115, 49, 27, 69, 57, 49, 27, 49, 49, 49, 49, 49, 115, 49, 49, 94, 49, 49, 47, 49, 49, 94, 27, 47, 27, 49, 42, 49, 49, 49, 47, 115, 49, 49, 49, 49, 49, 49, 115, 49, 49, 49, 49, 49, 47, 49, 49, 49, 49, 49, 49, 128, 49, 92, 49, 49, 49, 27, 49, 49, 49, 115, 49, 57, 51, 49, 49, 49, 49, 49, 49, 49, 115, 49, 49, 47, 69, 47, 49, 47, 49, 49, 27, 49, 49, 51, 49, 49, 128, 49, 128, 94, 49, 47, 49, 49, 27, 69, 49, 47, 49, 122, 27, 49, 47, 27, 51, 49, 49, 27, 49, 47, 47, 49, 49, 94, 49, 49, 49, 49, 69, 27, 49, 49, 49, 49, 49, 49, 49, 49, 49, 47, 49, 69, 49, 49, 69, 57, 49, 49, 69, 49, 49, 49, 49, 27, 49, 47, 49, 49, 49, 136, 115, 49, 49, 51, 49, 95, 49, 47, 27, 122, 115, 49, 136, 95, 49, 49, 49, 49, 49, 94, 47, 47, 27, 49, 49, 94, 49, 136, 49, 49, 49, 47, 115, 49, 49, 115, 51, 47, 27, 27, 49, 136, 49, 47, 49, 128, 115, 49, 47, 49, 49, 69, 47, 47, 49, 49, 49, 27, 49, 49, 27, 49, 49, 94, 69, 49, 94, 49, 49, 49, 94, 27, 49, 136, 27, 27, 27, 49, 115, 47, 27, 49, 49, 47, 49, 115, 115, 47, 49, 136, 49, 136, 49, 49, 49, 49, 49, 49, 49, 27, 27, 49, 49, 49, 47, 49, 27, 49, 29, 69, 49, 10, 14, 63, 122, 122, 122, 122, 122, 122, 122, 122, 122, 122, 122, 136, 122, 122, 122, 122, 122, 122, 122, 122, 27, 122, 122, 122, 122, 122, 122, 122, 122, 122, 122, 136, 122, 122, 122, 122, 122, 122, 122, 122, 122, 122, 122, 122, 122, 122, 122, 122, 122, 144, 122, 122, 122, 122, 122, 27, 122, 136, 122, 122, 122, 136, 122, 122, 122, 122, 122, 49, 122, 49, 115, 122, 122, 122, 122, 136, 122, 122, 122, 122, 122, 95, 122, 122, 122, 122, 122, 136, 122, 122, 122, 122, 122, 122, 122, 122, 122, 122, 122, 136, 122, 122, 122, 122, 136, 122, 122, 122, 122, 136, 122, 122, 122, 122, 122, 122, 122, 136, 122, 122, 122, 136, 122, 122, 136, 122, 122, 122, 136, 122, 122, 27, 122, 122, 122, 122, 122, 122, 122, 122, 122, 122, 122, 122, 122, 122, 49, 122, 122, 49, 144, 115, 115, 115, 115, 128, 115, 49, 115, 144, 115, 115, 49, 42, 128, 115, 128, 92, 115, 128, 115, 42, 115, 115, 128, 92, 128, 115, 115, 115, 122, 115, 42, 115, 115, 115, 128, 115, 128, 115, 115, 115, 115, 115, 42, 115, 115, 115, 115, 115, 115, 115, 115, 128, 115, 95, 115, 115, 128, 115, 115, 115, 115, 115, 115, 42, 42, 115, 115, 115, 128, 115, 92, 115, 115, 115, 115, 115, 128, 115, 115, 115, 115, 115, 115, 29, 43, 115, 115, 115, 115, 128, 115, 128, 128, 136, 115, 115, 92, 115, 122, 92, 115, 115, 42, 115, 115, 115, 115, 115, 115, 115, 115, 115, 128, 115, 47, 128, 49, 115, 115, 27, 115, 92, 128, 115, 115, 115, 115, 128, 115, 115, 128, 57, 95, 115, 115, 115, 115, 49, 115, 115, 95, 128, 115, 57, 95, 115, 115, 115, 115, 128, 128, 115, 128, 49, 115, 115, 128, 115, 115, 115, 115, 115, 115, 115, 115, 115, 115, 128, 115, 115, 42, 115, 115, 128, 115, 115, 128, 115, 115, 115, 42, 115, 115, 49, 115, 115, 128, 115, 29, 115, 115, 115, 115, 57, 115, 115, 115, 49, 115, 115, 115, 115, 115, 128, 115, 115, 115, 115, 128, 136, 115, 128, 115, 115, 115, 115, 115, 115, 49, 115, 115, 115, 115, 42, 115, 115, 115, 49, 115, 128, 115, 43, 115, 115, 42, 115, 115, 128, 49, 115, 43, 115, 115, 115, 115, 115, 98, 115, 128, 128, 115, 115, 115, 115, 128, 115, 115, 115, 115, 115, 92, 49, 115, 128, 115, 49, 115, 115, 136, 115, 115, 42, 92, 115, 115, 115, 136, 115, 115, 115, 115, 115, 128, 115, 128, 115, 115, 115, 128, 115, 115, 115, 115, 115, 92, 115, 92, 128, 115, 115, 128, 29, 122, 115, 115, 115, 115, 115, 115, 115, 42, 92, 115, 128, 136, 115, 115, 115, 115, 128, 92, 115, 115, 115, 115, 29, 115, 115, 115, 115, 115, 115, 115, 115, 115, 115, 115, 29, 128, 115, 115, 42, 115, 115, 115, 136, 115, 128, 49, 115, 49, 115, 128, 115, 115, 98, 29, 74, 136, 49, 115, 115, 115, 115, 115, 115, 115, 92, 115, 57, 115, 115, 115, 115, 115, 115, 115, 128, 49, 115, 115, 115, 115, 115, 115, 115, 95, 95, 49, 115, 115, 49, 95, 115, 49, 115, 115, 144, 144, 144, 144, 27, 42, 92, 115, 115, 115, 42, 115, 49, 94, 136, 49, 49, 144, 144, 144, 144, 144, 122, 122, 122, 122, 122, 122, 136, 122, 122, 122, 122, 122, 122, 122, 122, 122, 144, 122, 122, 122, 122, 122, 136, 122, 122, 122, 122, 122, 122, 136, 122, 122, 122, 122, 122, 122, 122, 122, 122, 122, 122, 122, 136, 122, 122, 122, 27, 122, 122, 122, 122, 122, 122, 122, 27, 122, 122, 122, 122, 122, 122, 122, 27, 122, 122, 30, 30, 30, 30, 30, 30, 30, 30, 106, 30, 30, 106, 106, 106, 106, 106, 106, 106, 106, 106, 106, 106, 106, 106, 106, 106, 106, 106, 30, 30, 30, 30, 30, 30, 106, 106, 106, 106, 106, 30, 106, 30, 106, 30, 30, 30, 30, 30, 30, 30, 30, 30, 30, 30, 30, 30, 30, 30, 30, 30, 30, 30, 30, 30, 30, 30, 30, 30, 30, 30, 30, 30, 30, 30, 30, 30, 30, 30, 30, 30, 30, 30, 30, 30, 30, 30, 30, 30, 30, 30, 30, 30, 30, 30, 30, 30, 30, 30, 30, 98, 30, 30, 30, 30, 30, 30, 30, 30, 30, 30, 30, 30, 30, 30, 30, 30, 30, 30, 30, 30, 30, 30, 30, 30, 30, 30, 30, 98, 30, 30, 30, 45, 63, 82, 30, 30, 106, 30, 106, 106, 30, 82, 30, 30, 14, 30, 106, 30, 30, 30, 30, 30, 30, 30, 30, 30, 30, 30, 30, 30, 30, 45, 30, 30, 30, 30, 30, 30, 106, 30, 30, 30, 30, 30, 30, 30, 82, 30, 30, 30, 106, 30, 30, 30, 30, 98, 98, 98, 67, 98, 98, 98, 98, 98, 98, 98, 111, 98, 111, 111, 98, 111, 111, 111, 111, 82, 67, 15, 98, 138, 98, 67, 49, 10, 98, 98, 98, 98, 111, 111, 78, 111, 111, 98, 15, 98, 111, 98, 98, 98, 10, 98, 98, 98, 98, 98, 98, 98, 10, 10, 10, 10, 10, 10, 10, 10, 10, 111, 98, 111, 111, 111, 111, 111, 111, 111, 111, 98, 98, 98, 111, 111, 98, 111, 111, 111, 111, 111, 98, 98, 98, 98, 98, 98, 10, 98, 111, 10, 111, 98, 10, 10, 10, 98, 98, 98, 30, 30, 122, 122, 122, 27, 94, 122, 27, 30, 30, 111, 111, 94, 92, 94, 92, 30, 30, 30, 94, 92, 94, 92, 30, 30, 57, 30, 115, 69, 94, 30, 106, 115, 94, 94, 115, 115, 30, 42, 30, 128, 115, 115, 42, 51, 30, 115, 30, 95, 69, 111, 111, 42, 115, 111, 94, 111, 69, 42, 30, 98, 111, 111, 111, 115, 74, 111, 95, 57, 95, 30, 115, 106, 115, 69, 111, 94, 47, 136, 69, 115, 69, 57, 95, 98, 49, 94, 128, 94, 51, 115, 43, 98, 30, 115, 43, 42, 95, 47, 47, 136, 30, 128, 49, 115, 69, 57, 95, 49, 115, 69, 115, 69, 94, 92, 115, 48, 115, 128, 69, 10, 10, 57, 144, 49, 51, 57, 51, 115, 47, 92, 144, 57, 95, 115, 69, 115, 94, 115, 69, 115, 98, 128, 57, 49, 51, 47, 57, 95, 27, 69, 115, 42, 115, 42, 115, 42, 115, 47, 128, 115, 98, 111, 94, 115, 115, 128, 42, 115, 74, 30, 95, 115, 69, 47, 115, 47, 115, 47, 115, 47, 30, 128, 115, 94, 69, 128, 42, 94, 115, 128, 42, 115, 115, 94, 128, 136, 115, 94, 94, 122, 27, 30, 69, 30, 74, 128, 144, 111, 111, 111, 69, 69, 69, 115, 128, 92, 94, 42, 30, 51, 115, 51, 30, 30, 30, 51, 92, 94, 95, 49, 69, 47, 115, 51, 115, 94, 94, 69, 115, 43, 47, 43, 115, 43, 49, 94, 69, 10, 49, 94, 49, 51, 115, 51, 115, 47, 115, 94, 115, 69, 69, 42, 115, 115, 49, 51, 42, 115, 115, 94, 115, 69, 115, 47, 115, 43, 115, 51, 111, 111, 69, 115, 47, 111, 111, 57, 95, 115, 115, 94, 94, 111, 30, 115, 43, 10, 10, 43, 42, 49, 49, 51, 128, 92, 27, 47, 115, 115, 115, 128, 94, 128, 115, 69, 115, 94, 115, 69, 94, 57, 144, 30, 42, 115, 43, 128, 94, 57, 95, 115, 47, 69, 42, 115, 94, 49, 69, 42, 94, 95, 94, 51, 95, 42, 94, 128, 115, 94, 57, 95, 115, 128, 115, 51, 115, 69, 49, 69, 144, 115, 47, 10, 10, 95, 49, 94, 95, 115, 94, 47, 30, 115, 51, 49, 111, 111, 27, 47, 115, 43, 115, 49, 57, 57, 98, 111, 92, 69, 57, 115, 69, 69, 128, 57, 95, 30, 69, 49, 69, 42, 115, 47, 30, 94, 115, 94, 42, 115, 51, 115, 128, 69, 51, 51, 115, 69, 115, 43, 30, 30, 115, 94, 115, 92, 115, 94, 43, 69, 57, 95, 128, 69, 98, 98, 94, 47, 29, 47, 69, 49, 115, 51, 115, 94, 128, 57, 95, 115, 128, 57, 95, 106, 42, 94, 43, 115, 51, 69, 49, 69, 95, 115, 115, 47, 69, 49, 111, 111, 43, 95, 51, 49, 57, 95, 111, 111, 111, 115, 51, 115, 94, 128, 115, 43, 115, 47, 43, 30, 115, 128, 30, 47, 92, 57, 95, 94, 115, 42, 128, 115, 111, 144, 51, 111, 10, 57, 95, 136, 128, 115, 43, 115, 115, 115, 94, 111, 111, 128, 57, 95, 47, 98, 69, 115, 94, 115, 47, 69, 42, 51, 51, 69, 128, 115, 57, 115, 69, 27, 69, 115, 115, 51, 69, 115, 94, 49, 69, 92, 128, 115, 128, 115, 57, 95, 94, 115, 115, 69, 115, 115, 47, 115, 95, 115, 51, 69, 69, 57, 95, 94, 115, 43, 94, 69, 128, 94, 10, 42, 115, 47, 115, 43, 115, 94, 115, 94, 94, 115, 94, 115, 128, 51, 27, 92, 136, 42, 115, 115, 47, 115, 115, 115, 42, 111, 69, 115, 95, 115, 94, 128, 115, 115, 115, 42, 128, 95, 115, 69, 49, 115, 51, 69, 115, 69, 57, 95, 94, 92, 136, 42, 92, 94, 42, 128, 136, 98, 111, 115, 69, 115, 115, 128, 128, 115, 69, 144, 115, 47, 29, 47, 115, 128, 115, 42, 95, 92, 98, 98, 98, 57, 30, 144, 115, 51, 115, 43, 43, 51, 10, 10, 95, 94, 115, 128, 128, 94, 115, 43, 49, 49, 128, 69, 115, 115, 47, 43, 115, 115, 69, 57, 95, 69, 92, 47, 115, 111, 49, 94, 94, 57, 115, 47, 51, 57, 95, 128, 51, 69, 49, 115, 128, 115, 115, 42, 115, 69, 115, 115, 115, 115, 69, 115, 95, 30, 128, 69, 115, 94, 115, 115, 94, 128, 94, 57, 144, 95, 57, 95, 92, 94, 128, 69, 69, 47, 128, 115, 128, 94, 69, 128, 115, 95, 115, 94, 30, 106, 115, 128, 69, 106, 10, 115, 42, 115, 69, 94, 47, 57, 95, 69, 43, 115, 69, 69, 115, 69, 57, 95, 49, 94, 95, 115, 69, 69, 115, 111, 115, 69, 51, 49, 74, 92, 115, 115, 94, 115, 69, 27, 128, 115, 51, 57, 95, 94, 57, 95, 115, 94, 69, 51, 95, 51, 74, 94, 27, 95, 95, 51, 115, 49, 115, 94, 69, 69, 69, 29, 94, 69, 94, 115, 43, 94, 51, 94, 94, 115, 94, 51, 115, 47, 69, 115, 69, 49, 94, 42, 57, 94, 115, 49, 69, 115, 47, 57, 51, 136, 69, 115, 94, 98, 98, 98, 95, 69, 136, 69, 115, 69, 115, 115, 42, 94, 57, 95, 115, 115, 128, 115, 69, 115, 115, 94, 115, 47, 115, 51, 47, 47, 49, 128, 128, 10, 115, 69, 115, 128, 95, 69, 144, 115, 51, 69, 69, 115, 43, 92, 144, 95, 92, 10, 10, 115, 47, 27, 30, 51, 115, 115, 94, 69, 115, 92, 69, 69, 115, 43, 42, 115, 69, 115, 69, 49, 95, 69, 49, 115, 115, 27, 115, 128, 115, 128, 94, 57, 57, 49, 94, 94, 115, 115, 43, 29, 51, 47, 98, 144, 95, 115, 43, 115, 47, 111, 69, 115, 94, 115, 42, 115, 128, 57, 95, 94, 115, 47, 42, 115, 98, 115, 94, 94, 69, 144, 69, 92, 42, 115, 94, 92, 51, 115, 51, 47, 92, 115, 69, 49, 69, 47, 115, 94, 115, 69, 57, 144, 115, 94, 95, 51, 42, 115, 128, 92, 57, 115, 74, 49, 51, 69, 115, 30, 92, 128, 115, 57, 95, 49, 69, 10, 10, 92, 115, 43, 115, 69, 57, 144, 47, 115, 115, 43, 10, 10, 92, 47, 49, 94, 115, 69, 92, 51, 115, 115, 94, 94, 92, 57, 95, 115, 94, 49, 69, 128, 27, 69, 27, 94, 115, 128, 49, 29, 94, 51, 29, 29, 47, 92, 115, 30, 106, 49, 42, 122, 69, 47, 49, 115, 115, 128, 115, 94, 94, 115, 57, 95, 94, 49, 51, 94, 47, 115, 128, 92, 47, 115, 69, 128, 57, 95, 115, 69, 111, 111, 94, 115, 94, 115, 128, 115, 74, 128, 57, 95, 128, 57, 69, 49, 98, 98, 115, 69, 69, 92, 27, 69, 92, 94, 92, 115, 51, 115, 115, 43, 49, 94, 69, 42, 106, 57, 95, 47, 51, 94, 51, 57, 69, 43, 43, 115, 94, 94, 69, 69, 69, 128, 115, 43, 29, 115, 42, 92, 115, 51, 128, 98, 115, 115, 57, 95, 95, 115, 47, 94, 115, 69, 95, 115, 47, 115, 74, 94, 49, 69, 115, 111, 111, 57, 69, 115, 94, 115, 115, 49, 47, 115, 92, 57, 95, 95, 115, 47, 47, 115, 69, 115, 69, 111, 115, 115, 69, 29, 69, 115, 69, 128, 42, 47, 115, 115, 69, 115, 47, 47, 69, 144, 111, 111, 49, 49, 69, 98, 98, 94, 49, 128, 94, 51, 51, 115, 128, 57, 95, 42, 115, 47, 49, 69, 95, 47, 92, 47, 47, 27, 47, 115, 47, 115, 128, 115, 69, 69, 49, 30, 115, 115, 115, 115, 43, 49, 51, 42, 115, 94, 69, 106, 69, 92, 49, 95, 115, 69, 94, 57, 128, 115, 47, 115, 94, 69, 47, 115, 115, 115, 115, 115, 27, 94, 92, 69, 69, 115, 51, 69, 95, 49, 42, 94, 115, 49, 128, 69, 98, 69, 128, 92, 94, 51, 49, 69, 49, 128, 43, 30, 98, 98, 111, 49, 42, 94, 29, 51, 49, 144, 144, 115, 42, 144, 57, 115, 94, 128, 115, 47, 115, 69, 128, 115, 69, 51, 69, 115, 49, 69, 115, 115, 49, 144, 57, 94, 49, 128, 128, 98, 94, 128, 57, 95, 69, 51, 49, 111, 42, 69, 51, 47, 115, 128, 69, 92, 69, 51, 115, 42, 94, 94, 115, 51, 94, 111, 115, 115, 49, 111, 98, 111, 111, 57, 95, 27, 94, 47, 94, 69, 42, 94, 111, 111, 111, 111, 111, 111, 111, 111, 111, 111, 111, 111, 111, 111, 48, 111, 111, 111, 111, 111, 111, 111, 111, 98, 111, 111, 111, 115, 144, 144, 144, 122, 122, 122, 122, 122, 122, 122, 94, 94, 122, 122, 122, 122, 136, 122, 122, 122, 122, 122, 136, 122, 136, 122, 122, 122, 122, 122, 122, 122, 122, 49, 94, 94, 94, 30, 42, 95, 42, 128, 42, 42, 136, 115, 92, 128, 42, 144, 42, 92, 128, 74, 115, 115, 74, 128, 115, 144, 57, 57, 49, 74, 92, 30, 30, 95, 42, 128, 92, 42, 42, 74, 115, 128, 115, 128, 42, 115, 128, 115, 42, 42, 128, 43, 30, 42, 128, 115, 128, 42, 42, 42, 42, 128, 115, 42, 115, 42, 69, 42, 74, 74, 115, 115, 128, 92, 128, 42, 128, 115, 42, 74, 57, 57, 30, 30, 115, 74, 74, 42, 128, 42, 115, 128, 57, 82, 42, 115, 42, 128, 74, 115, 42, 128, 128, 115, 128, 43, 92, 42, 128, 74, 42, 42, 115, 42, 42, 115, 42, 115, 95, 115, 42, 74, 49, 128, 128, 144, 74, 92, 115, 74, 42, 115, 74, 57, 95, 74, 57, 95, 128, 74, 42, 128, 74, 115, 115, 128, 42, 98, 115, 128, 92, 49, 42, 42, 30, 30, 49, 128, 128, 128, 42, 42, 42, 144, 42, 57, 57, 92, 42, 42, 128, 42, 30, 30, 42, 92, 42, 42, 115, 115, 42, 74, 74, 128, 29, 74, 42, 42, 115, 42, 42, 128, 43, 74, 57, 95, 42, 57, 95, 128, 92, 128, 57, 92, 42, 128, 57, 95, 92, 128, 128, 115, 29, 69, 74, 115, 42, 128, 144, 115, 42, 136, 115, 111, 111, 42, 49, 42, 92, 128, 115, 42, 115, 128, 42, 49, 115, 74, 128, 95, 115, 128, 42, 69, 74, 128, 42, 111, 74, 42, 115, 42, 30, 128, 115, 95, 115, 42, 115, 128, 42, 42, 128, 128, 49, 128, 128, 115, 128, 128, 74, 115, 128, 115, 42, 42, 115, 42, 30, 128, 128, 42, 95, 43, 92, 42, 92, 128, 42, 74, 115, 42, 43, 115, 128, 30, 128, 136, 128, 49, 42, 74, 74, 69, 128, 42, 42, 115, 69, 42, 92, 95, 128, 98, 42, 42, 42, 115, 42, 42, 115, 92, 57, 95, 42, 47, 49, 69, 42, 128, 57, 95, 115, 115, 74, 74, 57, 128, 42, 92, 42, 43, 42, 115, 69, 42, 128, 128, 128, 42, 74, 42, 92, 74, 42, 42, 128, 92, 115, 115, 74, 115, 42, 115, 128, 115, 128, 115, 47, 74, 128, 57, 95, 95, 92, 42, 128, 128, 128, 30, 42, 74, 49, 128, 115, 42, 30, 74, 115, 92, 42, 115, 42, 115, 42, 115, 92, 74, 128, 42, 128, 29, 92, 128, 42, 128, 128, 115, 128, 74, 42, 42, 43, 92, 128, 49, 128, 92, 42, 42, 74, 42, 95, 74, 74, 42, 42, 42, 42, 42, 74, 57, 95, 111, 111, 115, 42, 42, 128, 115, 57, 144, 42, 42, 27, 42, 74, 42, 74, 74, 69, 42, 42, 115, 42, 69, 92, 115, 74, 128, 92, 69, 42, 128, 42, 74, 43, 74, 57, 43, 57, 42, 92, 74, 115, 95, 42, 74, 115, 74, 92, 74, 74, 42, 42, 128, 92, 115, 128, 115, 43, 30, 128, 78, 144, 30, 111, 144, 136, 128, 92, 115, 42, 30, 43, 30, 42, 42, 30, 128, 111, 111, 42, 43, 43, 115, 42, 42, 115, 42, 30, 42, 98, 30, 30, 30, 30, 92, 42, 111, 111, 111, 42, 30, 115, 43, 115, 43, 30, 30, 42, 115, 92, 115, 43, 115, 43, 43, 115, 115, 42, 115, 42, 92, 42, 43, 94, 51, 92, 43, 51, 49, 29, 69, 115, 115, 51, 49, 94, 49, 51, 115, 69, 30, 115, 94, 106, 115, 128, 115, 94, 49, 128, 42, 49, 94, 69, 115, 69, 49, 69, 30, 115, 69, 115, 128, 115, 69, 115, 115, 94, 115, 42, 49, 69, 115, 94, 49, 94, 94, 115, 128, 115, 115, 47, 94, 122, 122, 122, 122, 122, 122, 122, 122, 122, 122, 122, 122, 122, 122, 122, 122, 122, 30, 125, 125, 85, 125, 98, 125, 125, 98, 125, 98, 125, 98, 125, 48, 125, 125, 125, 85, 125, 61, 125, 61, 125, 125, 125, 125, 88, 125, 125, 125, 125, 125, 125, 125, 125, 125, 125, 125, 125, 125, 125, 125, 98, 98, 125, 98, 125, 125, 125, 125, 125, 125, 125, 125, 125, 125, 45, 15, 85, 85, 125, 98, 125, 98, 125, 125, 125, 125, 125, 125, 125, 125, 125, 125, 125, 125, 125, 125, 125, 125, 125, 125, 125, 125, 125, 125, 125, 125, 125, 125, 125, 125, 125, 125, 125, 125, 125, 125, 125, 125, 85, 125, 125, 125, 125, 125, 125, 125, 125, 98, 67, 125, 125, 125, 125, 98, 125, 125, 125, 125, 125, 125, 125, 67, 125, 125, 125, 125, 125, 125, 125, 125, 125, 125, 125, 125, 125, 125, 125, 125, 125, 125, 125, 125, 125, 125, 125, 125, 125, 125, 125, 125, 125, 125, 125, 125, 125, 125, 125, 125, 125, 125, 125, 125, 125, 125, 125, 125, 125, 125, 125, 125, 125, 125, 125, 125, 125, 125, 125, 125, 125, 125, 125, 125, 26, 15, 98, 67, 67, 67, 67, 67, 26, 15, 67, 67, 67, 89, 89, 89, 15, 15, 67, 138, 67, 67, 89, 89, 67, 67, 67, 15, 61, 67, 61, 15, 61, 15, 61, 111, 111, 111, 111, 15, 111, 111, 111, 111, 111, 111, 67, 15, 73, 1, 15, 15, 60, 15, 111, 111, 111, 111, 89, 111, 111, 111, 111, 111, 15, 111, 111, 111, 48, 111, 111, 111, 10, 111, 48, 111, 111, 48, 15, 111, 15, 111, 111, 89, 89, 89, 89, 89, 89, 89, 89, 15, 36, 118, 86, 118, 118, 118, 86, 118, 86, 86, 118, 118, 118, 86, 86, 86, 118, 118, 118, 118, 118, 118, 118, 118, 86, 86, 118, 118, 86, 86, 36, 118, 36, 118, 118, 118, 129, 89, 138, 89, 129, 61, 61, 35, 35, 35, 35, 61, 61, 61, 61, 15, 26, 26, 26, 26, 35, 35, 61, 11, 70, 26, 48, 26, 15, 125, 86, 86, 133, 133, 133, 133, 89, 89, 89, 89, 89, 89, 89, 89, 85, 14, 35, 35, 85, 70, 61, 61, 89, 61, 26, 26, 26, 26, 48, 61, 78, 78, 78, 78, 35, 78, 35, 35, 35, 78, 89, 89, 26, 138, 67, 129, 89, 89, 89, 89, 89, 89, 89, 138, 89, 26, 15, 89, 89, 67, 67, 67, 89, 138, 82, 82, 63, 63, 63, 63, 63, 82, 14, 63, 63, 63, 63, 82, 148, 70, 36, 89, 38, 36, 67, 35, 35, 61, 35, 35, 35, 35, 61, 89, 61, 61, 61, 15, 15, 15, 78, 111, 78, 111, 111, 111, 111, 111, 70, 111, 111, 111, 111, 111, 111, 111, 111, 111, 111, 111, 111, 111, 78, 111, 48, 111, 111, 35, 35, 35, 61, 35, 89, 89, 89, 82, 89, 67, 89, 138, 61, 140, 82, 61, 61, 86, 86, 78, 89, 67, 61, 70, 61, 61, 70, 61, 85, 129, 61, 61, 35, 35, 35, 61, 35, 129, 89, 129, 129, 129, 36, 63, 82, 89, 35, 35, 82, 138, 138, 138, 14, 138, 82, 129, 26, 67, 89, 111, 111, 111, 111, 111, 111, 111, 111, 111, 111, 63, 89, 82, 26, 63, 82, 82, 129, 63, 26, 129, 35, 35, 67, 129, 63, 89, 89, 129, 82, 129, 89, 67, 129, 129, 129, 129, 129, 89, 140, 129, 129, 63, 63, 63, 63, 63, 129, 89, 138, 138, 138, 63, 63, 61, 61, 61, 61, 61, 38, 26, 26, 26, 26, 26, 63, 82, 82, 61, 89, 67, 89, 67, 111, 70, 111, 111, 111, 15, 111, 89, 89, 45, 89, 89, 67, 89, 82, 138, 138, 138, 61, 61, 61, 61, 85, 61, 98, 98, 98, 98, 98, 98, 98, 98, 98, 98, 67, 15, 98, 12, 98, 125, 140, 45, 82, 63, 82, 82, 82, 90, 90, 61, 61, 67, 67, 89, 82, 89, 89, 89, 89, 89, 89, 89, 89, 89, 89, 89, 89, 138, 138, 89, 89, 89, 89, 89, 89, 63, 89, 89, 89, 89, 89, 89, 89, 89, 89, 89, 89, 89, 63, 89, 67, 89, 89, 89, 89, 89, 89, 138, 138, 138, 88, 63, 88, 26, 89, 26, 138, 138, 63, 89, 89, 89, 89, 63, 63, 138, 138, 89, 89, 63, 138, 63, 138, 88, 88, 26, 88, 88, 88, 89, 89, 89, 89, 35, 35, 35, 85, 35, 35, 35, 61, 61, 61, 61, 61, 61, 35, 35, 61, 61, 48, 73, 48, 138, 85, 85, 73, 48, 67, 67, 61, 48, 67, 138, 138, 138, 67, 35, 61, 35, 63, 67, 67, 85, 82, 85, 86, 89, 89, 89, 89, 89, 89, 89, 89, 89, 89, 82, 67, 138, 89, 89, 138, 89, 70, 15, 89, 89, 67, 61, 26, 26, 26, 26, 70, 26, 26, 26, 26, 26, 26, 70, 11, 89, 15, 67, 15, 90, 89, 26, 26, 26, 26, 133, 26, 26, 26, 26, 26, 26, 26, 26, 89, 82, 82, 15, 15, 24, 70, 70, 70, 78, 70, 89, 86, 86, 86, 86, 86, 86, 86, 86, 86, 86, 86, 86, 86, 86, 86, 86, 86, 86, 86, 86, 86, 86, 86, 86, 86, 86, 86, 86, 86, 86, 86, 86, 86, 86, 86, 86, 86, 86, 86, 86, 60, 86, 86, 86, 86, 86, 86, 86, 86, 110, 110, 110, 110, 110, 89, 110, 110, 110, 110, 110, 110, 110, 110, 110, 110, 110, 110, 110, 110, 110, 110, 86, 86, 86, 86, 86, 86, 86, 86, 86, 86, 86, 86, 86, 86, 86, 86, 86, 86, 86, 35, 1, 35, 67, 63, 86, 86, 110, 110, 110, 86, 110, 86, 86, 86, 86, 86, 110, 110, 110, 86, 110, 110, 110, 110, 110, 86, 86, 86, 140, 82, 1, 110, 110, 110, 110, 110, 110, 86, 110, 110, 110, 1, 110, 110, 110, 86, 86, 86, 110, 110, 110, 110, 110, 110, 86, 110, 110, 110, 86, 86, 86, 86, 110, 110, 110, 110, 110, 110, 110, 110, 110, 110, 110, 110, 89, 89, 70, 61, 35, 12, 12, 78, 61, 61, 70, 70, 61, 35, 35, 70, 61, 60, 70, 70, 78, 48, 78, 12, 12, 78, 12, 12, 61, 12, 78, 48, 78, 61, 12, 61, 12, 35, 12, 12, 12, 35, 12, 78, 12, 15, 12, 12, 12, 48, 73, 78, 78, 48, 26, 26, 26, 26, 26, 26, 89, 67, 89, 89, 85, 138, 35, 48, 35, 61, 35, 35, 35, 35, 35, 61, 61, 61, 109, 109, 109, 109, 109, 109, 109, 109, 109, 109, 109, 109, 109, 109, 109, 109, 109, 109, 109, 109, 109, 109, 5, 5, 5, 109, 109, 138, 45, 45, 138, 63, 5, 89, 109, 5, 5, 5, 109, 109, 109, 109, 109, 109, 109, 109, 5, 109, 109, 109, 109, 109, 61, 61, 67, 67, 67, 67, 67, 89, 89, 89, 89, 61, 67, 15, 61, 61, 61, 60, 70, 60, 15, 55, 55, 55, 48, 35, 35, 61, 35, 35, 35, 148, 35, 148, 55, 11, 68, 68, 68, 68, 68, 61, 148, 148, 26, 26, 82, 67, 26, 26, 36, 36, 36, 36, 36, 36, 36, 36, 36, 26, 36, 26, 36, 89, 89, 1, 1, 1, 1, 1, 1, 1, 1, 1, 138, 89, 89, 89, 89, 1, 1, 1, 78, 1, 1, 1, 124, 124, 124, 124, 124, 124, 89, 35, 15, 35, 61, 89, 89, 89, 89, 89, 103, 138, 26, 26, 67, 89, 89, 89, 89, 89, 1, 138, 138, 138, 67, 138, 89, 1, 15, 61, 61, 15, 70, 138, 67, 67, 89, 61, 124, 124, 89, 63, 89, 89, 89, 89, 89, 89, 89, 89, 138, 89, 124, 124, 89, 89, 138, 89, 89, 89, 89, 124, 88, 89, 138, 124, 1, 124, 67, 124, 124, 124, 124, 124, 124, 124, 89, 61, 1, 1, 1, 1, 1, 1, 124, 1, 1, 1, 89, 138, 138, 26, 124, 89, 124, 89, 89, 15, 124, 124, 89, 124, 89, 63, 63, 103, 63, 63, 63, 63, 63, 63, 63, 63, 63, 63, 63, 63, 63, 63, 63, 63, 63, 63, 82, 63, 63, 63, 63, 63, 63, 63, 63, 63, 63, 63, 63, 63, 63, 63, 63, 63, 63, 63, 63, 63, 63, 63, 63, 63, 63, 63, 63, 63, 63, 63, 63, 63, 63, 63, 63, 63, 63, 63, 63, 63, 63, 63, 63, 63, 63, 63, 63, 63, 63, 63, 63, 63, 63, 63, 63, 63, 63, 63, 63, 63, 63, 63, 63, 63, 63, 63, 63, 63, 138, 63, 63, 63, 63, 63, 63, 63, 63, 1, 1, 1, 1, 1, 1, 1, 1, 1, 1, 15, 1, 1, 1, 1, 1, 1, 1, 1, 1, 1, 1, 1, 1, 1, 1, 1, 78, 1, 1, 1, 1, 1, 1, 48, 48, 48, 48, 48, 1, 1, 15, 1, 1, 15, 15, 1, 1, 1, 1, 1, 1, 1, 1, 1, 68, 90, 90, 45, 82, 138, 67, 45, 138, 82, 63, 138, 82, 22, 22, 22, 22, 22, 22, 22, 22, 22, 22, 22, 22, 35, 35, 35, 35, 35, 35, 12, 61, 12, 133, 15, 70, 48, 15, 15, 67, 67, 12, 12, 148, 12, 48, 85, 82, 82, 15, 15, 60, 35, 61, 12, 48, 78, 48, 82, 82, 82, 82, 36, 36, 36, 36, 36, 36, 36, 36, 36, 36, 36, 36, 36, 36, 36, 36, 36, 36, 36, 36, 36, 36, 36, 36, 36, 36, 36, 36, 36, 36, 36, 36, 36, 36, 36, 36, 36, 36, 36, 36, 36, 36, 36, 36, 36, 129, 129, 129, 129, 129, 129, 129, 129, 129, 129, 129, 129, 129, 36, 129, 129, 129, 129, 129, 129, 129, 36, 36, 36, 36, 36, 36, 36, 36, 1, 36, 1, 36, 36, 67, 1, 36, 1, 1, 1, 1, 1, 78, 1, 1, 1, 1, 78, 78, 48, 78, 78, 1, 1, 1, 67, 67, 67, 67, 67, 67, 67, 82, 138, 138, 67, 129, 129, 129, 129, 129, 129, 129, 129, 129, 129, 129, 129, 129, 129, 129, 129, 129, 129, 129, 129, 129, 129, 129, 129, 129, 129, 129, 129, 129, 129, 129, 129, 129, 129, 129, 129, 129, 129, 129, 129, 129, 129, 129, 129, 129, 129, 129, 129, 129, 129, 129, 129, 1, 1, 67, 89, 1, 63, 63, 63, 1, 1, 35, 67, 138, 129, 129, 67, 89, 63, 129, 129, 138, 41, 35, 41, 41, 41, 41, 41, 15, 15, 15, 15, 103, 1, 63, 63, 63, 36, 36, 138, 138, 129, 129, 129, 15, 15, 15, 129, 89, 67, 129, 36, 36, 36, 1, 36, 35, 67, 67, 67, 67, 67, 67, 67, 67, 129, 129, 129, 129, 129, 67, 1, 35, 41, 1, 1, 36, 36, 41, 36, 1, 1, 1, 35, 41, 1, 63, 63, 63, 63, 63, 63, 36, 36, 129, 1, 1, 1, 1, 1, 129, 129, 129, 129, 129, 129, 129, 36, 129, 129, 1, 89, 63, 41, 41, 148, 63, 63, 63, 63, 63, 63, 63, 36, 15, 36, 129, 129, 129, 129, 36, 36, 129, 129, 129, 36, 36, 1, 36, 129, 89, 129, 129, 36, 36, 36, 36, 36, 26, 26, 89, 89, 67, 89, 89, 133, 67, 90, 15, 32, 90, 138, 89, 15, 61, 1, 61, 26, 67, 26, 138, 89, 36, 67, 67, 89, 15, 36, 36, 148, 6, 138, 138, 63, 82, 63, 63, 82, 138, 133, 133, 133, 60, 60, 67, 148, 148, 15, 60, 133, 148, 133, 15, 148, 148, 148, 148, 71, 71, 71, 148, 148, 148, 15, 148, 148, 15, 148, 148, 90, 15, 148, 148, 148, 67, 67, 67, 67, 67, 67, 26, 67, 26, 26, 67, 67, 54, 54, 54, 54, 54, 54, 54, 54, 54, 54, 54, 54, 54, 54, 54, 54, 54, 54, 54, 54, 54, 54, 54, 54, 54, 54, 54, 54, 54, 54, 54, 54, 54, 54, 54, 54, 54, 54, 54, 54, 54, 54, 54, 54, 54, 54, 54, 54, 54, 54, 54, 54, 54, 54, 54, 54, 54, 54, 54, 54, 54, 54, 54, 54, 54, 54, 54, 54, 54, 54, 54, 54, 54, 54, 54, 54, 54, 54, 54, 54, 54, 54, 54, 54, 54, 54, 54, 54, 54, 54, 54, 54, 54, 54, 54, 54, 54, 54, 54, 54, 54, 54, 54, 54, 54, 54, 54, 54, 54, 54, 54, 54, 54, 54, 54, 54, 54, 54, 54, 48, 54, 54, 54, 48, 54, 54, 54, 54, 54, 54, 54, 54, 54, 54, 54, 54, 54, 54, 54, 54, 54, 54, 54, 54, 48, 54, 54, 54, 54, 54, 54, 54, 54, 48, 54, 54, 54, 54, 54, 54, 54, 54, 54, 54, 54, 54, 54, 54, 54, 54, 54, 54, 54, 54, 54, 54, 48, 54, 54, 54, 54, 54, 54, 54, 54, 54, 54, 54, 54, 54, 54, 54, 54, 54, 54, 54, 54, 54, 54, 54, 54, 54, 54, 54, 54, 54, 54, 54, 54, 54, 54, 54, 31, 31, 31, 67, 138, 138, 31, 82, 67, 31, 31, 31, 31, 31, 31, 31, 26, 26, 26, 26, 31, 31, 26, 31, 31, 31, 26, 102, 102, 102, 102, 102, 24, 24, 24, 24, 24, 35, 102, 102, 102, 102, 102, 24, 24, 24, 78, 102, 102, 102, 102, 24, 24, 24, 24, 48, 48, 24, 24, 24, 19, 26, 133, 148, 148, 24, 32, 32, 32, 31, 24, 148, 148, 148, 35, 35, 35, 35, 31, 35, 31, 6, 14, 45, 140, 31, 31, 31, 31, 20, 20, 31, 31, 20, 20, 20, 20, 31, 20, 20, 20, 31, 20, 20, 20, 20, 20, 20, 20, 20, 20, 20, 31, 20, 31, 31, 31, 20, 20, 20, 20, 48, 31, 31, 20, 20, 20, 20, 20, 20, 20, 20, 31, 31, 31, 20, 20, 20, 20, 20, 20, 20, 31, 31, 31, 20, 20, 20, 20, 20, 20, 48, 20, 20, 20, 20, 31, 20, 67, 89, 67, 24, 31, 140, 67, 67, 31, 31, 31, 31, 82, 82, 67, 67, 67, 67, 67, 6, 67, 138, 67, 31, 31, 20, 20, 20, 31, 31, 31, 20, 20, 20, 20, 20, 31, 20, 20, 20, 20, 20, 20, 20, 20, 20, 20, 20, 20, 20, 20, 20, 20, 20, 20, 20, 31, 31, 20, 31, 31, 20, 31, 31, 20, 20, 20, 20, 20, 20, 20, 20, 20, 48, 48, 6, 6, 48, 15, 48, 38, 67, 31, 24, 20, 20, 67, 35, 24, 24, 11, 11, 67, 15, 148, 150, 70, 70, 60, 70, 60, 60, 70, 60, 70, 148, 90, 26, 15, 15, 15, 70, 15, 68, 70, 26, 70, 70, 70, 70, 70, 148, 70, 131, 60, 11, 24, 24, 101, 2, 101, 101, 101, 101, 101, 2, 101, 101, 101, 2, 2, 2, 2, 2, 2, 2, 2, 2, 2, 101, 2, 2, 2, 2, 2, 2, 2, 2, 101, 101, 2, 2, 101, 101, 101, 101, 101, 101, 101, 101, 2, 2, 2, 101, 2, 2, 101, 2, 2, 101, 101, 101, 2, 2, 2, 2, 2, 101, 101, 101, 101, 101, 101, 101, 101, 2, 101, 101, 101, 101, 101, 101, 2, 2, 2, 101, 2, 101, 2, 2, 2, 2, 101, 2, 101, 101, 101, 2, 2, 2, 2, 2, 2, 101, 2, 2, 101, 101, 101, 2, 2, 101, 101, 2, 101, 101, 101, 101, 101, 101, 2, 2, 15, 67, 26, 15, 88, 15, 150, 26, 67, 90, 2, 2, 101, 2, 101, 2, 2, 2, 2, 2, 2, 2, 101, 101, 2, 101, 2, 101, 2, 2, 2, 2, 2, 2, 2, 2, 2, 2, 101, 2, 2, 101, 2, 101, 2, 101, 101, 2, 2, 101, 101, 2, 2, 2, 2, 2, 101, 2, 101, 2, 2, 2, 101, 2, 101, 2, 2, 2, 26, 90, 90, 2, 70, 2, 2, 2, 2, 2, 2, 2, 2, 101, 101, 101, 2, 2, 2, 2, 2, 2, 101, 101, 15, 63, 82, 63, 63, 138, 82, 63, 82, 82, 19, 19, 19, 19, 19, 19, 19, 19, 19, 19, 19, 19, 19, 19, 19, 19, 19, 19, 68, 19, 19, 19, 19, 19, 19, 19, 19, 19, 19, 19, 19, 19, 19, 15, 67, 19, 73, 48, 67, 67, 67, 67, 67, 67, 48, 19, 19, 19, 19, 19, 19, 19, 19, 19, 19, 19, 19, 19, 19, 19, 19, 67, 19, 19, 19, 48, 19, 19, 19, 19, 19, 67, 67, 67, 68, 82, 45, 102, 102, 102, 102, 102, 90, 90, 90, 90, 90, 24, 90, 24, 24, 90, 90, 82, 82, 82, 138, 138, 138, 82, 82, 14, 45, 82, 138, 82, 138, 82, 14, 82, 82, 14, 82, 82, 82, 82, 82, 45, 14, 82, 82, 82, 14, 82, 82, 82, 82, 14, 82, 45, 82, 45, 82, 138, 82, 82, 82, 82, 82, 61, 31, 61, 61, 31, 67, 31, 138, 31, 31, 24, 24, 24, 131, 24, 24, 24, 24, 67, 67, 6, 24, 45, 82, 113, 31, 31, 31, 31, 31, 31, 31, 31, 35, 35, 113, 113, 3, 113, 113, 113, 113, 113, 31, 67, 82, 67, 113, 113, 31, 31, 113, 113, 113, 113, 113, 24, 131, 131, 24, 131, 24, 24, 24, 68, 6, 138, 68, 67, 67, 138, 24, 24, 24, 78, 6, 11, 48, 24, 45, 45, 24, 67, 82, 31, 60, 11, 11, 11, 11, 11, 67, 102, 67, 67, 102, 67, 67, 24, 67, 102, 102, 102, 102, 102, 102, 24, 24, 67, 31, 67, 68, 24, 24, 24, 24, 24, 24, 35, 7, 35, 31, 24, 35, 24, 24, 6, 67, 24, 48, 48, 11, 24, 11, 24, 24, 11, 24, 24, 11, 11, 82, 138, 32, 82, 24, 82, 82, 138, 138, 65, 138, 138, 15, 82, 24, 24, 24, 24, 15, 24, 15, 24, 24, 24, 24, 67, 67, 150, 70, 148, 24, 24, 113, 70, 20, 113, 113, 15, 82, 11, 11, 82, 11, 11, 113, 82, 15, 82, 24, 24, 24, 45, 11, 113, 12, 24, 35, 6, 24, 113, 24, 24, 6, 24, 24, 24, 24, 24, 68, 11, 68, 67, 113, 113, 138, 11, 24, 113, 24, 67, 6, 68, 113, 24, 113, 113, 24, 12, 24, 61, 24, 24, 68, 68, 24, 35, 24, 24, 24, 35, 24, 68, 24, 24, 24, 24, 24, 24, 61, 24, 24, 24, 61, 24, 24, 24, 26, 24, 24, 68, 45, 68, 26, 82, 68, 24, 45, 15, 82, 24, 90, 90, 11, 90, 150, 65, 24, 24, 24, 6, 68, 138, 89, 24, 24, 68, 24, 24, 24, 24, 24, 24, 24, 24, 24, 67, 31, 31, 31, 31, 31, 67, 31, 31, 31, 14, 31, 31, 31, 24, 67, 67, 67, 68, 35, 71, 26, 24, 67, 67, 67, 18, 18, 18, 18, 18, 18, 18, 18, 18, 18, 18, 18, 18, 18, 18, 18, 18, 18, 18, 18, 18, 5, 5, 5, 5, 5, 5, 5, 5, 5, 5, 5, 5, 5, 5, 18, 5, 18, 5, 5, 18, 18, 18, 5, 5, 5, 5, 5, 5, 5, 5, 5, 5, 5, 5, 5, 5, 5, 5, 5, 5, 5, 5, 5, 5, 5, 5, 5, 5, 5, 5, 60, 88, 88, 5, 5, 5, 5, 5, 5, 5, 5, 5, 5, 5, 5, 5, 5, 5, 5, 5, 5, 88, 5, 5, 5, 5, 5, 45, 138, 5, 5, 82, 14, 5, 82, 63, 63, 63, 63, 63, 5, 5, 5, 138, 63, 63, 63, 63, 138, 63, 5, 5, 5, 5, 5, 5, 5, 5, 5, 5, 138, 5, 18, 5, 18, 5, 5, 5, 35, 35, 61, 61, 61, 35, 61, 36, 138, 85, 5, 138, 82, 140, 138, 138, 138, 24, 60, 48, 24, 24, 24, 24, 67, 24, 24, 24, 24, 24, 24, 11, 24, 24, 24, 24, 102, 102, 102, 102, 68, 24, 68, 68, 26, 24, 24, 24, 24, 24, 15, 24, 24, 24, 24, 24, 73, 24, 24, 24, 24, 62, 62, 62, 62, 62, 62, 62, 62, 62, 62, 62, 62, 62, 62, 62, 62, 62, 62, 62, 62, 140, 62, 24, 150, 24, 24, 62, 24, 148, 62, 62, 62, 62, 45, 62, 62, 62, 62, 62, 62, 62, 62, 62, 62, 62, 62, 62, 62, 62, 62, 61, 60, 68, 68, 67, 90, 45, 15, 48, 24, 45, 24, 24, 24, 67, 6, 24, 24, 60, 24, 48, 82, 24, 24, 24, 24, 24, 24, 6, 24, 26, 61, 133, 26, 15, 26, 26, 26, 26, 26, 26, 26, 26, 26, 26, 26, 26, 26, 26, 26, 26, 70, 90, 148, 90, 131, 131, 150, 68, 68, 68, 26, 148, 26, 90, 148, 26, 148, 71, 148, 148, 26, 26, 148, 90, 148, 68, 26, 131, 148, 26, 26, 26, 26, 67, 82, 138, 82, 82, 82, 140, 82, 35, 82, 140, 140, 14, 14, 82, 88, 88, 15, 15, 88, 88, 88, 7, 90, 88, 88, 88, 88, 88, 88, 88, 60, 88, 88, 15, 15, 15, 88, 88, 100, 100, 100, 100, 100, 100, 112, 112, 112, 112, 112, 112, 112, 112, 112, 112, 112, 112, 112, 112, 112, 112, 112, 112, 112, 100, 112, 100, 112, 100, 100, 100, 112, 112, 112, 112, 112, 112, 112, 112, 112, 112, 112, 112, 112, 112, 112, 112, 112, 112, 112, 112, 112, 100, 100, 112, 112, 112, 112, 82, 112, 82, 112, 82, 82, 82, 112, 82, 82, 82, 82, 82, 82, 112, 112, 112, 112, 82, 112, 100, 100, 100, 100, 100, 100, 100, 100, 100, 100, 100, 100, 100, 100, 112, 112, 112, 112, 112, 112, 100, 112, 112, 112, 112, 112, 112, 112, 112, 112, 112, 112, 112, 112, 112, 112, 112, 112, 112, 67, 67, 133, 133, 14, 133, 133, 67, 67, 133, 133, 67, 67, 45, 67, 67, 67, 67, 133, 67, 133, 133, 133, 67, 67, 67, 67, 67, 133, 133, 67, 67, 138, 138, 138, 138, 138, 138, 67, 133, 67, 133, 67, 67, 67, 67, 67, 67, 88, 67, 67, 7, 112, 112, 112, 112, 112, 112, 112, 112, 112, 48, 112, 112, 112, 112, 67, 133, 67, 67, 138, 67, 88, 138, 112, 88, 138, 67, 88, 112, 15, 112, 15, 15, 15, 15, 15, 15, 88, 88, 88, 133, 138, 100, 67, 82, 24, 24, 24, 24, 24, 24, 24, 24, 67, 24, 24, 24, 67, 24, 24, 24, 24, 24, 24, 24, 24, 24, 24, 67, 24, 24, 67, 24, 24, 24, 90, 148, 148, 133, 26, 148, 90, 148, 61, 61, 61, 61, 61, 45, 6, 45, 6, 82, 82, 67, 82, 82, 67, 15, 15, 39, 39, 39, 39, 39, 39, 39, 39, 39, 39, 39, 39, 39, 39, 39, 39, 39, 39, 39, 39, 39, 39, 39, 39, 39, 39, 39, 39, 39, 39, 39, 15, 15, 39, 39, 15, 15, 39, 39, 39, 39, 39, 39, 39, 39, 39, 39, 39, 39, 77, 77, 77, 77, 77, 77, 77, 77, 77, 77, 77, 77, 77, 77, 77, 77, 77, 77, 77, 6, 77, 82, 77, 77, 77, 77, 77, 77, 77, 77, 77, 77, 77, 77, 77, 77, 77, 77, 77, 15, 77, 77, 77, 77, 77, 77, 77, 77, 77, 77, 77, 77, 90, 131, 131, 131, 129, 129, 129, 129, 129, 129, 129, 36, 26, 26, 26, 89, 26, 129, 36, 24, 82, 24, 14, 68, 82, 66, 66, 66, 66, 66, 66, 66, 66, 66, 66, 66, 35, 35, 14, 67, 68, 67, 66, 24, 35, 66, 66, 35, 66, 102, 102, 131, 24, 24, 45, 67, 82, 35, 61, 70, 12, 12, 35, 78, 12, 78, 78, 78, 78, 12, 78, 61, 12, 61, 78, 35, 78, 12, 78, 70, 78, 61, 61, 70, 70, 70, 70, 35, 78, 78, 12, 78, 78, 78, 78, 12, 12, 78, 61, 78, 78, 12, 61, 78, 78, 78, 78, 15, 78, 78, 78, 12, 35, 78, 78, 61, 35, 35, 35, 78, 78, 78, 78, 78, 35, 78, 61, 35, 78, 78, 78, 78, 78, 78, 48, 78, 48, 78, 78, 78, 78, 78, 78, 48, 78, 35, 35, 78, 78, 48, 78, 78, 48, 78, 35, 35, 67, 35, 67, 61, 61, 35, 15, 61, 61, 14, 133, 133, 133, 11, 11, 70, 78, 48, 73, 78, 35, 12, 61, 78, 48, 12, 78, 3, 35, 35, 78, 78, 35, 12, 78, 35, 78, 78, 78, 78, 12, 48, 78, 61, 35, 78, 78, 78, 78, 6, 67, 70, 70, 78, 82, 82, 140, 140, 140, 140, 140, 82, 140, 45, 45, 138, 45, 45, 82, 26, 133, 82, 141, 141, 141, 141, 141, 141, 141, 141, 141, 141, 141, 138, 138, 141, 141, 141, 141, 141, 141, 141, 141, 141, 141, 141, 141, 141, 141, 141, 141, 141, 141, 138, 141, 82, 141, 141, 141, 141, 141, 141, 141, 141, 141, 141, 141, 26, 141, 141, 141, 141, 141, 141, 141, 141, 141, 141, 52, 52, 52, 52, 52, 52, 52, 52, 52, 52, 52, 52, 52, 52, 52, 52, 52, 52, 52, 52, 52, 52, 52, 52, 52, 52, 52, 52, 52, 52, 52, 52, 52, 52, 52, 52, 52, 52, 52, 52, 141, 89, 89, 26, 138, 138, 138, 138, 63, 52, 52, 67, 67, 141, 141, 141, 52, 141, 138, 138, 26, 52, 52, 141, 141, 52, 141, 141, 35, 141, 141, 141, 52, 52, 141, 52, 141, 141, 52, 52, 52, 141, 141, 141, 141, 52, 89, 89, 89, 89, 89, 89, 89, 89, 89, 89, 89, 89, 89, 89, 89, 89, 89, 89, 138, 138, 89, 138, 89, 138, 138, 89, 138, 141, 89, 89, 67, 138, 138, 89, 138, 67, 67, 138, 138, 138, 11, 148, 150, 90, 11, 82, 138, 63, 67, 118, 118, 118, 118, 118, 118, 118, 118, 118, 118, 118, 118, 118, 118, 118, 118, 118, 118, 118, 118, 118, 118, 118, 118, 118, 118, 118, 118, 118, 73, 118, 118, 118, 118, 118, 118, 118, 118, 118, 118, 118, 118, 118, 45, 68, 131, 68, 118, 118, 118, 118, 118, 118, 82, 82, 14, 85, 5, 5, 5, 5, 5, 5, 5, 5, 5, 61, 61, 140, 138, 138, 67, 82, 1, 1, 1, 1, 5, 5, 1, 1, 1, 1, 67, 67, 150, 150, 150, 150, 150, 88, 88, 150, 133, 133, 90, 150, 68, 15, 90, 67, 148, 150, 150, 148, 32, 90, 67, 67, 150, 133, 1, 1, 1, 1, 1, 1, 1, 63, 63, 63, 63, 63, 63, 63, 63, 63, 15, 88, 63, 15, 1, 36, 36, 15, 63, 138, 63, 63, 63, 63, 63, 63, 63, 63, 138, 138, 63, 63, 63, 63, 63, 63, 63, 63, 63, 63, 63, 63, 63, 15, 63, 63, 88, 26, 26, 88, 88, 150, 1, 1, 15, 148, 15, 133, 133, 15, 70, 67, 89, 89, 48, 15, 60, 90, 90, 7, 148, 7, 12, 70, 70, 70, 48, 70, 88, 88, 140, 138, 67, 67, 15, 26, 133, 133, 133, 133, 133, 70, 15, 70, 70, 15, 12, 78, 70, 48, 78, 73, 78, 70, 70, 15, 60, 150, 12, 78, 78, 78, 48, 15, 35, 35, 3, 150, 70, 70, 70, 70, 78, 60, 60, 12, 78, 7, 7, 70, 148, 12, 15, 35, 15, 70, 35, 68, 26, 26, 26, 26, 70, 1, 60, 1, 67, 15, 150, 61, 1, 1, 15, 88, 88, 88, 88, 88, 88, 150, 150, 15, 88, 88, 88, 88, 88, 88, 88, 88, 88, 88, 88, 148, 26, 61, 67, 35, 26, 150, 150, 150, 150, 148, 32, 150, 150, 150, 148, 150, 150, 150, 88, 150, 133, 133, 35, 70, 70, 70, 70, 67, 67, 15, 89, 89, 89, 89, 138, 63, 63, 89, 67, 89, 63, 89, 89, 89, 89, 89, 89, 89, 89, 138, 67, 82, 89, 26, 26, 67, 82, 67, 89, 45, 89, 89, 67, 15, 138, 45, 67, 67, 82, 82, 67, 89, 26, 36, 15, 26, 138, 63, 67, 138, 15, 89, 15, 89, 15, 82, 67, 67, 26, 67, 138, 67, 89, 67, 15, 15, 67, 15, 15, 138, 89, 88, 89, 63, 67, 89, 63, 15, 45, 89, 67, 138, 138, 89, 40, 40, 40, 40, 40, 40, 67, 40, 40, 40, 40, 40, 40, 40, 40, 40, 40, 40, 40, 40, 40, 40, 40, 40, 40, 40, 40, 40, 40, 40, 40, 40, 40, 40, 40, 40, 40, 40, 40, 40, 40, 40, 40, 40, 40, 40, 40, 40, 40, 40, 40, 40, 40, 89, 89, 89, 38, 11, 36, 36, 36, 36, 36, 1, 60, 36, 36, 36, 36, 36, 36, 36, 36, 36, 36, 36, 36, 36, 1, 1, 1, 36, 36, 35, 36, 36, 36, 68, 36, 36, 63, 63, 63, 138, 138, 138, 138, 138, 138, 138, 67, 67, 67, 5, 63, 63, 82, 63, 14, 63, 82, 63, 63, 63, 36, 5, 5, 5, 5, 5, 36, 36, 36, 36, 36, 36, 36, 5, 82, 5, 5, 5, 5, 5, 5, 5, 5, 5, 5, 5, 5, 5, 5, 5, 5, 5, 5, 5, 5, 5, 5, 5, 5, 88, 88, 88, 88, 88, 88, 88, 88, 88, 88, 88, 88, 88, 88, 88, 88, 88, 15, 15, 88, 88, 60, 138, 26, 26, 67, 88, 138, 26, 89, 88, 88, 138, 88, 138, 90, 148, 32, 70, 35, 15, 71, 88, 88, 88, 88, 88, 88, 15, 15, 148, 88, 32, 90, 32, 133, 133, 133, 133, 133, 133, 133, 133, 90, 90, 148, 90, 32, 90, 150, 150, 133, 32, 148, 32, 38, 131, 15, 90, 32, 60, 32, 60, 32, 32, 67, 90, 32, 150, 32, 90, 32, 90, 38, 32, 32, 32, 90, 90, 32, 90, 32, 32, 32, 90, 32, 148, 148, 71, 32, 38, 150, 60, 90, 32, 32, 150, 133, 131, 148, 90, 32, 138, 138, 15, 6, 90, 148, 71, 32, 133, 90, 148, 90, 148, 133, 36, 15, 36, 36, 36, 36, 36, 36, 36, 36, 36, 36, 36, 133, 90, 70, 68, 133, 26, 89, 133, 133, 35, 133, 133, 68, 70, 26, 90, 90, 68, 15, 133, 133, 133, 133, 133, 148, 70, 133, 133, 133, 26, 26, 148, 26, 15, 26, 15, 35, 35, 133, 133, 133, 133, 133, 26, 15, 133, 133, 133, 133, 133, 133, 90, 36, 36, 36, 36, 26, 90, 133, 36, 36, 36, 26, 90, 26, 148, 90, 71, 15, 90, 36, 36, 36, 36, 36, 36, 26, 133, 36, 36, 36, 36, 36, 36, 148, 133, 90, 90, 55, 55, 15, 15, 55, 148, 26, 26, 67, 70, 148, 148, 148, 133, 26, 15, 70, 60, 15, 15, 150, 150, 15, 133, 133, 133, 133, 133, 60, 48, 60, 48, 35, 78, 73, 60, 60, 48, 60, 70, 48, 60, 148, 148, 148, 148, 148, 148, 148, 150, 150, 70, 148, 148, 148, 148, 148, 70, 148, 67, 148, 148, 148, 15, 15, 55, 55, 55, 133, 15, 15, 15, 15, 15, 90, 73, 48, 15, 12, 48, 12, 78, 70, 70, 15, 15, 90, 73, 73, 73, 148, 148, 73, 70, 148, 15, 48, 70, 70, 15, 148, 78, 70, 70, 78, 12, 70, 48, 78, 78, 70, 70, 70, 148, 148, 70, 26, 70, 148, 70, 70, 15, 70, 15, 15, 15, 48, 26, 82, 45, 82, 82, 14, 26, 26, 82, 45, 63, 48, 48, 48, 138, 63, 82, 11, 11, 11, 11, 11, 11, 11, 11, 11, 11, 11, 11, 11, 11, 11, 11, 11, 11, 11, 11, 11, 11, 11, 11, 11, 70, 70, 90, 90, 148, 90, 45, 82, 15, 15, 15, 15, 15, 90, 90, 15, 90, 32, 90, 90, 90, 148, 90, 90, 90, 131, 90, 11, 11, 11, 11, 11, 89, 102, 102, 102, 45, 14, 82, 45, 82, 68, 138, 68, 67, 82, 82, 14, 140, 82, 140, 138, 45, 82, 82, 82, 67, 103, 63, 103, 86, 86, 86, 86, 105, 105, 105, 105, 105, 105, 105, 105, 105, 105, 48, 105, 105, 105, 105, 67, 105, 105, 105, 105, 105, 105, 105, 105, 105, 105, 105, 105, 105, 105, 48, 105, 105, 105, 105, 60, 48, 105, 105, 105, 105, 105, 105, 105, 105, 105, 14, 45, 45, 45, 6, 82, 133, 133, 133, 133, 70, 15, 15, 61, 61, 60, 60, 133, 31, 67, 67, 67, 45, 45, 15, 67, 15, 67, 67, 84, 84, 84, 26, 84, 84, 61, 61, 67, 67, 67, 138, 138, 32, 32, 133, 60, 138, 138, 67, 67, 67, 61, 67, 138, 138, 89, 138, 138, 138, 138, 138, 138, 89, 82, 82, 82, 63, 140, 14, 45, 45, 140, 67, 15, 15, 15, 15, 15, 15, 15, 68, 67, 82, 67, 67, 67, 15, 45, 68, 148, 148, 15, 67, 15, 15, 67, 67, 45, 67, 67, 140, 148, 148, 70, 60, 90, 82, 61, 61, 15, 1, 15, 15, 15, 15, 15, 15, 15, 1, 1, 48, 48, 48, 63, 138, 63, 63, 63, 82, 63, 90, 150, 90, 150, 1, 1, 1, 1, 1, 90, 15, 15, 15, 89, 85, 71, 131, 131, 131, 60, 61, 38, 61, 61, 82, 138, 138, 45, 138, 138, 65, 65, 65, 65, 65, 65, 82, 67, 26, 65, 67, 65, 65, 65, 45, 45, 67, 138, 15, 89, 82, 89, 63, 63, 89, 89, 15, 15, 15, 15, 15, 63, 140, 102, 102, 82, 82, 82, 6, 6, 6, 6, 140, 85, 6, 45, 138, 138, 138, 138, 138, 138, 138, 63, 32, 148, 36, 61, 88, 35, 82, 138, 89, 36, 35, 36, 63, 138, 63, 63, 63, 103, 63, 63, 89, 61, 61, 61, 61, 104, 79, 14, 104, 104, 14, 104, 104, 104, 79, 104, 82, 143, 104, 104, 104, 14, 143, 104, 104, 45, 143, 104, 79, 103, 104, 82, 104, 104, 104, 104, 143, 104, 104, 143, 104, 82, 143, 104, 104, 82, 143, 104, 104, 82, 143, 104, 104, 82, 143, 104, 104, 143, 104, 82, 104, 143, 104, 104, 82, 143, 104, 104, 82, 143, 104, 143, 104, 82, 104, 104, 104, 82, 104, 104, 143, 104, 104, 104, 143, 104, 143, 104, 143, 104, 143, 104, 143, 104, 143, 104, 143, 104, 143, 104, 103, 104, 63, 104, 82, 14, 104, 63, 104, 143, 104, 104, 104, 104, 104, 103, 103, 104, 103, 103, 103, 103, 103, 104, 103, 103, 63, 103, 63, 103, 103, 79, 63, 82, 140, 140, 63, 103, 82, 103, 103, 103, 103, 63, 103, 103, 103, 103, 103, 103, 103, 103, 103, 103, 103, 103, 103, 103, 103, 63, 63, 63, 104, 143, 104, 143, 104, 143, 143, 143, 104, 143, 143, 143, 104, 143, 104, 104, 63, 63, 63, 143, 104, 104, 143, 104, 63, 63, 143, 63, 103, 104, 63, 63, 63, 63, 63, 63, 63, 63, 63, 63, 63, 63, 63, 63, 63, 63, 63, 63, 63, 63, 63, 143, 104, 104, 103, 103, 104, 104, 103, 63, 63, 63, 63, 63, 63, 63, 63, 63, 63, 63, 63, 63, 63, 63, 63, 63, 63, 63, 63, 63, 63, 63, 63, 63, 63, 63, 63, 63, 63, 63, 63, 63, 63, 63, 63, 63, 63, 63, 63, 63, 63, 63, 103, 63, 63, 24, 68, 68, 35, 45, 68, 140, 68, 67, 24, 67, 6, 82, 140, 140, 82, 6, 26, 68, 68, 68, 68, 26, 24, 24, 68, 26, 26, 24, 68, 68, 138, 140, 24, 26, 82, 35, 61, 61, 61, 82, 70, 35, 140, 138, 78, 82, 35, 78, 45, 68, 15, 45, 70, 67, 67, 67, 26, 15, 15, 148, 26, 32, 26, 26, 26, 26, 89, 89, 89, 26, 63, 63, 82, 99, 99, 99, 90, 24, 11, 11, 26, 68, 32, 48, 7, 61, 61, 61, 35, 35, 35, 63, 63, 138, 82, 63, 26, 26, 26, 26, 26, 26, 68, 68, 68, 68, 68, 26, 89, 22, 5, 5, 24, 26, 24, 63, 63, 138, 82, 82, 82, 45, 45, 45, 45, 45, 82, 31, 48, 48, 60, 60, 89, 35, 35, 85, 85, 26, 82, 63, 63, 138, 138, 138, 67, 138, 63, 82, 45, 67, 61, 89, 19, 19, 19, 19, 19, 24, 24, 138, 148, 140, 138, 102, 102, 102, 89, 65, 65, 65, 65, 65, 65, 65, 26, 67, 67, 67, 67, 26, 26, 32, 90, 88, 26, 138, 103, 63, 14, 82, 67, 82, 61, 26, 26, 26, 26, 26, 68, 138, 63, 63, 138, 138, 138, 11, 26, 11, 148, 90, 67, 67, 67, 67, 6, 82, 138, 26, 26, 26, 67, 89, 138, 129, 129, 129, 67, 89, 89, 85, 85, 82, 82, 82, 82, 82, 82, 82, 82, 138, 138, 63, 63, 138, 82, 138, 138, 63, 61, 117, 117, 117, 117, 117, 117, 142, 117, 142, 117, 117, 131, 131, 117, 117, 117, 117, 117, 117, 117, 117, 117, 117, 117, 117, 117, 117, 117, 71, 117, 117, 117, 117, 117, 90, 117, 117, 90, 90, 117, 117, 117, 117, 117, 117, 117, 90, 117, 117, 117, 142, 142, 142, 142, 142, 142, 142, 142, 142, 142, 142, 131, 142, 142, 142, 142, 142, 142, 142, 142, 142, 131, 15, 131, 68, 15, 142, 142, 142, 15, 142, 142, 131, 131, 142, 131, 131, 142, 142, 131, 142, 142, 131, 68, 68, 68, 90, 68, 142, 68, 68, 68, 68, 68, 68, 142, 142, 142, 142, 142, 142, 142, 142, 131, 131, 142, 142, 142, 131, 90, 142, 142, 142, 142, 142, 142, 142, 15, 142, 148, 142, 142, 131, 131, 142, 142, 142, 142, 131, 142, 142, 142, 142, 142, 142, 68, 131, 68, 142, 142, 142, 90, 142, 142, 142, 142, 131, 142, 142, 117, 117, 142, 142, 142, 142, 142, 142, 142, 142, 60, 142, 131, 142, 117, 117, 117, 142, 142, 117, 131, 117, 117, 142, 117, 142, 142, 142, 60, 142, 142, 90, 142, 117, 117, 60, 142, 142, 117, 117, 148, 117, 117, 117, 117, 117, 117, 142, 117, 117, 142, 142, 117, 142, 117, 117, 117, 117, 117, 142, 142, 117, 117, 142, 117, 117, 60, 60, 142, 142, 142, 142, 142, 142, 142, 142, 142, 142, 142, 142, 142, 142, 142, 142, 142, 90, 71, 148, 134, 142, 150, 90, 148, 48, 60, 70, 117, 117, 117, 117, 60, 60, 117, 117, 60, 117, 117, 117, 117, 117, 60, 71, 117, 60, 117, 117, 117, 117, 117, 117, 48, 60, 12, 12, 117, 117, 117, 12, 60, 71, 117, 117, 117, 117, 117, 117, 117, 117, 117, 117, 117, 117, 117, 117, 117, 117, 117, 117, 117, 117, 117, 117, 117, 117, 117, 117, 117, 117, 117, 117, 117, 117, 117, 117, 117, 59, 150, 131, 90, 59, 59, 59, 59, 59, 59, 59, 59, 59, 59, 59, 59, 59, 59, 137, 137, 59, 59, 59, 59, 59, 59, 59, 59, 59, 59, 59, 59, 59, 59, 59, 59, 59, 59, 68, 60, 1, 137, 137, 59, 59, 59, 59, 59, 59, 59, 137, 59, 59, 59, 1, 59, 59, 59, 137, 59, 59, 59, 59, 59, 137, 90, 90, 59, 59, 131, 131, 137, 137, 137, 137, 137, 137, 137, 137, 137, 137, 7, 60, 137, 60, 137, 137, 137, 137, 137, 137, 137, 137, 137, 137, 137, 137, 137, 137, 150, 137, 150, 60, 137, 137, 137, 137, 137, 137, 137, 137, 137, 137, 137, 137, 137, 137, 137, 137, 137, 137, 137, 137, 137, 137, 137, 137, 137, 137, 137, 137, 137, 137, 137, 137, 137, 137, 137, 137, 137, 137, 137, 137, 137, 117, 117, 117, 117, 131, 117, 131, 117, 90, 68, 117, 117, 117, 117, 117, 117, 117, 131, 117, 117, 117, 117, 117, 137, 137, 137, 137, 15, 1, 1, 1, 133, 89, 133, 137, 70, 137, 15, 1, 137, 15, 137, 137, 150, 60, 60, 60, 60, 60, 150, 15, 148, 117, 71, 60, 56, 137, 133, 137, 137, 133, 133, 137, 137, 150, 134, 150, 60, 131, 60, 60, 90, 137, 15, 137, 137, 117, 117, 137, 137, 137, 137, 137, 137, 137, 137, 90, 59, 117, 59, 59, 117, 137, 137, 137, 117, 137, 137, 59, 137, 137, 137, 137, 137, 137, 137, 137, 137, 137, 137, 117, 137, 137, 137, 137, 137, 137, 117, 117, 117, 117, 117, 117, 117, 117, 137, 90, 137, 117, 137, 137, 59, 137, 117, 117, 60, 117, 137, 137, 137, 117, 59, 117, 117, 117, 59, 117, 117, 137, 117, 117, 117, 117, 117, 137, 59, 137, 117, 137, 137, 137, 137, 137, 137, 71, 137, 117, 117, 137, 137, 117, 117, 137, 137, 117, 71, 137, 137, 137, 137, 117, 59, 117, 117, 117, 59, 137, 15, 137, 137, 137, 137, 137, 137, 137, 117, 117, 137, 117, 137, 137, 137, 117, 137, 117, 137, 137, 70, 59, 137, 137, 137, 137, 137, 137, 12, 56, 90, 60, 56, 90, 90, 56, 133, 133, 56, 56, 56, 56, 56, 56, 56, 56, 56, 56, 56, 56, 56, 60, 56, 56, 56, 56, 1, 133, 56, 56, 56, 56, 56, 90, 56, 56, 90, 56, 71, 131, 56, 71, 56, 56, 56, 56, 71, 56, 56, 56, 148, 56, 56, 56, 56, 56, 56, 56, 56, 56, 56, 148, 56, 56, 134, 56, 56, 56, 56, 56, 56, 1, 12, 56, 56, 56, 56, 71, 56, 56, 56, 56, 56, 56, 56, 56, 56, 56, 56, 56, 56, 142, 142, 131, 131, 142, 131, 142, 131, 56, 56, 56, 56, 56, 56, 142, 60, 60, 90, 142, 60, 142, 142, 142, 142, 142, 56, 142, 142, 142, 90, 142, 142, 142, 56, 142, 142, 142, 142, 56, 56, 142, 142, 131, 56, 142, 142, 142, 142, 142, 142, 142, 142, 142, 142, 142, 142, 142, 142, 142, 142, 142, 142, 142, 142, 142, 142, 131, 142, 142, 142, 142, 142, 142, 142, 134, 134, 134, 142, 56, 56, 56, 56, 56, 56, 56, 131, 56, 56, 142, 142, 56, 142, 142, 142, 142, 56, 142, 142, 56, 142, 56, 56, 142, 142, 56, 142, 56, 56, 142, 142, 56, 142, 142, 142, 142, 142, 142, 56, 142, 142, 56, 56, 142, 142, 12, 56, 142, 142, 56, 142, 142, 56, 142, 142, 142, 56, 142, 56, 56, 142, 56, 142, 56, 56, 56, 56, 56, 56, 142, 56, 56, 142, 56, 56, 142, 56, 142, 131, 142, 131, 131, 142, 142, 142, 142, 56, 142, 142, 142, 60, 60, 142, 142, 142, 142, 142, 142, 60, 60, 60, 142, 142, 134, 134, 91, 91, 134, 134, 134, 91, 91, 91, 91, 134, 134, 91, 91, 91, 91, 91, 91, 91, 91, 91, 134, 134, 91, 134, 134, 134, 91, 134, 134, 91, 91, 91, 91, 91, 91, 91, 91, 134, 91, 134, 134, 134, 91, 91, 134, 134, 91, 142, 91, 142, 134, 134, 134, 91, 134, 91, 91, 91, 91, 142, 91, 91, 91, 91, 134, 91, 134, 91, 91, 91, 91, 134, 91, 134, 134, 91, 91, 91, 91, 91, 91, 91, 91, 91, 91, 91, 134, 142, 91, 91, 142, 134, 91, 91, 142, 134, 91, 91, 91, 142, 142, 60, 48, 142, 32, 60, 72, 60, 142, 142, 142, 56, 142, 142, 142, 142, 142, 142, 142, 142, 142, 142, 142, 142, 142, 142, 142, 142, 142, 142, 142, 142, 142, 142, 142, 142, 142, 142, 32, 142, 142, 32, 142, 142, 138, 138, 138, 138, 138, 142, 142, 142, 142, 142, 142, 60, 60, 142, 60, 142, 142, 142, 142, 142, 142, 60, 142, 142, 142, 142, 142, 142, 142, 142, 134, 71, 134, 134, 134, 134, 134, 134, 134, 134, 134, 134, 134, 134, 134, 134, 134, 134, 134, 134, 134, 71, 134, 134, 134, 71, 134, 90, 131, 56, 56, 56, 79, 82, 56, 56, 56, 56, 56, 56, 56, 56, 56, 56, 56, 56, 56, 56, 56, 56, 134, 131, 134, 142, 142, 142, 134, 134, 134, 134, 134, 134, 90, 142, 142, 142, 131, 134, 142, 134, 134, 12, 48, 15, 15, 150, 148, 68, 131, 148, 150, 150, 71, 150, 15, 71, 148, 150, 90, 68, 142, 142, 134, 45, 45, 67, 131, 131, 142, 142, 142, 142, 142, 142, 71, 71, 131, 142, 142, 142, 142, 142, 142, 142, 142, 142, 142, 142, 142, 142, 142, 142, 142, 142, 142, 142, 142, 131, 142, 142, 142, 142, 131, 142, 142, 60, 142, 142, 142, 142, 142, 142, 142, 67, 142, 142, 142, 131, 142, 142, 142, 71, 150, 131, 142, 142, 142, 142, 142, 142, 142, 131, 90, 133, 137, 137, 137, 70, 123, 123, 123, 123, 60, 60, 60, 123, 123, 123, 123, 150, 123, 123, 123, 123, 60, 70, 123, 123, 123, 150, 150, 123, 123, 60, 150, 150, 150, 131, 71, 126, 126, 114, 114, 114, 114, 114, 114, 114, 114, 126, 114, 126, 126, 70, 126, 126, 126, 126, 126, 114, 126, 126, 150, 114, 114, 12, 12, 71, 71, 150, 126, 126, 114, 114, 114, 114, 126, 114, 114, 90, 71, 71, 32, 32, 148, 114, 114, 114, 114, 114, 114, 15, 114, 114, 114, 148, 148, 71, 60, 60, 32, 32, 150, 131, 126, 114, 15, 12, 150, 114, 71, 114, 126, 12, 85, 126, 126, 126, 15, 126, 114, 55, 55, 150, 114, 12, 126, 126, 126, 114, 114, 126, 150, 12, 12, 114, 114, 126, 126, 60, 150, 32, 32, 60, 70, 126, 114, 126, 126, 55, 32, 126, 126, 114, 114, 114, 114, 150, 126, 114, 126, 114, 12, 126, 126, 126, 114, 114, 114, 114, 114, 114, 32, 114, 126, 114, 150, 114, 126, 126, 15, 126, 126, 114, 126, 114, 114, 114, 126, 126, 123, 123, 82, 123, 123, 123, 123, 123, 15, 15, 15, 123, 148, 68, 15, 15, 70, 150, 148, 90, 123, 123, 123, 123, 123, 123, 15, 15, 123, 123, 123, 123, 123, 123, 123, 123, 123, 123, 123, 15, 90, 68, 68, 15, 133, 123, 133, 71, 90, 68, 70, 26, 123, 123, 148, 148, 90, 70, 123, 123, 70, 123, 123, 123, 123, 148, 123, 123, 60, 123, 123, 123, 123, 123, 123, 60, 123, 123, 60, 60, 123, 123, 123, 48, 60, 123, 131, 123, 123, 123, 123, 123, 123, 123, 60, 123, 123, 123, 123, 123, 123, 6, 60, 123, 123, 123, 123, 131, 123, 123, 90, 123, 123, 123, 131, 68, 26, 71, 123, 90, 123, 123, 123, 123, 123, 123, 123, 123, 60, 131, 123, 123, 123, 123, 131, 123, 123, 123, 123, 60, 60, 123, 123, 148, 123, 131, 71, 90, 71, 90, 90, 90, 123, 123, 48, 123, 131, 131, 131, 148, 123, 123, 123, 123, 123, 123, 131, 131, 123, 90, 90, 15, 15, 15, 131, 150, 90, 126, 126, 126, 126, 126, 126, 123, 123, 114, 131, 126, 123, 126, 126, 126, 126, 126, 55, 90, 123, 90, 114, 123, 126, 114, 150, 126, 126, 32, 123, 126, 60, 60, 32, 32, 90, 126, 114, 126, 90, 123, 123, 90, 123, 126, 114, 114, 123, 123, 90, 123, 123, 126, 114, 114, 114, 114, 123, 123, 114, 70, 123, 126, 126, 126, 32, 90, 148, 148, 126, 126, 126, 126, 126, 126, 126, 123, 126, 114, 114, 114, 126, 126, 126, 126, 126, 150, 126, 126, 126, 114, 126, 126, 126, 126, 148, 126, 114, 126, 126, 126, 150, 126, 126, 32, 123, 150, 123, 126, 126, 126, 126, 126, 90, 150, 123, 114, 123, 70, 70, 126, 126, 60, 55, 60, 114, 123, 126, 126, 60, 126, 150, 123, 123, 126, 126, 126, 123, 126, 114, 123, 126, 123, 123, 126, 123, 123, 123, 126, 123, 123, 126, 123, 126, 114, 60, 123, 71, 126, 114, 126, 90, 123, 126, 123, 126, 123, 123, 150, 123, 114, 123, 123, 114, 126, 123, 123, 123, 123, 126, 126, 126, 150, 126, 55, 70, 55, 114, 123, 150, 90, 126, 90, 60, 114, 114, 123, 126, 123, 60, 114, 60, 123, 60, 12, 126, 12, 45, 12, 12, 123, 48, 123, 123, 126, 55, 114, 126, 150, 123, 123, 126, 126, 123, 123, 126, 123, 123, 126, 114, 123, 126, 123, 114, 123, 60, 55, 114, 55, 123, 126, 123, 90, 67, 67, 67, 123, 114, 12, 126, 126, 126, 126, 126, 126, 126, 126, 126, 126, 126, 126, 126, 126, 126, 126, 126, 126, 126, 126, 126, 126, 123, 123, 148, 123, 148, 123, 70, 126, 123, 114, 126, 48, 55, 114, 114, 123, 55, 126, 126, 126, 114, 90, 123, 123, 60, 150, 123, 114, 126, 55, 123, 90, 123, 123, 126, 123, 126, 123, 126, 126, 126, 126, 114, 126, 32, 126, 148, 126, 148, 71, 71, 114, 126, 114, 126, 126, 131, 131, 131, 126, 150, 123, 126, 126, 126, 126, 126, 126, 126, 15, 126, 126, 126, 126, 126, 126, 123, 126, 126, 126, 123, 71, 123, 126, 126, 70, 123, 126, 126, 123, 114, 126, 126, 126, 126, 126, 126, 126, 126, 123, 114, 60, 126, 126, 126, 126, 123, 126, 90, 123, 123, 123, 114, 126, 126, 71, 126, 15, 123, 32, 123, 126, 126, 126, 126, 126, 126, 126, 126, 148, 126, 123, 126, 126, 126, 126, 60, 55, 55, 123, 123, 123, 15, 131, 131, 126, 90, 150, 126, 90, 131, 123, 131, 68, 123, 131, 131, 126, 131, 126, 123, 126, 131, 123, 123, 123, 123, 114, 123, 123, 150, 123, 150, 126, 126, 70, 114, 114, 123, 126, 126, 126, 123, 114, 150, 12, 12, 148, 67, 133, 133, 148, 150, 88, 70, 88, 90, 70, 61, 61, 35, 60, 60, 148, 150, 150, 70, 70, 148, 70, 133, 150, 70, 82, 60, 61, 68, 32, 90, 32, 148, 90, 148, 32, 48, 150, 150, 123, 12, 12, 150, 70, 32, 123, 32, 32, 32, 32, 148, 32, 32, 32, 148, 32, 32, 32, 148, 70, 15, 148, 140, 123, 150, 12, 90, 70, 70, 15, 60, 60, 131, 15, 90, 90, 15, 15, 148, 148, 148, 148, 148, 148, 32, 32, 32, 32, 70, 70, 70, 70, 70, 15, 150, 133, 68, 90, 71, 150, 70, 70, 148, 15, 70, 70, 15, 15, 90, 15, 90, 15, 90, 148, 148, 137, 137, 137, 137, 137, 137, 137, 137, 137, 137, 137, 137, 137, 70, 60, 82, 131, 88, 88, 90, 150, 150, 88, 131, 131, 131, 131, 71, 56, 56, 56, 90, 90, 90, 88, 90, 88, 15, 88, 68, 56, 68, 68, 72, 133, 133, 72, 150, 72, 15, 67, 72, 72, 72, 72, 72, 72, 72, 32, 32, 90, 32, 32, 32, 133, 131, 32, 133, 68, 131, 90, 60, 32, 60, 61, 32, 32, 32, 32, 32, 32, 32, 32, 32, 32, 32, 32, 32, 32, 32, 32, 45, 45, 131, 148, 90, 90, 32, 68, 90, 90, 148, 148, 131, 67, 26, 26, 15, 26, 26, 15, 102, 1, 3, 70, 1, 1, 1, 70, 61, 61, 1, 78, 78, 3, 88, 15, 88, 70, 35, 60, 15, 1, 1, 1, 1, 1, 1, 1, 1, 1, 15, 1, 1, 1, 1, 1, 1, 1, 1, 88, 1, 88, 61, 70, 48, 1, 1, 1, 1, 1, 1, 1, 1, 1, 1, 1, 1, 1, 1, 1, 1, 1, 1, 15, 15, 1, 1, 1, 1, 1, 1, 1, 1, 1, 1, 1, 70, 102, 102, 102, 102, 102, 12, 70, 60, 12, 70, 60, 60, 26, 150, 150, 90, 26, 26, 90, 53, 53, 53, 53, 53, 53, 53, 53, 53, 53, 53, 53, 53, 53, 53, 53, 53, 15, 26, 90, 145, 145, 60, 145, 12, 145, 12, 145, 145, 145, 131, 145, 145, 145, 145, 131, 12, 145, 145, 53, 53, 53, 53, 53, 53, 15, 15, 53, 53, 53, 53, 53, 53, 53, 145, 145, 145, 145, 145, 145, 145, 145, 53, 145, 53, 53, 145, 145, 145, 145, 145, 145, 145, 145, 145, 145, 145, 145, 53, 53, 145, 53, 53, 145, 145, 145, 53, 145, 145, 145, 145, 145, 53, 53, 145, 145, 145, 145, 145, 145, 145, 145, 145, 145, 145, 145, 145, 145, 145, 145, 145, 145, 145, 145, 145, 145, 53, 145, 145, 145, 53, 53, 145, 145, 145, 145, 53, 145, 145, 145, 145, 145, 145, 53, 145, 145, 145, 145, 145, 53, 53, 145, 145, 145, 145, 145, 145, 145, 53, 145, 53, 53, 145, 145, 145, 145, 53, 53, 53, 53, 145, 145, 131, 53, 145, 145, 53, 35, 35, 61, 131, 61, 61, 61, 61, 15, 61, 61, 61, 11, 32, 32, 32, 150, 32, 32, 32, 32, 148, 32, 148, 60, 12, 82, 82, 60, 12, 82, 60, 60, 140, 12, 82, 12, 12, 82, 60, 60, 12, 133, 60, 119, 119, 119, 119, 60, 119, 119, 60, 119, 131, 131, 119, 6, 119, 119, 119, 148, 119, 131, 148, 12, 12, 71, 148, 67, 45, 61, 70, 68, 102, 102, 102, 102, 102, 102, 102, 102, 102, 102, 64, 64, 64, 64, 64, 64, 64, 64, 64, 64, 64, 64, 64, 64, 64, 64, 64, 64, 64, 64, 64, 64, 64, 64, 64, 64, 64, 64, 64, 64, 64, 64, 64, 64, 64, 64, 26, 79, 67, 67, 68, 64, 64, 64, 64, 64, 64, 64, 64, 64, 64, 64, 64, 64, 64, 64, 64, 64, 64, 64, 64, 64, 64, 64, 64, 64, 64, 64, 64, 64, 64, 64, 64, 64, 64, 64, 64, 64, 64, 64, 64, 64, 64, 64, 64, 64, 64, 64, 64, 64, 64, 64, 64, 64, 64, 64, 64, 64, 64, 64, 64, 64, 64, 64, 64, 64, 64, 64, 64, 64, 64, 64, 64, 64, 64, 64, 64, 64, 64, 64, 64, 64, 64, 64, 64, 64, 68, 64, 64, 64, 64, 12, 60, 12, 12, 12, 12, 70, 67, 32, 131, 32, 32, 32, 32, 32, 32, 32, 32, 32, 32, 32, 8, 8, 8, 8, 8, 8, 8, 8, 8, 8, 68, 8, 8, 8, 8, 8, 8, 60, 60, 8, 8, 8, 70, 70, 70, 12, 8, 8, 8, 150, 8, 8, 150, 15, 8, 8, 8, 8, 8, 8, 8, 8, 8, 8, 8, 8, 8, 8, 8, 8, 8, 8, 8, 8, 60, 60, 8, 8, 8, 8, 8, 8, 8, 8, 8, 8, 8, 8, 150, 150, 150, 32, 32, 67, 32, 32, 131, 32, 32, 32, 32, 32, 32, 131, 32, 32, 90, 15, 63, 12, 12, 90, 88, 90, 71, 150, 15, 70, 90, 133, 15, 148, 148, 150, 150, 150, 90, 148, 90, 150, 150, 150, 71, 71, 150, 15, 90, 90, 32, 15, 15, 15, 15, 15, 15, 148, 15, 48, 17, 17, 17, 15, 71, 32, 148, 148, 148, 90, 71, 71, 148, 90, 148, 32, 15, 90, 15, 26, 140, 82, 82, 82, 82, 140, 45, 15, 82, 90, 32, 131, 71, 71, 90, 32, 32, 32, 150, 70, 90, 131, 131, 131, 90, 150, 131, 131, 32, 32, 131, 131, 90, 90, 32, 32, 133, 148, 150, 150, 131, 70, 32, 90, 150, 32, 90, 131, 15, 150, 68, 133, 26, 148, 150, 150, 150, 150, 150, 90, 71, 32, 90, 26, 15, 150, 90, 90, 32, 150, 60, 131, 150, 148, 150, 133, 150, 150, 32, 71, 71, 70, 32, 131, 90, 32, 32, 90, 26, 90, 148, 148, 32, 32, 68, 32, 26, 12, 12, 12, 150, 150, 150, 150, 150, 150, 150, 150, 70, 150, 150, 148, 148, 26, 90, 90, 12, 12, 71, 150, 150, 150, 150, 12, 15, 150, 150, 150, 150, 150, 150, 150, 12, 150, 12, 70, 71, 150, 4, 4, 4, 4, 4, 71, 4, 4, 131, 4, 4, 4, 4, 4, 4, 4, 4, 4, 4, 4, 131, 4, 4, 4, 4, 4, 4, 4, 4, 150, 150, 12, 90, 90, 71, 60, 150, 4, 90, 90, 71, 148, 90, 71, 133, 90, 32, 71, 4, 148, 4, 4, 4, 71, 4, 4, 4, 4, 4, 71, 4, 4, 4, 4, 4, 4, 4, 4, 4, 90, 4, 71, 4, 90, 4, 4, 90, 4, 4, 4, 4, 4, 15, 90, 90, 4, 4, 90, 60, 4, 4, 4, 12, 148, 71, 4, 4, 71, 4, 4, 4, 4, 15, 4, 90, 71, 4, 4, 60, 4, 90, 4, 4, 150, 4, 4, 4, 4, 4, 4, 4, 90, 4, 150, 32, 7, 60, 15, 148, 32, 131, 131, 150, 150, 90, 131, 150, 150, 150, 150, 150, 150, 150, 67, 148, 32, 90, 90, 32, 68, 68, 148, 68, 70, 150, 148, 131, 131, 71, 68, 32, 32, 32, 90, 90, 150, 148, 150, 150, 90, 90, 32, 150, 150, 150, 90, 90, 60, 150, 26, 150, 131, 150, 32, 26, 150, 131, 131, 68, 150, 150, 150, 123, 90, 32, 90, 131, 32, 32, 32, 32, 32, 90, 150, 71, 71, 131, 70, 70, 70, 60, 12, 70, 90, 32, 32, 32, 32, 15, 123, 45, 90, 15, 15, 67, 14, 140, 67, 15, 45, 6, 67, 6, 82, 82, 148, 15, 131, 148, 148, 90, 15, 90, 15, 32, 32, 32, 32, 32, 61, 32, 148, 148, 32, 32, 71, 15, 32, 15, 148, 45, 148, 15, 71, 71, 32, 60, 70, 32, 119, 60, 32, 32, 133, 15, 26, 26, 70, 15, 15, 32, 32, 32, 32, 131, 131, 70, 150, 131, 60, 60, 60, 150, 67, 15, 15, 60, 60, 26, 15, 70, 15, 32, 7, 7, 7, 7, 7, 70, 73, 73, 73, 7, 135, 135, 60, 150, 148, 148, 148, 131, 70, 150, 150, 150, 90, 150, 148, 150, 148, 150, 148, 148, 148, 150, 70, 148, 148, 148, 148, 150, 150, 90, 150, 90, 150, 131, 70, 150, 150, 71, 60, 60, 90, 90, 32, 131, 131, 32, 71, 131, 71, 90, 148, 148, 32, 32, 148, 150, 32, 70, 70, 150, 150, 32, 32, 32, 32, 60, 32, 32, 131, 32, 32, 32, 32, 148, 150, 150, 70, 70, 150, 150, 32, 32, 32, 32, 148, 60, 131, 60, 32, 133, 32, 32, 32, 32, 70, 32, 32, 32, 150, 150, 32, 32, 32, 70, 32, 32, 150, 150, 32, 32, 70, 70, 7, 7, 7, 7, 12, 12, 7, 70, 133, 133, 7, 60, 133, 131, 71, 71, 90, 35, 35, 15, 70, 71, 71, 90, 131, 70, 71, 48, 148, 48, 48, 48, 48, 48, 48, 15, 133, 67, 67, 85, 70, 71, 60, 148, 90, 70, 7, 15, 48, 70, 60, 60, 133, 90, 60, 71, 71, 90, 71, 7, 148, 133, 7, 7, 32, 7, 12, 12, 55, 55, 1, 12, 55, 70, 26, 55, 1, 55, 12, 55, 1, 133, 15, 150, 133, 48, 60, 150, 60, 60, 132, 132, 73, 73, 73, 132, 132, 132, 132, 132, 132, 132, 132, 132, 132, 73, 132, 133, 132, 132, 132, 73, 135, 60, 60, 135, 7, 7, 131, 90, 7, 7, 7, 7, 68, 132, 131, 132, 150, 131, 132, 7, 131, 7, 60, 7, 131, 70, 131, 90, 32, 71, 90, 90, 150, 132, 132, 132, 132, 132, 132, 132, 73, 73, 132, 132, 132, 132, 73, 73, 132, 132, 132, 132, 132, 73, 132, 132, 73, 132, 132, 73, 73, 73, 73, 132, 132, 132, 132, 73, 132, 73, 132, 132, 132, 132, 70, 132, 7, 132, 73, 132, 132, 132, 73, 73, 132, 132, 132, 131, 70, 7, 132, 132, 132, 132, 132, 73, 73, 132, 70, 132, 71, 71, 73, 132, 132, 132, 12, 132, 73, 73, 132, 132, 73, 132, 132, 132, 73, 132, 60, 132, 132, 132, 132, 60, 132, 132, 132, 73, 73, 71, 132, 61, 132, 132, 132, 132, 132, 132, 132, 7, 132, 70, 132, 132, 7, 135, 48, 73, 70, 48, 48, 135, 135, 135, 70, 70, 7, 135, 73, 135, 70, 70, 70, 135, 48, 135, 73, 73, 135, 70, 135, 90, 60, 32, 32, 71, 150, 68, 131, 131, 131, 32, 60, 131, 71, 7, 7, 7, 7, 90, 148, 71, 148, 148, 71, 150, 150, 150, 32, 48, 60, 60, 32, 150, 32, 32, 7, 32, 32, 32, 80, 71, 150, 150, 12, 80, 80, 80, 80, 80, 80, 80, 131, 90, 80, 48, 70, 80, 131, 7, 150, 150, 90, 68, 80, 80, 80, 80, 80, 80, 80, 80, 80, 80, 80, 80, 138, 138, 150, 80, 80, 71, 7, 7, 133, 127, 127, 127, 127, 7, 7, 131, 127, 7, 7, 7, 7, 90, 131, 127, 127, 127, 138, 127, 68, 131, 127, 68, 131, 131, 68, 70, 131, 7, 90, 131, 7, 127, 7, 82, 133, 133, 133, 12, 133, 133, 150, 133, 133, 133, 133, 14, 148, 15, 68, 68, 71, 71, 148, 148, 7, 7, 140, 7, 7, 7, 71, 71, 71, 90, 71, 71, 71, 71, 71, 71, 131, 131, 7, 90, 135, 135, 135, 73, 135, 7, 7, 32, 131, 12, 15, 60, 15, 90, 78, 135, 131, 131, 135, 90, 90, 60, 135, 7, 7, 71, 7, 135, 78, 71, 140, 71, 7, 7, 7, 7, 7, 7, 90, 12, 60, 70, 70, 90, 131, 26, 140, 135, 48, 135, 7, 7, 7, 68, 90, 90, 7, 68, 68, 15, 131, 7, 7, 7, 7, 7, 7, 71, 135, 71, 71, 68, 12, 7, 131, 7, 7, 7, 135, 133, 135, 45, 135, 24, 135, 67, 135, 67, 135, 24, 135, 67, 7, 133, 7, 70, 135, 135, 135, 70, 133, 131, 7, 135, 133, 7, 7, 135, 133, 26, 15, 90, 150, 90, 60, 133, 15, 15, 32, 131, 7, 7, 135, 135, 135, 7, 131, 127, 71, 131, 7, 131, 90, 131, 131, 131, 90, 131, 131, 68, 150, 32, 90, 90, 7, 7, 7, 90, 135, 70, 70, 135, 70, 135, 135, 132, 132, 90, 60, 70, 150, 150, 71, 32, 80, 71, 71, 7, 7, 7, 90, 90, 7, 132, 132, 70, 135, 7, 7, 70, 132, 90, 90, 71, 150, 71, 70, 32, 70, 71, 7, 82, 90, 90, 70, 15, 15, 132, 7, 80, 150, 150, 71, 71, 80, 7, 7, 90, 7, 127, 127, 132, 135, 70, 73, 135, 78, 132, 90, 150, 7, 7, 7, 135, 70, 132, 132, 70, 127, 7, 90, 90, 12, 12, 132, 135, 132, 127, 12, 12, 132, 48, 132, 55, 70, 132, 132, 135, 132, 48, 73, 135, 60, 135, 70, 132, 12, 48, 135, 135, 12, 73, 132, 132, 132, 132, 73, 12, 55, 48, 135, 135, 60, 135, 135, 135, 132, 132, 60, 132, 132, 135, 132, 132, 135, 132, 135, 127, 135, 135, 135, 70, 60, 70, 132, 127, 135, 135, 135, 80, 70, 132, 135, 132, 55, 60, 12, 70, 135, 127, 12, 132, 135, 135, 135, 48, 133, 82, 150, 133, 7, 90, 90, 132, 132, 150, 90, 90, 131, 131, 70, 80, 135, 132, 12, 70, 70, 135, 55, 73, 150, 133, 70, 7, 148, 148, 148, 148, 71, 148, 7, 7, 150, 90, 70, 71, 135, 135, 135, 135, 70, 70, 80, 80, 7, 70, 90, 70, 127, 7, 80, 150, 71, 7, 7, 7, 7, 131, 7, 7, 73, 150, 127, 7, 132, 127, 80, 90, 90, 90, 7, 90, 90, 71, 127, 138, 26, 131, 90, 90, 90, 7, 7, 132, 60, 132, 132, 90, 90, 131, 131, 131, 131, 80, 131, 127, 80, 127, 7, 131, 131, 131, 131, 7, 7, 131, 131, 131, 7, 150, 133, 80, 70, 70, 26, 26, 70, 150, 7, 82, 60, 140, 150, 133, 90, 90, 90, 32, 90, 90, 90, 32, 131, 32, 90, 148, 32, 88, 88, 70, 12, 12, 88, 88, 88, 88, 88, 88, 88, 88, 88, 88, 88, 88, 88, 88, 88, 135, 88, 88, 88, 88, 88, 90, 88, 88, 88, 150, 90, 150, 88, 88, 88, 148, 32, 60, 60, 150, 71, 148, 32, 148, 68, 48, 12, 48, 32, 70, 90, 90, 32, 70, 15, 148, 32, 60, 131, 131, 70, 60, 12, 150, 150, 32, 32, 7, 26, 26, 26, 26, 60, 60, 12, 12, 60, 60, 12, 12, 70, 12, 55, 55, 55, 55, 90, 60, 32, 60, 60, 32, 148, 70, 150, 131, 150, 90, 70, 60, 60, 60, 60, 60, 90, 90, 90, 90, 148, 90, 71, 71, 150, 70, 70, 32, 148, 90, 90, 90, 131, 131, 71, 90, 71, 32, 148, 32, 90, 90, 90, 90, 90, 6, 82, 48, 45, 48, 48, 60, 70, 70, 12, 12, 12, 48, 61, 60, 12, 12, 60, 12, 70, 12, 12, 12, 12, 12, 12, 15, 48, 48, 48, 15, 12, 48, 12, 12, 12, 12, 12, 12, 73, 48, 12, 48, 60, 60, 26, 148, 70, 12, 12, 12, 48, 48, 12, 12, 12, 12, 12, 12, 12, 12, 12, 12, 12, 48, 12, 12, 12, 12, 12, 12, 12, 48, 12, 12, 12, 48, 12, 12, 48, 48, 48, 12, 48, 12, 12, 12, 12, 48, 12, 12, 73, 12, 12, 12, 48, 12, 73, 12, 131, 70, 15, 60, 60, 70, 12, 148, 148, 15, 15, 70, 70, 148, 150, 150, 150, 148, 148, 148, 26, 15, 150, 70, 12, 148, 70, 12, 70, 70, 149, 149, 149, 149, 149, 149, 149, 149, 149, 26, 26, 149, 149, 149, 149, 149, 149, 149, 149, 149, 149, 149, 149, 149, 149, 149, 149, 149, 149, 149, 149, 149, 149, 149, 149, 149, 149, 149, 26, 149, 149, 149, 149, 149, 149, 149, 149, 149, 149, 14, 149, 149, 45, 15, 149, 149, 149, 149, 15, 149, 68, 149, 149, 149, 15, 149, 75, 75, 75, 75, 75, 75, 75, 75, 75, 75, 75, 75, 75, 75, 75, 75, 75, 75, 75, 75, 75, 75, 75, 75, 75, 75, 75, 75, 75, 75, 75, 75, 75, 75, 75, 75, 75, 75, 75, 75, 75, 75, 75, 75, 75, 75, 75, 61, 61, 149, 15, 35, 149, 149, 149, 149, 149, 149, 58, 58, 58, 58, 58, 58, 58, 58, 58, 58, 149, 149, 58, 15, 149, 58, 58, 15, 58, 58, 148, 58, 149, 58, 58, 58, 149, 149, 58, 58, 58, 58, 149, 58, 58, 58, 149, 149, 58, 58, 58, 58, 58, 58, 58, 58, 58, 149, 149, 58, 58, 58, 58, 58, 58, 58, 149, 58, 58, 58, 149, 148, 148, 149, 149, 149, 149, 149, 149, 149, 12, 12, 149, 149, 149, 149, 75, 26, 149, 149, 149, 149, 149, 149, 149, 68, 149, 149, 15, 67, 26, 26, 26, 26, 26, 148, 149, 26, 26, 85, 85, 71, 71, 71, 26, 149, 149, 68, 68, 75, 58, 149, 149, 75, 58, 149, 75, 75, 75, 58, 149, 149, 58, 58, 68, 149, 68, 149, 148, 149, 149, 149, 58, 149, 149, 149, 149, 149, 90, 149, 149, 149, 149, 149, 149, 149, 58, 58, 149, 58, 149, 149, 149, 75, 75, 75, 75, 75, 75, 75, 58, 149, 75, 58, 58, 149, 58, 75, 149, 149, 149, 75, 58, 58, 75, 75, 149, 75, 149, 75, 149, 75, 149, 149, 149, 67, 75, 149, 58, 149, 149, 149, 149, 75, 149, 149, 58, 149, 58, 75, 149, 149, 149, 75, 149, 75, 149, 75, 75, 75, 75, 75, 75, 149, 75, 58, 149, 149, 149, 149, 149, 75, 75, 75, 149, 149, 149, 75, 75, 75, 75, 149, 58, 149, 149, 75, 58, 149, 149, 149, 149, 149, 75, 75, 75, 75, 149, 149, 149, 149, 61, 15, 149, 149, 75, 58, 58, 75, 149, 75, 58, 58, 58, 75, 149, 75, 58, 60, 35, 12, 149, 149, 75, 58, 75, 149, 149, 75, 149, 58, 75, 149, 75, 75, 149, 75, 75, 75, 58, 149, 58, 75, 149, 149, 149, 149, 149, 149, 149, 149, 149, 149, 58, 75, 75, 75, 75, 149, 149, 149, 75, 75, 58, 75, 75, 75, 75, 75, 75, 75, 75, 75, 15, 149, 58, 149, 15, 58, 58, 58, 149, 149, 149, 75, 149, 149, 58, 149, 58, 75, 71, 149, 75, 75, 75, 75, 75, 75, 58, 75, 149, 149, 75, 149, 149, 75, 149, 75, 75, 149, 58, 75, 149, 75, 75, 75, 75, 75, 75, 58, 75, 75, 75, 58, 149, 149, 149, 149, 149, 148, 149, 149, 149, 58, 58, 149, 58, 149, 149, 149, 149, 149, 149, 75, 75, 149, 75, 149, 149, 75, 149, 75, 75, 58, 58, 149, 131, 149, 149, 58, 58, 149, 149, 149, 149, 58, 75, 75, 75, 75, 75, 149, 75, 149, 149, 75, 75, 75, 75, 58, 149, 75, 149, 75, 75, 58, 149, 6, 133, 90, 148, 32, 32, 32, 148, 32, 32, 26, 32, 32, 32, 32, 90, 32, 90, 70, 90, 70, 3, 70, 68, 15, 70, 60, 32, 60, 32, 32, 32, 70, 70, 67, 67, 70, 70, 131, 15, 150, 32, 70, 15, 15, 35, 35, 15, 15, 12, 12, 12, 15, 15, 15, 90, 148, 131, 148, 148, 90, 15, 131, 3, 131, 148, 148, 12, 12, 90, 68, 6, 15, 32, 3, 32, 70, 32, 26, 26, 26, 26, 45, 6, 67, 67, 71, 60, 90, 131, 131, 15, 90, 150, 150, 71, 71, 71, 71, 60, 148, 90, 150, 71, 45, 26, 138, 138, 138, 138, 14, 138, 67, 138, 138, 138, 67, 67, 138, 67, 133, 133, 133, 148, 148, 133, 133, 133, 68, 68, 68, 68, 82, 35, 35, 131, 68, 67, 133, 138, 71, 140, 26, 131, 131, 133, 133, 138, 68, 67, 133, 133, 26, 26, 82, 82, 82, 82, 82, 6, 133, 90, 15, 82, 82, 133, 68, 133, 45, 68, 90, 14, 82, 6, 7, 7, 7, 7, 7, 7, 90, 7, 119, 68, 119, 119, 119, 119, 119, 119, 119, 15, 119, 119, 119, 119, 119, 119, 119, 119, 119, 119, 119, 119, 119, 119, 119, 32, 26, 90, 90, 90, 90, 90, 90, 90, 90, 73, 48, 73, 73, 73, 73, 60, 60, 12, 12, 67, 90, 73, 73, 7, 7, 133, 133, 7, 7, 73, 73, 73, 73, 73, 73, 73, 135, 32, 32, 90, 131, 148, 32, 70, 70, 70, 70, 60, 60, 60, 60, 60, 60, 60, 60, 32, 32, 32, 32, 32, 90, 15, 90, 26, 12, 70, 71, 148, 67, 15, 67, 15, 148, 90, 90, 90, 71, 90, 90, 45, 140, 45, 15, 150, 148, 150, 67, 90, 90, 15, 148, 148, 90, 71, 71, 148, 90, 15, 26, 15, 15, 14, 90, 148, 26, 15, 90, 60, 35, 90, 1, 12, 60, 60, 90, 32, 135, 7, 135, 135, 70, 70, 148, 7, 7, 32, 32, 70, 70, 70, 32, 135, 135, 15, 70, 135, 135, 90, 90, 70, 70, 32, 32, 15, 90, 71, 140, 71, 71, 90, 90, 90, 90, 60, 60, 135, 73, 35, 60, 135, 73, 135, 60, 60, 60, 60, 60, 35, 60, 70, 60, 135, 7, 26, 140, 90, 90, 90, 90, 135, 70, 70, 70, 70, 148, 32, 148, 148, 148, 32, 7, 7, 7, 7, 135, 135, 90, 90, 135, 135, 32, 32, 71, 140, 73, 70, 32, 71, 140, 140, 32, 32, 90, 90, 15, 90, 32, 32, 32, 32, 70, 70, 140, 71, 140, 26, 140, 150, 90, 26, 68, 67, 26, 26, 26, 133, 32, 32, 131, 131, 131, 131, 131, 150, 39, 39, 12, 32, 32, 70, 32, 32, 32, 32, 32, 39, 39, 39, 70, 70, 12, 12, 12, 12, 12, 133, 26, 26, 67, 15, 15, 68, 150, 68, 68, 68, 67, 150, 6, 6, 15, 70, 71, 70, 15, 12, 150, 71, 71, 71, 133, 12, 70, 70, 71, 71, 133, 71, 131, 32, 15, 71, 32, 131, 48, 70, 6, 15, 32, 14, 82, 140, 140, 68, 68, 73, 15, 67, 67, 45, 67, 15, 71, 140, 70, 32, 140, 12, 70, 15, 73, 60, 60, 39, 39, 70, 67, 71, 39, 39, 68, 12, 131, 68, 32, 71, 39, 39, 32, 102, 102, 102, 32, 102, 102, 15, 15, 35, 133, 102, 68, 68, 90, 90, 133, 148, 68, 140, 6, 140, 6, 140, 90, 150, 60, 119, 119, 119, 119, 119, 133, 119, 119, 60, 119, 119, 119, 131, 131, 119, 119, 119, 119, 131, 119, 119, 60, 119, 119, 119, 133, 119, 119, 119, 119, 119, 119, 119, 119, 119, 119, 119, 119, 119, 119, 119, 119, 119, 60, 119, 119, 119, 119, 119, 119, 119, 60, 60, 119, 119, 119, 119, 119, 119, 119, 119, 119, 119, 119, 119, 119, 119, 119, 119, 131, 119, 119, 119, 119, 119, 119, 119, 32, 32, 32, 32, 71, 90, 148, 148, 71, 90, 90, 131, 71, 119, 119, 119, 119, 119, 119, 119, 119, 131, 119, 70, 60, 60, 60, 88, 70, 88, 70, 88, 88, 60, 1, 60, 88, 88, 60, 32, 150, 60, 12, 88, 90, 148, 90, 15, 90, 90, 90, 70, 150, 150, 15, 15, 90, 131, 148, 88, 1, 1, 90, 90, 133, 71, 71, 26, 26, 133, 1, 1, 148, 148, 88, 70, 70, 133, 7, 90, 133, 71, 68, 68, 119, 60, 32, 32, 32, 32, 32, 90, 32, 32, 71, 131, 131, 90, 148, 32, 32, 48, 131, 131, 131, 17, 17, 17, 17, 17, 17, 17, 17, 17, 17, 15, 17, 17, 17, 17, 17, 17, 82, 17, 17, 17, 17, 17, 17, 17, 17, 17, 17, 17, 17, 17, 17, 17, 17, 17, 17, 17, 17, 17, 17, 17, 17, 17, 17, 17, 17, 17, 17, 17, 17, 17, 17, 17, 17, 17, 17, 17, 17, 17, 17, 17, 17, 17, 71, 148, 90, 71, 90, 68, 71, 71, 148, 131, 150, 32, 32, 32, 32, 148, 32, 32, 70, 60, 32, 150, 88, 88, 88, 26, 1, 1, 26, 150, 48, 48, 48, 90, 26, 131, 26, 32, 148, 148, 32, 32, 60, 71, 32, 26, 70, 121, 121, 121, 15, 121, 130, 130, 15, 121, 121, 121, 121, 121, 60, 121, 121, 121, 121, 121, 131, 121, 131, 121, 121, 121, 131, 121, 68, 121, 121, 121, 121, 121, 121, 121, 121, 121, 121, 121, 121, 121, 130, 130, 130, 121, 130, 60, 121, 121, 131, 121, 121, 121, 121, 121, 130, 130, 121, 121, 130, 130, 121, 121, 121, 121, 60, 60, 60, 60, 121, 121, 130, 130, 121, 130, 130, 121, 121, 121, 121, 121, 121, 121, 121, 130, 121, 15, 121, 121, 130, 130, 131, 15, 121, 121, 12, 1, 1, 1, 1, 1, 60, 1, 1, 60, 1, 70, 48, 1, 1, 1, 70, 12, 70, 70, 12, 133, 150, 150, 1, 1, 1, 1, 15, 60, 60, 71, 32, 90, 71, 150, 71, 60, 90, 7, 32, 71, 90, 71, 71, 32, 71, 150, 148, 71, 60, 12, 12, 12, 55, 12, 12, 60, 150, 131, 131, 131, 131, 131, 61, 61, 61, 70, 60, 60, 48, 60, 48, 70, 60, 131, 68, 68, 71, 133, 148, 90, 148, 55, 148, 55, 55, 55, 55, 55, 55, 12, 68, 131, 150, 150, 150, 133, 133, 133, 61, 133, 131, 32, 60, 70, 60, 131, 131, 131, 60, 150, 150, 150, 150, 150, 133, 150, 133, 90, 71, 133, 133, 133, 131, 131, 131, 48, 90, 90, 15, 71, 133, 133, 45, 67, 67, 67, 67, 133, 133, 90, 12, 48, 60, 90, 68, 90, 90, 150, 26, 71, 131, 133, 35, 131, 131, 71, 70, 55, 70, 70, 148, 15, 131, 12, 71, 131, 71, 68, 90, 133, 90, 131, 70, 70, 68, 68, 90, 150, 150, 150, 150, 150, 71, 131, 90, 71, 71, 90, 131, 82, 63, 63, 63, 15, 67, 131, 150, 131, 133, 148, 90, 90, 78, 71, 71, 15, 148, 131, 90, 148, 148, 133, 148, 148, 148, 67, 148, 131, 90, 131, 68, 150, 90, 32, 90, 32, 60, 148, 133, 55, 55, 55, 55, 55, 71, 71, 133, 133, 15, 71, 71, 150, 148, 70, 70, 90, 148, 15, 90, 12, 60, 60, 12, 70, 133, 61, 63, 71, 148, 71, 90, 55, 55, 70, 133, 150, 55, 131, 131, 131, 90, 133, 82, 133, 70, 12, 133, 148, 148, 148, 70, 150, 55, 55, 70, 90, 90, 148, 131, 131, 71, 90, 90, 55, 90, 148, 148, 90, 148, 71, 70, 55, 55, 90, 131, 131, 133, 70, 15, 70, 71, 133, 133, 133, 70, 131, 13, 13, 131, 13, 13, 60, 13, 13, 13, 13, 131, 131, 131, 13, 131, 71, 13, 13, 131, 13, 131, 131, 71, 70, 13, 133, 12, 60, 13, 13, 13, 13, 13, 13, 13, 13, 90, 13, 13, 13, 13, 13, 13, 13, 13, 13, 13, 71, 13, 131, 13, 13, 131, 13, 48, 13, 13, 13, 13, 13, 12, 12, 13, 148, 93, 93, 131, 93, 13, 13, 93, 93, 93, 93, 13, 13, 13, 71, 13, 13, 13, 13, 13, 13, 13, 13, 13, 13, 93, 93, 13, 93, 93, 13, 13, 13, 13, 13, 13, 93, 93, 60, 13, 13, 13, 133, 48, 13, 60, 48, 131, 131, 68, 90, 15, 13, 13, 93, 93, 13, 13, 131, 93, 131, 13, 93, 13, 93, 93, 13, 13, 93, 93, 13, 13, 13, 93, 13, 13, 13, 13, 71, 13, 13, 148, 71, 93, 90, 13, 13, 13, 13, 13, 13, 13, 93, 93, 90, 90, 13, 13, 13, 13, 93, 13, 13, 13, 93, 13, 13, 13, 71, 13, 13, 93, 13, 93, 13, 13, 13, 13, 13, 13, 13, 13, 13, 93, 13, 13, 13, 90, 13, 60, 13, 60, 13, 60, 12, 13, 93, 13, 13, 13, 93, 90, 13, 13, 13, 70, 13, 13, 93, 13, 93, 68, 131, 13, 148, 13, 12, 93, 13, 93, 93, 93, 93, 13, 13, 93, 13, 93, 13, 13, 13, 13, 13, 13, 13, 93, 93, 13, 13, 13, 71, 93, 90, 13, 13, 90, 13, 93, 13, 93, 13, 13, 13, 93, 93, 13, 93, 93, 93, 93, 93, 93, 13, 131, 131, 13, 93, 13, 13, 13, 13, 93, 13, 13, 93, 13, 13, 93, 93, 13, 93, 13, 13, 90, 13, 13, 93, 13, 13, 13, 90, 13, 13, 93, 13, 93, 13, 131, 13, 13, 13, 13, 13, 60, 131, 131, 93, 93, 13, 131, 131, 93, 13, 13, 13, 13, 13, 13, 93, 93, 13, 13, 13, 13, 13, 93, 26, 15, 15, 60, 60, 15, 71, 32, 150, 60, 60, 150, 71, 60, 150, 60, 150, 131, 150, 150, 150, 71, 150, 150, 1, 35, 1, 131, 71, 35, 35, 35, 35, 35, 71, 71, 32, 131, 12, 90, 71, 71, 71, 90, 150, 90, 71, 71, 71, 60, 60, 60, 15, 70, 60, 67, 131, 131, 90, 79, 79, 79, 79, 79, 71, 71, 90, 90, 131, 70, 71, 90, 150, 71, 79, 71, 82, 71, 71, 90, 148, 148, 148, 148, 90, 71, 70, 90, 71, 131, 90, 70, 70, 12, 1, 1, 1, 12, 148, 1, 12, 1, 1, 12, 148, 90, 148, 150, 150, 148, 148, 150, 88, 88, 88, 88, 7, 60, 1, 70, 55, 70, 1, 55, 88, 1, 60, 60, 71, 71, 150, 150, 150, 150, 150, 150, 150, 148, 148, 150, 148, 150, 150, 148, 150, 55, 150, 60, 150, 150, 150, 150, 150, 150, 150, 150, 15, 1, 12, 1, 60, 150, 148, 150, 148, 71, 150, 88, 88, 88, 88, 88, 88, 88, 88, 88, 88, 88, 88, 88, 88, 88, 88, 88, 88, 88, 88, 88, 88, 88, 89, 88, 15, 150, 133, 133, 88, 88, 133, 60, 1, 60, 60, 60, 60, 1, 1, 1, 55, 55, 55, 55, 150, 150, 150, 148, 148, 150, 148, 15, 12, 12, 12, 150, 150, 150, 71, 71, 71, 131, 148, 150, 88, 88, 88, 88, 150, 15, 131, 70, 71, 150, 148, 88, 150, 68, 148, 90, 150, 148, 35, 7, 1, 148, 150, 68, 150, 90, 90, 150, 15, 150, 15, 55, 148, 148, 150, 148, 148, 148, 148, 148, 88, 15, 150, 150, 70, 150, 150, 148, 150, 150, 150, 90, 90, 1, 88, 88, 7, 150, 148, 150, 88, 12, 60, 150, 12, 12, 60, 1, 48, 1, 150, 88, 150, 90, 7, 55, 12, 88, 150, 148, 148, 148, 150, 148, 148, 148, 148, 148, 12, 7, 71, 48, 12, 150, 7, 71, 150, 88, 150, 150, 150, 150, 88, 148, 88, 88, 150, 150, 150, 150, 148, 150, 150, 148, 148, 148, 88, 148, 150, 131, 150, 150, 88, 90, 90, 148, 148, 148, 71, 150, 7, 150, 150, 90, 148, 148, 150, 150, 150, 148, 150, 150, 150, 90, 90, 90, 90, 148, 150, 70, 55, 55, 150, 90, 70, 148, 148, 88, 148, 148, 150, 148, 148, 148, 150, 90, 148, 150, 148, 7, 88, 15, 32, 32, 32, 32, 32, 15, 15, 32, 150, 90, 32, 90, 90, 15, 67, 71, 148, 148, 131]\n",
            "Means: [array([ 0.01691471,  0.22959915,  0.09986112, ..., -0.19476238,\n",
            "       -0.08645335, -0.05302012], dtype=float32), array([-0.03381903,  0.20577201,  0.06625111, ...,  0.00493885,\n",
            "       -0.08060006, -0.0213325 ], dtype=float32), array([ 0.07533275,  0.2971288 ,  0.07720171, ..., -0.09875718,\n",
            "        0.10000446, -0.24494149], dtype=float32), array([ 0.08920935,  0.14249517,  0.04204613, ..., -0.07790745,\n",
            "       -0.10721473, -0.0019673 ], dtype=float32), array([ 0.03823048,  0.1252123 , -0.08627135, ..., -0.10353951,\n",
            "       -0.13315605,  0.05381132], dtype=float32), array([0.06317381, 0.18290575, 0.03679291, ..., 0.11571398, 0.01496886,\n",
            "       0.2230747 ], dtype=float32), array([ 0.09730443,  0.10860015,  0.0241749 , ..., -0.06410338,\n",
            "        0.03645408,  0.15061411], dtype=float32), array([ 0.01091797,  0.10484979, -0.02298995, ..., -0.07778811,\n",
            "       -0.0842841 ,  0.01254797], dtype=float32), array([ 0.05294321,  0.20317711, -0.02606358, ..., -0.05593429,\n",
            "       -0.13431332, -0.03390468], dtype=float32), array([ 0.04289639, -0.03063119,  0.03488513, ..., -0.23261662,\n",
            "       -0.11240099,  0.10074653], dtype=float32), array([ 0.12121698,  0.11391934, -0.14820813, ...,  0.1147071 ,\n",
            "       -0.26819658, -0.37998354], dtype=float32), array([-0.02179424,  0.08701043, -0.05771542, ..., -0.14207897,\n",
            "       -0.0798808 ,  0.06055513], dtype=float32), array([-0.02800906,  0.26231372,  0.02816181, ..., -0.05080489,\n",
            "       -0.11791391, -0.04200672], dtype=float32), array([ 0.07378183,  0.22274417, -0.0269677 , ..., -0.11112234,\n",
            "       -0.11693598,  0.04797623], dtype=float32), array([ 0.00689951,  0.14287193, -0.04033327, ...,  0.00327906,\n",
            "        0.03038316,  0.21709019], dtype=float32), array([ 0.06108629,  0.18388185, -0.02517333, ..., -0.04379774,\n",
            "       -0.04947042,  0.09483794], dtype=float32), array([ 0.01152545,  0.11850499,  0.092791  , ..., -0.03268146,\n",
            "       -0.07598093,  0.15926586], dtype=float32), array([ 0.12160971,  0.1922591 ,  0.01052192, ..., -0.04199735,\n",
            "       -0.01798351, -0.04406611], dtype=float32), array([ 0.0729961 ,  0.14917685,  0.13858773, ...,  0.02963234,\n",
            "       -0.1392481 ,  0.12199556], dtype=float32), array([ 0.19890639,  0.06036688, -0.04892094, ..., -0.12256604,\n",
            "       -0.03386872,  0.00096627], dtype=float32), array([ 0.1181637 ,  0.2029837 , -0.17243406, ..., -0.15573457,\n",
            "       -0.01968059, -0.24563332], dtype=float32), array([ 0.04019807,  0.22716944,  0.05139852, ..., -0.14333275,\n",
            "       -0.03126736, -0.01322401], dtype=float32), array([ 0.07530975,  0.2837207 ,  0.01503547, ...,  0.03059081,\n",
            "       -0.04730592,  0.19690813], dtype=float32), array([-0.03624595,  0.11099067, -0.02762993, ..., -0.051183  ,\n",
            "       -0.12035906,  0.1950451 ], dtype=float32), array([ 0.09314749,  0.13634811, -0.06073843, ..., -0.12152153,\n",
            "       -0.01199386,  0.01656834], dtype=float32), array([-0.08078501,  0.19204591,  0.2183987 , ..., -0.02450609,\n",
            "        0.08654789,  0.16080973], dtype=float32), array([ 0.07584788,  0.09753211, -0.01040774, ..., -0.02337895,\n",
            "       -0.06025522,  0.12136225], dtype=float32), array([ 0.00845058,  0.03115655, -0.20561112, ...,  0.17800634,\n",
            "       -0.13365258, -0.22609156], dtype=float32), array([ 0.01725814,  0.05210435,  0.04629288, ..., -0.27060956,\n",
            "       -0.03043368, -0.04891924], dtype=float32), array([ 0.04438241,  0.11644857, -0.23878714, ...,  0.16790155,\n",
            "       -0.09464013, -0.14170694], dtype=float32), array([ 0.0103524 ,  0.23189647, -0.04838577, ...,  0.08024488,\n",
            "       -0.15725991, -0.17568871], dtype=float32), array([ 0.08269979,  0.26463878, -0.06222932, ..., -0.11359392,\n",
            "       -0.02641499, -0.09328406], dtype=float32), array([ 0.05530193,  0.13005218,  0.00877017, ..., -0.07728003,\n",
            "       -0.04472475,  0.05235125], dtype=float32), array([ 0.13952096,  0.17941959, -0.07123151, ...,  0.00146848,\n",
            "       -0.04576049,  0.08251977], dtype=float32), array([ 0.09417997,  0.02747502,  0.15030997, ...,  0.05460186,\n",
            "       -0.05388589, -0.12869586], dtype=float32), array([ 0.01102447,  0.21758462,  0.03623811, ..., -0.12465109,\n",
            "       -0.14872986, -0.06119571], dtype=float32), array([ 0.06345256,  0.18639375,  0.00535283, ..., -0.00035833,\n",
            "       -0.13373084,  0.14198422], dtype=float32), array([-0.01550276,  0.10138876, -0.03624387, ..., -0.07783764,\n",
            "       -0.05817406,  0.06978747], dtype=float32), array([ 0.09930522,  0.11143801,  0.0503277 , ..., -0.01146798,\n",
            "       -0.03910242,  0.10637371], dtype=float32), array([ 0.08685107,  0.18971615, -0.10218116, ..., -0.1831826 ,\n",
            "       -0.27499124, -0.1867451 ], dtype=float32), array([-0.03844946,  0.14107387,  0.05062687, ..., -0.1035729 ,\n",
            "       -0.06056548, -0.18190448], dtype=float32), array([ 0.13072108,  0.1956976 ,  0.1634404 , ..., -0.1078897 ,\n",
            "       -0.3789365 ,  0.06087195], dtype=float32), array([ 0.01305883,  0.13999306, -0.2973706 , ...,  0.17986512,\n",
            "       -0.09803154, -0.02883914], dtype=float32), array([ 0.02770051,  0.16494927, -0.2339818 , ...,  0.13622013,\n",
            "       -0.08631303,  0.00793414], dtype=float32), array([ 0.07549553, -0.00605052, -0.07622964, ..., -0.20343798,\n",
            "       -0.02492726, -0.00020642], dtype=float32), array([ 0.06248933,  0.16136271, -0.0340708 , ..., -0.04582406,\n",
            "        0.02718066,  0.21482635], dtype=float32), array([ 0.05932604,  0.3855    , -0.07920939, ...,  0.01496658,\n",
            "       -0.05825801,  0.03199713], dtype=float32), array([-0.01244044,  0.11175274, -0.21257542, ...,  0.18844385,\n",
            "       -0.12619288, -0.08652657], dtype=float32), array([-0.02805935,  0.12562516,  0.01655399, ..., -0.20525664,\n",
            "       -0.10302453, -0.08598234], dtype=float32), array([-0.00724594,  0.18464395, -0.11922468, ...,  0.14961019,\n",
            "       -0.1522803 , -0.18704095], dtype=float32), array([ 0.0339033 ,  0.09333806, -0.01625407, ...,  0.02976948,\n",
            "       -0.09228687,  0.04567348], dtype=float32), array([ 0.02373973,  0.13066441, -0.29826686, ...,  0.14826666,\n",
            "       -0.09284145, -0.03368694], dtype=float32), array([ 0.05142972,  0.31107676, -0.22295797, ..., -0.05308238,\n",
            "       -0.15438321,  0.14112267], dtype=float32), array([ 0.09564334,  0.08624015,  0.08144157, ..., -0.13273741,\n",
            "       -0.09649473,  0.07160868], dtype=float32), array([-0.00841652,  0.12828326, -0.29973546, ..., -0.06608091,\n",
            "       -0.00714991, -0.00148755], dtype=float32), array([ 0.04683425,  0.26397842, -0.05231464, ..., -0.06293758,\n",
            "       -0.0122038 ,  0.05930853], dtype=float32), array([ 0.02854428,  0.18806358, -0.02888035, ..., -0.04449413,\n",
            "       -0.03526165,  0.07220446], dtype=float32), array([-0.00024639,  0.23197156, -0.20487511, ...,  0.15615888,\n",
            "       -0.16078925, -0.0776706 ], dtype=float32), array([-0.1014416 ,  0.20151162, -0.158367  , ..., -0.06893245,\n",
            "       -0.07304883,  0.11610109], dtype=float32), array([ 0.02815786,  0.10599878, -0.12027106, ...,  0.01106821,\n",
            "       -0.15445773,  0.0966112 ], dtype=float32), array([-0.01402603,  0.20016569,  0.04092134, ..., -0.14284751,\n",
            "       -0.10324178, -0.02219592], dtype=float32), array([ 0.01959127,  0.2182924 ,  0.04303098, ..., -0.04903161,\n",
            "       -0.09922723,  0.05206914], dtype=float32), array([ 0.12641203,  0.16279282, -0.11408583, ..., -0.02015147,\n",
            "       -0.01768282, -0.07364243], dtype=float32), array([ 0.06505454,  0.18235922, -0.01144987, ...,  0.01892804,\n",
            "        0.08307698,  0.29075176], dtype=float32), array([ 0.06051692, -0.00659552, -0.07610565, ..., -0.10515563,\n",
            "       -0.01508812, -0.01934156], dtype=float32), array([ 0.01929563,  0.14713156, -0.21054122, ..., -0.06675212,\n",
            "       -0.0442977 ,  0.06374321], dtype=float32), array([ 0.11135899,  0.24078871, -0.07159044, ..., -0.06545594,\n",
            "       -0.07008552, -0.11396614], dtype=float32), array([ 0.07581829,  0.1676732 , -0.00284737, ..., -0.05387728,\n",
            "       -0.01851924,  0.15166107], dtype=float32), array([ 0.04129595,  0.13924973,  0.04296038, ..., -0.04960095,\n",
            "        0.01846312,  0.10127168], dtype=float32), array([-0.00428168,  0.11341409, -0.3143891 , ...,  0.19706285,\n",
            "       -0.09698172, -0.07255579], dtype=float32), array([ 0.02372218,  0.21532863,  0.01063983, ..., -0.03530927,\n",
            "       -0.06946303,  0.04547183], dtype=float32), array([ 0.05579813,  0.06934477, -0.05405735, ..., -0.08565981,\n",
            "       -0.06919564,  0.04934876], dtype=float32), array([ 0.10769959,  0.0846648 ,  0.10641988, ..., -0.08245899,\n",
            "       -0.12385135,  0.02525116], dtype=float32), array([-0.129655  ,  0.05785755, -0.00685541, ..., -0.25722685,\n",
            "       -0.1044533 , -0.10508802], dtype=float32), array([-0.01760833,  0.11754462, -0.30795214, ...,  0.19718805,\n",
            "       -0.07982273,  0.00480942], dtype=float32), array([-0.0950422 ,  0.14308715, -0.02846831, ..., -0.11791594,\n",
            "       -0.16558205, -0.05171905], dtype=float32), array([ 0.00329793,  0.21873277,  0.30072242, ..., -0.06342381,\n",
            "       -0.0168971 ,  0.16418874], dtype=float32), array([ 0.03202115,  0.25557604, -0.09319498, ..., -0.01467296,\n",
            "       -0.01045169,  0.287005  ], dtype=float32), array([-0.01627703,  0.125995  ,  0.01317987, ..., -0.16282114,\n",
            "       -0.09633227, -0.09527481], dtype=float32), array([ 0.09451286,  0.09565324, -0.0040621 , ..., -0.03043849,\n",
            "       -0.0190414 ,  0.18233009], dtype=float32), array([ 0.00332853,  0.08820142, -0.03303839, ..., -0.14109471,\n",
            "       -0.11540181, -0.03999962], dtype=float32), array([ 0.00527338,  0.22045481,  0.00254457, ..., -0.04815799,\n",
            "       -0.08840173, -0.03589234], dtype=float32), array([ 0.0863486 ,  0.14499646, -0.0540915 , ..., -0.02739068,\n",
            "        0.06287467,  0.18764   ], dtype=float32), array([ 0.10047176,  0.08064079,  0.05413323, ..., -0.09239481,\n",
            "       -0.07824431, -0.01148058], dtype=float32), array([ 0.00424871,  0.04495421, -0.08569639, ..., -0.02479526,\n",
            "        0.05767285, -0.04356536], dtype=float32), array([ 0.10338873,  0.20509648,  0.06762824, ..., -0.01692726,\n",
            "        0.00808962,  0.141115  ], dtype=float32), array([-0.00608737,  0.18842505, -0.15503702, ..., -0.0357842 ,\n",
            "       -0.12213261,  0.23514405], dtype=float32), array([ 0.09602944,  0.04224022, -0.0201124 , ..., -0.04356712,\n",
            "        0.07198228,  0.04104576], dtype=float32), array([ 0.01806371,  0.17726755,  0.00223917, ..., -0.01377902,\n",
            "       -0.06526538,  0.08158158], dtype=float32), array([ 0.05877677,  0.14637086, -0.05367596, ...,  0.00409331,\n",
            "       -0.03239238,  0.17059334], dtype=float32), array([ 0.06193763,  0.12723804, -0.06098372, ..., -0.06800684,\n",
            "       -0.05261265,  0.05120941], dtype=float32), array([ 0.09109319,  0.15938671, -0.14997868, ..., -0.03884764,\n",
            "        0.08826802,  0.05211028], dtype=float32), array([ 0.01213359,  0.15791442, -0.20573361, ...,  0.15563802,\n",
            "       -0.10685111, -0.13149892], dtype=float32), array([ 0.10695916,  0.15911955, -0.01432815, ..., -0.05069388,\n",
            "       -0.11431172,  0.01004053], dtype=float32), array([ 0.03330501,  0.13181198, -0.29608816, ...,  0.16380134,\n",
            "       -0.12929586, -0.02918823], dtype=float32), array([ 0.05346109,  0.1453038 , -0.16263475, ...,  0.1364075 ,\n",
            "       -0.15599142, -0.15987888], dtype=float32), array([-0.05881017,  0.22917193, -0.04146229, ..., -0.10842802,\n",
            "       -0.09381053, -0.03146718], dtype=float32), array([-0.01548843,  0.20571274,  0.04995195, ..., -0.14922547,\n",
            "       -0.12921555, -0.1900383 ], dtype=float32), array([ 0.00156676,  0.31680304, -0.05970955, ...,  0.01014251,\n",
            "       -0.10953462, -0.12880215], dtype=float32), array([ 0.03923558,  0.05565199, -0.02540726, ..., -0.04275758,\n",
            "        0.03911394,  0.12460277], dtype=float32), array([-0.02234137,  0.23112608, -0.03787581, ...,  0.0142856 ,\n",
            "       -0.03361576, -0.04199316], dtype=float32), array([ 0.10541371,  0.19192658,  0.0765672 , ..., -0.1723011 ,\n",
            "        0.05293582, -0.23803186], dtype=float32), array([ 0.06666914,  0.14143164,  0.05682436, ..., -0.10854007,\n",
            "       -0.10726888,  0.08565029], dtype=float32), array([ 0.05055729,  0.16956158,  0.06962395, ..., -0.02366795,\n",
            "       -0.06033568,  0.28775993], dtype=float32), array([ 0.10398258,  0.1327941 ,  0.15891835, ...,  0.05004349,\n",
            "       -0.25320238,  0.19446816], dtype=float32), array([-0.05626297,  0.11093716, -0.13577983, ..., -0.04384578,\n",
            "       -0.17471011,  0.25493172], dtype=float32), array([ 0.11208516, -0.02278021, -0.20060246, ..., -0.04682609,\n",
            "       -0.31114775, -0.46003503], dtype=float32), array([ 0.03245396,  0.08047096, -0.13137637, ..., -0.12873565,\n",
            "       -0.15201324, -0.07860485], dtype=float32), array([ 0.05864734,  0.10464673, -0.08892701, ..., -0.05002394,\n",
            "        0.01129294,  0.06162145], dtype=float32), array([ 0.13924189,  0.02234448,  0.00947889, ...,  0.055562  ,\n",
            "       -0.0510194 , -0.06132758], dtype=float32), array([ 0.10912856,  0.313921  , -0.05069543, ...,  0.0999836 ,\n",
            "       -0.18040396,  0.169804  ], dtype=float32), array([-0.04933918,  0.23015374, -0.02408036, ..., -0.0524571 ,\n",
            "       -0.15514646, -0.059533  ], dtype=float32), array([-0.02978403,  0.26222077,  0.03706584, ...,  0.04888621,\n",
            "       -0.14630523, -0.05846529], dtype=float32), array([-0.03117957,  0.21133627, -0.08077146, ..., -0.03355438,\n",
            "       -0.12894857,  0.02971611], dtype=float32), array([ 0.02397678,  0.22296515,  0.0058058 , ..., -0.04444569,\n",
            "       -0.02113132, -0.00625801], dtype=float32), array([-0.00045581,  0.22010915, -0.10805175, ...,  0.13796069,\n",
            "       -0.11884569, -0.121366  ], dtype=float32), array([ 0.05751054,  0.09730946,  0.0664826 , ...,  0.02606506,\n",
            "       -0.075135  ,  0.10068236], dtype=float32), array([-0.02826517,  0.22059533, -0.04647519, ..., -0.03915183,\n",
            "       -0.00685575,  0.09597778], dtype=float32), array([ 0.09259872,  0.18761747, -0.07857447, ..., -0.14381573,\n",
            "       -0.15811531,  0.12426265], dtype=float32), array([ 0.06718773,  0.17847383, -0.0376572 , ..., -0.13761619,\n",
            "       -0.13033925,  0.05168656], dtype=float32), array([-0.13467261,  0.13994737,  0.08999201, ..., -0.01298056,\n",
            "       -0.1569508 ,  0.03150755], dtype=float32), array([-0.05086879,  0.15541393, -0.08574525, ..., -0.06318297,\n",
            "        0.01682136, -0.02357924], dtype=float32), array([ 0.01814956,  0.12370154, -0.1927784 , ...,  0.17866458,\n",
            "       -0.12824488, -0.12381866], dtype=float32), array([ 0.04952036,  0.14264135, -0.01699089, ..., -0.11165078,\n",
            "       -0.03562852,  0.02266859], dtype=float32), array([ 0.07558206,  0.2684692 ,  0.01955431, ..., -0.0874501 ,\n",
            "       -0.10179638,  0.05870837], dtype=float32), array([ 0.03006295,  0.38549832,  0.13496043, ..., -0.0346404 ,\n",
            "       -0.11625624, -0.07203846], dtype=float32), array([ 0.00043332,  0.14618154,  0.03416837, ..., -0.04805673,\n",
            "       -0.01938575,  0.04790755], dtype=float32), array([-0.06011335,  0.10576256,  0.03011491, ...,  0.02095991,\n",
            "       -0.18596563, -0.04861516], dtype=float32), array([ 0.03404485,  0.13341412, -0.23218267, ...,  0.13289835,\n",
            "       -0.11508566, -0.1064978 ], dtype=float32), array([ 0.06305084,  0.23696359, -0.11773543, ...,  0.06652585,\n",
            "       -0.07602683,  0.09013738], dtype=float32), array([ 0.02379034,  0.11856278, -0.05518717, ..., -0.05977701,\n",
            "        0.01232281, -0.09296872], dtype=float32), array([ 0.01713216,  0.15297563,  0.05462283, ..., -0.05158805,\n",
            "       -0.01260889,  0.0669185 ], dtype=float32), array([-0.10449664,  0.17517085, -0.04684592, ..., -0.10896067,\n",
            "       -0.08896597, -0.08672869], dtype=float32), array([ 0.0210853 ,  0.17442513,  0.02742486, ..., -0.04352652,\n",
            "       -0.12407046,  0.07061834], dtype=float32), array([ 0.05168856,  0.21677251, -0.05815699, ..., -0.01362995,\n",
            "       -0.03995469, -0.02789282], dtype=float32), array([-0.03931287,  0.1921889 , -0.02502199, ..., -0.12943618,\n",
            "       -0.12230758,  0.01598271], dtype=float32), array([ 0.00970642,  0.07833995, -0.19734159, ...,  0.16582702,\n",
            "       -0.131855  , -0.1802455 ], dtype=float32), array([-0.02834741,  0.16400257,  0.00670133, ...,  0.01484603,\n",
            "        0.04934466,  0.0824561 ], dtype=float32), array([ 0.06381187,  0.15853171, -0.03760979, ..., -0.02471459,\n",
            "        0.01762472,  0.2264659 ], dtype=float32), array([ 0.01037959,  0.01301983,  0.05372601, ..., -0.0799045 ,\n",
            "       -0.24267632,  0.08767235], dtype=float32), array([0.10194025, 0.10818812, 0.0324384 , ..., 0.00123994, 0.05131942,\n",
            "       0.2126166 ], dtype=float32), array([ 0.03535243,  0.2001566 , -0.16668117, ...,  0.114448  ,\n",
            "       -0.02989615,  0.09997037], dtype=float32), array([ 0.06352913,  0.20546293, -0.03023854, ..., -0.07759645,\n",
            "        0.01446333, -0.01540237], dtype=float32), array([ 0.09523184,  0.15323368,  0.13941215, ...,  0.05327667,\n",
            "       -0.26800454,  0.16541423], dtype=float32), array([-0.03011224,  0.26975846, -0.12133743, ...,  0.07791416,\n",
            "       -0.10581377, -0.04677651], dtype=float32), array([ 0.03911042,  0.09460282,  0.04410259, ..., -0.07110089,\n",
            "       -0.08133138,  0.12011196], dtype=float32), array([-0.03513842,  0.19580549,  0.17078428, ..., -0.08315346,\n",
            "       -0.06479964,  0.21355182], dtype=float32), array([-0.0631258 ,  0.02283316, -0.10236634, ..., -0.07262296,\n",
            "        0.10065379, -0.11640763], dtype=float32), array([ 0.03034743,  0.14933433,  0.01167465, ..., -0.05239306,\n",
            "       -0.04105591,  0.06881055], dtype=float32), array([-0.00823135,  0.23697232, -0.09041184, ..., -0.06408232,\n",
            "       -0.09398868,  0.0402201 ], dtype=float32), array([ 0.03585272,  0.14765006, -0.04077084, ..., -0.08007048,\n",
            "       -0.07792396,  0.01876064], dtype=float32), array([ 0.017838  ,  0.17760067,  0.00453714, ..., -0.25185272,\n",
            "       -0.02030185, -0.11346406], dtype=float32), array([ 0.12845309,  0.0771209 ,  0.01528145, ..., -0.04138822,\n",
            "       -0.21251562,  0.11034361], dtype=float32)]\n",
            "\n",
            "Time elapsed: 2039.0462653636932 seconds\n"
          ]
        }
      ]
    },
    {
      "cell_type": "code",
      "source": [
        "# help(KMeansClusterer)"
      ],
      "metadata": {
        "id": "E6gxBaLXXWVe"
      },
      "execution_count": null,
      "outputs": []
    },
    {
      "cell_type": "code",
      "source": [
        "len(clusters)"
      ],
      "metadata": {
        "colab": {
          "base_uri": "https://localhost:8080/"
        },
        "id": "PDNXBnaTXrhe",
        "outputId": "dd8c8762-1411-422f-9a66-fd1ea2baf048"
      },
      "execution_count": null,
      "outputs": [
        {
          "output_type": "execute_result",
          "data": {
            "text/plain": [
              "23000"
            ]
          },
          "metadata": {},
          "execution_count": 35
        }
      ]
    },
    {
      "cell_type": "code",
      "source": [
        ""
      ],
      "metadata": {
        "id": "qz_ADv_hyIPF"
      },
      "execution_count": null,
      "outputs": []
    }
  ],
  "metadata": {
    "colab": {
      "machine_shape": "hm",
      "name": "Clustering-kmeans-HC.ipynb",
      "provenance": [],
      "authorship_tag": "ABX9TyMHq+uHsZp2Idf85ndW4wm/",
      "include_colab_link": true
    },
    "gpuClass": "standard",
    "kernelspec": {
      "display_name": "Python 3",
      "name": "python3"
    },
    "language_info": {
      "name": "python"
    },
    "accelerator": "GPU"
  },
  "nbformat": 4,
  "nbformat_minor": 0
}