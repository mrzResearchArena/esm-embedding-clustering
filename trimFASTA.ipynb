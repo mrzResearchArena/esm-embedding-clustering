{
 "cells": [
  {
   "cell_type": "code",
   "execution_count": 69,
   "id": "9ddf4d62-4ff7-4393-9187-e0e909610783",
   "metadata": {},
   "outputs": [],
   "source": [
    "import esm\n",
    "import torch"
   ]
  },
  {
   "cell_type": "code",
   "execution_count": 70,
   "id": "2eb47f59-975e-47a3-9703-5909d5ce2693",
   "metadata": {},
   "outputs": [],
   "source": [
    "dataset = '/home/rafsanjani/backup-research/esm/astral-SCOPe-original.fa'"
   ]
  },
  {
   "cell_type": "code",
   "execution_count": 71,
   "id": "52131395-3a4a-462c-91e3-6b0c935e1a67",
   "metadata": {},
   "outputs": [],
   "source": [
    "# C=1\n",
    "# d = {}\n",
    "# for header, sequence in esm.data.read_fasta(dataset):\n",
    "#     if len(sequence) > 1000:\n",
    "#         print(len(sequence))"
   ]
  },
  {
   "cell_type": "code",
   "execution_count": 72,
   "id": "6fbf3b1d-0c2a-4f71-a975-4f9707f85337",
   "metadata": {},
   "outputs": [],
   "source": [
    "C=1\n",
    "d = {}\n",
    "for header, sequence in esm.data.read_fasta(dataset):\n",
    "    v = '.'.join(header.split()[1].split('.')[0:-1])\n",
    "    \n",
    "    if v not in d:\n",
    "        d[v] = 1\n",
    "    else:\n",
    "        d[v] += 1\n",
    "    # print(header)\n",
    "    # if C==10: break\n",
    "    # C+=1"
   ]
  },
  {
   "cell_type": "code",
   "execution_count": 73,
   "id": "e2188785-eca8-4ef6-b828-67c0a6e8f502",
   "metadata": {},
   "outputs": [],
   "source": [
    "# esm.data.read_fasta(dataset)"
   ]
  },
  {
   "cell_type": "code",
   "execution_count": 74,
   "id": "5a6765c5-c9e7-4562-abb6-a646f0b95e21",
   "metadata": {},
   "outputs": [],
   "source": [
    "d  = dict(sorted(d.items(), key=lambda item: item[1], reverse=True))"
   ]
  },
  {
   "cell_type": "code",
   "execution_count": 75,
   "id": "576f6cbd-7618-4102-8d60-71ae936c600f",
   "metadata": {},
   "outputs": [],
   "source": [
    "dkeys = list(d.keys())[:192]"
   ]
  },
  {
   "cell_type": "code",
   "execution_count": 76,
   "id": "0efc3ce5-08f9-4492-afb9-bd9ef80e27f5",
   "metadata": {},
   "outputs": [
    {
     "data": {
      "text/plain": [
       "192"
      ]
     },
     "execution_count": 76,
     "metadata": {},
     "output_type": "execute_result"
    }
   ],
   "source": [
    "len(dkeys)"
   ]
  },
  {
   "cell_type": "code",
   "execution_count": 78,
   "id": "0f80a7d3-12b5-42e7-a7cf-b0f3c26ae85e",
   "metadata": {},
   "outputs": [],
   "source": [
    "# dkeys # ['b.1.1', 'c.37.1', 'c.2.1', 'c.47.1',...]"
   ]
  },
  {
   "cell_type": "code",
   "execution_count": 79,
   "id": "88037021-4aab-4f84-9090-c7317c366a87",
   "metadata": {},
   "outputs": [],
   "source": [
    "# c=0\n",
    "# accept = []\n",
    "# reject = []\n",
    "verdicts = []\n",
    "for header, sequence in esm.data.read_fasta(dataset):\n",
    "    v = '.'.join(header.split()[1].split('.')[0:-1])\n",
    "    if v in dkeys:\n",
    "        verdicts.append(True)\n",
    "    else:\n",
    "        verdicts.append(False)\n",
    "    # if c==10: break\n",
    "    # c+=1"
   ]
  },
  {
   "cell_type": "code",
   "execution_count": 80,
   "id": "79204ff6-939f-4eb1-af83-ccfef1488539",
   "metadata": {},
   "outputs": [],
   "source": [
    "# verdicts"
   ]
  },
  {
   "cell_type": "code",
   "execution_count": 82,
   "id": "349b6523-9c75-403c-a1f2-040fc3f7586a",
   "metadata": {},
   "outputs": [
    {
     "data": {
      "text/plain": [
       "24578"
      ]
     },
     "execution_count": 82,
     "metadata": {},
     "output_type": "execute_result"
    }
   ],
   "source": [
    "sum(verdicts)"
   ]
  },
  {
   "cell_type": "code",
   "execution_count": 83,
   "id": "d86b7888-226c-4372-86e8-d11be4c6bc36",
   "metadata": {},
   "outputs": [],
   "source": [
    "C=1\n",
    "file = open(file='astral-SCOPe-K192.fa', mode='w')\n",
    "for verdict, HC in zip(verdicts, esm.data.read_fasta(dataset)):\n",
    "    header = HC[0]\n",
    "    sequence = HC[1].upper()[:1022]\n",
    "    \n",
    "    header = header.split()\n",
    "    name = header[0]\n",
    "    superfamily = header[1]\n",
    "    \n",
    "    header = ' '.join([name, superfamily])\n",
    "    \n",
    "    if verdict == True:\n",
    "        file.write(f'{header}\\n')\n",
    "        file.write(f'{sequence}\\n')\n",
    "    else:\n",
    "        None\n",
    "\n",
    "    # if C==5: break\n",
    "    # C+=1\n",
    "#end-for\n",
    "file.close()"
   ]
  },
  {
   "cell_type": "code",
   "execution_count": null,
   "id": "a43582d4-f313-4f61-a94c-69bac5f3f615",
   "metadata": {},
   "outputs": [],
   "source": []
  }
 ],
 "metadata": {
  "kernelspec": {
   "display_name": "Python 3 (ipykernel)",
   "language": "python",
   "name": "python3"
  },
  "language_info": {
   "codemirror_mode": {
    "name": "ipython",
    "version": 3
   },
   "file_extension": ".py",
   "mimetype": "text/x-python",
   "name": "python",
   "nbconvert_exporter": "python",
   "pygments_lexer": "ipython3",
   "version": "3.7.13"
  }
 },
 "nbformat": 4,
 "nbformat_minor": 5
}
