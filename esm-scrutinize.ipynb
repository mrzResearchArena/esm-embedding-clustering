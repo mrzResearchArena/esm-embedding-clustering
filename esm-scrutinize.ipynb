{
 "cells": [
  {
   "cell_type": "code",
   "execution_count": 1,
   "metadata": {},
   "outputs": [],
   "source": [
    "# !python scripts/extract.py esm1b_t33_650M_UR50S examples/data/some_proteins.fasta examples/data/some_proteins_emb_esm1b/ \\\n",
    "#     --repr_layers 0 32 33 --include mean per_tok"
   ]
  },
  {
   "cell_type": "code",
   "execution_count": 2,
   "metadata": {},
   "outputs": [
    {
     "data": {
      "text/plain": [
       "'/home/rafsanjani/Dropbox/ABC-Research/Gail-Rosen/esm'"
      ]
     },
     "execution_count": 2,
     "metadata": {},
     "output_type": "execute_result"
    }
   ],
   "source": [
    "!pwd"
   ]
  },
  {
   "cell_type": "code",
   "execution_count": 3,
   "metadata": {},
   "outputs": [
    {
     "name": "stdout",
     "output_type": "stream",
     "text": [
      "astral-scopedom-seqres-all-2.08-stable.fa  examples\t   scripts\n",
      "CODE_OF_CONDUCT.rst\t\t\t   hubconf.py\t   setup.py\n",
      "CONTRIBUTING.md\t\t\t\t   LICENSE\t   tests\n",
      "esm\t\t\t\t\t   pyproject.toml\n",
      "esm-test.ipynb\t\t\t\t   README.md\n"
     ]
    }
   ],
   "source": [
    "!ls"
   ]
  },
  {
   "cell_type": "code",
   "execution_count": 5,
   "metadata": {},
   "outputs": [],
   "source": [
    "import esm"
   ]
  },
  {
   "cell_type": "code",
   "execution_count": 3,
   "metadata": {},
   "outputs": [],
   "source": [
    "datasetLocation = '/home/rafsanjani/Dropbox/ABC-Research/Gail-Rosen/esm/astral-scopedom-seqres-all-2.08-stable.fa'"
   ]
  },
  {
   "cell_type": "code",
   "execution_count": 37,
   "metadata": {},
   "outputs": [],
   "source": [
    "def check(x):\n",
    "    '''\n",
    "    :param x: a single sequence\n",
    "    :param elements: charater of DNA/RNA/PROT as a set elements\n",
    "    :return: ensure whether \"elements\" is superset or not\n",
    "    '''\n",
    "    \n",
    "    elements = set('ACDEFGHIKLMNPQRSTVWY')\n",
    "\n",
    "    x  = set(x)\n",
    "    if elements >= x:\n",
    "        return True\n",
    "    else:\n",
    "        return False\n",
    "    #end-if\n",
    "#end-def"
   ]
  },
  {
   "cell_type": "code",
   "execution_count": 28,
   "metadata": {},
   "outputs": [],
   "source": [
    "sample = 'SLTSJADKSHVRSIWSKAGGSAEEIGAEALGRMLESFPNTKTYFDHYADLSVSSAQVHTHGKKIIDALTTAVNHIDDITGALSSLSTLHAQTLRVDPANFKILSHTILVVLALYFPADFTPEVHLACDKFLANVSHALADNYR'"
   ]
  },
  {
   "cell_type": "code",
   "execution_count": 35,
   "metadata": {},
   "outputs": [
    {
     "name": "stdout",
     "output_type": "stream",
     "text": [
      "ABV\n"
     ]
    }
   ],
   "source": [
    "sample = 'XABV'\n",
    "print(sample.replace('X', ''))"
   ]
  },
  {
   "cell_type": "code",
   "execution_count": 29,
   "metadata": {},
   "outputs": [
    {
     "data": {
      "text/plain": [
       "False"
      ]
     },
     "execution_count": 29,
     "metadata": {},
     "output_type": "execute_result"
    }
   ],
   "source": [
    "check(sample)"
   ]
  },
  {
   "cell_type": "code",
   "execution_count": 53,
   "metadata": {},
   "outputs": [],
   "source": [
    "C=1\n",
    "for header, seq in esm.data.read_fasta(datasetLocation):\n",
    "    seq = seq.upper()\n",
    "    seq = seq.replace('B', '')\n",
    "    seq = seq.replace('O', '')\n",
    "    seq = seq.replace('J', '')\n",
    "    seq = seq.replace('U', '')\n",
    "    seq = seq.replace('X', '')\n",
    "    seq = seq.replace('Z', '')\n",
    "    \n",
    "    \n",
    "    \n",
    "    if check(seq) == False:\n",
    "        print(seq)\n",
    "        print()\n",
    "    \n",
    "    # if C==1100:\n",
    "    #     break\n",
    "    # C+=1\n",
    "    # print()"
   ]
  },
  {
   "cell_type": "code",
   "execution_count": 17,
   "metadata": {},
   "outputs": [],
   "source": [
    "C=1\n",
    "d = {}\n",
    "for header, seq in esm.data.read_fasta(datasetLocation):\n",
    "    v = '.'.join(header.split()[1].split('.')[0:-1])\n",
    "    \n",
    "    if v not in d:\n",
    "        d[v] = 1\n",
    "    else:\n",
    "        d[v] += 1 \n",
    "    # if C==11:\n",
    "    #     break\n",
    "    # C+=1\n",
    "    # print()"
   ]
  },
  {
   "cell_type": "code",
   "execution_count": 19,
   "metadata": {},
   "outputs": [
    {
     "data": {
      "text/plain": [
       "2065"
      ]
     },
     "execution_count": 19,
     "metadata": {},
     "output_type": "execute_result"
    }
   ],
   "source": [
    "len(d)"
   ]
  },
  {
   "cell_type": "code",
   "execution_count": 22,
   "metadata": {},
   "outputs": [
    {
     "data": {
      "text/plain": [
       "303488"
      ]
     },
     "execution_count": 22,
     "metadata": {},
     "output_type": "execute_result"
    }
   ],
   "source": [
    "sum(d.values())"
   ]
  },
  {
   "cell_type": "code",
   "execution_count": null,
   "metadata": {},
   "outputs": [],
   "source": []
  }
 ],
 "metadata": {
  "kernelspec": {
   "display_name": "Python 3",
   "language": "python",
   "name": "python3"
  },
  "language_info": {
   "codemirror_mode": {
    "name": "ipython",
    "version": 3
   },
   "file_extension": ".py",
   "mimetype": "text/x-python",
   "name": "python",
   "nbconvert_exporter": "python",
   "pygments_lexer": "ipython3",
   "version": "3.8.5"
  }
 },
 "nbformat": 4,
 "nbformat_minor": 4
}
