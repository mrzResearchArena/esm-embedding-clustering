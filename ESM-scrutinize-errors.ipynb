{
 "cells": [
  {
   "cell_type": "code",
   "execution_count": 1,
   "id": "9576a426-bd1a-4eb2-825f-86e220973cc8",
   "metadata": {},
   "outputs": [],
   "source": [
    "datasetLocation = 'astral95_refined.fa'"
   ]
  },
  {
   "cell_type": "code",
   "execution_count": 3,
   "id": "295c3319-fa67-4c1e-8dbb-3748dd3ef4d5",
   "metadata": {},
   "outputs": [],
   "source": [
    "import esm"
   ]
  },
  {
   "cell_type": "code",
   "execution_count": 23,
   "id": "54ccebae-99f1-417c-a8c8-744ef4b741d0",
   "metadata": {},
   "outputs": [
    {
     "name": "stdout",
     "output_type": "stream",
     "text": [
      "1 4132: >d1u6gc_a.118.1: 1207\n",
      "2 23444: >d1q16a2c.81.1: 1074\n",
      "3 31889: >d5vkqa1d.211.1: 1046\n",
      "4 32894: >d1muka_e.8.1: 1264\n",
      "5 33094: >d1twfb_e.29.1: 1207\n",
      "6 33095: >d4c2mb_e.29.1: 1196\n",
      "7 33096: >d1ynjc1e.29.1: 1114\n",
      "8 33097: >d4g7hc_e.29.1: 1118\n",
      "9 33098: >d1twfa_e.29.1: 1449\n",
      "10 33099: >d4c2ma_e.29.1: 1664\n",
      "11 33100: >d1ynjd1e.29.1: 1238\n",
      "12 33101: >d1i6vd_e.29.1: 1234\n",
      "13 33102: >d4g7hd_e.29.1: 1500\n",
      "14 33103: >d6yxuc_e.29.1: 1110\n",
      "15 33166: >d1urja_e.58.1: 1122\n"
     ]
    }
   ],
   "source": [
    "C = 1\n",
    "humanC=1\n",
    "for header, seq in esm.data.read_fasta(datasetLocation):\n",
    "    if len(seq) > 1022:\n",
    "        print(f'{humanC} {C}: {header}: {len(seq)}')\n",
    "        humanC += 1 \n",
    "        # print(header)\n",
    "        # print(seq[:1022])\n",
    "    # if C==10: break\n",
    "    C+=1"
   ]
  },
  {
   "cell_type": "code",
   "execution_count": null,
   "id": "41bc0019-d026-475c-b8a9-dc1672a09b84",
   "metadata": {},
   "outputs": [],
   "source": [
    "d1u6gc_a.118.1.pt"
   ]
  },
  {
   "cell_type": "code",
   "execution_count": 1,
   "id": "fb042940-d089-42ae-aee8-79c69f7f6ef4",
   "metadata": {},
   "outputs": [],
   "source": [
    "# C=1\n",
    "# SUM = 0\n",
    "# with open(file='countCrash.txt', mode='r') as file:\n",
    "#     for i in file:\n",
    "#         v = int(i.split()[-2][1:])\n",
    "#         SUM += v\n",
    "#         # if C==10: break\n",
    "#         # C+=1\n",
    "#     print(SUM)"
   ]
  },
  {
   "cell_type": "code",
   "execution_count": 5,
   "id": "ffaa0a50-9aa3-496b-86b1-407ecd1a3494",
   "metadata": {},
   "outputs": [],
   "source": [
    "import esm\n",
    "import torch\n",
    "import numpy as np # Saved file(s) in .npy format."
   ]
  },
  {
   "cell_type": "code",
   "execution_count": 20,
   "id": "2b90e6b0-a62a-4157-9bbe-0ebcdd437aca",
   "metadata": {},
   "outputs": [
    {
     "name": "stdout",
     "output_type": "stream",
     "text": [
      "Read only100.fa with 100 sequences\n",
      "Processing 1 of 4 batches (28 sequences)\n",
      "Processing 2 of 4 batches (27 sequences)\n",
      "Processing 3 of 4 batches (27 sequences)\n",
      "Processing 4 of 4 batches (18 sequences)\n"
     ]
    }
   ],
   "source": [
    " !python scripts/extract.py esm1b_t33_650M_UR50S only100.fa only100-ESM1b/ --repr_layers 0 32 33 --include mean per_tok"
   ]
  },
  {
   "cell_type": "code",
   "execution_count": 21,
   "id": "ba16d361-7a8f-4031-a291-4abb6f80bccc",
   "metadata": {},
   "outputs": [],
   "source": [
    "datasetLocation = '/home/rafsanjani/backup-research/esm/only100.fa'\n",
    "embeddingLocation = '/home/rafsanjani/backup-research/esm/only100-ESM1b'\n",
    "embeddingLayer = 33"
   ]
  },
  {
   "cell_type": "code",
   "execution_count": 29,
   "id": "f05baeb9-3099-46d9-b637-b6d79fba5fca",
   "metadata": {},
   "outputs": [
    {
     "name": "stdout",
     "output_type": "stream",
     "text": [
      "(100, 1280)\n"
     ]
    }
   ],
   "source": [
    "X5 = []\n",
    "for header, _seq in esm.data.read_fasta(datasetLocation):\n",
    "    fn = f'{embeddingLocation}/{header[1:]}.pt'\n",
    "    embedding = torch.load(fn)\n",
    "    # print(embs)\n",
    "    # print()\n",
    "    X5.append(embedding['mean_representations'][embeddingLayer])\n",
    "#end-for\n",
    "X5 = torch.stack(X5, dim=0).numpy()\n",
    "print(X5.shape)"
   ]
  },
  {
   "cell_type": "code",
   "execution_count": 30,
   "id": "b939a90a-0a0d-4429-9b83-58c14d5de00c",
   "metadata": {},
   "outputs": [],
   "source": [
    "Xs = np.load('Xs-35667.npy')"
   ]
  },
  {
   "cell_type": "code",
   "execution_count": 31,
   "id": "9cf2a10c-f2f8-47ea-bb5e-405484bc105f",
   "metadata": {},
   "outputs": [
    {
     "data": {
      "text/plain": [
       "array([ 0.10049941,  0.03679613, -0.03360916, ...,  0.03035077,\n",
       "       -0.10252801,  0.09472331], dtype=float32)"
      ]
     },
     "execution_count": 31,
     "metadata": {},
     "output_type": "execute_result"
    }
   ],
   "source": [
    "Xs[0]"
   ]
  },
  {
   "cell_type": "code",
   "execution_count": 32,
   "id": "f3f0f6d7-27d2-4cb3-848f-12ad8e47a03c",
   "metadata": {},
   "outputs": [
    {
     "data": {
      "text/plain": [
       "array([ 0.10049941,  0.03679613, -0.03360916, ...,  0.03035077,\n",
       "       -0.10252801,  0.09472331], dtype=float32)"
      ]
     },
     "execution_count": 32,
     "metadata": {},
     "output_type": "execute_result"
    }
   ],
   "source": [
    "X5[0]"
   ]
  },
  {
   "cell_type": "code",
   "execution_count": 33,
   "id": "4f83e5d6-dc9c-4b3a-bf6f-ceeb4ecbfd81",
   "metadata": {},
   "outputs": [
    {
     "name": "stdout",
     "output_type": "stream",
     "text": [
      "True\n",
      "True\n",
      "True\n",
      "True\n",
      "True\n",
      "True\n",
      "True\n",
      "True\n",
      "True\n",
      "True\n",
      "True\n",
      "True\n",
      "True\n",
      "True\n",
      "True\n",
      "True\n",
      "True\n",
      "True\n",
      "True\n",
      "True\n",
      "True\n",
      "True\n",
      "True\n",
      "True\n",
      "True\n",
      "True\n",
      "True\n",
      "True\n",
      "True\n",
      "True\n",
      "True\n",
      "True\n",
      "True\n",
      "True\n",
      "True\n",
      "True\n",
      "True\n",
      "True\n",
      "True\n",
      "True\n",
      "True\n",
      "True\n",
      "True\n",
      "True\n",
      "True\n",
      "True\n",
      "True\n",
      "True\n",
      "True\n",
      "True\n",
      "True\n",
      "True\n",
      "True\n",
      "True\n",
      "True\n",
      "True\n",
      "True\n",
      "True\n",
      "True\n",
      "True\n",
      "True\n",
      "True\n",
      "True\n",
      "True\n",
      "True\n",
      "True\n",
      "True\n",
      "True\n",
      "True\n",
      "True\n",
      "True\n",
      "True\n",
      "True\n",
      "True\n",
      "True\n",
      "True\n",
      "True\n",
      "True\n",
      "True\n",
      "True\n",
      "True\n",
      "True\n",
      "True\n",
      "True\n",
      "True\n",
      "True\n",
      "True\n",
      "True\n",
      "True\n",
      "True\n",
      "True\n",
      "True\n",
      "True\n",
      "True\n",
      "True\n",
      "True\n",
      "True\n",
      "True\n",
      "True\n",
      "True\n"
     ]
    }
   ],
   "source": [
    "for i in range(100):\n",
    "    print(all(Xs[i] == X5 [i]))"
   ]
  },
  {
   "cell_type": "code",
   "execution_count": 34,
   "id": "7173e6b0-3f36-48af-80ef-8b6d071bb7e7",
   "metadata": {},
   "outputs": [
    {
     "data": {
      "text/plain": [
       "True"
      ]
     },
     "execution_count": 34,
     "metadata": {},
     "output_type": "execute_result"
    }
   ],
   "source": [
    "v = [True, True, True]\n",
    "all(v)"
   ]
  },
  {
   "cell_type": "code",
   "execution_count": 35,
   "id": "d03c21cc-ef9b-4e29-9786-dc4815b11b87",
   "metadata": {},
   "outputs": [
    {
     "data": {
      "text/plain": [
       "False"
      ]
     },
     "execution_count": 35,
     "metadata": {},
     "output_type": "execute_result"
    }
   ],
   "source": [
    "v = [False, False, False]\n",
    "all(v)"
   ]
  }
 ],
 "metadata": {
  "kernelspec": {
   "display_name": "Python 3 (ipykernel)",
   "language": "python",
   "name": "python3"
  },
  "language_info": {
   "codemirror_mode": {
    "name": "ipython",
    "version": 3
   },
   "file_extension": ".py",
   "mimetype": "text/x-python",
   "name": "python",
   "nbconvert_exporter": "python",
   "pygments_lexer": "ipython3",
   "version": "3.7.13"
  }
 },
 "nbformat": 4,
 "nbformat_minor": 5
}
