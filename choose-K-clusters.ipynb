{
 "cells": [
  {
   "cell_type": "code",
   "execution_count": 30,
   "id": "48c2a2f6-bc1f-4c62-a03a-607d95be92eb",
   "metadata": {},
   "outputs": [],
   "source": [
    "import esm"
   ]
  },
  {
   "cell_type": "code",
   "execution_count": 31,
   "id": "ba64e4d3-d52b-49ad-93a2-fc7a63186ccd",
   "metadata": {},
   "outputs": [],
   "source": [
    "dataSource = '/home/rafsanjani/backup-research/esm/astral-SCOPe-original.fa'"
   ]
  },
  {
   "cell_type": "code",
   "execution_count": 32,
   "id": "b3624266-85eb-41be-a5f3-9f1db7f42157",
   "metadata": {},
   "outputs": [],
   "source": [
    "C = 1\n",
    "\n",
    "d = {}\n",
    "for header, sequence in esm.data.read_fasta(dataSource):\n",
    "    header = '.'.join(header.split()[1].split('.')[0:-1])\n",
    "    \n",
    "    # print(header)\n",
    "    \n",
    "    if header not in d:\n",
    "        d[header] = 1\n",
    "    else:\n",
    "        d[header] += 1\n",
    "    \n",
    "    # print()\n",
    "    # if C==10: break\n",
    "    # C += 1\n",
    "#end-for"
   ]
  },
  {
   "cell_type": "code",
   "execution_count": 33,
   "id": "4a79cd9e-23b3-4882-9c9b-7199bd1f40f6",
   "metadata": {},
   "outputs": [],
   "source": [
    "v = []\n",
    "for i in d.values():\n",
    "    v.append(i)"
   ]
  },
  {
   "cell_type": "code",
   "execution_count": 34,
   "id": "07a17bf6-93ed-448d-8720-91a92ec6a24f",
   "metadata": {},
   "outputs": [
    {
     "data": {
      "text/plain": [
       "2065"
      ]
     },
     "execution_count": 34,
     "metadata": {},
     "output_type": "execute_result"
    }
   ],
   "source": [
    "len(v)"
   ]
  },
  {
   "cell_type": "code",
   "execution_count": 35,
   "id": "3e4f9799-4d10-454d-84f5-08ac23828eb7",
   "metadata": {},
   "outputs": [],
   "source": [
    "v.sort(reverse=True) # i.e., from [12, 484, 18, 50, 53] to [484, 53, 50, 18, 12]"
   ]
  },
  {
   "cell_type": "code",
   "execution_count": 36,
   "id": "5f20d541-7c46-4e1c-8232-f43d16837a0b",
   "metadata": {},
   "outputs": [
    {
     "data": {
      "text/plain": [
       "16567"
      ]
     },
     "execution_count": 36,
     "metadata": {},
     "output_type": "execute_result"
    }
   ],
   "source": [
    "sum(v[0:59]) # at least 100"
   ]
  },
  {
   "cell_type": "code",
   "execution_count": 37,
   "id": "2f5bbb87-ce8c-41ed-8f5c-206568eac336",
   "metadata": {},
   "outputs": [
    {
     "data": {
      "text/plain": [
       "22863"
      ]
     },
     "execution_count": 37,
     "metadata": {},
     "output_type": "execute_result"
    }
   ],
   "source": [
    "sum(v[0:153]) # at least 50"
   ]
  },
  {
   "cell_type": "code",
   "execution_count": 45,
   "id": "55abf187-cb17-41f6-b017-4da5553e02cd",
   "metadata": {},
   "outputs": [
    {
     "data": {
      "text/plain": [
       "24578"
      ]
     },
     "execution_count": 45,
     "metadata": {},
     "output_type": "execute_result"
    }
   ],
   "source": [
    "sum(v[0:192]) # at least 40"
   ]
  },
  {
   "cell_type": "code",
   "execution_count": 39,
   "id": "92b13fa1-88e2-4201-968c-4e6711ede031",
   "metadata": {},
   "outputs": [
    {
     "data": {
      "text/plain": [
       "26009"
      ]
     },
     "execution_count": 39,
     "metadata": {},
     "output_type": "execute_result"
    }
   ],
   "source": [
    "sum(v[0:234]) # at least 30"
   ]
  },
  {
   "cell_type": "code",
   "execution_count": 40,
   "id": "4c96e318-5513-41ac-8dc9-d55945e9a5c2",
   "metadata": {},
   "outputs": [
    {
     "data": {
      "text/plain": [
       "28080"
      ]
     },
     "execution_count": 40,
     "metadata": {},
     "output_type": "execute_result"
    }
   ],
   "source": [
    "sum(v[0:320]) # at least 20"
   ]
  },
  {
   "cell_type": "code",
   "execution_count": 41,
   "id": "ed0ee109-bba2-43f7-b88d-aa5dbfa61965",
   "metadata": {},
   "outputs": [
    {
     "data": {
      "text/plain": [
       "30988"
      ]
     },
     "execution_count": 41,
     "metadata": {},
     "output_type": "execute_result"
    }
   ],
   "source": [
    "sum(v[:536]) # at least 10"
   ]
  },
  {
   "cell_type": "code",
   "execution_count": null,
   "id": "95de3e45-fe07-45f6-92c4-2add36392fe9",
   "metadata": {},
   "outputs": [],
   "source": []
  }
 ],
 "metadata": {
  "kernelspec": {
   "display_name": "Python 3 (ipykernel)",
   "language": "python",
   "name": "python3"
  },
  "language_info": {
   "codemirror_mode": {
    "name": "ipython",
    "version": 3
   },
   "file_extension": ".py",
   "mimetype": "text/x-python",
   "name": "python",
   "nbconvert_exporter": "python",
   "pygments_lexer": "ipython3",
   "version": "3.7.13"
  }
 },
 "nbformat": 4,
 "nbformat_minor": 5
}
