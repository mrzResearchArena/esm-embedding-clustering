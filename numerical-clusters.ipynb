{
 "cells": [
  {
   "cell_type": "code",
   "execution_count": 1,
   "id": "66524057-f58f-4d48-bb03-f7c4c539c767",
   "metadata": {},
   "outputs": [],
   "source": [
    "import esm\n",
    "import torch"
   ]
  },
  {
   "cell_type": "markdown",
   "id": "2ae2fa1f-079e-4f92-8e90-f05456fc9427",
   "metadata": {},
   "source": [
    "### -1. Convert into numerical clusters (experimental):"
   ]
  },
  {
   "cell_type": "code",
   "execution_count": 16,
   "id": "e4a3741f-bc60-4c26-8906-90979ab44819",
   "metadata": {},
   "outputs": [],
   "source": [
    "# clustersAlphabetical = ['A', 'B', 'C', 'D', 'A', 'B', 'D', 'E']\n",
    "\n",
    "clustersAlphabetical = ['D', 'A', 'B', 'C', 'A', 'A', 'A', 'C', 'C', 'A', 'B',\n",
    "                        'C', 'C', 'C', 'C', 'D']"
   ]
  },
  {
   "cell_type": "code",
   "execution_count": 17,
   "id": "b62b5d60-778a-4cf7-a6b9-0924ec3d91df",
   "metadata": {},
   "outputs": [],
   "source": [
    "clustersNumerical = []"
   ]
  },
  {
   "cell_type": "code",
   "execution_count": 18,
   "id": "e973dc4f-871a-4d5a-a527-fc20a37132b1",
   "metadata": {},
   "outputs": [],
   "source": [
    "lookupTable = {}"
   ]
  },
  {
   "cell_type": "code",
   "execution_count": 19,
   "id": "07b1d311-f52e-4509-bfe8-cce25a247783",
   "metadata": {},
   "outputs": [],
   "source": [
    "C=0 #cluster counter\n",
    "for cluster in clustersAlphabetical:\n",
    "    # print(cluster)\n",
    "    if cluster not in lookupTable:\n",
    "        lookupTable[cluster]=C\n",
    "        clustersNumerical.append(C)\n",
    "        C+=1\n",
    "    else:\n",
    "        clustersNumerical.append(lookupTable[cluster])"
   ]
  },
  {
   "cell_type": "code",
   "execution_count": 20,
   "id": "b2af5d58-422f-4d20-9917-1975759f2a56",
   "metadata": {},
   "outputs": [
    {
     "data": {
      "text/plain": [
       "{'D': 0, 'A': 1, 'B': 2, 'C': 3}"
      ]
     },
     "execution_count": 20,
     "metadata": {},
     "output_type": "execute_result"
    }
   ],
   "source": [
    "lookupTable"
   ]
  },
  {
   "cell_type": "code",
   "execution_count": 14,
   "id": "98c44d17-a4d3-4856-befd-e8dfcafbfe81",
   "metadata": {},
   "outputs": [
    {
     "data": {
      "text/plain": [
       "[0, 1, 2, 3, 1, 1, 1, 3, 3, 1, 2, 3, 3, 3, 3, 0]"
      ]
     },
     "execution_count": 14,
     "metadata": {},
     "output_type": "execute_result"
    }
   ],
   "source": [
    "clustersNumerical"
   ]
  },
  {
   "cell_type": "markdown",
   "id": "280dd5f0-8991-4225-94fe-150125bea8b9",
   "metadata": {},
   "source": [
    "#### 1. Real Cluster headers:"
   ]
  },
  {
   "cell_type": "code",
   "execution_count": 21,
   "id": "52cd795a-104d-49c6-a591-a1b38b5fcae5",
   "metadata": {},
   "outputs": [],
   "source": [
    "datasetLocation = 'astral-SCOPe-K192.fa'"
   ]
  },
  {
   "cell_type": "code",
   "execution_count": 22,
   "id": "80c4ad22-800d-4cec-a0f1-00fe5139a912",
   "metadata": {},
   "outputs": [],
   "source": [
    "# C=1\n",
    "superfamilies = []\n",
    "seqIDs = []\n",
    "for header, _seq in esm.data.read_fasta(datasetLocation):\n",
    "    seqIDs.append(header.split()[0][1:])\n",
    "    superfamily = '.'.join(header.split()[1].split('.')[0:-1])\n",
    "    superfamilies.append(superfamily)\n",
    "    \n",
    "    # if C==10: break\n",
    "    # C+=1\n",
    "#end-for"
   ]
  },
  {
   "cell_type": "code",
   "execution_count": 24,
   "id": "ab9dc93a-2116-4fa2-b810-9e2334aaa69c",
   "metadata": {},
   "outputs": [],
   "source": [
    "# seqIDs #['d1ux8a_', 'd1dlwa_', 'd1dlya_',...]"
   ]
  },
  {
   "cell_type": "code",
   "execution_count": 27,
   "id": "c7165c23-712f-4cdb-bfe8-a4b1b4876f18",
   "metadata": {},
   "outputs": [],
   "source": [
    "# superfamilies # ['a.1.1', 'a.1.1', 'a.1.1', 'a.1.1', 'a.1.1', 'a.1.1',"
   ]
  },
  {
   "cell_type": "code",
   "execution_count": 28,
   "id": "c7e45f96-8833-4581-b063-9c8be308bfc5",
   "metadata": {},
   "outputs": [],
   "source": [
    "clustersAlphabetical = superfamilies"
   ]
  },
  {
   "cell_type": "code",
   "execution_count": 39,
   "id": "93917a24-9a75-484e-b643-39ef0ed5cadb",
   "metadata": {},
   "outputs": [
    {
     "data": {
      "text/plain": [
       "['a.1.1',\n",
       " 'a.1.1',\n",
       " 'a.1.1',\n",
       " 'a.1.1',\n",
       " 'a.1.1',\n",
       " 'a.1.1',\n",
       " 'a.1.1',\n",
       " 'a.1.1',\n",
       " 'a.1.1',\n",
       " 'a.1.1']"
      ]
     },
     "execution_count": 39,
     "metadata": {},
     "output_type": "execute_result"
    }
   ],
   "source": [
    "superfamilies[:10]"
   ]
  },
  {
   "cell_type": "code",
   "execution_count": 32,
   "id": "64cc2e40-bd01-4093-9473-d05cd5e71f03",
   "metadata": {},
   "outputs": [
    {
     "data": {
      "text/plain": [
       "['a.1.1',\n",
       " 'a.1.1',\n",
       " 'a.1.1',\n",
       " 'a.1.1',\n",
       " 'a.1.1',\n",
       " 'a.1.1',\n",
       " 'a.1.1',\n",
       " 'a.1.1',\n",
       " 'a.1.1',\n",
       " 'a.1.1']"
      ]
     },
     "execution_count": 32,
     "metadata": {},
     "output_type": "execute_result"
    }
   ],
   "source": [
    "clustersAlphabetical[0:10]"
   ]
  },
  {
   "cell_type": "code",
   "execution_count": 130,
   "id": "35015e42-fc19-4a63-af19-f7e8e463fde0",
   "metadata": {},
   "outputs": [
    {
     "data": {
      "text/plain": [
       "['d1dlwa_',\n",
       " 'd2gkma_',\n",
       " 'd1ngka_',\n",
       " 'd2bkma_',\n",
       " 'd4i0va_',\n",
       " 'd1asha_',\n",
       " 'd2dc3a_',\n",
       " 'd4hswa_',\n",
       " 'd1ecaa_',\n",
       " 'd1x9fd_']"
      ]
     },
     "execution_count": 130,
     "metadata": {},
     "output_type": "execute_result"
    }
   ],
   "source": [
    "seqIDs[:10]"
   ]
  },
  {
   "cell_type": "code",
   "execution_count": 42,
   "id": "fac31c84-8990-4c29-8d39-e6424280989c",
   "metadata": {},
   "outputs": [],
   "source": [
    "clustersNumerical = []\n",
    "lookupTable = {}\n",
    "\n",
    "C=0 #cluster counter\n",
    "for cluster in clustersAlphabetical:\n",
    "    # print(cluster)\n",
    "    if cluster not in lookupTable:\n",
    "        lookupTable[cluster]=C\n",
    "        clustersNumerical.append(C)\n",
    "        C+=1\n",
    "    else:\n",
    "        clustersNumerical.append(lookupTable[cluster])"
   ]
  },
  {
   "cell_type": "code",
   "execution_count": 62,
   "id": "c5e444f6-2d04-4d2b-882d-d986e4c207be",
   "metadata": {},
   "outputs": [],
   "source": [
    "C=1\n",
    "file = open(file='summaryTable.csv', mode='w')\n",
    "file.write(f'SCOPe IDs, original alphabetical clusters, original numerical clusters\\n')\n",
    "originalLabels = []\n",
    "for seqID, alphabetical, numerical in zip(seqIDs, clustersAlphabetical, clustersNumerical):\n",
    "    # print(f'{seqID}, {alphabetical}, {numerical}')\n",
    "    file.write(f'{seqID}, {alphabetical}, {numerical}\\n')\n",
    "    originalLabels.append(numerical)\n",
    "    # if C==10: break\n",
    "    # C+=1\n",
    "#end-file\n",
    "file.close()"
   ]
  },
  {
   "cell_type": "code",
   "execution_count": 63,
   "id": "c5e6957f-47c0-4a97-8ce5-2492e362161f",
   "metadata": {},
   "outputs": [],
   "source": [
    "import numpy as np\n",
    "import pandas as pd"
   ]
  },
  {
   "cell_type": "code",
   "execution_count": 64,
   "id": "99a724c3-4e77-48cc-a458-d5755ae06d06",
   "metadata": {},
   "outputs": [],
   "source": [
    "np.save(arr=originalLabels, file='originalLabels')"
   ]
  },
  {
   "cell_type": "code",
   "execution_count": 65,
   "id": "caa7f6e7-c454-4e8e-8d1c-86014ad78af2",
   "metadata": {},
   "outputs": [
    {
     "name": "stdout",
     "output_type": "stream",
     "text": [
      "originalLabels.npy  Xb-35667.npy  Xv-35667.npy\n"
     ]
    }
   ],
   "source": [
    "!ls *.npy"
   ]
  },
  {
   "cell_type": "code",
   "execution_count": 66,
   "id": "05ad13f7-4bab-4ae4-9dc9-d7ebfb80c9d9",
   "metadata": {},
   "outputs": [
    {
     "name": "stdout",
     "output_type": "stream",
     "text": [
      "summaryTable.csv\n"
     ]
    }
   ],
   "source": [
    "!ls *.csv"
   ]
  },
  {
   "cell_type": "code",
   "execution_count": 67,
   "id": "a4ee3b1c-b15a-4705-bd11-33e3f0a833dd",
   "metadata": {},
   "outputs": [
    {
     "data": {
      "text/html": [
       "<div>\n",
       "<style scoped>\n",
       "    .dataframe tbody tr th:only-of-type {\n",
       "        vertical-align: middle;\n",
       "    }\n",
       "\n",
       "    .dataframe tbody tr th {\n",
       "        vertical-align: top;\n",
       "    }\n",
       "\n",
       "    .dataframe thead th {\n",
       "        text-align: right;\n",
       "    }\n",
       "</style>\n",
       "<table border=\"1\" class=\"dataframe\">\n",
       "  <thead>\n",
       "    <tr style=\"text-align: right;\">\n",
       "      <th></th>\n",
       "      <th>SCOPe IDs</th>\n",
       "      <th>original alphabetical clusters</th>\n",
       "      <th>original numerical clusters</th>\n",
       "    </tr>\n",
       "  </thead>\n",
       "  <tbody>\n",
       "    <tr>\n",
       "      <th>0</th>\n",
       "      <td>d1ux8a_</td>\n",
       "      <td>a.1.1</td>\n",
       "      <td>0</td>\n",
       "    </tr>\n",
       "    <tr>\n",
       "      <th>1</th>\n",
       "      <td>d1dlwa_</td>\n",
       "      <td>a.1.1</td>\n",
       "      <td>0</td>\n",
       "    </tr>\n",
       "    <tr>\n",
       "      <th>2</th>\n",
       "      <td>d1dlya_</td>\n",
       "      <td>a.1.1</td>\n",
       "      <td>0</td>\n",
       "    </tr>\n",
       "    <tr>\n",
       "      <th>3</th>\n",
       "      <td>d2gkma_</td>\n",
       "      <td>a.1.1</td>\n",
       "      <td>0</td>\n",
       "    </tr>\n",
       "    <tr>\n",
       "      <th>4</th>\n",
       "      <td>d1ngka_</td>\n",
       "      <td>a.1.1</td>\n",
       "      <td>0</td>\n",
       "    </tr>\n",
       "    <tr>\n",
       "      <th>...</th>\n",
       "      <td>...</td>\n",
       "      <td>...</td>\n",
       "      <td>...</td>\n",
       "    </tr>\n",
       "    <tr>\n",
       "      <th>24573</th>\n",
       "      <td>d2e6sa1</td>\n",
       "      <td>g.50.1</td>\n",
       "      <td>191</td>\n",
       "    </tr>\n",
       "    <tr>\n",
       "      <th>24574</th>\n",
       "      <td>d2yqla1</td>\n",
       "      <td>g.50.1</td>\n",
       "      <td>191</td>\n",
       "    </tr>\n",
       "    <tr>\n",
       "      <th>24575</th>\n",
       "      <td>d1z2qa1</td>\n",
       "      <td>g.50.1</td>\n",
       "      <td>191</td>\n",
       "    </tr>\n",
       "    <tr>\n",
       "      <th>24576</th>\n",
       "      <td>d6vfoa_</td>\n",
       "      <td>g.50.1</td>\n",
       "      <td>191</td>\n",
       "    </tr>\n",
       "    <tr>\n",
       "      <th>24577</th>\n",
       "      <td>d2rsda1</td>\n",
       "      <td>g.50.1</td>\n",
       "      <td>191</td>\n",
       "    </tr>\n",
       "  </tbody>\n",
       "</table>\n",
       "<p>24578 rows × 3 columns</p>\n",
       "</div>"
      ],
      "text/plain": [
       "      SCOPe IDs  original alphabetical clusters   original numerical clusters\n",
       "0       d1ux8a_                           a.1.1                             0\n",
       "1       d1dlwa_                           a.1.1                             0\n",
       "2       d1dlya_                           a.1.1                             0\n",
       "3       d2gkma_                           a.1.1                             0\n",
       "4       d1ngka_                           a.1.1                             0\n",
       "...         ...                             ...                           ...\n",
       "24573   d2e6sa1                          g.50.1                           191\n",
       "24574   d2yqla1                          g.50.1                           191\n",
       "24575   d1z2qa1                          g.50.1                           191\n",
       "24576   d6vfoa_                          g.50.1                           191\n",
       "24577   d2rsda1                          g.50.1                           191\n",
       "\n",
       "[24578 rows x 3 columns]"
      ]
     },
     "execution_count": 67,
     "metadata": {},
     "output_type": "execute_result"
    }
   ],
   "source": [
    "D = pd.read_csv('summaryTable.csv')\n",
    "D"
   ]
  },
  {
   "cell_type": "code",
   "execution_count": null,
   "id": "80290fe7-1142-4e35-b0e6-dc0704ad772d",
   "metadata": {},
   "outputs": [],
   "source": []
  },
  {
   "cell_type": "code",
   "execution_count": null,
   "id": "0a933e33-a60f-4192-bc8e-c4d0796c1c72",
   "metadata": {},
   "outputs": [],
   "source": []
  }
 ],
 "metadata": {
  "kernelspec": {
   "display_name": "Python 3 (ipykernel)",
   "language": "python",
   "name": "python3"
  },
  "language_info": {
   "codemirror_mode": {
    "name": "ipython",
    "version": 3
   },
   "file_extension": ".py",
   "mimetype": "text/x-python",
   "name": "python",
   "nbconvert_exporter": "python",
   "pygments_lexer": "ipython3",
   "version": "3.7.13"
  }
 },
 "nbformat": 4,
 "nbformat_minor": 5
}
