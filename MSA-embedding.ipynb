{
 "cells": [
  {
   "cell_type": "code",
   "execution_count": 1,
   "id": "97e48362-9df4-4e67-88b5-af69d5fe1ffd",
   "metadata": {},
   "outputs": [],
   "source": [
    "import esm\n",
    "import torch"
   ]
  },
  {
   "cell_type": "code",
   "execution_count": 2,
   "id": "a14ce5a2-1286-48ab-ac48-8196f82ce908",
   "metadata": {},
   "outputs": [
    {
     "name": "stderr",
     "output_type": "stream",
     "text": [
      "Downloading: \"https://dl.fbaipublicfiles.com/fair-esm/models/esm_msa1b_t12_100M_UR50S.pt\" to /home/rafsanjani/.cache/torch/hub/checkpoints/esm_msa1b_t12_100M_UR50S.pt\n",
      "Downloading: \"https://dl.fbaipublicfiles.com/fair-esm/regression/esm_msa1b_t12_100M_UR50S-contact-regression.pt\" to /home/rafsanjani/.cache/torch/hub/checkpoints/esm_msa1b_t12_100M_UR50S-contact-regression.pt\n"
     ]
    }
   ],
   "source": [
    "model, alphabet = esm.pretrained.esm_msa1b_t12_100M_UR50S()"
   ]
  },
  {
   "cell_type": "code",
   "execution_count": 3,
   "id": "a9a87535-52ce-4316-843e-e6adb0d6b309",
   "metadata": {},
   "outputs": [],
   "source": [
    "batch_converter = alphabet.get_batch_converter()"
   ]
  },
  {
   "cell_type": "code",
   "execution_count": 6,
   "id": "c5998b18-e248-422d-8399-99f258ffbc20",
   "metadata": {},
   "outputs": [
    {
     "name": "stdout",
     "output_type": "stream",
     "text": [
      "STOP dropout\n"
     ]
    }
   ],
   "source": [
    "model.eval()\n",
    "print('STOP dropout')"
   ]
  },
  {
   "cell_type": "code",
   "execution_count": 31,
   "id": "43934edd-3cf7-4f1f-9ec4-67bee289209d",
   "metadata": {},
   "outputs": [],
   "source": [
    "dataMSA = [\n",
    "    (\"protein1 test\", \"MKTWV\"),\n",
    "    (\"protein2 test\", \"KHALT\"),\n",
    "    (\"protein3 test\", \"KAILX\"),\n",
    "]"
   ]
  },
  {
   "cell_type": "code",
   "execution_count": 32,
   "id": "31636efa-6e88-4045-b2d6-bb87991ff450",
   "metadata": {},
   "outputs": [],
   "source": [
    "_, _, batch_tokens1 = batch_converter(dataMSA)"
   ]
  },
  {
   "cell_type": "code",
   "execution_count": 33,
   "id": "ca2dac7b-277f-4d51-bd48-1199c8f9594f",
   "metadata": {},
   "outputs": [],
   "source": [
    "with torch.no_grad():\n",
    "    all_info = model(batch_tokens1, repr_layers=[12], need_head_weights=True)"
   ]
  },
  {
   "cell_type": "code",
   "execution_count": 34,
   "id": "1bdda556-e44b-4e9a-b187-2b91e8acc9b6",
   "metadata": {},
   "outputs": [
    {
     "data": {
      "text/plain": [
       "tensor([[[[-0.1692, -0.1230,  0.1339,  ..., -0.0132, -0.2295, -0.3415],\n",
       "          [-1.3602, -0.3825,  0.4090,  ..., -0.5282, -0.6899, -0.6909],\n",
       "          [-0.9466,  0.1317,  0.5705,  ...,  0.1476,  0.0796, -0.8818],\n",
       "          [-0.3470, -1.1175,  0.3736,  ..., -0.5153, -0.4736, -0.8823],\n",
       "          [ 0.3133,  0.3772, -0.2198,  ..., -0.2149, -0.6126, -1.2064],\n",
       "          [-0.6696, -0.7549,  1.0989,  ..., -1.2645, -0.2256, -0.7891]],\n",
       "\n",
       "         [[ 0.2155, -0.2000,  0.2242,  ..., -0.1451, -0.3883, -0.1368],\n",
       "          [-1.0210, -0.8848,  0.9494,  ..., -0.7554, -1.1698,  0.0059],\n",
       "          [-0.1464,  0.3067,  0.5098,  ...,  0.1928,  0.4245, -0.6700],\n",
       "          [ 0.3664, -0.5729,  0.1252,  ..., -0.7003, -0.4135, -0.9575],\n",
       "          [ 1.0557, -0.4653,  0.1057,  ...,  0.4158, -1.2184, -1.4724],\n",
       "          [-0.1071, -1.5009,  0.6451,  ..., -1.0587, -0.5335, -0.7484]],\n",
       "\n",
       "         [[ 0.0021,  0.0100,  0.0285,  ..., -0.0221, -0.1564, -0.0563],\n",
       "          [-1.3433, -0.5259,  0.6865,  ..., -0.3130, -0.4504,  0.4269],\n",
       "          [-0.2575,  0.3415, -0.3277,  ..., -0.2041,  0.4640, -1.2274],\n",
       "          [-0.2218, -0.1567,  0.1517,  ..., -0.5906, -0.4836, -0.3626],\n",
       "          [ 0.8515, -0.5696, -0.1524,  ...,  0.4291, -0.7509, -0.8041],\n",
       "          [-0.6655, -0.6668,  1.0741,  ..., -1.8422,  0.2990, -0.4397]]]])"
      ]
     },
     "execution_count": 34,
     "metadata": {},
     "output_type": "execute_result"
    }
   ],
   "source": [
    "repres = all_info[\"representations\"][12]  # [2, 3, 31, 768]\n",
    "repres"
   ]
  },
  {
   "cell_type": "code",
   "execution_count": 35,
   "id": "a03100f0-a761-451d-b5e8-169dd6f643fc",
   "metadata": {},
   "outputs": [
    {
     "data": {
      "text/plain": [
       "torch.Size([1, 3, 6, 768])"
      ]
     },
     "execution_count": 35,
     "metadata": {},
     "output_type": "execute_result"
    }
   ],
   "source": [
    "repres.shape"
   ]
  },
  {
   "cell_type": "code",
   "execution_count": null,
   "id": "43ee7a87-2344-43c9-979b-62536ac57fa6",
   "metadata": {},
   "outputs": [],
   "source": []
  }
 ],
 "metadata": {
  "kernelspec": {
   "display_name": "Python 3 (ipykernel)",
   "language": "python",
   "name": "python3"
  },
  "language_info": {
   "codemirror_mode": {
    "name": "ipython",
    "version": 3
   },
   "file_extension": ".py",
   "mimetype": "text/x-python",
   "name": "python",
   "nbconvert_exporter": "python",
   "pygments_lexer": "ipython3",
   "version": "3.7.13"
  }
 },
 "nbformat": 4,
 "nbformat_minor": 5
}
