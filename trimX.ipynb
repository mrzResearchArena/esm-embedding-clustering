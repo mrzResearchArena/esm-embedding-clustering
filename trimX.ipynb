{
 "cells": [
  {
   "cell_type": "code",
   "execution_count": 1,
   "id": "e2bcfde4",
   "metadata": {},
   "outputs": [],
   "source": [
    "import esm\n",
    "import torch"
   ]
  },
  {
   "cell_type": "code",
   "execution_count": 2,
   "id": "886a04bb",
   "metadata": {},
   "outputs": [],
   "source": [
    "# !python scripts/extract.py esm1b_t33_650M_UR50S examples/data/some_proteins.fasta examples/data/some_proteins_emb_esm1b/ --repr_layers 0 32 33 --include mean per_tok"
   ]
  },
  {
   "cell_type": "code",
   "execution_count": 3,
   "id": "2fda97a6",
   "metadata": {},
   "outputs": [],
   "source": [
    "# !python /home/rafsanjani/Dropbox/ABC-Research/Gail-Rosen/esm/scripts/extract.py esm1v_t33_650M_UR90S_1 some_proteins.fasta some_proteins_esm1v --repr_layers 33 --include mean"
   ]
  },
  {
   "cell_type": "code",
   "execution_count": 4,
   "id": "c9046a52",
   "metadata": {},
   "outputs": [],
   "source": [
    "# !python /home/rafsanjani/Dropbox/ABC-Research/Gail-Rosen/esm/scripts/extract.py esm_if1_gvp4_t16_142M_UR50 some_proteins.fasta some_proteins_esm1v --include mean"
   ]
  },
  {
   "cell_type": "code",
   "execution_count": 5,
   "id": "e42be504",
   "metadata": {},
   "outputs": [],
   "source": [
    "# !python /home/rafsanjani/Dropbox/ABC-Research/Gail-Rosen/esm/scripts/extract.py esm_msa1b_t12_100M_UR50S some_proteins.fasta some_proteins_esm1v --repr_layers 33 --include mean"
   ]
  },
  {
   "cell_type": "code",
   "execution_count": 6,
   "id": "798d79b4",
   "metadata": {},
   "outputs": [],
   "source": [
    "# !python /home/rafsanjani/Dropbox/ABC-Research/Gail-Rosen/esm/scripts/extract.py esm1v_t33_650M_UR90S_1 some_proteins.fasta some_proteins_esm1v/ --repr_layers 33 --include mean"
   ]
  },
  {
   "cell_type": "code",
   "execution_count": 7,
   "id": "65a3fcce",
   "metadata": {},
   "outputs": [],
   "source": [
    "# datasetLocation = '/home/rafsanjani/backup-research/some_proteins.fasta'\n",
    "# embeddingLocation = '/home/rafsanjani/backup-research/some_proteins_esm1v'\n",
    "# embeddingLayer = 33"
   ]
  },
  {
   "cell_type": "code",
   "execution_count": 8,
   "id": "d5bd0046",
   "metadata": {},
   "outputs": [],
   "source": [
    "# Xs = []\n",
    "# for header, _seq in esm.data.read_fasta(datasetLocation):\n",
    "#     fn = f'{embeddingLocation}/{header[1:]}.pt'\n",
    "#     embedding = torch.load(fn)\n",
    "#     # print(embs)\n",
    "#     # print()\n",
    "#     Xs.append(embedding['mean_representations'][embeddingLayer])\n",
    "# #end-for\n",
    "# Xs = torch.stack(Xs, dim=0).numpy()\n",
    "# print(Xs.shape)"
   ]
  },
  {
   "cell_type": "code",
   "execution_count": 9,
   "id": "b3b301fa",
   "metadata": {},
   "outputs": [],
   "source": [
    "# Xs[0]"
   ]
  },
  {
   "cell_type": "code",
   "execution_count": 10,
   "id": "6668c76a",
   "metadata": {},
   "outputs": [],
   "source": [
    "# Xs[0].shape"
   ]
  },
  {
   "cell_type": "code",
   "execution_count": 11,
   "id": "a4c2cd91",
   "metadata": {},
   "outputs": [],
   "source": [
    "# !python /home/rafsanjani/Dropbox/ABC-Research/Gail-Rosen/esm/scripts/extract.py esm_if1_gvp4_t16_142M_UR50 some_proteins.fasta testModel/ --include mean per_tok"
   ]
  },
  {
   "cell_type": "code",
   "execution_count": 51,
   "id": "05be0b24-99ec-47a3-9804-6ac553935ba1",
   "metadata": {},
   "outputs": [
    {
     "name": "stdout",
     "output_type": "stream",
     "text": [
      "--2022-08-17 06:09:31--  https://scop.berkeley.edu/downloads/scopeseq-2.08/astral-scopedom-seqres-sel-gs-bib-95-2.08.fa\n",
      "Resolving scop.berkeley.edu (scop.berkeley.edu)... 128.32.236.13\n",
      "Connecting to scop.berkeley.edu (scop.berkeley.edu)|128.32.236.13|:443... connected.\n",
      "HTTP request sent, awaiting response... 200 OK\n",
      "Length: 9862103 (9.4M)\n",
      "Saving to: ‘astral-scopedom-seqres-sel-gs-bib-95-2.08.fa’\n",
      "\n",
      "astral-scopedom-seq 100%[===================>]   9.40M   821KB/s    in 14s     \n",
      "\n",
      "2022-08-17 06:09:46 (707 KB/s) - ‘astral-scopedom-seqres-sel-gs-bib-95-2.08.fa’ saved [9862103/9862103]\n",
      "\n"
     ]
    }
   ],
   "source": [
    "!wget 'https://scop.berkeley.edu/downloads/scopeseq-2.08/astral-scopedom-seqres-sel-gs-bib-95-2.08.fa'"
   ]
  },
  {
   "cell_type": "code",
   "execution_count": 12,
   "id": "6815f06f",
   "metadata": {},
   "outputs": [],
   "source": [
    "dataset = 'astral-scopedom-seqres-sel-gs-bib-95-2.08.fa'"
   ]
  },
  {
   "cell_type": "code",
   "execution_count": 13,
   "id": "8a35ce29",
   "metadata": {},
   "outputs": [],
   "source": [
    "C=1\n",
    "d = {}\n",
    "for header, sequence in esm.data.read_fasta(dataset):\n",
    "    v = '.'.join(header.split()[1].split('.')[0:-1])\n",
    "    \n",
    "    if v not in d:\n",
    "        d[v] = 1\n",
    "    else:\n",
    "        d[v] += 1\n",
    "    # print(header)\n",
    "    # if C==10: break\n",
    "    # C+=1"
   ]
  },
  {
   "cell_type": "code",
   "execution_count": 61,
   "id": "99abb8ff-2b24-4f74-b5b7-e36d6dc940ce",
   "metadata": {},
   "outputs": [],
   "source": [
    "# d"
   ]
  },
  {
   "cell_type": "code",
   "execution_count": 14,
   "id": "39ed438f-798e-467d-ba94-f8547ca19a55",
   "metadata": {},
   "outputs": [],
   "source": [
    "# d\n",
    "d  = dict(sorted(d.items(), key=lambda item: item[1], reverse=True))"
   ]
  },
  {
   "cell_type": "code",
   "execution_count": 15,
   "id": "9fad7f1e-394a-441a-b43d-3fcd9c1d1660",
   "metadata": {},
   "outputs": [],
   "source": [
    "dkeys = list(d.keys())[:153]"
   ]
  },
  {
   "cell_type": "code",
   "execution_count": 16,
   "id": "e123785d-264e-47f8-85e2-2aeb587a437d",
   "metadata": {},
   "outputs": [],
   "source": [
    "# dkeys"
   ]
  },
  {
   "cell_type": "code",
   "execution_count": 17,
   "id": "2af8240b-0c01-4132-ac4f-8ec6f722f643",
   "metadata": {},
   "outputs": [],
   "source": [
    "# c=0\n",
    "# accept = []\n",
    "# reject = []\n",
    "verdict = []\n",
    "for header, sequence in esm.data.read_fasta(dataset):\n",
    "    v = '.'.join(header.split()[1].split('.')[0:-1])\n",
    "    if v in dkeys:\n",
    "        verdict.append(True)\n",
    "    else:\n",
    "        verdict.append(False)\n",
    "    # if c==10: break\n",
    "    # c+=1"
   ]
  },
  {
   "cell_type": "code",
   "execution_count": 18,
   "id": "c86ffdb6-8d17-48b7-95df-782ceff5c08d",
   "metadata": {},
   "outputs": [
    {
     "data": {
      "text/plain": [
       "35667"
      ]
     },
     "execution_count": 18,
     "metadata": {},
     "output_type": "execute_result"
    }
   ],
   "source": [
    "len(verdict)"
   ]
  },
  {
   "cell_type": "code",
   "execution_count": 19,
   "id": "47543eb7-ed9f-46f5-b715-82a299590ad9",
   "metadata": {},
   "outputs": [],
   "source": [
    "import numpy as np"
   ]
  },
  {
   "cell_type": "code",
   "execution_count": 20,
   "id": "564ea878-4b8b-459f-9639-fb192d48b02d",
   "metadata": {},
   "outputs": [],
   "source": [
    "X = np.load('/home/rafsanjani/Dropbox/ABC-Research/Gail-Rosen/Codes/Xs-35667.npy')"
   ]
  },
  {
   "cell_type": "code",
   "execution_count": 21,
   "id": "af5e47b1-a0bd-4c41-95dd-cdf7b72e72c7",
   "metadata": {},
   "outputs": [
    {
     "data": {
      "text/plain": [
       "(35667, 1280)"
      ]
     },
     "execution_count": 21,
     "metadata": {},
     "output_type": "execute_result"
    }
   ],
   "source": [
    "X.shape"
   ]
  },
  {
   "cell_type": "code",
   "execution_count": 22,
   "id": "5a6d72b2-f483-4e54-b842-d09b4aca633f",
   "metadata": {
    "scrolled": true,
    "tags": []
   },
   "outputs": [],
   "source": [
    "c=0\n",
    "Xreshape = []\n",
    "for x, v in zip(X, verdict):\n",
    "    # print(x)\n",
    "    if v == True:\n",
    "        Xreshape.append(x)\n",
    "    else:\n",
    "        None\n",
    "    # if c==10: break\n",
    "    # c+=1"
   ]
  },
  {
   "cell_type": "code",
   "execution_count": 23,
   "id": "b24e6f2b-0904-4da3-8220-25ac71eba620",
   "metadata": {},
   "outputs": [],
   "source": [
    "Xreshape = np.array(Xreshape)"
   ]
  },
  {
   "cell_type": "code",
   "execution_count": 24,
   "id": "d5d075d3-3e1f-4c9e-9fda-a5ca570eaf9c",
   "metadata": {},
   "outputs": [
    {
     "data": {
      "text/plain": [
       "(22863, 1280)"
      ]
     },
     "execution_count": 24,
     "metadata": {},
     "output_type": "execute_result"
    }
   ],
   "source": [
    "Xreshape.shape"
   ]
  },
  {
   "cell_type": "code",
   "execution_count": 25,
   "id": "dd1fbac3-33b3-4898-8ebf-2c8080edd9e8",
   "metadata": {},
   "outputs": [
    {
     "data": {
      "text/plain": [
       "array([[ 0.10049941,  0.03679613, -0.03360916, ...,  0.03035077,\n",
       "        -0.10252801,  0.09472331],\n",
       "       [ 0.05662494,  0.0203409 ,  0.08400498, ...,  0.07114115,\n",
       "        -0.13347617,  0.21751517],\n",
       "       [ 0.0256628 ,  0.01615633,  0.05776972, ...,  0.04173521,\n",
       "        -0.05989721,  0.13533191],\n",
       "       ...,\n",
       "       [ 0.1442399 ,  0.22669452,  0.05988118, ..., -0.00292487,\n",
       "         0.00910784, -0.03938397],\n",
       "       [ 0.19505529,  0.24260761,  0.15776306, ..., -0.0188768 ,\n",
       "        -0.06356166, -0.1029704 ],\n",
       "       [ 0.04803786,  0.18014878, -0.02138744, ..., -0.0333483 ,\n",
       "         0.07324956,  0.07998279]], dtype=float32)"
      ]
     },
     "execution_count": 25,
     "metadata": {},
     "output_type": "execute_result"
    }
   ],
   "source": [
    "X"
   ]
  },
  {
   "cell_type": "code",
   "execution_count": 98,
   "id": "c0687f5f-5490-4a47-8767-1f3f0bde912e",
   "metadata": {},
   "outputs": [
    {
     "data": {
      "text/plain": [
       "12804"
      ]
     },
     "execution_count": 98,
     "metadata": {},
     "output_type": "execute_result"
    }
   ],
   "source": [
    "len(reject)"
   ]
  },
  {
   "cell_type": "code",
   "execution_count": 58,
   "id": "99b8c38d-228f-418d-b1df-def238141199",
   "metadata": {},
   "outputs": [
    {
     "data": {
      "text/plain": [
       "35667"
      ]
     },
     "execution_count": 58,
     "metadata": {},
     "output_type": "execute_result"
    }
   ],
   "source": [
    "len(accept)+len(reject)"
   ]
  },
  {
   "cell_type": "code",
   "execution_count": 101,
   "id": "5614b7a0",
   "metadata": {},
   "outputs": [
    {
     "data": {
      "text/plain": [
       "2065"
      ]
     },
     "execution_count": 101,
     "metadata": {},
     "output_type": "execute_result"
    }
   ],
   "source": [
    "len(d)"
   ]
  },
  {
   "cell_type": "code",
   "execution_count": 56,
   "id": "bdcb266d",
   "metadata": {},
   "outputs": [],
   "source": [
    "# d.values()\n"
   ]
  },
  {
   "cell_type": "code",
   "execution_count": 57,
   "id": "5e840b9a-f174-4f51-9954-59baac2d9f36",
   "metadata": {},
   "outputs": [],
   "source": [
    "v = list(d.values())"
   ]
  },
  {
   "cell_type": "code",
   "execution_count": 58,
   "id": "127d02cb-2a9c-4e07-91a5-4b969d2d67a0",
   "metadata": {},
   "outputs": [],
   "source": [
    "# v"
   ]
  },
  {
   "cell_type": "code",
   "execution_count": 59,
   "id": "69b7baa2-a835-4504-8c21-222316811908",
   "metadata": {},
   "outputs": [],
   "source": [
    "v = sorted(v, reverse=True)"
   ]
  },
  {
   "cell_type": "code",
   "execution_count": 69,
   "id": "e84901a1-876f-4a4e-8216-26ea3d94e60a",
   "metadata": {},
   "outputs": [],
   "source": [
    "C=1\n",
    "d = {}\n",
    "for header, sequence in esm.data.read_fasta(dataset):\n",
    "    v = '.'.join(header.split()[1].split('.')[0:-1])\n",
    "    \n",
    "    if v not in d:\n",
    "        d[v] = 1\n",
    "    else:\n",
    "        d[v] += 1\n",
    "    # print(header)\n",
    "    # if C==10: break\n",
    "    # C+=1"
   ]
  },
  {
   "cell_type": "code",
   "execution_count": 71,
   "id": "664905ce-0425-4e2a-a8ac-19904a33609c",
   "metadata": {},
   "outputs": [],
   "source": [
    "v=[]\n",
    "for i in d.values():\n",
    "    v.append(i)\n"
   ]
  },
  {
   "cell_type": "code",
   "execution_count": 72,
   "id": "21031def-a648-4cef-84a8-586bcf69827a",
   "metadata": {},
   "outputs": [],
   "source": [
    "v = sorted(v, reverse=True)"
   ]
  },
  {
   "cell_type": "code",
   "execution_count": 78,
   "id": "0fbd729e-cdf3-43c1-92e8-4f48e21a92a3",
   "metadata": {},
   "outputs": [
    {
     "data": {
      "text/plain": [
       "153"
      ]
     },
     "execution_count": 78,
     "metadata": {},
     "output_type": "execute_result"
    }
   ],
   "source": [
    "len(v[:153])"
   ]
  },
  {
   "cell_type": "code",
   "execution_count": 79,
   "id": "8e09de06-3913-4829-be03-7bb0a06da98e",
   "metadata": {},
   "outputs": [
    {
     "data": {
      "text/plain": [
       "22863"
      ]
     },
     "execution_count": 79,
     "metadata": {},
     "output_type": "execute_result"
    }
   ],
   "source": [
    "sum(v[:153])"
   ]
  },
  {
   "cell_type": "code",
   "execution_count": 68,
   "id": "10594208-0536-4c76-a030-10200903912a",
   "metadata": {},
   "outputs": [
    {
     "data": {
      "text/plain": [
       "'g.103.1'"
      ]
     },
     "execution_count": 68,
     "metadata": {},
     "output_type": "execute_result"
    }
   ],
   "source": [
    "v[:154]"
   ]
  },
  {
   "cell_type": "code",
   "execution_count": 60,
   "id": "9d716785-79e7-469d-8e04-11b4ed1a1f37",
   "metadata": {},
   "outputs": [
    {
     "data": {
      "text/plain": [
       "23059"
      ]
     },
     "execution_count": 60,
     "metadata": {},
     "output_type": "execute_result"
    }
   ],
   "source": [
    "sum(v[:157])"
   ]
  },
  {
   "cell_type": "code",
   "execution_count": 65,
   "id": "bcd64c85-4e66-4b62-9c09-9e753e1a3e49",
   "metadata": {},
   "outputs": [
    {
     "data": {
      "text/plain": [
       "30988"
      ]
     },
     "execution_count": 65,
     "metadata": {},
     "output_type": "execute_result"
    }
   ],
   "source": [
    "sum(v[:536])"
   ]
  },
  {
   "cell_type": "code",
   "execution_count": 67,
   "id": "8a362ea9-828c-44c3-826e-d5d96bd2d322",
   "metadata": {},
   "outputs": [],
   "source": [
    "# v[:536]"
   ]
  },
  {
   "cell_type": "code",
   "execution_count": 81,
   "id": "3961ca5f-da17-43d6-8325-b4d02fd42615",
   "metadata": {},
   "outputs": [
    {
     "data": {
      "text/plain": [
       "28080"
      ]
     },
     "execution_count": 81,
     "metadata": {},
     "output_type": "execute_result"
    }
   ],
   "source": [
    "sum(v[:320])"
   ]
  },
  {
   "cell_type": "code",
   "execution_count": null,
   "id": "d8366a0d-a208-48a7-b7e4-c8fab74eb943",
   "metadata": {},
   "outputs": [],
   "source": []
  }
 ],
 "metadata": {
  "kernelspec": {
   "display_name": "Python 3 (ipykernel)",
   "language": "python",
   "name": "python3"
  },
  "language_info": {
   "codemirror_mode": {
    "name": "ipython",
    "version": 3
   },
   "file_extension": ".py",
   "mimetype": "text/x-python",
   "name": "python",
   "nbconvert_exporter": "python",
   "pygments_lexer": "ipython3",
   "version": "3.8.12"
  }
 },
 "nbformat": 4,
 "nbformat_minor": 5
}
