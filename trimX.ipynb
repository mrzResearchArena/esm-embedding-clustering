{
 "cells": [
  {
   "cell_type": "code",
   "execution_count": 72,
   "id": "e2bcfde4",
   "metadata": {},
   "outputs": [],
   "source": [
    "import esm\n",
    "import torch"
   ]
  },
  {
   "cell_type": "code",
   "execution_count": 73,
   "id": "886a04bb",
   "metadata": {},
   "outputs": [],
   "source": [
    "# !python scripts/extract.py esm1b_t33_650M_UR50S examples/data/some_proteins.fasta examples/data/some_proteins_emb_esm1b/ --repr_layers 0 32 33 --include mean per_tok"
   ]
  },
  {
   "cell_type": "code",
   "execution_count": 74,
   "id": "2fda97a6",
   "metadata": {},
   "outputs": [],
   "source": [
    "# !python /home/rafsanjani/Dropbox/ABC-Research/Gail-Rosen/esm/scripts/extract.py esm1v_t33_650M_UR90S_1 some_proteins.fasta some_proteins_esm1v --repr_layers 33 --include mean"
   ]
  },
  {
   "cell_type": "code",
   "execution_count": 75,
   "id": "c9046a52",
   "metadata": {},
   "outputs": [],
   "source": [
    "# !python /home/rafsanjani/Dropbox/ABC-Research/Gail-Rosen/esm/scripts/extract.py esm_if1_gvp4_t16_142M_UR50 some_proteins.fasta some_proteins_esm1v --include mean"
   ]
  },
  {
   "cell_type": "code",
   "execution_count": 76,
   "id": "e42be504",
   "metadata": {},
   "outputs": [],
   "source": [
    "# !python /home/rafsanjani/Dropbox/ABC-Research/Gail-Rosen/esm/scripts/extract.py esm_msa1b_t12_100M_UR50S some_proteins.fasta some_proteins_esm1v --repr_layers 33 --include mean"
   ]
  },
  {
   "cell_type": "code",
   "execution_count": 77,
   "id": "798d79b4",
   "metadata": {},
   "outputs": [],
   "source": [
    "# !python /home/rafsanjani/Dropbox/ABC-Research/Gail-Rosen/esm/scripts/extract.py esm1v_t33_650M_UR90S_1 some_proteins.fasta some_proteins_esm1v/ --repr_layers 33 --include mean"
   ]
  },
  {
   "cell_type": "code",
   "execution_count": 78,
   "id": "65a3fcce",
   "metadata": {},
   "outputs": [],
   "source": [
    "# datasetLocation = '/home/rafsanjani/backup-research/some_proteins.fasta'\n",
    "# embeddingLocation = '/home/rafsanjani/backup-research/some_proteins_esm1v'\n",
    "# embeddingLayer = 33"
   ]
  },
  {
   "cell_type": "code",
   "execution_count": 79,
   "id": "d5bd0046",
   "metadata": {},
   "outputs": [],
   "source": [
    "# Xs = []\n",
    "# for header, _seq in esm.data.read_fasta(datasetLocation):\n",
    "#     fn = f'{embeddingLocation}/{header[1:]}.pt'\n",
    "#     embedding = torch.load(fn)\n",
    "#     # print(embs)\n",
    "#     # print()\n",
    "#     Xs.append(embedding['mean_representations'][embeddingLayer])\n",
    "# #end-for\n",
    "# Xs = torch.stack(Xs, dim=0).numpy()\n",
    "# print(Xs.shape)"
   ]
  },
  {
   "cell_type": "code",
   "execution_count": 80,
   "id": "b3b301fa",
   "metadata": {},
   "outputs": [],
   "source": [
    "# Xs[0]"
   ]
  },
  {
   "cell_type": "code",
   "execution_count": 81,
   "id": "6668c76a",
   "metadata": {},
   "outputs": [],
   "source": [
    "# Xs[0].shape"
   ]
  },
  {
   "cell_type": "code",
   "execution_count": 82,
   "id": "a4c2cd91",
   "metadata": {},
   "outputs": [],
   "source": [
    "# !python /home/rafsanjani/Dropbox/ABC-Research/Gail-Rosen/esm/scripts/extract.py esm_if1_gvp4_t16_142M_UR50 some_proteins.fasta testModel/ --include mean per_tok"
   ]
  },
  {
   "cell_type": "code",
   "execution_count": 83,
   "id": "05be0b24-99ec-47a3-9804-6ac553935ba1",
   "metadata": {},
   "outputs": [
    {
     "name": "stdout",
     "output_type": "stream",
     "text": [
      "--2022-08-20 03:12:18--  https://scop.berkeley.edu/downloads/scopeseq-2.08/astral-scopedom-seqres-sel-gs-bib-95-2.08.fa\n",
      "Resolving scop.berkeley.edu (scop.berkeley.edu)... 128.32.236.13\n",
      "Connecting to scop.berkeley.edu (scop.berkeley.edu)|128.32.236.13|:443... connected.\n",
      "HTTP request sent, awaiting response... 200 OK\n",
      "Length: 9862103 (9.4M)\n",
      "Saving to: ‘astral-scopedom-seqres-sel-gs-bib-95-2.08.fa.1’\n",
      "\n",
      "astral-scopedom-seq 100%[===================>]   9.40M   872KB/s    in 11s     \n",
      "\n",
      "2022-08-20 03:12:32 (889 KB/s) - ‘astral-scopedom-seqres-sel-gs-bib-95-2.08.fa.1’ saved [9862103/9862103]\n",
      "\n"
     ]
    }
   ],
   "source": [
    "!wget 'https://scop.berkeley.edu/downloads/scopeseq-2.08/astral-scopedom-seqres-sel-gs-bib-95-2.08.fa'"
   ]
  },
  {
   "cell_type": "code",
   "execution_count": 182,
   "id": "6815f06f",
   "metadata": {},
   "outputs": [],
   "source": [
    "dataset = 'astral-scopedom-seqres-sel-gs-bib-95-2.08.fa'"
   ]
  },
  {
   "cell_type": "code",
   "execution_count": 183,
   "id": "8a35ce29",
   "metadata": {},
   "outputs": [],
   "source": [
    "C=1\n",
    "d = {}\n",
    "for header, sequence in esm.data.read_fasta(dataset):\n",
    "    v = '.'.join(header.split()[1].split('.')[0:-1])\n",
    "    \n",
    "    if v not in d:\n",
    "        d[v] = 1\n",
    "    else:\n",
    "        d[v] += 1\n",
    "    # print(header)\n",
    "    # if C==10: break\n",
    "    # C+=1"
   ]
  },
  {
   "cell_type": "code",
   "execution_count": 184,
   "id": "99abb8ff-2b24-4f74-b5b7-e36d6dc940ce",
   "metadata": {},
   "outputs": [
    {
     "data": {
      "text/plain": [
       "[('a.1.1', 253),\n",
       " ('a.1.2', 8),\n",
       " ('a.2.1', 3),\n",
       " ('a.2.2', 6),\n",
       " ('a.2.3', 24),\n",
       " ('a.2.5', 2),\n",
       " ('a.2.6', 3),\n",
       " ('a.2.7', 6),\n",
       " ('a.2.8', 1),\n",
       " ('a.2.9', 2)]"
      ]
     },
     "execution_count": 184,
     "metadata": {},
     "output_type": "execute_result"
    }
   ],
   "source": [
    "# d\n",
    "list(d.items())[:10]"
   ]
  },
  {
   "cell_type": "code",
   "execution_count": 185,
   "id": "bc4adbb6-8bd3-426f-9011-e9567deff739",
   "metadata": {},
   "outputs": [
    {
     "data": {
      "text/plain": [
       "2065"
      ]
     },
     "execution_count": 185,
     "metadata": {},
     "output_type": "execute_result"
    }
   ],
   "source": [
    "len(list(d.items()))"
   ]
  },
  {
   "cell_type": "code",
   "execution_count": 186,
   "id": "39ed438f-798e-467d-ba94-f8547ca19a55",
   "metadata": {},
   "outputs": [],
   "source": [
    "# d\n",
    "d  = dict(sorted(d.items(), key=lambda item: item[1], reverse=True))"
   ]
  },
  {
   "cell_type": "code",
   "execution_count": 187,
   "id": "ff4b3d57-75bd-49c3-be4d-6349811117b6",
   "metadata": {},
   "outputs": [
    {
     "data": {
      "text/plain": [
       "[('b.1.1', 4120),\n",
       " ('c.37.1', 887),\n",
       " ('c.2.1', 815),\n",
       " ('c.47.1', 561),\n",
       " ('a.4.5', 374),\n",
       " ('d.144.1', 364),\n",
       " ('c.1.8', 359),\n",
       " ('c.94.1', 331),\n",
       " ('c.67.1', 330),\n",
       " ('c.69.1', 311)]"
      ]
     },
     "execution_count": 187,
     "metadata": {},
     "output_type": "execute_result"
    }
   ],
   "source": [
    "list(d.items())[:10]"
   ]
  },
  {
   "cell_type": "code",
   "execution_count": 188,
   "id": "9fad7f1e-394a-441a-b43d-3fcd9c1d1660",
   "metadata": {},
   "outputs": [],
   "source": [
    "dkeys = list(d.keys())[:192]"
   ]
  },
  {
   "cell_type": "code",
   "execution_count": 189,
   "id": "e123785d-264e-47f8-85e2-2aeb587a437d",
   "metadata": {},
   "outputs": [
    {
     "data": {
      "text/plain": [
       "['b.1.1',\n",
       " 'c.37.1',\n",
       " 'c.2.1',\n",
       " 'c.47.1',\n",
       " 'a.4.5',\n",
       " 'd.144.1',\n",
       " 'c.1.8',\n",
       " 'c.94.1',\n",
       " 'c.67.1',\n",
       " 'c.69.1']"
      ]
     },
     "execution_count": 189,
     "metadata": {},
     "output_type": "execute_result"
    }
   ],
   "source": [
    "dkeys[:10]"
   ]
  },
  {
   "cell_type": "code",
   "execution_count": 190,
   "id": "2af8240b-0c01-4132-ac4f-8ec6f722f643",
   "metadata": {},
   "outputs": [],
   "source": [
    "# c=0\n",
    "# accept = []\n",
    "# reject = []\n",
    "verdicts = []\n",
    "for header, sequence in esm.data.read_fasta(dataset):\n",
    "    v = '.'.join(header.split()[1].split('.')[0:-1])\n",
    "    if v in dkeys:\n",
    "        verdicts.append(True)\n",
    "    else:\n",
    "        verdicts.append(False)\n",
    "    # if c==10: break\n",
    "    # c+=1"
   ]
  },
  {
   "cell_type": "code",
   "execution_count": 191,
   "id": "c86ffdb6-8d17-48b7-95df-782ceff5c08d",
   "metadata": {},
   "outputs": [
    {
     "data": {
      "text/plain": [
       "35667"
      ]
     },
     "execution_count": 191,
     "metadata": {},
     "output_type": "execute_result"
    }
   ],
   "source": [
    "len(verdicts)"
   ]
  },
  {
   "cell_type": "code",
   "execution_count": 192,
   "id": "8ddfefe7-8e02-4af4-bfc8-9dd8526942eb",
   "metadata": {},
   "outputs": [
    {
     "data": {
      "text/plain": [
       "24578"
      ]
     },
     "execution_count": 192,
     "metadata": {},
     "output_type": "execute_result"
    }
   ],
   "source": [
    "sum(verdicts)"
   ]
  },
  {
   "cell_type": "markdown",
   "id": "a37eec9a-495f-42fe-a79f-924062460fd1",
   "metadata": {},
   "source": [
    "### Reshaped the X:"
   ]
  },
  {
   "cell_type": "code",
   "execution_count": 193,
   "id": "47543eb7-ed9f-46f5-b715-82a299590ad9",
   "metadata": {},
   "outputs": [],
   "source": [
    "import numpy as np"
   ]
  },
  {
   "cell_type": "code",
   "execution_count": 194,
   "id": "564ea878-4b8b-459f-9639-fb192d48b02d",
   "metadata": {},
   "outputs": [],
   "source": [
    "X = np.load('Xb-35667.npy')"
   ]
  },
  {
   "cell_type": "code",
   "execution_count": 195,
   "id": "af5e47b1-a0bd-4c41-95dd-cdf7b72e72c7",
   "metadata": {},
   "outputs": [
    {
     "data": {
      "text/plain": [
       "(35667, 1280)"
      ]
     },
     "execution_count": 195,
     "metadata": {},
     "output_type": "execute_result"
    }
   ],
   "source": [
    "X.shape"
   ]
  },
  {
   "cell_type": "code",
   "execution_count": 196,
   "id": "5a6d72b2-f483-4e54-b842-d09b4aca633f",
   "metadata": {
    "scrolled": true,
    "tags": []
   },
   "outputs": [],
   "source": [
    "c=0\n",
    "Xreshaped = []\n",
    "for x, v in zip(X, verdicts):\n",
    "    # print(x)\n",
    "    if v == True:\n",
    "        Xreshaped.append(x)\n",
    "    else:\n",
    "        None\n",
    "    # if c==10: break\n",
    "    # c+=1"
   ]
  },
  {
   "cell_type": "code",
   "execution_count": 197,
   "id": "b24e6f2b-0904-4da3-8220-25ac71eba620",
   "metadata": {},
   "outputs": [],
   "source": [
    "Xreshaped = np.array(Xreshaped)"
   ]
  },
  {
   "cell_type": "code",
   "execution_count": 198,
   "id": "d5d075d3-3e1f-4c9e-9fda-a5ca570eaf9c",
   "metadata": {},
   "outputs": [
    {
     "data": {
      "text/plain": [
       "(24578, 1280)"
      ]
     },
     "execution_count": 198,
     "metadata": {},
     "output_type": "execute_result"
    }
   ],
   "source": [
    "Xreshaped.shape"
   ]
  },
  {
   "cell_type": "code",
   "execution_count": 199,
   "id": "dd1fbac3-33b3-4898-8ebf-2c8080edd9e8",
   "metadata": {},
   "outputs": [],
   "source": [
    "np.save(arr=Xreshaped, file='Xb-24578')"
   ]
  },
  {
   "cell_type": "code",
   "execution_count": 200,
   "id": "127d02cb-2a9c-4e07-91a5-4b969d2d67a0",
   "metadata": {},
   "outputs": [],
   "source": [
    "# v"
   ]
  },
  {
   "cell_type": "code",
   "execution_count": 201,
   "id": "e958d117-c8e9-4d9d-9fef-6f1f6e36a835",
   "metadata": {},
   "outputs": [
    {
     "name": "stdout",
     "output_type": "stream",
     "text": [
      "originalLabels.npy  Xb-24578.npy  Xb-35667.npy\tXv-24578.npy  Xv-35667.npy\n"
     ]
    }
   ],
   "source": [
    "!ls *.npy"
   ]
  },
  {
   "cell_type": "code",
   "execution_count": null,
   "id": "38bb2b97-833b-4ab6-a5c1-80bb2e8b769f",
   "metadata": {},
   "outputs": [],
   "source": []
  },
  {
   "cell_type": "code",
   "execution_count": 204,
   "id": "cb06fe63-60a7-485c-973d-2253b01e8b8f",
   "metadata": {},
   "outputs": [],
   "source": [
    "b = np.load('Xb-24578.npy')\n",
    "v = np.load('Xv-24578.npy')"
   ]
  },
  {
   "cell_type": "code",
   "execution_count": 205,
   "id": "0d70602d-42e3-4e2e-af99-ecefde7cb200",
   "metadata": {},
   "outputs": [
    {
     "data": {
      "text/plain": [
       "array([ 0.10049941,  0.03679613, -0.03360916, ...,  0.03035077,\n",
       "       -0.10252801,  0.09472331], dtype=float32)"
      ]
     },
     "execution_count": 205,
     "metadata": {},
     "output_type": "execute_result"
    }
   ],
   "source": [
    "b[0]"
   ]
  },
  {
   "cell_type": "code",
   "execution_count": 206,
   "id": "9208b654-518e-40a8-81fa-37a8be78e834",
   "metadata": {},
   "outputs": [
    {
     "data": {
      "text/plain": [
       "array([-0.29983026,  0.11840016, -0.16924363, ..., -0.0946147 ,\n",
       "        0.17599516,  0.22368872], dtype=float32)"
      ]
     },
     "execution_count": 206,
     "metadata": {},
     "output_type": "execute_result"
    }
   ],
   "source": [
    "v[0]"
   ]
  },
  {
   "cell_type": "code",
   "execution_count": null,
   "id": "4d2794ff-4bf2-4ccf-bb9c-d68160ea86a4",
   "metadata": {},
   "outputs": [],
   "source": []
  },
  {
   "cell_type": "code",
   "execution_count": null,
   "id": "bd413ba4-9e96-4434-b82b-dea53c2dec46",
   "metadata": {},
   "outputs": [],
   "source": []
  }
 ],
 "metadata": {
  "kernelspec": {
   "display_name": "Python 3 (ipykernel)",
   "language": "python",
   "name": "python3"
  },
  "language_info": {
   "codemirror_mode": {
    "name": "ipython",
    "version": 3
   },
   "file_extension": ".py",
   "mimetype": "text/x-python",
   "name": "python",
   "nbconvert_exporter": "python",
   "pygments_lexer": "ipython3",
   "version": "3.7.13"
  }
 },
 "nbformat": 4,
 "nbformat_minor": 5
}
