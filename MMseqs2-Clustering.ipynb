{
 "cells": [
  {
   "cell_type": "code",
   "execution_count": 1,
   "id": "d6f464eb",
   "metadata": {},
   "outputs": [],
   "source": [
    "# %%bash\n",
    "\n",
    "# if [ -f '/home/rafsanjani/backup-research' mmseqs/util/bash-completion.sh ]; then\n",
    "#     source '/home/rafsanjani/backup-research' mmseqs2/util/bash-completion.sh\n",
    "# fi"
   ]
  },
  {
   "cell_type": "markdown",
   "id": "ddafd28f-b46a-4785-9c15-51853fbc4994",
   "metadata": {},
   "source": [
    "### Simple, Fast and Agile:"
   ]
  },
  {
   "cell_type": "code",
   "execution_count": 193,
   "id": "ea7330d2-b1dc-4c9a-a026-63a86ebc9901",
   "metadata": {},
   "outputs": [],
   "source": [
    "import pandas as pd\n",
    "import numpy as np\n",
    "import esm"
   ]
  },
  {
   "cell_type": "code",
   "execution_count": 194,
   "id": "8a79139c-142b-4214-938d-abea69c56c9a",
   "metadata": {},
   "outputs": [],
   "source": [
    "# !mmseqs createdb -h"
   ]
  },
  {
   "cell_type": "code",
   "execution_count": 195,
   "id": "81a04977-c06c-499f-bf53-a019bc0c84b7",
   "metadata": {},
   "outputs": [],
   "source": [
    "# !wget https://raw.githubusercontent.com/mrzResearchArena/esm-embedding-clustering/main/Datasets/astral-SCOPe-K192.fa"
   ]
  },
  {
   "cell_type": "code",
   "execution_count": 196,
   "id": "70a04f3f-1123-4326-99b7-31a588233288",
   "metadata": {},
   "outputs": [
    {
     "name": "stdout",
     "output_type": "stream",
     "text": [
      "astral-SCOPe-K192.fa   astral-SCOPe-K192-numerical-header.fa\n",
      "astral-SCOPe-K192+.fa\n"
     ]
    }
   ],
   "source": [
    "!ls astral-SCOPe-K192*"
   ]
  },
  {
   "cell_type": "code",
   "execution_count": 197,
   "id": "590b134e-e3cc-4142-8772-af7b4c782a18",
   "metadata": {},
   "outputs": [],
   "source": [
    "# !mmseqs easy-cluster -h"
   ]
  },
  {
   "cell_type": "code",
   "execution_count": 198,
   "id": "74faf9d6-7331-407c-891e-6efb0b60cc72",
   "metadata": {},
   "outputs": [],
   "source": [
    "C=0\n",
    "file = open(file='astral-SCOPe-K192+.fa', mode='w')\n",
    "for header, sequence in esm.data.read_fasta('astral-SCOPe-K192.fa'):\n",
    "    header = '+'.join(header.split())\n",
    "    # print(header)\n",
    "    file.write(f'{header}\\n')\n",
    "    file.write(f'{sequence}\\n')\n",
    "    C+=1\n",
    "    # break\n",
    "file.close()"
   ]
  },
  {
   "cell_type": "code",
   "execution_count": 199,
   "id": "ce34433a-919d-4e63-a02c-128210240f65",
   "metadata": {},
   "outputs": [
    {
     "data": {
      "text/plain": [
       "'>d2rsda1+g.50.1.0'"
      ]
     },
     "execution_count": 199,
     "metadata": {},
     "output_type": "execute_result"
    }
   ],
   "source": [
    "header"
   ]
  },
  {
   "cell_type": "markdown",
   "id": "65f9ff01-c7d2-4b6f-be28-2c144a92e8cd",
   "metadata": {},
   "source": [
    "#### Examples:\n",
    "- mmseqs easy-cluster examples/DB.fasta result tmp\n",
    "  - result_rep_seq.fasta: Representatives\n",
    "  - result_all_seq.fasta: FASTA-like per cluster\n",
    "  - result_cluster.tsv:   Adjacency list\n",
    " \n",
    "- Important parameters: --min-seq-id, --cov-mode, -c\n",
    "\n",
    "#### Parameters:\n",
    "\n",
    "![params](mmseqs2-params.png)"
   ]
  },
  {
   "cell_type": "code",
   "execution_count": 200,
   "id": "81d4e2c5-182b-4564-b7b7-88d13a06f11d",
   "metadata": {},
   "outputs": [],
   "source": [
    "!mmseqs easy-cluster \\\n",
    "    astral-SCOPe-K192+.fa\\\n",
    "    clusterFiles temporary\\\n",
    "    --cov-mode 1\\\n",
    "    -c 0.80\\\n",
    "    --cluster-reassign 0\\\n",
    "    --max-iterations 5000\\\n",
    "    --cluster-steps 9\\\n",
    "    -v 0"
   ]
  },
  {
   "cell_type": "code",
   "execution_count": 201,
   "id": "9ac16deb-1fae-4715-aee8-24af1c5a0fdc",
   "metadata": {},
   "outputs": [
    {
     "name": "stdout",
     "output_type": "stream",
     "text": [
      "clusterFiles_all_seqs.fasta  clusterFiles_rep_seq.fasta\n",
      "clusterFiles_cluster.tsv\n"
     ]
    }
   ],
   "source": [
    "!ls clusterFiles*"
   ]
  },
  {
   "cell_type": "code",
   "execution_count": 202,
   "id": "3180baf3-df6f-444e-b56a-12d0c04a28ad",
   "metadata": {},
   "outputs": [
    {
     "name": "stdout",
     "output_type": "stream",
     "text": [
      ">d1irxa2+c.26.1.1\n",
      ">d1irxa2+c.26.1.1\n",
      "HWADYIADKIIRERGEKEKYVVESGITPSGYVHVGNFRELFTAYIVGHALRDKGYEVRHIHMWDDYDRFRKVPRNVPQEWKDYLGMPISEVPDPWGCHESYAEHFMRKFEEEVEKLGIEVDLLYASELYKRGEYSEEIRLAFEKRDKIMEILNKYREIAKQPPLPENWWPAMVYCPEHRREAEIIEWDGGWKVKYKCPEGHEGWVDIRSGNVKLRWRVDWPMRWSHFGVDFEPAGKDHLVAGSSYDTGKEIIKEVYGKEAPLSLMYEFVGIKGQKGKMSGSKGNVILLSDLYEVLEPGLVRFIYARHRPNKEIKIDL\n",
      ">d2zlza_+c.26.1.1\n",
      ">d2zlza_+c.26.1.1\n",
      "DTQYIGRFAPSPSGELHFGSLIAALGSYLQARARQGRWLVRIEDIDPPREVPGAAETILRQLEHYGLHWDGDVLWQSQRHDAYREALAWLHEQGLSYYCTCTRARIQSIGGIYDGHCRVLHHGPDNAAVRIRQQHPVTQFTDQLRGIIHADEKLAREDFIIHRRDGLFAYNLAVVVDDHFQGVTEIVRGADLIEPTVRQISLYQLFGWKVPDYIHLPLALNPQGAKLSKQNHAPALPKGDPRPVLIAALQFLGQQAEAHWQDFSVEQILQSAVKNWRLTAVPESAIVNSTFSNASC\n",
      ">d1h3na3+c.26.1.1\n",
      ">d1h3na3+c.26.1.1\n",
      "MEKYNPHAIEAKWQRFWEEKGFMKAKDLPGGRGKQYVLVMFPYPSGDLHMGHLKNYTMGDVLARFRRMQGYEVLHPMGWDAFGLPAENAALKFGVHPKDWTYANIRQAKESLRLMGILYDWDREVTTCEPEYYRWNQWIFLKMWEKGLAYRAKGLVNWCPKCQTVLANEQVVEGRCWRHEDTPVEKRELEQWYLRITAYAERLLKDLEGLNWPEKVKAMQRAWIGXRLRDWLISRQRYWGTPIPMVHCEACGVVPVPEEELPVLLPDLKDVEDIRPKGKSPLEAHPEFYETTCPKCGGPAKRDTDTMDTFFDSSWYYLRYTDPHNDRLPFDPEKANAWMPVDQYIGGVEHAVLHLLYSRFFTKFLHDLGMVKVEEPFQGLFTQGMVLAWTDFGPVEVEGSVVRLPEPTRIRLEIPESALSLEDVRKMGAELRPHEDGTLHLWKPAVMSKSKGNGVMVGPFVKEQGADIARITILFAAPPENEMVWTEEGVQGAWR\n",
      ">d1ffya3+c.26.1.1\n",
      "cat: write error: Broken pipe\n"
     ]
    }
   ],
   "source": [
    "cat clusterFiles_all_seqs.fasta | head -10"
   ]
  },
  {
   "cell_type": "code",
   "execution_count": 203,
   "id": "add7adb4-98ce-43d5-925f-db5ac0fbd57c",
   "metadata": {},
   "outputs": [
    {
     "name": "stdout",
     "output_type": "stream",
     "text": [
      ">d1repc2+a.4.5.10 \n",
      "NRFTQFRLSETKEITNPYAMRLYESLCQYRKPDGSGIVSLKIDWIIERYQLPQSYQRMPDFRRRFLQVCVNEINSRTPMRLSYIEKKKGRQTTHIVFSFRDIT\n",
      ">d2nrac1+a.4.5.10 \n",
      "VNKKTKIRHRNELNHTLAQLPLPAKRVMYMALALIDSKEPLERGRVFKIRAEDLAALAKITPSLAYRQLKEGGKLLGASKISLRGDDIIALAKELNLLSTAKNSSEELDLNIIEWIAYSPDEGYLSLKFTRTIEPYISSLIGK\n",
      ">d2nrac2+a.4.5.10 \n",
      "KNKFTTQLLTASLRLSSQYSSSLYQLIRKHYSNFKKKNYFIISVDELKEELIAYTFDKDGNIEYKYPDFPIFKRDVLNKAIAEIKKKTEISFVGFTVHEKEGRKISKLKFEFVVDED\n",
      ">d1hkqa_+a.4.5.10 \n",
      "QSNKLIESSHTLTLNEKRLVLCAASLIDSRKPLPKDGYLTIRADTFAEVFGIDVKHAYAALDDAATKLFNRDIRRYVKGKVVERMRWVFHVKYREGQGCVELGFSPTIIPHLTMLHKEFTSYQLK\n",
      ">d2byka1+a.22.1.3 \n",
      "MKSSMDTGLITNEVLFLMTKCTELFVRHLAGAAYTEEFGQRPGEALKYEHLSQVVNKNKNLEFLLQIVPQKI\n",
      "cat: write error: Broken pipe\n"
     ]
    }
   ],
   "source": [
    "cat clusterFiles_rep_seq.fasta | head -10"
   ]
  },
  {
   "cell_type": "code",
   "execution_count": 204,
   "id": "2e721ba8-2d8f-44ba-97c1-9a0788c1e1de",
   "metadata": {},
   "outputs": [
    {
     "data": {
      "text/html": [
       "<div>\n",
       "<style scoped>\n",
       "    .dataframe tbody tr th:only-of-type {\n",
       "        vertical-align: middle;\n",
       "    }\n",
       "\n",
       "    .dataframe tbody tr th {\n",
       "        vertical-align: top;\n",
       "    }\n",
       "\n",
       "    .dataframe thead th {\n",
       "        text-align: right;\n",
       "    }\n",
       "</style>\n",
       "<table border=\"1\" class=\"dataframe\">\n",
       "  <thead>\n",
       "    <tr style=\"text-align: right;\">\n",
       "      <th></th>\n",
       "      <th>0</th>\n",
       "      <th>1</th>\n",
       "    </tr>\n",
       "  </thead>\n",
       "  <tbody>\n",
       "    <tr>\n",
       "      <th>0</th>\n",
       "      <td>d3k2mc_+b.1.2.0</td>\n",
       "      <td>d3k2mc_+b.1.2.0</td>\n",
       "    </tr>\n",
       "    <tr>\n",
       "      <th>1</th>\n",
       "      <td>d3k2mc_+b.1.2.0</td>\n",
       "      <td>d3csba1+b.1.2.1</td>\n",
       "    </tr>\n",
       "    <tr>\n",
       "      <th>2</th>\n",
       "      <td>d3k2mc_+b.1.2.0</td>\n",
       "      <td>d3qhtc_+b.1.2.0</td>\n",
       "    </tr>\n",
       "    <tr>\n",
       "      <th>3</th>\n",
       "      <td>d3k2mc_+b.1.2.0</td>\n",
       "      <td>d5c6pb_+b.1.2.0</td>\n",
       "    </tr>\n",
       "    <tr>\n",
       "      <th>4</th>\n",
       "      <td>d3k2mc_+b.1.2.0</td>\n",
       "      <td>d6wk9c_+b.1.2.0</td>\n",
       "    </tr>\n",
       "    <tr>\n",
       "      <th>...</th>\n",
       "      <td>...</td>\n",
       "      <td>...</td>\n",
       "    </tr>\n",
       "    <tr>\n",
       "      <th>24573</th>\n",
       "      <td>d1kfwa1+c.1.8.5</td>\n",
       "      <td>d1itxa1+c.1.8.5</td>\n",
       "    </tr>\n",
       "    <tr>\n",
       "      <th>24574</th>\n",
       "      <td>d1kfwa1+c.1.8.5</td>\n",
       "      <td>d1wb0a1+c.1.8.5</td>\n",
       "    </tr>\n",
       "    <tr>\n",
       "      <th>24575</th>\n",
       "      <td>d1kfwa1+c.1.8.5</td>\n",
       "      <td>d1vf8a1+c.1.8.5</td>\n",
       "    </tr>\n",
       "    <tr>\n",
       "      <th>24576</th>\n",
       "      <td>d1kfwa1+c.1.8.5</td>\n",
       "      <td>d1goia2+c.1.8.5</td>\n",
       "    </tr>\n",
       "    <tr>\n",
       "      <th>24577</th>\n",
       "      <td>d1nara_+c.1.8.5</td>\n",
       "      <td>d1nara_+c.1.8.5</td>\n",
       "    </tr>\n",
       "  </tbody>\n",
       "</table>\n",
       "<p>24578 rows × 2 columns</p>\n",
       "</div>"
      ],
      "text/plain": [
       "                     0                1\n",
       "0      d3k2mc_+b.1.2.0  d3k2mc_+b.1.2.0\n",
       "1      d3k2mc_+b.1.2.0  d3csba1+b.1.2.1\n",
       "2      d3k2mc_+b.1.2.0  d3qhtc_+b.1.2.0\n",
       "3      d3k2mc_+b.1.2.0  d5c6pb_+b.1.2.0\n",
       "4      d3k2mc_+b.1.2.0  d6wk9c_+b.1.2.0\n",
       "...                ...              ...\n",
       "24573  d1kfwa1+c.1.8.5  d1itxa1+c.1.8.5\n",
       "24574  d1kfwa1+c.1.8.5  d1wb0a1+c.1.8.5\n",
       "24575  d1kfwa1+c.1.8.5  d1vf8a1+c.1.8.5\n",
       "24576  d1kfwa1+c.1.8.5  d1goia2+c.1.8.5\n",
       "24577  d1nara_+c.1.8.5  d1nara_+c.1.8.5\n",
       "\n",
       "[24578 rows x 2 columns]"
      ]
     },
     "execution_count": 204,
     "metadata": {},
     "output_type": "execute_result"
    }
   ],
   "source": [
    "table = pd.read_csv('clusterFiles_cluster.tsv', sep='\\t', header=None)\n",
    "table"
   ]
  },
  {
   "cell_type": "code",
   "execution_count": 205,
   "id": "0cfb99fc-7dc3-49f6-89e3-99803b891f00",
   "metadata": {},
   "outputs": [],
   "source": [
    "def showD(d):\n",
    "    C = 1\n",
    "    for key, value in d.items():\n",
    "        print(f'{key}: {value}')\n",
    "        if C==10: break\n",
    "        C+=1\n",
    "    #end-for\n",
    "#end-def"
   ]
  },
  {
   "cell_type": "code",
   "execution_count": 206,
   "id": "1a87db16-f326-4f8a-b5a7-822c72cbffb5",
   "metadata": {},
   "outputs": [
    {
     "name": "stdout",
     "output_type": "stream",
     "text": [
      "0        d3k2mc_+b.1.2.0\n",
      "1        d3k2mc_+b.1.2.0\n",
      "2        d3k2mc_+b.1.2.0\n",
      "3        d3k2mc_+b.1.2.0\n",
      "4        d3k2mc_+b.1.2.0\n",
      "              ...       \n",
      "24573    d1kfwa1+c.1.8.5\n",
      "24574    d1kfwa1+c.1.8.5\n",
      "24575    d1kfwa1+c.1.8.5\n",
      "24576    d1kfwa1+c.1.8.5\n",
      "24577    d1nara_+c.1.8.5\n",
      "Name: 0, Length: 24578, dtype: object\n",
      "4802\n"
     ]
    }
   ],
   "source": [
    "centroids = table[0]\n",
    "print(centroids)\n",
    "print(len(set(centroids)))"
   ]
  },
  {
   "cell_type": "code",
   "execution_count": 207,
   "id": "d456adf8-c039-4606-aebe-a454ffb9eb50",
   "metadata": {},
   "outputs": [
    {
     "name": "stdout",
     "output_type": "stream",
     "text": [
      "0        d3k2mc_+b.1.2.0\n",
      "1        d3csba1+b.1.2.1\n",
      "2        d3qhtc_+b.1.2.0\n",
      "3        d5c6pb_+b.1.2.0\n",
      "4        d6wk9c_+b.1.2.0\n",
      "              ...       \n",
      "24573    d1itxa1+c.1.8.5\n",
      "24574    d1wb0a1+c.1.8.5\n",
      "24575    d1vf8a1+c.1.8.5\n",
      "24576    d1goia2+c.1.8.5\n",
      "24577    d1nara_+c.1.8.5\n",
      "Name: 1, Length: 24578, dtype: object\n",
      "24578\n"
     ]
    }
   ],
   "source": [
    "sequenceIDs = table[1]\n",
    "sequenceIDs\n",
    "print(sequenceIDs)\n",
    "print(len(set(sequenceIDs)))"
   ]
  },
  {
   "cell_type": "code",
   "execution_count": 208,
   "id": "5b7c860e-94c7-4554-943d-c20cc2c98130",
   "metadata": {},
   "outputs": [],
   "source": [
    "d = dict(zip(sequenceIDs, centroids))"
   ]
  },
  {
   "cell_type": "code",
   "execution_count": 209,
   "id": "93d8e774-0186-4822-8205-f0aed8707565",
   "metadata": {},
   "outputs": [
    {
     "name": "stdout",
     "output_type": "stream",
     "text": [
      "d3k2mc_+b.1.2.0: d3k2mc_+b.1.2.0\n",
      "d3csba1+b.1.2.1: d3k2mc_+b.1.2.0\n",
      "d3qhtc_+b.1.2.0: d3k2mc_+b.1.2.0\n",
      "d5c6pb_+b.1.2.0: d3k2mc_+b.1.2.0\n",
      "d6wk9c_+b.1.2.0: d3k2mc_+b.1.2.0\n",
      "d4s0sd_+b.1.2.0: d3k2mc_+b.1.2.0\n",
      "d4ov6f_+b.1.2.0: d3k2mc_+b.1.2.0\n",
      "d3t04d1+b.1.2.0: d3k2mc_+b.1.2.0\n",
      "d7l0fb_+b.1.2.0: d3k2mc_+b.1.2.0\n",
      "d3qwqb_+b.1.2.0: d3k2mc_+b.1.2.0\n"
     ]
    }
   ],
   "source": [
    "showD(d)"
   ]
  },
  {
   "cell_type": "code",
   "execution_count": 210,
   "id": "fa5215c0-28c1-4a7f-8c7c-014765c4b1e9",
   "metadata": {},
   "outputs": [
    {
     "data": {
      "text/plain": [
       "24578"
      ]
     },
     "execution_count": 210,
     "metadata": {},
     "output_type": "execute_result"
    }
   ],
   "source": [
    "len(set(d.keys()))"
   ]
  },
  {
   "cell_type": "code",
   "execution_count": 211,
   "id": "b4891cfa-1f03-41d4-a70c-e4b9d237cf0f",
   "metadata": {},
   "outputs": [
    {
     "data": {
      "text/plain": [
       "4802"
      ]
     },
     "execution_count": 211,
     "metadata": {},
     "output_type": "execute_result"
    }
   ],
   "source": [
    "len(set(d.values()))"
   ]
  },
  {
   "cell_type": "code",
   "execution_count": 212,
   "id": "412f8e02-4fe5-4049-b5fe-73e8e890c101",
   "metadata": {},
   "outputs": [],
   "source": [
    "results = {}\n",
    "for key, value in d.items():\n",
    "    sequenceID = key.split('+')[0]\n",
    "    superfamily = value.split('+')[1]\n",
    "    superfamily = '.'.join(superfamily.split('.')[0:-1])\n",
    "    \n",
    "    # print(sequenceID)\n",
    "    # print(superfamily)\n",
    "    \n",
    "    results[sequenceID] = superfamily\n",
    "    \n",
    "    # break\n",
    "#end-for"
   ]
  },
  {
   "cell_type": "code",
   "execution_count": 213,
   "id": "d161ecd8-512e-4b42-b719-23b7087c1c0d",
   "metadata": {},
   "outputs": [
    {
     "name": "stdout",
     "output_type": "stream",
     "text": [
      "d3k2mc_: b.1.2\n",
      "d3csba1: b.1.2\n",
      "d3qhtc_: b.1.2\n",
      "d5c6pb_: b.1.2\n",
      "d6wk9c_: b.1.2\n",
      "d4s0sd_: b.1.2\n",
      "d4ov6f_: b.1.2\n",
      "d3t04d1: b.1.2\n",
      "d7l0fb_: b.1.2\n",
      "d3qwqb_: b.1.2\n"
     ]
    }
   ],
   "source": [
    "showD(results)"
   ]
  },
  {
   "cell_type": "code",
   "execution_count": 214,
   "id": "c4b71748-5ab1-4172-b2c0-09046be0fefb",
   "metadata": {},
   "outputs": [
    {
     "data": {
      "text/plain": [
       "24578"
      ]
     },
     "execution_count": 214,
     "metadata": {},
     "output_type": "execute_result"
    }
   ],
   "source": [
    "len(set(results.keys()))"
   ]
  },
  {
   "cell_type": "code",
   "execution_count": 215,
   "id": "53c9fdc5-ec54-401d-b16f-3e3a0f6e85f6",
   "metadata": {},
   "outputs": [
    {
     "data": {
      "text/plain": [
       "192"
      ]
     },
     "execution_count": 215,
     "metadata": {},
     "output_type": "execute_result"
    }
   ],
   "source": [
    "len(set(results.values()))"
   ]
  },
  {
   "cell_type": "code",
   "execution_count": 218,
   "id": "c2788b9e-c893-4a38-a6dc-e4342eb1cf51",
   "metadata": {},
   "outputs": [
    {
     "name": "stdout",
     "output_type": "stream",
     "text": [
      "a.1.1\n",
      "g.50.1\n"
     ]
    }
   ],
   "source": [
    "print(results['d1ux8a_'])\n",
    "print(results['d2e6sa1'])"
   ]
  },
  {
   "cell_type": "code",
   "execution_count": 219,
   "id": "1c7a633b-6d0d-4847-8cf9-3fb63eb921b1",
   "metadata": {},
   "outputs": [],
   "source": [
    "C=1\n",
    "clusterResults = []\n",
    "for header, sequence in esm.data.read_fasta('astral-SCOPe-K192.fa'):\n",
    "    \n",
    "    header = header.split()[0][1:]\n",
    "    # print(header)\n",
    "    \n",
    "    clusterResults.append(results[header])\n",
    "    \n",
    "    # if C==10: break\n",
    "    # C+=1"
   ]
  },
  {
   "cell_type": "code",
   "execution_count": 256,
   "id": "357947c1-fad1-41eb-9f24-135b51dc19fc",
   "metadata": {},
   "outputs": [],
   "source": [
    "# clusterResults"
   ]
  },
  {
   "cell_type": "code",
   "execution_count": 241,
   "id": "a4b5b873-dad3-49ce-a243-83783030555a",
   "metadata": {},
   "outputs": [],
   "source": [
    "C=1\n",
    "origin = []\n",
    "for header, _ in esm.data.read_fasta('astral-SCOPe-K192.fa'):\n",
    "    \n",
    "    header = '.'.join(header.split()[1].split('.')[:-1])\n",
    "    origin.append(header)\n",
    "    \n",
    "    # if C==10: break\n",
    "    # C+=1"
   ]
  },
  {
   "cell_type": "code",
   "execution_count": 243,
   "id": "2b854e26-0bbd-4087-ac86-8b022381eede",
   "metadata": {},
   "outputs": [
    {
     "name": "stdout",
     "output_type": "stream",
     "text": [
      "24565\n"
     ]
    }
   ],
   "source": [
    "C = 0\n",
    "for y, yp in zip(origin, clusterResults):\n",
    "    if y == yp:\n",
    "        C += 1\n",
    "print(C)"
   ]
  },
  {
   "cell_type": "code",
   "execution_count": 183,
   "id": "59fec928-39af-4015-a05f-720374cd9646",
   "metadata": {},
   "outputs": [],
   "source": [
    "# clusterResults"
   ]
  },
  {
   "cell_type": "code",
   "execution_count": 258,
   "id": "eee540c4-efc1-4ab6-8238-f1da744c107e",
   "metadata": {},
   "outputs": [],
   "source": [
    "np.save(arr=clusterResults, file='outputMMseqs2')"
   ]
  },
  {
   "cell_type": "code",
   "execution_count": 259,
   "id": "83d2ca72-f1c2-4bbf-a841-cef94f08ebb8",
   "metadata": {},
   "outputs": [],
   "source": [
    "# C=0\n",
    "# for sequenceID, centroid in zip(sequenceIDs, centroids):\n",
    "#     if sequenceID == centroid:\n",
    "#         C+=1\n",
    "#     #end-for\n",
    "# #end-for\n",
    "# print(f'Matched: {C} of {len(sequenceIDs)}')\n",
    "# print(f'{(C/len(sequenceIDs))*100.0:.2f}')"
   ]
  },
  {
   "cell_type": "code",
   "execution_count": 260,
   "id": "aac09f99-b9ea-4839-96c1-31b00d41ad6b",
   "metadata": {},
   "outputs": [],
   "source": [
    "# centroids = np.array(centroids)\n",
    "# print(centroids)"
   ]
  },
  {
   "cell_type": "code",
   "execution_count": 261,
   "id": "522a6395-3c5c-40c4-bf2b-01d1c31a8452",
   "metadata": {},
   "outputs": [],
   "source": [
    "# sequenceIDs = np.array(sequenceIDs)\n",
    "# print(sequenceIDs)"
   ]
  },
  {
   "cell_type": "code",
   "execution_count": 262,
   "id": "debb115d-2464-4643-895b-c2f5f3b78d1c",
   "metadata": {},
   "outputs": [],
   "source": [
    "# d = dict(zip(sequenceIDs, centroids))\n",
    "# # print(d)"
   ]
  },
  {
   "cell_type": "code",
   "execution_count": 263,
   "id": "7107dcfc-106e-4406-b76e-e25755e5adea",
   "metadata": {},
   "outputs": [],
   "source": [
    "# len(set(d.keys()))"
   ]
  },
  {
   "cell_type": "code",
   "execution_count": 264,
   "id": "5c2982cd-77e3-4de5-a1ef-98eae02221ec",
   "metadata": {},
   "outputs": [],
   "source": [
    "# len(set(d.values()))"
   ]
  },
  {
   "cell_type": "code",
   "execution_count": 265,
   "id": "12a97fa3-0de2-4fe8-96c0-f42d128228b8",
   "metadata": {},
   "outputs": [],
   "source": [
    "# C=0\n",
    "# for header, sequence in esm.data.read_fasta('astral-SCOPe-K192.fa'):\n",
    "#     print(header)\n",
    "#     break\n",
    "# #for-end"
   ]
  },
  {
   "cell_type": "code",
   "execution_count": 266,
   "id": "8c28e2e6-ba98-4e70-8143-239f1a7afb82",
   "metadata": {},
   "outputs": [],
   "source": [
    "# V = []\n",
    "# for centroid in centroids:\n",
    "#     # V.append(centroid.split('+')[1])\n",
    "#     print(centroid.split('+')[1])\n",
    "# #end-for"
   ]
  },
  {
   "cell_type": "code",
   "execution_count": 267,
   "id": "ede7f889-ce0e-4cbc-a448-634ba88ae486",
   "metadata": {},
   "outputs": [],
   "source": [
    "# V[:10]"
   ]
  },
  {
   "cell_type": "code",
   "execution_count": 268,
   "id": "05ab5249-87dd-4001-bb61-e3d4c5e96fad",
   "metadata": {},
   "outputs": [],
   "source": [
    "# centroids = V"
   ]
  },
  {
   "cell_type": "code",
   "execution_count": null,
   "id": "f584b850-3e49-442c-935c-cd8ccdc43519",
   "metadata": {},
   "outputs": [],
   "source": []
  },
  {
   "cell_type": "markdown",
   "id": "b92a3742-905b-4a9c-9f3d-bc406859b6cc",
   "metadata": {},
   "source": [
    "### Re-programmed with numerical header:"
   ]
  },
  {
   "cell_type": "code",
   "execution_count": 269,
   "id": "93b451de-4e93-4249-b1c2-fadc32c30061",
   "metadata": {},
   "outputs": [],
   "source": [
    "# C=0\n",
    "# file = open(file='astral-SCOPe-K192-numerical-header.fa', mode='w')\n",
    "# for header, sequence in esm.data.read_fasta('astral-SCOPe-K192.fa'):\n",
    "#     file.write(f'>{C}\\n')\n",
    "#     file.write(f'{sequence}\\n')\n",
    "#     C+=1\n",
    "#     # break\n",
    "# file.close()"
   ]
  },
  {
   "cell_type": "code",
   "execution_count": 270,
   "id": "421c3515-98a8-48d2-8087-3eadeb4140a9",
   "metadata": {},
   "outputs": [],
   "source": [
    "# C=0\n",
    "# file = open(file='astral-SCOPe-K192-numerical-header.fa', mode='w')\n",
    "# for header, sequence in esm.data.read_fasta('astral-SCOPe-K192.fa'):\n",
    "#     file.write(f'>{C}\\n')\n",
    "#     file.write(f'{sequence}\\n')\n",
    "#     C+=1\n",
    "#     # break\n",
    "# file.close()"
   ]
  },
  {
   "cell_type": "code",
   "execution_count": 271,
   "id": "216b1802-fafc-4a1c-80d2-1a7f2c604566",
   "metadata": {},
   "outputs": [],
   "source": [
    "# !ls astral-SCOPe-K192*"
   ]
  },
  {
   "cell_type": "code",
   "execution_count": 272,
   "id": "ee2d08b2-4e83-4079-a418-1c3c96492856",
   "metadata": {},
   "outputs": [],
   "source": [
    "# !mmseqs easy-cluster \\\n",
    "#     astral-SCOPe-K192-numerical-header.fa\\\n",
    "#     clusterFiles temporary\\\n",
    "#     --cov-mode 1\\\n",
    "#     -c 0.80\\\n",
    "#     --cluster-reassign 0\\\n",
    "#     --max-iterations 5000\\\n",
    "#     --cluster-steps 9\\\n",
    "#     -v 0"
   ]
  },
  {
   "cell_type": "code",
   "execution_count": 273,
   "id": "ca3449f3-1a02-4648-867e-8df49bf85534",
   "metadata": {},
   "outputs": [],
   "source": [
    "# !ls clusterFiles*"
   ]
  },
  {
   "cell_type": "code",
   "execution_count": 274,
   "id": "6b385e50-e964-4dff-82bb-950f41c44ff6",
   "metadata": {},
   "outputs": [],
   "source": [
    "# cat clusterFiles_all_seqs.fasta | head -10"
   ]
  },
  {
   "cell_type": "code",
   "execution_count": 275,
   "id": "91eb8373-4d7f-4ec7-abf8-efcc7a38d08d",
   "metadata": {},
   "outputs": [],
   "source": [
    "# table = pd.read_csv('clusterFiles_cluster.tsv', sep='\\t', header=None)\n",
    "# table"
   ]
  },
  {
   "cell_type": "code",
   "execution_count": 276,
   "id": "199fdb8c-2a45-4f18-a54e-48355fdfc0c4",
   "metadata": {},
   "outputs": [],
   "source": [
    "# centroids = table[0]\n",
    "# centroids"
   ]
  },
  {
   "cell_type": "code",
   "execution_count": 277,
   "id": "c440bace-c8ed-4c1a-bf18-4566fabdb7be",
   "metadata": {},
   "outputs": [],
   "source": [
    "# w = np.array(centroids)"
   ]
  },
  {
   "cell_type": "code",
   "execution_count": 278,
   "id": "630f0c48-4022-4d62-b08a-0e4a0d4ea1be",
   "metadata": {},
   "outputs": [],
   "source": [
    "# len(set(w))"
   ]
  },
  {
   "cell_type": "code",
   "execution_count": 279,
   "id": "0917feb3-7ee0-41ac-9952-65cfcfae986b",
   "metadata": {},
   "outputs": [],
   "source": [
    "# sequenceIDs = table[1]\n",
    "# sequenceIDs"
   ]
  },
  {
   "cell_type": "code",
   "execution_count": 280,
   "id": "48c1c50b-c6de-4a38-97bf-a478532eb794",
   "metadata": {},
   "outputs": [],
   "source": [
    "# C=0\n",
    "# for sequenceID, centroid in zip(sequenceIDs, centroids):\n",
    "#     if sequenceID == centroid:\n",
    "#         C+=1\n",
    "#     #end-for\n",
    "# #end-for"
   ]
  },
  {
   "cell_type": "code",
   "execution_count": 281,
   "id": "fa97ea01-b904-40b8-9e06-067f5b73d536",
   "metadata": {},
   "outputs": [],
   "source": [
    "# print(f'Matched: {C} of {len(sequenceIDs)}')\n",
    "# print(f'{(C/len(sequenceIDs))*100.0:.2f}')"
   ]
  },
  {
   "cell_type": "code",
   "execution_count": null,
   "id": "2bf164a1-0926-4242-9c51-0abbc5d8d0d3",
   "metadata": {},
   "outputs": [],
   "source": []
  }
 ],
 "metadata": {
  "kernelspec": {
   "display_name": "Python 3 (ipykernel)",
   "language": "python",
   "name": "python3"
  },
  "language_info": {
   "codemirror_mode": {
    "name": "ipython",
    "version": 3
   },
   "file_extension": ".py",
   "mimetype": "text/x-python",
   "name": "python",
   "nbconvert_exporter": "python",
   "pygments_lexer": "ipython3",
   "version": "3.7.13"
  }
 },
 "nbformat": 4,
 "nbformat_minor": 5
}
