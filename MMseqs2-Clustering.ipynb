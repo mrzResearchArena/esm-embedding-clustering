{
 "cells": [
  {
   "cell_type": "code",
   "execution_count": 1,
   "id": "d6f464eb",
   "metadata": {},
   "outputs": [],
   "source": [
    "# %%bash\n",
    "\n",
    "# if [ -f '/home/rafsanjani/backup-research' mmseqs/util/bash-completion.sh ]; then\n",
    "#     source '/home/rafsanjani/backup-research' mmseqs2/util/bash-completion.sh\n",
    "# fi"
   ]
  },
  {
   "cell_type": "markdown",
   "id": "ddafd28f-b46a-4785-9c15-51853fbc4994",
   "metadata": {},
   "source": [
    "### Simple, Fast and Agile:"
   ]
  },
  {
   "cell_type": "code",
   "execution_count": 17,
   "id": "ea7330d2-b1dc-4c9a-a026-63a86ebc9901",
   "metadata": {},
   "outputs": [],
   "source": [
    "import pandas as pd\n",
    "import numpy as np\n",
    "import esm"
   ]
  },
  {
   "cell_type": "code",
   "execution_count": 18,
   "id": "8a79139c-142b-4214-938d-abea69c56c9a",
   "metadata": {},
   "outputs": [],
   "source": [
    "# !mmseqs createdb -h"
   ]
  },
  {
   "cell_type": "code",
   "execution_count": 19,
   "id": "81a04977-c06c-499f-bf53-a019bc0c84b7",
   "metadata": {},
   "outputs": [],
   "source": [
    "# !wget https://raw.githubusercontent.com/mrzResearchArena/esm-embedding-clustering/main/Datasets/astral-SCOPe-K192.fa"
   ]
  },
  {
   "cell_type": "code",
   "execution_count": 20,
   "id": "70a04f3f-1123-4326-99b7-31a588233288",
   "metadata": {},
   "outputs": [
    {
     "name": "stdout",
     "output_type": "stream",
     "text": [
      "astral-SCOPe-K192.fa   astral-SCOPe-K192-numerical-header.fa\n",
      "astral-SCOPe-K192+.fa\n"
     ]
    }
   ],
   "source": [
    "!ls astral-SCOPe-K192*"
   ]
  },
  {
   "cell_type": "code",
   "execution_count": 21,
   "id": "590b134e-e3cc-4142-8772-af7b4c782a18",
   "metadata": {},
   "outputs": [],
   "source": [
    "# !mmseqs easy-cluster -h"
   ]
  },
  {
   "cell_type": "code",
   "execution_count": 22,
   "id": "74faf9d6-7331-407c-891e-6efb0b60cc72",
   "metadata": {},
   "outputs": [],
   "source": [
    "C=0\n",
    "file = open(file='astral-SCOPe-K192+.fa', mode='w')\n",
    "for header, sequence in esm.data.read_fasta('astral-SCOPe-K192.fa'):\n",
    "    header = '+'.join(header.split())\n",
    "    # print(header)\n",
    "    file.write(f'{header}\\n')\n",
    "    file.write(f'{sequence}\\n')\n",
    "    C+=1\n",
    "    # break\n",
    "file.close()"
   ]
  },
  {
   "cell_type": "code",
   "execution_count": 23,
   "id": "ce34433a-919d-4e63-a02c-128210240f65",
   "metadata": {},
   "outputs": [
    {
     "data": {
      "text/plain": [
       "'>d2rsda1+g.50.1.0'"
      ]
     },
     "execution_count": 23,
     "metadata": {},
     "output_type": "execute_result"
    }
   ],
   "source": [
    "header"
   ]
  },
  {
   "cell_type": "markdown",
   "id": "65f9ff01-c7d2-4b6f-be28-2c144a92e8cd",
   "metadata": {},
   "source": [
    "#### Examples:\n",
    "- mmseqs easy-cluster examples/DB.fasta result tmp\n",
    "  - result_rep_seq.fasta: Representatives\n",
    "  - result_all_seq.fasta: FASTA-like per cluster\n",
    "  - result_cluster.tsv:   Adjacency list\n",
    " \n",
    "- Important parameters: --min-seq-id, --cov-mode, -c\n",
    "\n",
    "#### Parameters:\n",
    "\n",
    "![params](mmseqs2-params.png)"
   ]
  },
  {
   "cell_type": "code",
   "execution_count": 24,
   "id": "81d4e2c5-182b-4564-b7b7-88d13a06f11d",
   "metadata": {},
   "outputs": [],
   "source": [
    "!mmseqs easy-cluster \\\n",
    "    astral-SCOPe-K192+.fa\\\n",
    "    clusterFiles temporary\\\n",
    "    --cov-mode 1\\\n",
    "    -c 0.80\\\n",
    "    --cluster-reassign 0\\\n",
    "    --max-iterations 5000\\\n",
    "    --cluster-steps 9\\\n",
    "    -v 0"
   ]
  },
  {
   "cell_type": "code",
   "execution_count": 25,
   "id": "9ac16deb-1fae-4715-aee8-24af1c5a0fdc",
   "metadata": {},
   "outputs": [
    {
     "name": "stdout",
     "output_type": "stream",
     "text": [
      "clusterFiles_all_seqs.fasta  clusterFiles_rep_seq.fasta\n",
      "clusterFiles_cluster.tsv\n"
     ]
    }
   ],
   "source": [
    "!ls clusterFiles*"
   ]
  },
  {
   "cell_type": "code",
   "execution_count": 26,
   "id": "3180baf3-df6f-444e-b56a-12d0c04a28ad",
   "metadata": {},
   "outputs": [
    {
     "name": "stdout",
     "output_type": "stream",
     "text": [
      ">d1sp3a_+a.138.1.3\n",
      ">d1sp3a_+a.138.1.3\n",
      "ANPHKDVLKGPFTTGSEVTTQCLTCHEEQATDMMKTSHWTWELEQKLPDRTVVRGKKNSINNFCVAISSNEPRCTSCHAGYGWKDNTFDFKDKTKVDCLICHDTTGTYVKDPAGAGEPMAKLDLAKIAQNVGAPVRDNCGSCHFYGGGGDAVKHGDLDSSMAYPDKATDVHMDSDGNNFQCQNCHTTEKHQISGNAMGVSPGGIDHIGCENCHDSAPHSNKKLNTHTATVACQTCHIPFFAKNEPTKMQWDWSTAGDDKPETVDQYGKHTYQKKKGNFVWEKMVKPQYAWYNGTANAYMAGDKMDSNVVTKLTYPMGDINDAKAKIYPFKVHTGKQIYDKKLNIFITPKTYGKGGYWSEFDWNLAAKLGMEANPTMLEKGIKYSGEYDFAATEMWWRINHMVSPKEQALNCNDCHNKGTRLDWQALGYQGDPMKNKQGPKHK\n",
      ">d2j7aa_+a.138.1.3\n",
      ">d2j7aa_+a.138.1.3\n",
      "GCSDVSTELKTPVYKTKLTAEEIRNSAFKPEFPKQYASYERNDETTVMTEYKGSVPFNKNDNVNPLPEGYRHAQPYLKNLWLGYPFMYEYREARGHTYAIQDFLHIDRINRYAEKGGLPATCWNCKTPKMMEWVKESGDGFWAKDVNEFRDKIDMKDHTIGCATCHDPQTMELRITSVPLTDYLVSQGKDPKKLPRNEMRALVCGQCHVEYYFNGPTMGVNKKPVFPWAEGFDPADMYRYYDKHGDLQVKGFEGKFADWTHPASKTPMIKAQHPEYETWINGTHGAAGVTCADCHMSYTRSDDKKKISSHWWTSPMKDPEMRACRQCHSDKTPDYLKSRVLFTQKRTFDLLLAAQEVSVKAHEAVRLANEYQGAKAAGYDDLMIQAREMVRKGQFFWDYVSAENSVGFHNPAKALDTLAQSQQFSQKAIDLAMEATQYGIGKDLSGDIKTIVPPILKMNRKLQQDPEFMKTHKWFQYLPVLPKADQVWDGQKRLV\n",
      ">d1oaha_+a.138.1.3\n",
      "TGIAETETKMSAFKGQFPQQYASYMKNNEDRIMTDYKGSVPYHKNDNVNPLPKGFKHAQPYLKNLWLGYPFMYEYNETRGHTYAIDDFLNIDRINRFAADGKGNLPATCWNCKTPKMMEWVSQYGDKFWSMDVNEFRAKDKINAHDETIGCANCHDPATMELRLYSEPLKDWLKRSGKDWQKMSRNEKRTLVCAQCHVEYYFTHKDNGPAAKPVFPWDNGFNPEDMYQYYKGHGAKGPDGKPGPFVDWVHAASKVPMIKMQHPEYETFQDGPHGAAGVSCADCHMQYVREDGKKISSHWMTSPMKDPEMRACRQCHADKTGEYLRQRVLYTQQKTFDQLLKAQEMSVKAHEAVRLANAYEGHRAANYEALMAEAREMVRKGQLFWDYVSAENSVGFHNPAKALDTLMTSMECSQKAVDLATEATDFGIAPALAGDIKKLVPPILTLSRKLQQDPEFLKQNPWTRLLPALPKAEQVWEGQDRA\n",
      ">d1qdba_+a.138.1.3\n",
      "GIAGKEKSEEWAKYYPRQFDSWKKTKEYDSFTDMLAKDPALVIAWSGYAFSKDYNSPRGHYYALQDNVNSLRTGAPVDAKTGPLPTACWTCKSPDVPRLIEEDGELEYFTGKWAKYGSQIVNVIGCANCHDDKTAELKVRVPHLNRGLQAAGLKTFEESTHQDKRTLVCAQCHVEYYFKKTEWKDAKGADKTAMVVTLPWANGVGKDGNAGVEGMIKYYDEINFSDWTHNISKTPMLKAQHPGFEFWKSGIHGQKGVSCADCHMPYTQEGSVKYSDHQVKENPLDSMDQSCMNCHRESESKLRGIVHQKYERKEFLNKVAFDNIGKAHLETGKAIEAGASDEELKEVRKLIRHGQFKADMAIAAHGNYFHAPEETLRLLAAGSDDAQKARLLLVKILAKHGVMDYIAPDFDTKDKAQKLAKVDIAALAAEKMKFKQTLEQEWKKEAKAKGRANPELYKDVDTINDGKSSWNKK\n",
      "cat: write error: Broken pipe\n"
     ]
    }
   ],
   "source": [
    "cat clusterFiles_all_seqs.fasta | head -10"
   ]
  },
  {
   "cell_type": "code",
   "execution_count": 27,
   "id": "add7adb4-98ce-43d5-925f-db5ac0fbd57c",
   "metadata": {},
   "outputs": [
    {
     "name": "stdout",
     "output_type": "stream",
     "text": [
      ">d6avya_+c.69.1.0 \n",
      "YGRTHVVRPKGTHKATIVWLHGLGDNGTSWSQLLETLPLPNIKWICPTAPSRPVSLFGGFPCTAWFDVADLSEDAPDDTEGMDASAAHVANLLSTEPADIKLGVGGFSMGAATALYSATCFAHGKYGNGNPYPVNLSLAVGLSGWLPCARTLKNRIEASPEAAQRASTIPLLLCHGKADDVVLYKHGQRSTDALKANGFSNVLFKSYNSLGHYTVPEEMDEVCKWLTANLG\n",
      ">d6tj2a_+c.69.1.0 \n",
      "TPLTFVLIHGSWATAGFWDETASELRKLGHTVYTPEYAGHGADKNNNVTHEQITKSVVDYIKQKDLKDFILLGHSFGGSVIQTVSQQVPDRIKRIVFFDAFAPLDGQSVADQFPAESLKSFEQLRDASGNNTITLPFPLFRDTFVNTASLAQAQAFYKQAPPEPATPLFEKLDLKKFYSLQIPKSYLYLTEDTAIPQGPYGFHPTQSSHLGVFRFIEGKGDHMTTVRTEPKMMAELMVKAGRD\n",
      ">d4q34a_+c.69.1.0 \n",
      "ERVLMVDEQGSFAVGGTVLVDSLGHTFHGDHAYVFYQKPVGARKYPLVFAHGVGQFSKTWETTPDGREGFQNIFLRRRFCVYLVDQPRRGNAGRGTESVTISPAFDEEVWFNRFRVGIWPDYFEGVQFKRDKETLDQYFRQMTPTIGTTDFEVYSDAYAALFDKIGPGVFITHSQGGPVGWNTLLKTRNIKAIASYEPGGAVPFPEGQLPEEAKFITLSKKMEGIEVPMSVFMEYTKVPIVIYYGDNLPETDERPELYEWTRRLRLMKIWAKMLNDQGGDVTVIHLPEVGLHGNTHFPMSDLNNIEVADLLSEWLHTKALD\n",
      ">d2psda_+c.69.1.0 \n",
      "KVYDPEQRKRMITGPQWWARCKQMNVLDSFINYYDSEKHAENAVIFLHGNATSSYLWRHVVPHIEPVARCIIPDLIGMGKSGKSGNGSYRLLDHYKYLTAWFELLNLPKKIIFVGHDWGAALAFHYAYEHQDRIKAIVHMESVVDVIESWDEWPDIEEDIALIKSEEGEKMVLENNFFVETVLPSKIMRKLEPEEFAAYLEPFKEKGEVRRPTLSWPREIPLVKGGKPDVVQIVRNYNAYLRASDDLPKLFIESDPGFFSNAIVEGAKKFPNTEFVKVKGLHFLQEDAPDEMGKYIKSFVERVLK\n",
      ">d2rgya_+c.93.1.0 \n",
      "LGIIGLFVPTFFGSYYGTILKQTDLELRAVHRHVVVATGCGESTPREQALEAVRFLIGRDCDGVVVISHDLHDEDLDELHRMHPKMVFLNRAFDALPDASFCPDHRRGGELAAATLIEHGHRKLAVISGPFTASDNVERLDGFFDELARHGIARDSVPLIESDFSPEGGYAATCQLLESKAPFTGLFCANDTMAVSALARFQQLGISVPGDVSVIGYDDDYSAAYAAPALTSVHIPTAELTQNAVRWLINQCYGTKWEIFREFPVTVSMRASVAR\n",
      "cat: write error: Broken pipe\n"
     ]
    }
   ],
   "source": [
    "cat clusterFiles_rep_seq.fasta | head -10"
   ]
  },
  {
   "cell_type": "code",
   "execution_count": 28,
   "id": "2e721ba8-2d8f-44ba-97c1-9a0788c1e1de",
   "metadata": {},
   "outputs": [
    {
     "data": {
      "text/html": [
       "<div>\n",
       "<style scoped>\n",
       "    .dataframe tbody tr th:only-of-type {\n",
       "        vertical-align: middle;\n",
       "    }\n",
       "\n",
       "    .dataframe tbody tr th {\n",
       "        vertical-align: top;\n",
       "    }\n",
       "\n",
       "    .dataframe thead th {\n",
       "        text-align: right;\n",
       "    }\n",
       "</style>\n",
       "<table border=\"1\" class=\"dataframe\">\n",
       "  <thead>\n",
       "    <tr style=\"text-align: right;\">\n",
       "      <th></th>\n",
       "      <th>0</th>\n",
       "      <th>1</th>\n",
       "    </tr>\n",
       "  </thead>\n",
       "  <tbody>\n",
       "    <tr>\n",
       "      <th>0</th>\n",
       "      <td>d4a2ba2+c.55.1.1</td>\n",
       "      <td>d4a2ba2+c.55.1.1</td>\n",
       "    </tr>\n",
       "    <tr>\n",
       "      <th>1</th>\n",
       "      <td>d2zgya1+c.55.1.1</td>\n",
       "      <td>d2zgya1+c.55.1.1</td>\n",
       "    </tr>\n",
       "    <tr>\n",
       "      <th>2</th>\n",
       "      <td>d2zgya2+c.55.1.1</td>\n",
       "      <td>d2zgya2+c.55.1.1</td>\n",
       "    </tr>\n",
       "    <tr>\n",
       "      <th>3</th>\n",
       "      <td>d1jcfa2+c.55.1.1</td>\n",
       "      <td>d1jcfa2+c.55.1.1</td>\n",
       "    </tr>\n",
       "    <tr>\n",
       "      <th>4</th>\n",
       "      <td>d1jcfa2+c.55.1.1</td>\n",
       "      <td>d4czga2+c.55.1.0</td>\n",
       "    </tr>\n",
       "    <tr>\n",
       "      <th>...</th>\n",
       "      <td>...</td>\n",
       "      <td>...</td>\n",
       "    </tr>\n",
       "    <tr>\n",
       "      <th>24573</th>\n",
       "      <td>d1zaqa_+g.3.11.1</td>\n",
       "      <td>d3gisx1+g.3.11.0</td>\n",
       "    </tr>\n",
       "    <tr>\n",
       "      <th>24574</th>\n",
       "      <td>d1adxa_+g.3.11.1</td>\n",
       "      <td>d1adxa_+g.3.11.1</td>\n",
       "    </tr>\n",
       "    <tr>\n",
       "      <th>24575</th>\n",
       "      <td>d1adxa_+g.3.11.1</td>\n",
       "      <td>d1dx5i2+g.3.11.1</td>\n",
       "    </tr>\n",
       "    <tr>\n",
       "      <th>24576</th>\n",
       "      <td>d1kloa1+g.3.11.2</td>\n",
       "      <td>d1kloa1+g.3.11.2</td>\n",
       "    </tr>\n",
       "    <tr>\n",
       "      <th>24577</th>\n",
       "      <td>d1kloa2+g.3.11.2</td>\n",
       "      <td>d1kloa2+g.3.11.2</td>\n",
       "    </tr>\n",
       "  </tbody>\n",
       "</table>\n",
       "<p>24578 rows × 2 columns</p>\n",
       "</div>"
      ],
      "text/plain": [
       "                      0                 1\n",
       "0      d4a2ba2+c.55.1.1  d4a2ba2+c.55.1.1\n",
       "1      d2zgya1+c.55.1.1  d2zgya1+c.55.1.1\n",
       "2      d2zgya2+c.55.1.1  d2zgya2+c.55.1.1\n",
       "3      d1jcfa2+c.55.1.1  d1jcfa2+c.55.1.1\n",
       "4      d1jcfa2+c.55.1.1  d4czga2+c.55.1.0\n",
       "...                 ...               ...\n",
       "24573  d1zaqa_+g.3.11.1  d3gisx1+g.3.11.0\n",
       "24574  d1adxa_+g.3.11.1  d1adxa_+g.3.11.1\n",
       "24575  d1adxa_+g.3.11.1  d1dx5i2+g.3.11.1\n",
       "24576  d1kloa1+g.3.11.2  d1kloa1+g.3.11.2\n",
       "24577  d1kloa2+g.3.11.2  d1kloa2+g.3.11.2\n",
       "\n",
       "[24578 rows x 2 columns]"
      ]
     },
     "execution_count": 28,
     "metadata": {},
     "output_type": "execute_result"
    }
   ],
   "source": [
    "table = pd.read_csv('clusterFiles_cluster.tsv', sep='\\t', header=None)\n",
    "table"
   ]
  },
  {
   "cell_type": "code",
   "execution_count": 29,
   "id": "0cfb99fc-7dc3-49f6-89e3-99803b891f00",
   "metadata": {},
   "outputs": [],
   "source": [
    "def showD(d):\n",
    "    C = 1\n",
    "    for key, value in d.items():\n",
    "        print(f'{key}: {value}')\n",
    "        if C==10: break\n",
    "        C+=1\n",
    "    #end-for\n",
    "#end-def"
   ]
  },
  {
   "cell_type": "code",
   "execution_count": 30,
   "id": "1a87db16-f326-4f8a-b5a7-822c72cbffb5",
   "metadata": {},
   "outputs": [
    {
     "name": "stdout",
     "output_type": "stream",
     "text": [
      "0        d4a2ba2+c.55.1.1\n",
      "1        d2zgya1+c.55.1.1\n",
      "2        d2zgya2+c.55.1.1\n",
      "3        d1jcfa2+c.55.1.1\n",
      "4        d1jcfa2+c.55.1.1\n",
      "               ...       \n",
      "24573    d1zaqa_+g.3.11.1\n",
      "24574    d1adxa_+g.3.11.1\n",
      "24575    d1adxa_+g.3.11.1\n",
      "24576    d1kloa1+g.3.11.2\n",
      "24577    d1kloa2+g.3.11.2\n",
      "Name: 0, Length: 24578, dtype: object\n",
      "4802\n"
     ]
    }
   ],
   "source": [
    "centroids = table[0]\n",
    "print(centroids)\n",
    "print(len(set(centroids)))"
   ]
  },
  {
   "cell_type": "code",
   "execution_count": 31,
   "id": "d456adf8-c039-4606-aebe-a454ffb9eb50",
   "metadata": {},
   "outputs": [
    {
     "name": "stdout",
     "output_type": "stream",
     "text": [
      "0        d4a2ba2+c.55.1.1\n",
      "1        d2zgya1+c.55.1.1\n",
      "2        d2zgya2+c.55.1.1\n",
      "3        d1jcfa2+c.55.1.1\n",
      "4        d4czga2+c.55.1.0\n",
      "               ...       \n",
      "24573    d3gisx1+g.3.11.0\n",
      "24574    d1adxa_+g.3.11.1\n",
      "24575    d1dx5i2+g.3.11.1\n",
      "24576    d1kloa1+g.3.11.2\n",
      "24577    d1kloa2+g.3.11.2\n",
      "Name: 1, Length: 24578, dtype: object\n",
      "24578\n"
     ]
    }
   ],
   "source": [
    "sequenceIDs = table[1]\n",
    "sequenceIDs\n",
    "print(sequenceIDs)\n",
    "print(len(set(sequenceIDs)))"
   ]
  },
  {
   "cell_type": "code",
   "execution_count": 32,
   "id": "5b7c860e-94c7-4554-943d-c20cc2c98130",
   "metadata": {},
   "outputs": [],
   "source": [
    "d = dict(zip(sequenceIDs, centroids))"
   ]
  },
  {
   "cell_type": "code",
   "execution_count": 33,
   "id": "93d8e774-0186-4822-8205-f0aed8707565",
   "metadata": {},
   "outputs": [
    {
     "name": "stdout",
     "output_type": "stream",
     "text": [
      "d4a2ba2+c.55.1.1: d4a2ba2+c.55.1.1\n",
      "d2zgya1+c.55.1.1: d2zgya1+c.55.1.1\n",
      "d2zgya2+c.55.1.1: d2zgya2+c.55.1.1\n",
      "d1jcfa2+c.55.1.1: d1jcfa2+c.55.1.1\n",
      "d4czga2+c.55.1.0: d1jcfa2+c.55.1.1\n",
      "d1saza1+c.55.1.2: d1saza1+c.55.1.2\n",
      "d1saza2+c.55.1.2: d1saza2+c.55.1.2\n",
      "d1ig8a2+c.55.1.3: d1ig8a2+c.55.1.3\n",
      "d3b8ax2+c.55.1.0: d1ig8a2+c.55.1.3\n",
      "d3o4wa2+c.55.1.0: d1ig8a2+c.55.1.3\n"
     ]
    }
   ],
   "source": [
    "showD(d)"
   ]
  },
  {
   "cell_type": "code",
   "execution_count": 34,
   "id": "fa5215c0-28c1-4a7f-8c7c-014765c4b1e9",
   "metadata": {},
   "outputs": [
    {
     "data": {
      "text/plain": [
       "24578"
      ]
     },
     "execution_count": 34,
     "metadata": {},
     "output_type": "execute_result"
    }
   ],
   "source": [
    "len(set(d.keys()))"
   ]
  },
  {
   "cell_type": "code",
   "execution_count": 35,
   "id": "b4891cfa-1f03-41d4-a70c-e4b9d237cf0f",
   "metadata": {},
   "outputs": [
    {
     "data": {
      "text/plain": [
       "4802"
      ]
     },
     "execution_count": 35,
     "metadata": {},
     "output_type": "execute_result"
    }
   ],
   "source": [
    "len(set(d.values()))"
   ]
  },
  {
   "cell_type": "code",
   "execution_count": 36,
   "id": "412f8e02-4fe5-4049-b5fe-73e8e890c101",
   "metadata": {},
   "outputs": [],
   "source": [
    "results = {}\n",
    "for key, value in d.items():\n",
    "    sequenceID = key.split('+')[0]\n",
    "    superfamily = value.split('+')[1]\n",
    "    superfamily = '.'.join(superfamily.split('.')[0:-1])\n",
    "    \n",
    "    # print(sequenceID)\n",
    "    # print(superfamily)\n",
    "    \n",
    "    results[sequenceID] = superfamily\n",
    "    \n",
    "    # break\n",
    "#end-for"
   ]
  },
  {
   "cell_type": "code",
   "execution_count": 37,
   "id": "d161ecd8-512e-4b42-b719-23b7087c1c0d",
   "metadata": {},
   "outputs": [
    {
     "name": "stdout",
     "output_type": "stream",
     "text": [
      "d4a2ba2: c.55.1\n",
      "d2zgya1: c.55.1\n",
      "d2zgya2: c.55.1\n",
      "d1jcfa2: c.55.1\n",
      "d4czga2: c.55.1\n",
      "d1saza1: c.55.1\n",
      "d1saza2: c.55.1\n",
      "d1ig8a2: c.55.1\n",
      "d3b8ax2: c.55.1\n",
      "d3o4wa2: c.55.1\n"
     ]
    }
   ],
   "source": [
    "showD(results)"
   ]
  },
  {
   "cell_type": "code",
   "execution_count": 38,
   "id": "c4b71748-5ab1-4172-b2c0-09046be0fefb",
   "metadata": {},
   "outputs": [
    {
     "data": {
      "text/plain": [
       "24578"
      ]
     },
     "execution_count": 38,
     "metadata": {},
     "output_type": "execute_result"
    }
   ],
   "source": [
    "len(set(results.keys()))"
   ]
  },
  {
   "cell_type": "code",
   "execution_count": 39,
   "id": "53c9fdc5-ec54-401d-b16f-3e3a0f6e85f6",
   "metadata": {},
   "outputs": [
    {
     "data": {
      "text/plain": [
       "192"
      ]
     },
     "execution_count": 39,
     "metadata": {},
     "output_type": "execute_result"
    }
   ],
   "source": [
    "len(set(results.values()))"
   ]
  },
  {
   "cell_type": "code",
   "execution_count": 40,
   "id": "c2788b9e-c893-4a38-a6dc-e4342eb1cf51",
   "metadata": {},
   "outputs": [
    {
     "name": "stdout",
     "output_type": "stream",
     "text": [
      "a.1.1\n",
      "g.50.1\n"
     ]
    }
   ],
   "source": [
    "print(results['d1ux8a_'])\n",
    "print(results['d2e6sa1'])"
   ]
  },
  {
   "cell_type": "code",
   "execution_count": 41,
   "id": "1c7a633b-6d0d-4847-8cf9-3fb63eb921b1",
   "metadata": {},
   "outputs": [],
   "source": [
    "C=1\n",
    "clusterResults = []\n",
    "for header, sequence in esm.data.read_fasta('astral-SCOPe-K192.fa'):\n",
    "    \n",
    "    header = header.split()[0][1:]\n",
    "    # print(header)\n",
    "    \n",
    "    clusterResults.append(results[header])\n",
    "    \n",
    "    # if C==10: break\n",
    "    # C+=1"
   ]
  },
  {
   "cell_type": "code",
   "execution_count": 42,
   "id": "357947c1-fad1-41eb-9f24-135b51dc19fc",
   "metadata": {},
   "outputs": [],
   "source": [
    "# clusterResults"
   ]
  },
  {
   "cell_type": "code",
   "execution_count": 43,
   "id": "a4b5b873-dad3-49ce-a243-83783030555a",
   "metadata": {},
   "outputs": [],
   "source": [
    "C=1\n",
    "origin = []\n",
    "for header, _ in esm.data.read_fasta('astral-SCOPe-K192.fa'):\n",
    "    \n",
    "    header = '.'.join(header.split()[1].split('.')[:-1])\n",
    "    origin.append(header)\n",
    "    \n",
    "    # if C==10: break\n",
    "    # C+=1"
   ]
  },
  {
   "cell_type": "code",
   "execution_count": 44,
   "id": "2b854e26-0bbd-4087-ac86-8b022381eede",
   "metadata": {},
   "outputs": [
    {
     "name": "stdout",
     "output_type": "stream",
     "text": [
      "24565\n"
     ]
    }
   ],
   "source": [
    "C = 0\n",
    "for y, yp in zip(origin, clusterResults):\n",
    "    if y == yp:\n",
    "        C += 1\n",
    "print(C)"
   ]
  },
  {
   "cell_type": "code",
   "execution_count": 45,
   "id": "59fec928-39af-4015-a05f-720374cd9646",
   "metadata": {},
   "outputs": [],
   "source": [
    "# clusterResults"
   ]
  },
  {
   "cell_type": "code",
   "execution_count": 46,
   "id": "eee540c4-efc1-4ab6-8238-f1da744c107e",
   "metadata": {},
   "outputs": [],
   "source": [
    "np.save(arr=clusterResults, file='outputMMseqs2')"
   ]
  },
  {
   "cell_type": "code",
   "execution_count": 47,
   "id": "83d2ca72-f1c2-4bbf-a841-cef94f08ebb8",
   "metadata": {},
   "outputs": [],
   "source": [
    "# C=0\n",
    "# for sequenceID, centroid in zip(sequenceIDs, centroids):\n",
    "#     if sequenceID == centroid:\n",
    "#         C+=1\n",
    "#     #end-for\n",
    "# #end-for\n",
    "# print(f'Matched: {C} of {len(sequenceIDs)}')\n",
    "# print(f'{(C/len(sequenceIDs))*100.0:.2f}')"
   ]
  },
  {
   "cell_type": "code",
   "execution_count": 48,
   "id": "aac09f99-b9ea-4839-96c1-31b00d41ad6b",
   "metadata": {},
   "outputs": [],
   "source": [
    "# centroids = np.array(centroids)\n",
    "# print(centroids)"
   ]
  },
  {
   "cell_type": "code",
   "execution_count": 49,
   "id": "522a6395-3c5c-40c4-bf2b-01d1c31a8452",
   "metadata": {},
   "outputs": [],
   "source": [
    "# sequenceIDs = np.array(sequenceIDs)\n",
    "# print(sequenceIDs)"
   ]
  },
  {
   "cell_type": "code",
   "execution_count": 50,
   "id": "debb115d-2464-4643-895b-c2f5f3b78d1c",
   "metadata": {},
   "outputs": [],
   "source": [
    "# d = dict(zip(sequenceIDs, centroids))\n",
    "# # print(d)"
   ]
  },
  {
   "cell_type": "code",
   "execution_count": 51,
   "id": "7107dcfc-106e-4406-b76e-e25755e5adea",
   "metadata": {},
   "outputs": [],
   "source": [
    "# len(set(d.keys()))"
   ]
  },
  {
   "cell_type": "code",
   "execution_count": 52,
   "id": "5c2982cd-77e3-4de5-a1ef-98eae02221ec",
   "metadata": {},
   "outputs": [],
   "source": [
    "# len(set(d.values()))"
   ]
  },
  {
   "cell_type": "code",
   "execution_count": 53,
   "id": "12a97fa3-0de2-4fe8-96c0-f42d128228b8",
   "metadata": {},
   "outputs": [],
   "source": [
    "# C=0\n",
    "# for header, sequence in esm.data.read_fasta('astral-SCOPe-K192.fa'):\n",
    "#     print(header)\n",
    "#     break\n",
    "# #for-end"
   ]
  },
  {
   "cell_type": "code",
   "execution_count": 54,
   "id": "8c28e2e6-ba98-4e70-8143-239f1a7afb82",
   "metadata": {},
   "outputs": [],
   "source": [
    "# V = []\n",
    "# for centroid in centroids:\n",
    "#     # V.append(centroid.split('+')[1])\n",
    "#     print(centroid.split('+')[1])\n",
    "# #end-for"
   ]
  },
  {
   "cell_type": "code",
   "execution_count": 55,
   "id": "ede7f889-ce0e-4cbc-a448-634ba88ae486",
   "metadata": {},
   "outputs": [],
   "source": [
    "# V[:10]"
   ]
  },
  {
   "cell_type": "code",
   "execution_count": 56,
   "id": "05ab5249-87dd-4001-bb61-e3d4c5e96fad",
   "metadata": {},
   "outputs": [],
   "source": [
    "# centroids = V"
   ]
  },
  {
   "cell_type": "code",
   "execution_count": null,
   "id": "f584b850-3e49-442c-935c-cd8ccdc43519",
   "metadata": {},
   "outputs": [],
   "source": []
  },
  {
   "cell_type": "markdown",
   "id": "b92a3742-905b-4a9c-9f3d-bc406859b6cc",
   "metadata": {},
   "source": [
    "### Re-programmed with numerical header:"
   ]
  },
  {
   "cell_type": "code",
   "execution_count": 57,
   "id": "93b451de-4e93-4249-b1c2-fadc32c30061",
   "metadata": {},
   "outputs": [],
   "source": [
    "# C=0\n",
    "# file = open(file='astral-SCOPe-K192-numerical-header.fa', mode='w')\n",
    "# for header, sequence in esm.data.read_fasta('astral-SCOPe-K192.fa'):\n",
    "#     file.write(f'>{C}\\n')\n",
    "#     file.write(f'{sequence}\\n')\n",
    "#     C+=1\n",
    "#     # break\n",
    "# file.close()"
   ]
  },
  {
   "cell_type": "code",
   "execution_count": 58,
   "id": "421c3515-98a8-48d2-8087-3eadeb4140a9",
   "metadata": {},
   "outputs": [],
   "source": [
    "# C=0\n",
    "# file = open(file='astral-SCOPe-K192-numerical-header.fa', mode='w')\n",
    "# for header, sequence in esm.data.read_fasta('astral-SCOPe-K192.fa'):\n",
    "#     file.write(f'>{C}\\n')\n",
    "#     file.write(f'{sequence}\\n')\n",
    "#     C+=1\n",
    "#     # break\n",
    "# file.close()"
   ]
  },
  {
   "cell_type": "code",
   "execution_count": 59,
   "id": "216b1802-fafc-4a1c-80d2-1a7f2c604566",
   "metadata": {},
   "outputs": [],
   "source": [
    "# !ls astral-SCOPe-K192*"
   ]
  },
  {
   "cell_type": "code",
   "execution_count": 60,
   "id": "ee2d08b2-4e83-4079-a418-1c3c96492856",
   "metadata": {},
   "outputs": [],
   "source": [
    "# !mmseqs easy-cluster \\\n",
    "#     astral-SCOPe-K192-numerical-header.fa\\\n",
    "#     clusterFiles temporary\\\n",
    "#     --cov-mode 1\\\n",
    "#     -c 0.80\\\n",
    "#     --cluster-reassign 0\\\n",
    "#     --max-iterations 5000\\\n",
    "#     --cluster-steps 9\\\n",
    "#     -v 0"
   ]
  },
  {
   "cell_type": "code",
   "execution_count": 61,
   "id": "ca3449f3-1a02-4648-867e-8df49bf85534",
   "metadata": {},
   "outputs": [],
   "source": [
    "# !ls clusterFiles*"
   ]
  },
  {
   "cell_type": "code",
   "execution_count": 62,
   "id": "6b385e50-e964-4dff-82bb-950f41c44ff6",
   "metadata": {},
   "outputs": [],
   "source": [
    "# cat clusterFiles_all_seqs.fasta | head -10"
   ]
  },
  {
   "cell_type": "code",
   "execution_count": 63,
   "id": "91eb8373-4d7f-4ec7-abf8-efcc7a38d08d",
   "metadata": {},
   "outputs": [],
   "source": [
    "# table = pd.read_csv('clusterFiles_cluster.tsv', sep='\\t', header=None)\n",
    "# table"
   ]
  },
  {
   "cell_type": "code",
   "execution_count": 64,
   "id": "199fdb8c-2a45-4f18-a54e-48355fdfc0c4",
   "metadata": {},
   "outputs": [],
   "source": [
    "# centroids = table[0]\n",
    "# centroids"
   ]
  },
  {
   "cell_type": "code",
   "execution_count": 65,
   "id": "c440bace-c8ed-4c1a-bf18-4566fabdb7be",
   "metadata": {},
   "outputs": [],
   "source": [
    "# w = np.array(centroids)"
   ]
  },
  {
   "cell_type": "code",
   "execution_count": 66,
   "id": "630f0c48-4022-4d62-b08a-0e4a0d4ea1be",
   "metadata": {},
   "outputs": [],
   "source": [
    "# len(set(w))"
   ]
  },
  {
   "cell_type": "code",
   "execution_count": 67,
   "id": "0917feb3-7ee0-41ac-9952-65cfcfae986b",
   "metadata": {},
   "outputs": [],
   "source": [
    "# sequenceIDs = table[1]\n",
    "# sequenceIDs"
   ]
  },
  {
   "cell_type": "code",
   "execution_count": 68,
   "id": "48c1c50b-c6de-4a38-97bf-a478532eb794",
   "metadata": {},
   "outputs": [],
   "source": [
    "# C=0\n",
    "# for sequenceID, centroid in zip(sequenceIDs, centroids):\n",
    "#     if sequenceID == centroid:\n",
    "#         C+=1\n",
    "#     #end-for\n",
    "# #end-for"
   ]
  },
  {
   "cell_type": "code",
   "execution_count": 69,
   "id": "fa97ea01-b904-40b8-9e06-067f5b73d536",
   "metadata": {},
   "outputs": [],
   "source": [
    "# print(f'Matched: {C} of {len(sequenceIDs)}')\n",
    "# print(f'{(C/len(sequenceIDs))*100.0:.2f}')"
   ]
  },
  {
   "cell_type": "markdown",
   "id": "bb0bad00-13a3-4e13-bcca-36a950cb12d2",
   "metadata": {},
   "source": [
    "### Optional: Performance\n",
    "\n",
    "- It testifies to the retrieval of superfamilies."
   ]
  },
  {
   "cell_type": "code",
   "execution_count": 70,
   "id": "f4aa1157-77db-43a8-9599-34655c221b5c",
   "metadata": {},
   "outputs": [],
   "source": [
    "import pandas as pd\n",
    "import numpy as np\n",
    "import esm"
   ]
  },
  {
   "cell_type": "code",
   "execution_count": 71,
   "id": "ba114c1e-a366-428e-9ec4-be470434be1c",
   "metadata": {},
   "outputs": [],
   "source": [
    "datasetLocation = 'astral-SCOPe-K192.fa'"
   ]
  },
  {
   "cell_type": "code",
   "execution_count": 72,
   "id": "ed0b06ad-de27-4bf6-ae67-d5694aba168c",
   "metadata": {},
   "outputs": [],
   "source": [
    "# C=1\n",
    "superfamilies = []\n",
    "# loopUpTable = {}\n",
    "seqIDs = []\n",
    "for header, _seq in esm.data.read_fasta(datasetLocation):\n",
    "    seqIDs.append(header.split()[0][1:])\n",
    "    superfamily = '.'.join(header.split()[1].split('.')[0:-1])\n",
    "    superfamilies.append(superfamily)\n",
    "    \n",
    "    # print(header.split()[0][1:])\n",
    "    # print(superfamily)\n",
    "    \n",
    "    # loopUpTable[]\n",
    "    \n",
    "    # break\n",
    "    \n",
    "    # if C==10: break\n",
    "    # C+=1\n",
    "#end-for"
   ]
  },
  {
   "cell_type": "code",
   "execution_count": 73,
   "id": "e9180a78-e1a7-4f43-800d-674e9a9cb90e",
   "metadata": {},
   "outputs": [],
   "source": [
    "inLookUpTable = dict(zip(seqIDs, superfamilies))"
   ]
  },
  {
   "cell_type": "code",
   "execution_count": 74,
   "id": "df9e818d-e2a5-4864-a5fe-11635678952b",
   "metadata": {},
   "outputs": [],
   "source": [
    "# inLookUpTable"
   ]
  },
  {
   "cell_type": "code",
   "execution_count": 75,
   "id": "905f604d-c854-47d9-9df6-8ffa3db6cfaa",
   "metadata": {},
   "outputs": [],
   "source": [
    "# superfamilies[:20]"
   ]
  },
  {
   "cell_type": "code",
   "execution_count": 76,
   "id": "0bbcdc14-ac8a-487e-bf2c-72d87001a6ed",
   "metadata": {},
   "outputs": [],
   "source": [
    "# Y = superfamilies"
   ]
  },
  {
   "cell_type": "code",
   "execution_count": 77,
   "id": "f1bd2a43-054e-42a6-a4b8-0c9126032da6",
   "metadata": {},
   "outputs": [],
   "source": [
    "!mmseqs easy-cluster \\\n",
    "    astral-SCOPe-K192.fa\\\n",
    "    clusterFiles temporary\\\n",
    "    --cov-mode 1\\\n",
    "    -c 0.80\\\n",
    "    --cluster-reassign 0\\\n",
    "    --max-iterations 5000\\\n",
    "    -v 0"
   ]
  },
  {
   "cell_type": "code",
   "execution_count": 78,
   "id": "fdddf653-5b0c-4018-a8b0-1aa9cfc2347c",
   "metadata": {},
   "outputs": [
    {
     "name": "stdout",
     "output_type": "stream",
     "text": [
      "clusterFiles_cluster.tsv\n"
     ]
    }
   ],
   "source": [
    "!ls clusterFiles_cluster*"
   ]
  },
  {
   "cell_type": "code",
   "execution_count": 79,
   "id": "3d7055fc-0ba4-47ba-a95b-60fe55655c04",
   "metadata": {},
   "outputs": [
    {
     "data": {
      "text/html": [
       "<div>\n",
       "<style scoped>\n",
       "    .dataframe tbody tr th:only-of-type {\n",
       "        vertical-align: middle;\n",
       "    }\n",
       "\n",
       "    .dataframe tbody tr th {\n",
       "        vertical-align: top;\n",
       "    }\n",
       "\n",
       "    .dataframe thead th {\n",
       "        text-align: right;\n",
       "    }\n",
       "</style>\n",
       "<table border=\"1\" class=\"dataframe\">\n",
       "  <thead>\n",
       "    <tr style=\"text-align: right;\">\n",
       "      <th></th>\n",
       "      <th>0</th>\n",
       "      <th>1</th>\n",
       "    </tr>\n",
       "  </thead>\n",
       "  <tbody>\n",
       "    <tr>\n",
       "      <th>0</th>\n",
       "      <td>d2k54a1</td>\n",
       "      <td>d2k54a1</td>\n",
       "    </tr>\n",
       "    <tr>\n",
       "      <th>1</th>\n",
       "      <td>d2i9wa1</td>\n",
       "      <td>d2i9wa1</td>\n",
       "    </tr>\n",
       "    <tr>\n",
       "      <th>2</th>\n",
       "      <td>d3grda_</td>\n",
       "      <td>d3grda_</td>\n",
       "    </tr>\n",
       "    <tr>\n",
       "      <th>3</th>\n",
       "      <td>d3grda_</td>\n",
       "      <td>d3ebta1</td>\n",
       "    </tr>\n",
       "    <tr>\n",
       "      <th>4</th>\n",
       "      <td>d3grda_</td>\n",
       "      <td>d3ec9a1</td>\n",
       "    </tr>\n",
       "    <tr>\n",
       "      <th>...</th>\n",
       "      <td>...</td>\n",
       "      <td>...</td>\n",
       "    </tr>\n",
       "    <tr>\n",
       "      <th>24573</th>\n",
       "      <td>d2m9ya1</td>\n",
       "      <td>d1wd2a1</td>\n",
       "    </tr>\n",
       "    <tr>\n",
       "      <th>24574</th>\n",
       "      <td>d2m9ya1</td>\n",
       "      <td>d2lwra1</td>\n",
       "    </tr>\n",
       "    <tr>\n",
       "      <th>24575</th>\n",
       "      <td>d3jb9s1</td>\n",
       "      <td>d3jb9s1</td>\n",
       "    </tr>\n",
       "    <tr>\n",
       "      <th>24576</th>\n",
       "      <td>d3jb9s1</td>\n",
       "      <td>d2baya_</td>\n",
       "    </tr>\n",
       "    <tr>\n",
       "      <th>24577</th>\n",
       "      <td>d3jb9s1</td>\n",
       "      <td>d6id0q1</td>\n",
       "    </tr>\n",
       "  </tbody>\n",
       "</table>\n",
       "<p>24578 rows × 2 columns</p>\n",
       "</div>"
      ],
      "text/plain": [
       "             0        1\n",
       "0      d2k54a1  d2k54a1\n",
       "1      d2i9wa1  d2i9wa1\n",
       "2      d3grda_  d3grda_\n",
       "3      d3grda_  d3ebta1\n",
       "4      d3grda_  d3ec9a1\n",
       "...        ...      ...\n",
       "24573  d2m9ya1  d1wd2a1\n",
       "24574  d2m9ya1  d2lwra1\n",
       "24575  d3jb9s1  d3jb9s1\n",
       "24576  d3jb9s1  d2baya_\n",
       "24577  d3jb9s1  d6id0q1\n",
       "\n",
       "[24578 rows x 2 columns]"
      ]
     },
     "execution_count": 79,
     "metadata": {},
     "output_type": "execute_result"
    }
   ],
   "source": [
    "table = pd.read_csv('clusterFiles_cluster.tsv', sep='\\t', header=None)\n",
    "table"
   ]
  },
  {
   "cell_type": "code",
   "execution_count": 80,
   "id": "5f2d0403-2cb7-4b5d-b0de-e6341840f721",
   "metadata": {},
   "outputs": [
    {
     "data": {
      "text/plain": [
       "4943"
      ]
     },
     "execution_count": 80,
     "metadata": {},
     "output_type": "execute_result"
    }
   ],
   "source": [
    "Cs = table[0]\n",
    "len(set(Cs))"
   ]
  },
  {
   "cell_type": "code",
   "execution_count": 81,
   "id": "a87b464a-1e44-43c9-8054-9f127762a598",
   "metadata": {},
   "outputs": [
    {
     "data": {
      "text/plain": [
       "24578"
      ]
     },
     "execution_count": 81,
     "metadata": {},
     "output_type": "execute_result"
    }
   ],
   "source": [
    "seqIDs = table[1]\n",
    "len(set(seqIDs))"
   ]
  },
  {
   "cell_type": "code",
   "execution_count": 82,
   "id": "61543fca-45b0-476c-acb4-0bc9b08e7300",
   "metadata": {},
   "outputs": [
    {
     "name": "stdout",
     "output_type": "stream",
     "text": [
      "['d2k54a1' 'd2i9wa1' 'd3grda_' ... 'd3jb9s1' 'd3jb9s1' 'd3jb9s1']\n",
      "['d2k54a1' 'd2i9wa1' 'd3grda_' ... 'd3jb9s1' 'd2baya_' 'd6id0q1']\n"
     ]
    }
   ],
   "source": [
    "Cs = np.array(Cs)\n",
    "print(Cs)\n",
    "\n",
    "seqIDs = np.array(seqIDs)\n",
    "print(seqIDs)"
   ]
  },
  {
   "cell_type": "code",
   "execution_count": 83,
   "id": "38641e9d-1f30-448a-9d96-6790f252d2ed",
   "metadata": {},
   "outputs": [
    {
     "name": "stdout",
     "output_type": "stream",
     "text": [
      "4943\n"
     ]
    }
   ],
   "source": [
    "C=0\n",
    "for c, seqID in zip(Cs, seqIDs):\n",
    "    if c==seqID:\n",
    "        C+=1\n",
    "print(C)"
   ]
  },
  {
   "cell_type": "code",
   "execution_count": 84,
   "id": "79c5aa3b-ba86-45f5-853d-762910a618ff",
   "metadata": {},
   "outputs": [],
   "source": [
    "outLookUpTable = dict(zip(seqIDs, Cs))"
   ]
  },
  {
   "cell_type": "code",
   "execution_count": 85,
   "id": "c243d620-aeed-4aa0-8d5c-b5cde28f9c2b",
   "metadata": {},
   "outputs": [],
   "source": [
    "# outLookUpTable"
   ]
  },
  {
   "cell_type": "code",
   "execution_count": 86,
   "id": "d563658b-30ea-4408-86e3-7ca399ef0614",
   "metadata": {},
   "outputs": [
    {
     "name": "stdout",
     "output_type": "stream",
     "text": [
      "4943\n"
     ]
    }
   ],
   "source": [
    "C=0\n",
    "for key, value in outLookUpTable.items():\n",
    "    if key == value:\n",
    "        C+=1\n",
    "print(C)"
   ]
  },
  {
   "cell_type": "code",
   "execution_count": 87,
   "id": "9fc6b6e0-36fb-424a-a00c-c3ebfab82b7f",
   "metadata": {},
   "outputs": [],
   "source": [
    "modifiedOutLookUpTable = {}\n",
    "for key, value in outLookUpTable.items():\n",
    "    modifiedOutLookUpTable[key] = inLookUpTable[value]\n",
    "\n",
    "# {'d2qy0a2': 'd2qy0a2',\n",
    "#  'd1md8a2': 'd2qy0a2',\n",
    "#  'd5ubmb2': 'd2qy0a2',\n",
    "#  'd1elva2': 'd2qy0a2',\n",
    "#  'd3gova2': 'd2qy0a2',..."
   ]
  },
  {
   "cell_type": "code",
   "execution_count": 88,
   "id": "7ddfcb24-3bfe-4900-be97-a6a954300cf7",
   "metadata": {},
   "outputs": [],
   "source": [
    "# modifiedOutLookUpTable"
   ]
  },
  {
   "cell_type": "code",
   "execution_count": 89,
   "id": "5ff654d2-6075-4759-97ee-772015f673fb",
   "metadata": {},
   "outputs": [
    {
     "name": "stdout",
     "output_type": "stream",
     "text": [
      "24565\n"
     ]
    }
   ],
   "source": [
    "C = 0\n",
    "for header, _seq in esm.data.read_fasta(datasetLocation):\n",
    "    seqID = header.split()[0][1:]\n",
    "    # print(seqID)\n",
    "    y  = inLookUpTable[seqID] \n",
    "    yp = modifiedOutLookUpTable[seqID]\n",
    "    \n",
    "    if y == yp:\n",
    "        C+=1\n",
    "    #end-if\n",
    "#end-for\n",
    "\n",
    "print(C)"
   ]
  },
  {
   "cell_type": "code",
   "execution_count": 90,
   "id": "1e49bc85-cca1-4595-9713-f00975616329",
   "metadata": {},
   "outputs": [],
   "source": [
    "# Y"
   ]
  },
  {
   "cell_type": "code",
   "execution_count": 91,
   "id": "7fd6c885-27a2-43c0-9881-55562dd4eef7",
   "metadata": {},
   "outputs": [],
   "source": [
    "# modifiedOutLookUpTable"
   ]
  },
  {
   "cell_type": "code",
   "execution_count": 92,
   "id": "65cb153e-fe58-421d-ae72-3d0554c5caf2",
   "metadata": {},
   "outputs": [
    {
     "data": {
      "text/plain": [
       "192"
      ]
     },
     "execution_count": 92,
     "metadata": {},
     "output_type": "execute_result"
    }
   ],
   "source": [
    "len(set(modifiedOutLookUpTable.values()))"
   ]
  },
  {
   "cell_type": "code",
   "execution_count": 93,
   "id": "b2550ff2-743b-466e-b59b-c41e36f05a44",
   "metadata": {},
   "outputs": [
    {
     "data": {
      "text/plain": [
       "24578"
      ]
     },
     "execution_count": 93,
     "metadata": {},
     "output_type": "execute_result"
    }
   ],
   "source": [
    "len(set(modifiedOutLookUpTable.keys()))"
   ]
  },
  {
   "cell_type": "code",
   "execution_count": 94,
   "id": "a2de4820-be6f-4ffb-8302-3d87e3b6ba86",
   "metadata": {},
   "outputs": [],
   "source": [
    "counter = {}\n",
    "for key, value in modifiedOutLookUpTable.items():\n",
    "    # print(key, value)\n",
    "    # print(type(key))\n",
    "    # break\n",
    "    if value not in counter:\n",
    "        counter[value] = 1\n",
    "    else:\n",
    "        counter[value] += 1\n",
    "    # break"
   ]
  },
  {
   "cell_type": "code",
   "execution_count": 95,
   "id": "c669333a-cf48-455c-a112-e69b8b1dd4b2",
   "metadata": {},
   "outputs": [],
   "source": [
    "# counter"
   ]
  },
  {
   "cell_type": "code",
   "execution_count": 96,
   "id": "51d723cc-e628-4f75-bbc6-8f198b9a1261",
   "metadata": {},
   "outputs": [],
   "source": [
    "counter =sorted(counter.items(), key=lambda x: x[1], reverse=True)"
   ]
  },
  {
   "cell_type": "code",
   "execution_count": 97,
   "id": "6b520432-0772-426f-916b-456634ffed54",
   "metadata": {},
   "outputs": [],
   "source": [
    "# counter"
   ]
  },
  {
   "cell_type": "code",
   "execution_count": 98,
   "id": "0cac99f8-d79d-4204-befa-bdba2d74e477",
   "metadata": {},
   "outputs": [],
   "source": [
    "superfamilies = []\n",
    "members = []\n",
    "for v in counter:\n",
    "    superfamilies.append(v[0])\n",
    "    members.append(v[1])\n",
    "#end-for"
   ]
  },
  {
   "cell_type": "code",
   "execution_count": 99,
   "id": "4f945564-e869-47f0-8183-6d743e0fe82a",
   "metadata": {},
   "outputs": [
    {
     "data": {
      "image/png": "[encoded data removed]",
      "text/plain": [
       "<Figure size 1800x1080 with 1 Axes>"
      ]
     },
     "metadata": {
      "needs_background": "light"
     },
     "output_type": "display_data"
    }
   ],
   "source": [
    "import matplotlib.pyplot as plt\n",
    "\n",
    "fig = plt.figure(figsize = (25, 15))\n",
    "plt.bar(superfamilies[:15], members[:15], width = 0.4, color=(0.2, 0.4, 0.6, 0.6),  edgecolor='blue')\n",
    "plt.xlabel('Superfamilies', fontweight='bold', fontsize=15)\n",
    "plt.ylabel('Frequency (number of proteins)', fontweight='bold', fontsize=15)\n",
    "plt.title('This bar plot shows the number of proteins contains in the corresponding superfamily (after MMseqs2/Linclust).', fontsize=22)\n",
    "plt.savefig(f'images-PNG/output.png')\n",
    "plt.savefig(f'images-JPG/output.jpg')"
   ]
  },
  {
   "cell_type": "code",
   "execution_count": 100,
   "id": "27b7de2a-70a0-4476-a5cd-1c6391b38145",
   "metadata": {},
   "outputs": [],
   "source": [
    "# C = 1\n",
    "# for i in range(15, len(members), 15):\n",
    "#     fig = plt.figure(figsize = (25, 15))\n",
    "#     plt.bar(superfamilies[i-15:i], members[i-15:i], width = 0.4, color=(0.2, 0.4, 0.6, 0.6),  edgecolor='blue')\n",
    "#     plt.xlabel('Superfamilies', fontweight='bold', fontsize=15)\n",
    "#     plt.ylabel('Frequency (number of proteins)', fontweight='bold', fontsize=15)\n",
    "#     plt.title('This bar plot shows the number of proteins contains in the corresponding superfamily.', fontsize=22)\n",
    "#     plt.savefig(f'images-PNG/{(i+1)-15}-{i}.png')\n",
    "#     plt.savefig(f'images-JPG/{(i+1)-15}-{i}.jpg')\n",
    "#     if C==5: break\n",
    "#     C+=1\n",
    "#     # plt.show()\n",
    "# #end-for"
   ]
  },
  {
   "cell_type": "code",
   "execution_count": 101,
   "id": "fa6dd534-538a-4ac9-957a-49995a12ca67",
   "metadata": {},
   "outputs": [
    {
     "data": {
      "text/plain": [
       "['b.1.1',\n",
       " 'c.37.1',\n",
       " 'c.2.1',\n",
       " 'c.47.1',\n",
       " 'a.4.5',\n",
       " 'd.144.1',\n",
       " 'c.1.8',\n",
       " 'c.94.1',\n",
       " 'c.67.1',\n",
       " 'c.69.1',\n",
       " 'b.29.1',\n",
       " 'c.66.1',\n",
       " 'a.1.1',\n",
       " 'd.58.7',\n",
       " 'b.47.1']"
      ]
     },
     "execution_count": 101,
     "metadata": {},
     "output_type": "execute_result"
    }
   ],
   "source": [
    "# members\n",
    "superfamilies[:15]"
   ]
  },
  {
   "cell_type": "code",
   "execution_count": 102,
   "id": "edfaa49c-875e-485d-b4a3-efa4fa486b62",
   "metadata": {},
   "outputs": [],
   "source": [
    "C = 1\n",
    "\n",
    "d = {}\n",
    "for header, sequence in esm.data.read_fasta(datasetLocation):\n",
    "    header = '.'.join(header.split()[1].split('.')[0:-1])\n",
    "    \n",
    "    # print(header)\n",
    "    \n",
    "    if header not in d:\n",
    "        d[header] = 1\n",
    "    else:\n",
    "        d[header] += 1\n",
    "    \n",
    "    # print()\n",
    "    # if C==10: break\n",
    "    # C += 1\n",
    "#end-for"
   ]
  },
  {
   "cell_type": "code",
   "execution_count": 103,
   "id": "fe0d8cfb-ecf2-44f4-b5e2-c2df87dd1954",
   "metadata": {},
   "outputs": [],
   "source": [
    "originalCounter =sorted(d.items(), key=lambda x: x[1], reverse=True)"
   ]
  },
  {
   "cell_type": "code",
   "execution_count": 104,
   "id": "a9dbb8fc-155b-458b-9418-0d00559ae881",
   "metadata": {},
   "outputs": [],
   "source": [
    "# originalCounter"
   ]
  },
  {
   "cell_type": "code",
   "execution_count": 105,
   "id": "d3008c11-4766-4ced-8843-ac45ba43c9bf",
   "metadata": {},
   "outputs": [],
   "source": [
    "originalSuperfamilies = []\n",
    "originalMembers = []\n",
    "for v in originalCounter:\n",
    "    originalSuperfamilies.append(v[0])\n",
    "    originalMembers.append(v[1])\n",
    "#end-for"
   ]
  },
  {
   "cell_type": "code",
   "execution_count": 106,
   "id": "0aaa8d5d-4e15-4d0c-8fcb-64dd93416eaa",
   "metadata": {},
   "outputs": [
    {
     "data": {
      "image/png": "[encoded data removed]",
      "text/plain": [
       "<Figure size 1800x1080 with 1 Axes>"
      ]
     },
     "metadata": {
      "needs_background": "light"
     },
     "output_type": "display_data"
    }
   ],
   "source": [
    "# fig = plt.figure(figsize = (25, 15))\n",
    "plotdata = pd.DataFrame({\n",
    "    \"before cluster (initial stage)\": originalMembers[:15],\n",
    "    \"after cluster (MMseqs2/Linclust)\": members[:15]},\n",
    "    index=superfamilies[:15]\n",
    ")\n",
    "\n",
    "plotdata.plot(kind=\"bar\",figsize=(25, 15), color={'after cluster (MMseqs2/Linclust)': (0.2, 0.4, 0.6, 0.6), 'before cluster (initial stage)': 'red'})\n",
    "# (0.2, 0.4, 0.6, 0.6)\n",
    "\n",
    "\n",
    "# index=[\"Django\", \"Gafur\", \"Tommy\", \"Ronnie\"])\n",
    "#superfamilies[:15], members[:15]\n",
    "\n",
    "# color=(0.2, 0.4, 0.6, 0.6)\n",
    "\n",
    "plt.xlabel('Superfamilies', fontweight='bold', fontsize=15)\n",
    "plt.ylabel('Frequency (number of proteins)', fontweight='bold', fontsize=15)\n",
    "plt.title('This bar plot shows the number of proteins contains in the corresponding superfamily.', fontsize=22)\n",
    "# plt.savefig(f'images-PNG/compared.png')\n",
    "# plt.savefig(f'images-JPG/compared.jpg')\n",
    "\n",
    "plt.show()"
   ]
  },
  {
   "cell_type": "code",
   "execution_count": 107,
   "id": "e11a4a02-715b-4e35-8252-449bfe68ca2a",
   "metadata": {},
   "outputs": [],
   "source": [
    "# help(plotdata.plot)"
   ]
  },
  {
   "cell_type": "markdown",
   "id": "de0d2730-f7c0-4cbb-b5d6-bd4c6e3a21e8",
   "metadata": {},
   "source": [
    "### All superfamilies compared (MMseqs2/Linclust):"
   ]
  },
  {
   "cell_type": "code",
   "execution_count": 108,
   "id": "0331cb0d-6990-4546-843f-2e361a06c87d",
   "metadata": {},
   "outputs": [
    {
     "data": {
      "image/png": "[encoded data removed]",
      "text/plain": [
       "<Figure size 1800x1080 with 1 Axes>"
      ]
     },
     "metadata": {
      "needs_background": "light"
     },
     "output_type": "display_data"
    }
   ],
   "source": [
    "# fig = plt.figure(figsize = (25, 15))\n",
    "plotdata = pd.DataFrame({\n",
    "    \"before cluster (initial stage)\": originalMembers[:],\n",
    "    \"after cluster (MMseqs2/Linclust)\": members[:]},\n",
    "    index=range(len(superfamilies[:]))\n",
    ")\n",
    "\n",
    "plotdata.plot(kind=\"bar\",figsize=(25, 15), color={'after cluster (MMseqs2/Linclust)': (0.2, 0.4, 0.6, 0.6), 'before cluster (initial stage)': 'red'})\n",
    "# (0.2, 0.4, 0.6, 0.6)\n",
    "\n",
    "\n",
    "# index=[\"Django\", \"Gafur\", \"Tommy\", \"Ronnie\"])\n",
    "#superfamilies[:15], members[:15]\n",
    "\n",
    "# color=(0.2, 0.4, 0.6, 0.6)\n",
    "\n",
    "plt.xlabel('Superfamilies', fontweight='bold', fontsize=15)\n",
    "plt.ylabel('Frequency (number of proteins)', fontweight='bold', fontsize=15)\n",
    "plt.title('This bar plot shows the number of proteins contains in the corresponding superfamily.', fontsize=22)\n",
    "plt.savefig(f'images-PNG/All-Compared.png', dpi=600)\n",
    "plt.savefig(f'images-JPG/All-Compared.jpg', dpi=600)\n",
    "\n",
    "plt.show()"
   ]
  },
  {
   "cell_type": "code",
   "execution_count": 109,
   "id": "58d210e9-3c24-495a-8ca6-7347035d2a01",
   "metadata": {},
   "outputs": [],
   "source": [
    "# help(plt.savefig)"
   ]
  },
  {
   "cell_type": "code",
   "execution_count": null,
   "id": "45915c82-baf5-4120-b587-fbae07531d50",
   "metadata": {},
   "outputs": [],
   "source": []
  }
 ],
 "metadata": {
  "kernelspec": {
   "display_name": "Python 3 (ipykernel)",
   "language": "python",
   "name": "python3"
  },
  "language_info": {
   "codemirror_mode": {
    "name": "ipython",
    "version": 3
   },
   "file_extension": ".py",
   "mimetype": "text/x-python",
   "name": "python",
   "nbconvert_exporter": "python",
   "pygments_lexer": "ipython3",
   "version": "3.7.13"
  }
 },
 "nbformat": 4,
 "nbformat_minor": 5
}
