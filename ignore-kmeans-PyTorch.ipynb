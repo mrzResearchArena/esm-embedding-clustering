{
 "cells": [
  {
   "cell_type": "code",
   "execution_count": 1,
   "id": "293b1f48-ede7-43b1-9ddc-443b5dc088b9",
   "metadata": {},
   "outputs": [],
   "source": [
    "import torch\n",
    "import numpy as np\n",
    "import matplotlib.pyplot as plt\n",
    "from kmeans_pytorch import kmeans, kmeans_predict"
   ]
  },
  {
   "cell_type": "code",
   "execution_count": 2,
   "id": "29c8e2da-0eb1-4904-9faa-2323eeba8be5",
   "metadata": {},
   "outputs": [],
   "source": [
    "# set random seed\n",
    "np.random.seed(123)"
   ]
  },
  {
   "cell_type": "code",
   "execution_count": 26,
   "id": "8b11f02b-4f46-4be3-a408-3d09d7d7d524",
   "metadata": {},
   "outputs": [],
   "source": [
    "# data\n",
    "data_size, dims, num_clusters = 35000, 1280, 100\n",
    "x = np.random.randn(data_size, dims) / 6\n",
    "x = torch.from_numpy(x)"
   ]
  },
  {
   "cell_type": "code",
   "execution_count": 22,
   "id": "56d4b954-8d69-4a1e-a9b1-1f95dc3766f3",
   "metadata": {},
   "outputs": [
    {
     "data": {
      "text/plain": [
       "torch.Size([35000, 1280])"
      ]
     },
     "execution_count": 22,
     "metadata": {},
     "output_type": "execute_result"
    }
   ],
   "source": [
    "x.shape"
   ]
  },
  {
   "cell_type": "code",
   "execution_count": 23,
   "id": "ae60aeab-1579-476c-8bc5-daae4209abfc",
   "metadata": {},
   "outputs": [],
   "source": [
    "# set device\n",
    "if torch.cuda.is_available():\n",
    "    device = torch.device('cuda:0')\n",
    "else:\n",
    "    device = torch.device('cpu')"
   ]
  },
  {
   "cell_type": "code",
   "execution_count": 24,
   "id": "5421d3a8-fb85-4152-b9c1-d1a7177cb8dc",
   "metadata": {},
   "outputs": [
    {
     "data": {
      "text/plain": [
       "device(type='cpu')"
      ]
     },
     "execution_count": 24,
     "metadata": {},
     "output_type": "execute_result"
    }
   ],
   "source": [
    "device"
   ]
  },
  {
   "cell_type": "code",
   "execution_count": null,
   "id": "d03a573c-cf77-4757-96e0-7e0ba508261a",
   "metadata": {},
   "outputs": [
    {
     "name": "stdout",
     "output_type": "stream",
     "text": [
      "running k-means on cpu..\n"
     ]
    },
    {
     "name": "stderr",
     "output_type": "stream",
     "text": [
      "[running kmeans]: 3it [08:41, 175.50s/it, center_shift=118.639534, iteration=3, tol=0.000100]   "
     ]
    }
   ],
   "source": [
    "# k-means\n",
    "begin = time.time()\n",
    "\n",
    "cluster_ids_x, cluster_centers = kmeans(\n",
    "    X=x, num_clusters=num_clusters, distance='cosine', device=device\n",
    ")\n",
    "\n",
    "print()\n",
    "print(time.time() - begin)"
   ]
  },
  {
   "cell_type": "code",
   "execution_count": 20,
   "id": "191950a2-13f7-4e4c-a5d3-43d33fe8947b",
   "metadata": {},
   "outputs": [
    {
     "name": "stdout",
     "output_type": "stream",
     "text": [
      "tensor([1, 2, 9,  ..., 7, 3, 2])\n",
      "tensor([[-4.4727e-03, -6.7255e-05,  9.2688e-03,  ..., -1.1097e-02,\n",
      "         -2.5899e-04,  3.5558e-03],\n",
      "        [-2.5588e-03,  2.3669e-03,  7.6168e-03,  ..., -4.6433e-04,\n",
      "         -8.5397e-04,  9.1478e-03],\n",
      "        [-4.5790e-03,  1.9991e-02, -1.2295e-02,  ..., -6.0430e-03,\n",
      "          1.0944e-02, -5.8699e-03],\n",
      "        ...,\n",
      "        [ 1.0043e-02,  4.4453e-03, -1.3096e-02,  ...,  2.3458e-03,\n",
      "         -1.4589e-02,  9.7516e-03],\n",
      "        [-1.1243e-02,  3.3707e-03, -1.0118e-03,  ..., -7.0281e-03,\n",
      "          1.4626e-03,  5.4705e-03],\n",
      "        [-2.0476e-03,  3.3686e-03,  1.0199e-02,  ...,  8.2928e-03,\n",
      "         -5.3492e-04, -1.9858e-02]])\n"
     ]
    }
   ],
   "source": [
    "# cluster IDs and cluster centers\n",
    "print(cluster_ids_x)\n",
    "print(cluster_centers)"
   ]
  },
  {
   "cell_type": "code",
   "execution_count": null,
   "id": "e458b24c-0b44-42e8-81da-bbfee6766950",
   "metadata": {},
   "outputs": [],
   "source": []
  }
 ],
 "metadata": {
  "kernelspec": {
   "display_name": "Python 3 (ipykernel)",
   "language": "python",
   "name": "python3"
  },
  "language_info": {
   "codemirror_mode": {
    "name": "ipython",
    "version": 3
   },
   "file_extension": ".py",
   "mimetype": "text/x-python",
   "name": "python",
   "nbconvert_exporter": "python",
   "pygments_lexer": "ipython3",
   "version": "3.7.13"
  }
 },
 "nbformat": 4,
 "nbformat_minor": 5
}
