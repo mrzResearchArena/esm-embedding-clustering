{
 "cells": [
  {
   "cell_type": "markdown",
   "id": "8a5927ef-069e-41ac-b13d-c95ee4675eb7",
   "metadata": {},
   "source": [
    "### -1. Required Packages"
   ]
  },
  {
   "cell_type": "code",
   "execution_count": 6,
   "id": "68e0eceb-6148-42d6-afa7-76e231d8a781",
   "metadata": {},
   "outputs": [],
   "source": [
    "import esm\n",
    "import torch\n",
    "import numpy as np # Saved file(s) in .npy format."
   ]
  },
  {
   "cell_type": "markdown",
   "id": "e2e6106b-1964-4c01-bc07-c4faa820c45c",
   "metadata": {},
   "source": [
    "### O. Testing: Dataset Prepossessing & Generation"
   ]
  },
  {
   "cell_type": "code",
   "execution_count": 7,
   "id": "0fbeaac0-7228-407a-af6d-9dc6518dc716",
   "metadata": {},
   "outputs": [],
   "source": [
    "# !python scripts/extract.py esm1b_t33_650M_UR50S examples/data/some_proteins.fasta examples/data/some_proteins_emb_esm1b/ --repr_layers 0 32 33 --include mean per_tok"
   ]
  },
  {
   "cell_type": "code",
   "execution_count": 8,
   "id": "cb4275eb-f90f-42f4-b700-c846fcd51a91",
   "metadata": {},
   "outputs": [],
   "source": [
    "# FASTA_PATH = '/home/rafsanjani/backup-research/esm/examples/data/some_proteins.fasta'\n",
    "# EMB_PATH = '/home/rafsanjani/backup-research/esm/examples/data/some_proteins_emb_esm1b'\n",
    "# EMB_LAYER = 33"
   ]
  },
  {
   "cell_type": "code",
   "execution_count": 9,
   "id": "b55321f7-e5de-4b7b-b648-fc1e1478e30b",
   "metadata": {},
   "outputs": [],
   "source": [
    "# Xs = []\n",
    "# for header, _seq in esm.data.read_fasta(FASTA_PATH):\n",
    "#     fn = f'{EMB_PATH}/{header[1:]}.pt'\n",
    "#     embs = torch.load(fn)\n",
    "#     Xs.append(embs['mean_representations'][EMB_LAYER])\n",
    "# Xs = torch.stack(Xs, dim=0).numpy()\n",
    "# print(Xs.shape)"
   ]
  },
  {
   "cell_type": "code",
   "execution_count": 10,
   "id": "6df40085-41e0-4766-9ef3-f2ab5207f596",
   "metadata": {},
   "outputs": [],
   "source": [
    "# type(Xs[0])"
   ]
  },
  {
   "cell_type": "code",
   "execution_count": 11,
   "id": "cae1c1a3-c9a8-4bf7-aa53-5b9b37bf375a",
   "metadata": {},
   "outputs": [],
   "source": [
    "# !python scripts/extract.py esm1b_t33_650M_UR50S examples/data/some_proteins_evil.fasta examples/data/some_proteins_evil_emb_esm1b/ --repr_layers 0 32 33 --include mean per_tok"
   ]
  },
  {
   "cell_type": "code",
   "execution_count": 12,
   "id": "e29c59f2-4b3b-415b-82a8-6bd6b543db8f",
   "metadata": {},
   "outputs": [],
   "source": [
    "# FASTA_PATH = '/home/rafsanjani/backup-research/esm/examples/data/some_proteins_evil.fasta'\n",
    "# EMB_PATH = '/home/rafsanjani/backup-research/esm/examples/data/some_proteins_evil_emb_esm1b'\n",
    "# EMB_LAYER = 33"
   ]
  },
  {
   "cell_type": "code",
   "execution_count": 13,
   "id": "0b1d2d12-18dd-49ed-a949-120a9d8de5b8",
   "metadata": {},
   "outputs": [],
   "source": [
    "# Xs = []\n",
    "# for header, _seq in esm.data.read_fasta(FASTA_PATH):\n",
    "#     fn = f'{EMB_PATH}/{header[1:]}.pt'\n",
    "#     embs = torch.load(fn)\n",
    "#     # print(embs)\n",
    "#     # print()\n",
    "#     Xs.append(embs['mean_representations'][EMB_LAYER])\n",
    "# Xs = torch.stack(Xs, dim=0).numpy()\n",
    "# print(Xs.shape)"
   ]
  },
  {
   "cell_type": "code",
   "execution_count": 14,
   "id": "3fcccd36-5259-48bd-8a45-a5a42ff4e44b",
   "metadata": {},
   "outputs": [],
   "source": [
    "# Xs = []\n",
    "# for header, _seq in esm.data.read_fasta(FASTA_PATH):\n",
    "#     # fn = f'{EMB_PATH}/{header[1:]}.pt'\n",
    "#     print(header[1:])\n",
    "    "
   ]
  },
  {
   "cell_type": "code",
   "execution_count": 15,
   "id": "6a02d5ec-98e5-4196-8d22-0c49b8bb216a",
   "metadata": {},
   "outputs": [],
   "source": [
    "# Xs.shape"
   ]
  },
  {
   "cell_type": "code",
   "execution_count": 16,
   "id": "08178df6-8d65-4645-b93c-15db2d4c6b70",
   "metadata": {},
   "outputs": [],
   "source": [
    "# Xs.shape"
   ]
  },
  {
   "cell_type": "code",
   "execution_count": 17,
   "id": "b74771f0-7890-48b5-a0e8-3341f5944722",
   "metadata": {},
   "outputs": [],
   "source": [
    " # !python scripts/extract.py esm1b_t33_650M_UR50S examples/data/astral_seg.fa examples/data/astral_esm1b/ --repr_layers 0 32 33 --include mean per_tok"
   ]
  },
  {
   "cell_type": "markdown",
   "id": "fadf4d5e-7876-436c-b7df-060abc68bb40",
   "metadata": {},
   "source": [
    "### 1. Download FASTA Sequences from SCOPe Database:"
   ]
  },
  {
   "cell_type": "code",
   "execution_count": 13,
   "id": "33966505-30f8-40b9-9a38-dde44fb335bc",
   "metadata": {},
   "outputs": [
    {
     "name": "stdout",
     "output_type": "stream",
     "text": [
      "--2022-08-15 22:24:12--  https://scop.berkeley.edu/downloads/scopeseq-2.08/astral-scopedom-seqres-sel-gs-bib-95-2.08.fa\n",
      "Resolving scop.berkeley.edu (scop.berkeley.edu)... 128.32.236.13\n",
      "Connecting to scop.berkeley.edu (scop.berkeley.edu)|128.32.236.13|:443... connected.\n",
      "HTTP request sent, awaiting response... 200 OK\n",
      "Length: 9862103 (9.4M)\n",
      "Saving to: ‘astral-scopedom-seqres-sel-gs-bib-95-2.08.fa’\n",
      "\n",
      "astral-scopedom-seq 100%[===================>]   9.40M   576KB/s    in 17s     \n",
      "\n",
      "2022-08-15 22:24:31 (559 KB/s) - ‘astral-scopedom-seqres-sel-gs-bib-95-2.08.fa’ saved [9862103/9862103]\n",
      "\n"
     ]
    }
   ],
   "source": [
    "!wget 'https://scop.berkeley.edu/downloads/scopeseq-2.08/astral-scopedom-seqres-sel-gs-bib-95-2.08.fa'"
   ]
  },
  {
   "cell_type": "code",
   "execution_count": 14,
   "id": "57793906-ecb7-4fd4-acb2-5843e9cfd954",
   "metadata": {},
   "outputs": [],
   "source": [
    "!mv astral-scopedom-seqres-sel-gs-bib-95-2.08.fa astral-SCOPe-original.fa"
   ]
  },
  {
   "cell_type": "code",
   "execution_count": 15,
   "id": "05f1a747-c01c-41d0-bdb6-4b55722e4f84",
   "metadata": {},
   "outputs": [
    {
     "name": "stdout",
     "output_type": "stream",
     "text": [
      "astral95+15.fa\t\t   astral-SCOPe+original.fa\t pyproject.toml\n",
      "astral95-15.fa\t\t   astral-SCOPe-original.fa\t README.md\n",
      "astral95+ESM1b+15\t   astral-SCOPe+refined+1024.fa  scripts\n",
      "astral95+ESM1b-15\t   astral-SCOPe+refined.fa\t scrutinize.ipynb\n",
      "astral95_ESM1b_refined\t   CODE_OF_CONDUCT.rst\t\t setup.py\n",
      "astral95+original.fa\t   CONTRIBUTING.md\t\t tests\n",
      "astral95_refined_2500.fa   countCrash.txt\t\t trackError.ipynb\n",
      "astral95_refined_2500.txt  esm\t\t\t\t Xs-2500.npy\n",
      "astral95+refined.fa\t   esm-embedding.ipynb\t\t Xs-35652.npy\n",
      "astral-common.fa\t   examples\t\t\t Xs.npy\n",
      "astral-glr.fa\t\t   hubconf.py\n",
      "astral-SCOPe-ESM1b\t   LICENSE\n"
     ]
    }
   ],
   "source": [
    "!ls"
   ]
  },
  {
   "cell_type": "markdown",
   "id": "9e1e684a-c1a0-4379-ad07-67545ab0425f",
   "metadata": {},
   "source": [
    "### 2. Trim Sequences (maximum length is 1024)"
   ]
  },
  {
   "cell_type": "code",
   "execution_count": 18,
   "id": "6c832e45-75bd-4c34-9ba2-1cdd3a12b642",
   "metadata": {},
   "outputs": [],
   "source": [
    "C = 1\n",
    "file = open('astral-SCOPe-refined.fa', 'w')\n",
    "for header, sequence in esm.data.read_fasta('astral-SCOPe-original.fa'):\n",
    "    headerSegment1 = header.split()[0]\n",
    "    headerSegment2 = '.'.join(header.split()[1].split('.')[0:-1])\n",
    "    \n",
    "    header = ''.join([headerSegment1, headerSegment2])\n",
    "    sequence = sequence.upper()[:1022] \n",
    "    # ESM tool able to handle maximum 1024-sequence length\n",
    "    # We merely can generate data with 1022-sequence length (i.e., a starting pointer and an ending pointer are required.).\n",
    "    \n",
    "    # print(header)\n",
    "    # print(sequence)\n",
    "    \n",
    "    file.write(f'{header}\\n')\n",
    "    file.write(f'{sequence}\\n')\n",
    "    \n",
    "    # print()\n",
    "    # if C==11: break\n",
    "    # C += 1\n",
    "#end-for\n",
    "file.close()"
   ]
  },
  {
   "cell_type": "code",
   "execution_count": 36,
   "id": "8e307b1c-f0b3-43f9-b076-cff8c2e30846",
   "metadata": {},
   "outputs": [],
   "source": [
    "# help(file.write)"
   ]
  },
  {
   "cell_type": "code",
   "execution_count": 37,
   "id": "b86738d6-3a10-4761-b5bf-e86761a3b1dc",
   "metadata": {},
   "outputs": [],
   "source": [
    "# ''.join(['A', '+B'])"
   ]
  },
  {
   "cell_type": "markdown",
   "id": "235cc6d2-e802-451c-b630-811961021cdf",
   "metadata": {},
   "source": [
    "### Sequences to .pt formats (required 100GB Space, massive computation)"
   ]
  },
  {
   "cell_type": "markdown",
   "id": "d34c482d-ce3c-41ae-9a9c-e252108f896f",
   "metadata": {},
   "source": [
    "- It utilizes __ESM-1b__ (esm1b_t33_650M_UR50S) as pre-trained model to generate __.pt files__ for each sequence."
   ]
  },
  {
   "cell_type": "code",
   "execution_count": null,
   "id": "133891ce-c2c5-45bf-90a8-7df0ac5404cf",
   "metadata": {},
   "outputs": [
    {
     "name": "stdout",
     "output_type": "stream",
     "text": [
      "Read astral-SCOPe-refined.fa with 35667 sequences\n",
      "Processing 1 of 1635 batches (141 sequences)\n"
     ]
    }
   ],
   "source": [
    " !python scripts/extract.py esm1b_t33_650M_UR50S astral-SCOPe-refined.fa astral-SCOPe-ESM1b/ --repr_layers 0 32 33 --include mean per_tok"
   ]
  },
  {
   "cell_type": "markdown",
   "id": "8e500d69-c4e3-4d5e-9772-6e8bf4fe09b7",
   "metadata": {},
   "source": [
    "- It has been deliberately inturrupted."
   ]
  },
  {
   "cell_type": "code",
   "execution_count": 19,
   "id": "7ac31c00-898d-4904-bdde-1c89d12aeef3",
   "metadata": {},
   "outputs": [],
   "source": [
    " # !python scripts/extract.py esm1b_t33_650M_UR50S trackError.fa astral95+ESM1b+15/ --repr_layers 0 32 33 --include mean per_tok"
   ]
  },
  {
   "cell_type": "code",
   "execution_count": 20,
   "id": "60f6b3b8-2ace-4793-902e-3833d6524e46",
   "metadata": {},
   "outputs": [],
   "source": [
    " # !python scripts/extract.py esm1b_t33_650M_UR50S astral95_refined.fa astral95_ESM1b --repr_layers 0 32 33 --include mean per_tok"
   ]
  },
  {
   "cell_type": "code",
   "execution_count": 21,
   "id": "2f6bdd68-65ed-4b7c-9192-926d0f0055f7",
   "metadata": {},
   "outputs": [],
   "source": [
    "# datasetLocation = '/home/rafsanjani/backup-research/esm/astral95_refined.fa'\n",
    "# embeddingLocation = '/home/rafsanjani/backup-research/esm/astral95_ESM1b'\n",
    "# embeddingLayer = 33\n",
    "\n",
    "# # astral95_refined_2500.txt astral95_ESM1b_refined"
   ]
  },
  {
   "cell_type": "code",
   "execution_count": 22,
   "id": "c2a5a2a4-4c69-4a58-ad04-72a4b201b2cd",
   "metadata": {},
   "outputs": [],
   "source": [
    "datasetLocation = '/home/rafsanjani/backup-research/esm/astral-SCOPe-refined.fa'\n",
    "embeddingLocation = '/home/rafsanjani/backup-research/esm/astral-SCOPe-ESM1b'\n",
    "embeddingLayer = 33"
   ]
  },
  {
   "cell_type": "code",
   "execution_count": 23,
   "id": "8d5bc503-df94-48f8-868d-180bf00b5ad2",
   "metadata": {},
   "outputs": [
    {
     "name": "stdout",
     "output_type": "stream",
     "text": [
      "(35667, 1280)\n"
     ]
    }
   ],
   "source": [
    "Xs = []\n",
    "for header, _seq in esm.data.read_fasta(datasetLocation):\n",
    "    fn = f'{embeddingLocation}/{header[1:]}.pt'\n",
    "    embedding = torch.load(fn)\n",
    "    # print(embs)\n",
    "    # print()\n",
    "    Xs.append(embedding['mean_representations'][embeddingLayer])\n",
    "#end-for\n",
    "Xs = torch.stack(Xs, dim=0).numpy()\n",
    "print(Xs.shape)"
   ]
  },
  {
   "cell_type": "code",
   "execution_count": 24,
   "id": "f6576f33-65a8-46fd-8da4-01ba8f47732f",
   "metadata": {},
   "outputs": [],
   "source": [
    "np.save(arr=Xs, file='Xs-35667')"
   ]
  },
  {
   "cell_type": "code",
   "execution_count": 25,
   "id": "05a6dc1c-9e08-4623-9d65-f01196dd7b3b",
   "metadata": {},
   "outputs": [],
   "source": [
    "v = np.load('Xs-35667.npy')"
   ]
  },
  {
   "cell_type": "code",
   "execution_count": 26,
   "id": "b6da6451-e907-4835-8e77-3f070e61425e",
   "metadata": {},
   "outputs": [
    {
     "data": {
      "text/plain": [
       "(35667, 1280)"
      ]
     },
     "execution_count": 26,
     "metadata": {},
     "output_type": "execute_result"
    }
   ],
   "source": [
    "v.shape"
   ]
  },
  {
   "cell_type": "code",
   "execution_count": 27,
   "id": "49c5ae95-474a-4a4d-a397-81fa59d83b94",
   "metadata": {},
   "outputs": [
    {
     "data": {
      "text/plain": [
       "(1280,)"
      ]
     },
     "execution_count": 27,
     "metadata": {},
     "output_type": "execute_result"
    }
   ],
   "source": [
    "v[0].shape"
   ]
  },
  {
   "cell_type": "code",
   "execution_count": 28,
   "id": "b2028c44-53ed-48ff-8f50-78a8cce27d76",
   "metadata": {},
   "outputs": [
    {
     "name": "stdout",
     "output_type": "stream",
     "text": [
      ">d1ux8a_a.1.1\n",
      ">d1dlwa_a.1.1\n",
      ">d1dlya_a.1.1\n",
      ">d2gkma_a.1.1\n",
      ">d1ngka_a.1.1\n",
      ">d1s69a_a.1.1\n",
      ">d5v3ta_a.1.1\n",
      ">d2bkma_a.1.1\n",
      ">d4i0va_a.1.1\n",
      ">d2bmma_a.1.1\n",
      ">d1asha_a.1.1\n",
      ">d1vhba_a.1.1\n",
      ">d1ch4a_a.1.1\n",
      ">d2dc3a_a.1.1\n",
      ">d2dc3b_a.1.1\n",
      ">d1ut0a_a.1.1\n",
      ">d4hswa_a.1.1\n",
      ">d1ecaa_a.1.1\n",
      ">d1x9fd_a.1.1\n",
      ">d1x9fb_a.1.1\n"
     ]
    }
   ],
   "source": [
    "C = 1\n",
    "for header, _seq in esm.data.read_fasta(datasetLocation):\n",
    "    # fn = f'{EMB_PATH}/{header[1:]}.pt'\n",
    "    print(header)\n",
    "    \n",
    "    if C==20: break\n",
    "    C+=1"
   ]
  },
  {
   "cell_type": "code",
   "execution_count": 29,
   "id": "c5e7015d-a2b5-46f9-a557-ffa7629044c2",
   "metadata": {},
   "outputs": [],
   "source": [
    "# C=1\n",
    "# SUM = 0\n",
    "# with open(file='countCrash.txt', mode='r') as file:\n",
    "#     for i in file:\n",
    "#         v = int(i.split()[-2][1:])\n",
    "#         SUM += v\n",
    "#         # if C==10: break\n",
    "#         # C+=1\n",
    "#     print(SUM)\n",
    "    "
   ]
  },
  {
   "cell_type": "code",
   "execution_count": 30,
   "id": "9185fb2a-bb64-41d4-848e-5269242bfdf4",
   "metadata": {},
   "outputs": [],
   "source": [
    "# 'ra fa'.split()"
   ]
  },
  {
   "cell_type": "code",
   "execution_count": 32,
   "id": "1f235472-5cd9-4413-a486-340c7f670746",
   "metadata": {},
   "outputs": [],
   "source": [
    "# v = 'PRIKTRRSKPAPDGFEKIKPTLTDFEIQLRDAQKDKSSKLAAKSNEQLWEIMQLHHQRSRYIYTLYYKRKAISKDLYDWLIKEKYADKLLIAKWRKTGYEKLCCLRCIQKNETNNGSTCICRVPRAQLEEEARKKGTQVSFHQCVHCGCRGCASTD'"
   ]
  },
  {
   "cell_type": "code",
   "execution_count": 33,
   "id": "8fea17d6-76a8-4398-b6c7-bc79936b67bf",
   "metadata": {},
   "outputs": [
    {
     "data": {
      "text/plain": [
       "array([ 0.10049941,  0.03679613, -0.03360916, ...,  0.03035077,\n",
       "       -0.10252801,  0.09472331], dtype=float32)"
      ]
     },
     "execution_count": 33,
     "metadata": {},
     "output_type": "execute_result"
    }
   ],
   "source": [
    "v[0]"
   ]
  },
  {
   "cell_type": "code",
   "execution_count": 34,
   "id": "d71d174d-f9c5-4cbe-a436-846f1156533d",
   "metadata": {},
   "outputs": [
    {
     "data": {
      "text/plain": [
       "array([ 0.05662494,  0.0203409 ,  0.08400498, ...,  0.07114115,\n",
       "       -0.13347617,  0.21751517], dtype=float32)"
      ]
     },
     "execution_count": 34,
     "metadata": {},
     "output_type": "execute_result"
    }
   ],
   "source": [
    "v[1]"
   ]
  },
  {
   "cell_type": "code",
   "execution_count": 35,
   "id": "2e3e9c54-1426-4deb-bb7c-b120061f1774",
   "metadata": {},
   "outputs": [
    {
     "data": {
      "text/plain": [
       "array([ 0.0256628 ,  0.01615633,  0.05776972, ...,  0.04173521,\n",
       "       -0.05989721,  0.13533191], dtype=float32)"
      ]
     },
     "execution_count": 35,
     "metadata": {},
     "output_type": "execute_result"
    }
   ],
   "source": [
    "v[2]"
   ]
  },
  {
   "cell_type": "code",
   "execution_count": 36,
   "id": "5f770f4c-0033-4815-88d9-3063acc8e17a",
   "metadata": {},
   "outputs": [
    {
     "data": {
      "text/plain": [
       "array([ 0.00166722, -0.0244148 ,  0.0186756 , ...,  0.0658393 ,\n",
       "       -0.0096192 ,  0.13409004], dtype=float32)"
      ]
     },
     "execution_count": 36,
     "metadata": {},
     "output_type": "execute_result"
    }
   ],
   "source": [
    "v[3]"
   ]
  },
  {
   "cell_type": "code",
   "execution_count": 37,
   "id": "81c30b26-ca76-4fb8-af3b-982296e31156",
   "metadata": {},
   "outputs": [
    {
     "data": {
      "text/plain": [
       "array([ 0.10878856,  0.01696545,  0.0749026 , ...,  0.01413552,\n",
       "       -0.12708436,  0.04421176], dtype=float32)"
      ]
     },
     "execution_count": 37,
     "metadata": {},
     "output_type": "execute_result"
    }
   ],
   "source": [
    "v[4]"
   ]
  },
  {
   "cell_type": "code",
   "execution_count": null,
   "id": "efb3e328-2ec7-476d-8e0d-d5d741ea279d",
   "metadata": {},
   "outputs": [],
   "source": []
  }
 ],
 "metadata": {
  "kernelspec": {
   "display_name": "Python 3 (ipykernel)",
   "language": "python",
   "name": "python3"
  },
  "language_info": {
   "codemirror_mode": {
    "name": "ipython",
    "version": 3
   },
   "file_extension": ".py",
   "mimetype": "text/x-python",
   "name": "python",
   "nbconvert_exporter": "python",
   "pygments_lexer": "ipython3",
   "version": "3.7.13"
  }
 },
 "nbformat": 4,
 "nbformat_minor": 5
}
