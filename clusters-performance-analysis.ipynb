{
 "cells": [
  {
   "cell_type": "code",
   "execution_count": 79,
   "id": "49711b09-9c70-4ad0-a2a3-9e80d0d14060",
   "metadata": {},
   "outputs": [],
   "source": [
    "import numpy as np\n",
    "\n",
    "from sklearn.metrics import adjusted_rand_score\n",
    "from sklearn.metrics.cluster import v_measure_score"
   ]
  },
  {
   "cell_type": "code",
   "execution_count": 80,
   "id": "299026b9-2a10-4bd0-95a6-c9060aed99e2",
   "metadata": {},
   "outputs": [],
   "source": [
    "# Thanks: https://aclanthology.org/D07-1043.pdf"
   ]
  },
  {
   "cell_type": "code",
   "execution_count": 81,
   "id": "cc8cff40-4532-4852-8bce-5eca6d12686b",
   "metadata": {},
   "outputs": [
    {
     "name": "stdout",
     "output_type": "stream",
     "text": [
      "clustersAlphabetical.npy\toutputMMseqs2-easy-linclust.npy  Xb-24578.npy\n",
      "HC+ESM1b.npy\t\t\toutputMMseqs2-linclust.npy\t Xb-35667.npy\n",
      "HC+ESM1v.npy\t\t\toutputMMseqs2-linclustY.npy\t Xv-24578.npy\n",
      "originalLabelsAlpha.npy\t\toutputMMseqs2.npy\t\t Xv-35667.npy\n",
      "originalLabelsNumerical.npy\tPyTorchKMeans+ESM1b.npy\n",
      "outputMMseqs2-easy-cluster.npy\tPyTorchKMeans+ESM1v.npy\n"
     ]
    }
   ],
   "source": [
    "!ls *.npy"
   ]
  },
  {
   "cell_type": "code",
   "execution_count": 82,
   "id": "2f9541dd-fc82-46a2-a177-cfd11260a4aa",
   "metadata": {},
   "outputs": [],
   "source": [
    "# Yp = np.load('HC+ESM1b.npy')\n",
    "# Yp = np.load('HC+ESM1v.npy')\n",
    "# Yp = np.load('PyTorchKMeans+ESM1b.npy')\n",
    "# Yp = np.load('PyTorchKMeans+ESM1v.npy')\n",
    "\n",
    "Yp = np.load('outputMMseqs2-easy-cluster.npy')"
   ]
  },
  {
   "cell_type": "code",
   "execution_count": 83,
   "id": "ee215ad8-05bf-4ab3-9bf1-c19d4e0fbdda",
   "metadata": {},
   "outputs": [
    {
     "data": {
      "text/plain": [
       "array(['a.1.1', 'a.1.1', 'a.1.1', ..., 'g.50.1', 'g.50.1', 'g.50.1'],\n",
       "      dtype='<U7')"
      ]
     },
     "execution_count": 83,
     "metadata": {},
     "output_type": "execute_result"
    }
   ],
   "source": [
    "Yp"
   ]
  },
  {
   "cell_type": "code",
   "execution_count": 84,
   "id": "55083400-51c7-464f-80da-fa007530bf1a",
   "metadata": {},
   "outputs": [],
   "source": [
    "# Y = np.load('originalLabelsNumerical.npy')\n",
    "Y = np.load('originalLabelsAlpha.npy')"
   ]
  },
  {
   "cell_type": "code",
   "execution_count": 85,
   "id": "5f0fbed9-4e85-4016-8ee9-0fc081afb6f8",
   "metadata": {},
   "outputs": [
    {
     "data": {
      "text/plain": [
       "array(['a.1.1', 'a.1.1', 'a.1.1', ..., 'g.50.1', 'g.50.1', 'g.50.1'],\n",
       "      dtype='<U7')"
      ]
     },
     "execution_count": 85,
     "metadata": {},
     "output_type": "execute_result"
    }
   ],
   "source": [
    "Y"
   ]
  },
  {
   "cell_type": "code",
   "execution_count": 86,
   "id": "43dbc232-a602-4e92-843b-30c97519b01d",
   "metadata": {},
   "outputs": [],
   "source": [
    "def performance(Y, Yp):\n",
    "    v = v_measure_score(labels_true=Y, labels_pred=Yp)\n",
    "    print(f'clusters recovery rate: {v*100.0:.4f}')\n",
    "#end-def"
   ]
  },
  {
   "cell_type": "code",
   "execution_count": 87,
   "id": "5c3e207e-a4ae-4967-a51a-f677622f8a39",
   "metadata": {},
   "outputs": [
    {
     "name": "stdout",
     "output_type": "stream",
     "text": [
      "clusters recovery rate: 99.9587\n"
     ]
    }
   ],
   "source": [
    "performance(Y, Yp)"
   ]
  },
  {
   "cell_type": "markdown",
   "id": "f96df125-83f8-483e-aefb-414d1db2f6e4",
   "metadata": {},
   "source": [
    "### 1. KMeans + ESM1b Embedding:"
   ]
  },
  {
   "cell_type": "code",
   "execution_count": 88,
   "id": "a1c99e7c-9adc-463f-ab51-4741d59b5f3b",
   "metadata": {},
   "outputs": [],
   "source": [
    "Yp = np.load('PyTorchKMeans+ESM1b.npy')"
   ]
  },
  {
   "cell_type": "code",
   "execution_count": 89,
   "id": "840e0652-8388-4ce2-97dc-067cb5775b8f",
   "metadata": {},
   "outputs": [],
   "source": [
    "Y = np.load('originalLabelsNumerical.npy')"
   ]
  },
  {
   "cell_type": "code",
   "execution_count": 90,
   "id": "964d554f-a59a-4488-a732-44097bf6d707",
   "metadata": {},
   "outputs": [
    {
     "name": "stdout",
     "output_type": "stream",
     "text": [
      "clusters recovery rate: 67.4511\n"
     ]
    }
   ],
   "source": [
    "performance(Y, Yp)"
   ]
  },
  {
   "cell_type": "code",
   "execution_count": 91,
   "id": "76c18870-9b06-4056-a412-7fe97e532c10",
   "metadata": {},
   "outputs": [],
   "source": [
    "# print(f'{adjusted_rand_score(labels_true=Y, labels_pred=Yp)*100.0:0.4f}')"
   ]
  },
  {
   "cell_type": "code",
   "execution_count": null,
   "id": "e97198ab-849c-43e1-8d40-f40bc505c25d",
   "metadata": {},
   "outputs": [],
   "source": []
  },
  {
   "cell_type": "markdown",
   "id": "fc5c8f5f-26d0-4538-81f2-8d738ed07d06",
   "metadata": {},
   "source": [
    "### 2. HC + ESM1b Embedding:"
   ]
  },
  {
   "cell_type": "code",
   "execution_count": 92,
   "id": "19016b45-d0c5-4322-83ac-15684e81db5e",
   "metadata": {},
   "outputs": [],
   "source": [
    "Yp = np.load('HC+ESM1b.npy')"
   ]
  },
  {
   "cell_type": "code",
   "execution_count": 93,
   "id": "f2128e7e-eb4f-42cd-9b0b-3c65f2bf2995",
   "metadata": {},
   "outputs": [],
   "source": [
    "Y = np.load('originalLabelsNumerical.npy')"
   ]
  },
  {
   "cell_type": "code",
   "execution_count": 94,
   "id": "8d19a15b-93f5-4946-9108-561e314a4fdd",
   "metadata": {},
   "outputs": [
    {
     "name": "stdout",
     "output_type": "stream",
     "text": [
      "clusters recovery rate: 56.3741\n"
     ]
    }
   ],
   "source": [
    "performance(Y, Yp)"
   ]
  },
  {
   "cell_type": "code",
   "execution_count": 95,
   "id": "863c37dd-9700-4c4e-9383-65666480fd1b",
   "metadata": {},
   "outputs": [],
   "source": [
    "# print(f'{adjusted_rand_score(labels_true=Y, labels_pred=Yp)*100.0:0.4f}')"
   ]
  },
  {
   "cell_type": "code",
   "execution_count": null,
   "id": "833cb877-690c-4154-b2b0-4f7aa95307e4",
   "metadata": {},
   "outputs": [],
   "source": []
  },
  {
   "cell_type": "markdown",
   "id": "379dbd39-a1a2-4b9f-9651-0d187952ad4b",
   "metadata": {},
   "source": [
    "### 3. KMeans + ESM1v Embedding:"
   ]
  },
  {
   "cell_type": "code",
   "execution_count": 96,
   "id": "4cc0d4ab-04e5-4982-807d-bb108fcccc20",
   "metadata": {},
   "outputs": [],
   "source": [
    "Yp = np.load('PyTorchKMeans+ESM1v.npy')"
   ]
  },
  {
   "cell_type": "code",
   "execution_count": 97,
   "id": "fa371cb0-9189-47ce-9498-ffd07bfd04b6",
   "metadata": {},
   "outputs": [],
   "source": [
    "Y = np.load('originalLabelsNumerical.npy')"
   ]
  },
  {
   "cell_type": "code",
   "execution_count": 98,
   "id": "a333ac9e-6292-46bb-b9d2-4dda8441b6ac",
   "metadata": {},
   "outputs": [
    {
     "name": "stdout",
     "output_type": "stream",
     "text": [
      "clusters recovery rate: 65.2184\n"
     ]
    }
   ],
   "source": [
    "performance(Y, Yp)"
   ]
  },
  {
   "cell_type": "code",
   "execution_count": 99,
   "id": "95a0a2c0-7334-47a1-91b2-06e09dde4f6f",
   "metadata": {},
   "outputs": [],
   "source": [
    "# print(f'{adjusted_rand_score(labels_true=Y, labels_pred=Yp)*100.0:0.4f}')"
   ]
  },
  {
   "cell_type": "markdown",
   "id": "cac0ea98-f8d6-441a-b39d-3071ec45f52e",
   "metadata": {},
   "source": [
    "### 4. HC + ESM1v Embedding:"
   ]
  },
  {
   "cell_type": "code",
   "execution_count": 100,
   "id": "d652393a-8b73-419d-bae0-3d355bafc4c2",
   "metadata": {},
   "outputs": [],
   "source": [
    "Yp = np.load('HC+ESM1v.npy')"
   ]
  },
  {
   "cell_type": "code",
   "execution_count": 101,
   "id": "240f6ed2-f5f9-4166-831d-a52219493712",
   "metadata": {},
   "outputs": [],
   "source": [
    "Y = np.load('originalLabelsNumerical.npy')"
   ]
  },
  {
   "cell_type": "code",
   "execution_count": 102,
   "id": "d200540a-7b10-4766-a126-b01e1c500bc3",
   "metadata": {},
   "outputs": [
    {
     "name": "stdout",
     "output_type": "stream",
     "text": [
      "clusters recovery rate: 42.2957\n"
     ]
    }
   ],
   "source": [
    "performance(Y, Yp)"
   ]
  },
  {
   "cell_type": "code",
   "execution_count": 103,
   "id": "b71cb082-258c-4723-b025-f246d695b319",
   "metadata": {},
   "outputs": [],
   "source": [
    "# print(f'{adjusted_rand_score(labels_true=Y, labels_pred=Yp)*100.0:0.4f}')"
   ]
  },
  {
   "cell_type": "code",
   "execution_count": null,
   "id": "a4e7ae09-eae7-4ec6-be6f-41fe6bf70944",
   "metadata": {},
   "outputs": [],
   "source": []
  },
  {
   "cell_type": "markdown",
   "id": "8ee5b6da-f566-4eee-9386-7d97aee82d82",
   "metadata": {},
   "source": [
    "### 5. MMseqs2 (easy-cluster):"
   ]
  },
  {
   "cell_type": "code",
   "execution_count": 104,
   "id": "ee0beb10-825c-4bab-8438-54fe8b892063",
   "metadata": {},
   "outputs": [],
   "source": [
    "Yp = np.load('outputMMseqs2-easy-cluster.npy')"
   ]
  },
  {
   "cell_type": "code",
   "execution_count": 105,
   "id": "f0b0e234-44c0-406b-be51-eef4818dc142",
   "metadata": {},
   "outputs": [],
   "source": [
    "Y = np.load('originalLabelsAlpha.npy')"
   ]
  },
  {
   "cell_type": "code",
   "execution_count": 106,
   "id": "660753f1-66df-47b6-9cfa-93c1471dfc40",
   "metadata": {},
   "outputs": [
    {
     "name": "stdout",
     "output_type": "stream",
     "text": [
      "clusters recovery rate: 99.9587\n"
     ]
    }
   ],
   "source": [
    "performance(Y, Yp)"
   ]
  },
  {
   "cell_type": "code",
   "execution_count": 107,
   "id": "395b19a6-1c93-4ec3-a9e3-240c7627b4e7",
   "metadata": {},
   "outputs": [],
   "source": [
    "# print(f'{adjusted_rand_score(labels_true=Y, labels_pred=Yp)*100.0:0.4f}')"
   ]
  },
  {
   "cell_type": "code",
   "execution_count": null,
   "id": "1b07caf4-ec67-4bb1-9fcf-d346680cb503",
   "metadata": {},
   "outputs": [],
   "source": []
  },
  {
   "cell_type": "markdown",
   "id": "1418f113-ee45-45f7-8790-eb01865bb8eb",
   "metadata": {},
   "source": [
    "### 6. MMseqs2 (easy-linclust):"
   ]
  },
  {
   "cell_type": "code",
   "execution_count": 108,
   "id": "104bf0c7-03f1-4e92-a2e5-8fe58e863d30",
   "metadata": {},
   "outputs": [],
   "source": [
    "Yp = np.load('outputMMseqs2-easy-linclust.npy')"
   ]
  },
  {
   "cell_type": "code",
   "execution_count": 109,
   "id": "5e13eb08-8060-403f-9fa8-88261f724e58",
   "metadata": {},
   "outputs": [],
   "source": [
    "Y = np.load('originalLabelsAlpha.npy')"
   ]
  },
  {
   "cell_type": "code",
   "execution_count": 110,
   "id": "b85627be-5458-4ee1-b32f-e9722a8d37d8",
   "metadata": {},
   "outputs": [
    {
     "name": "stdout",
     "output_type": "stream",
     "text": [
      "clusters recovery rate: 99.9893\n"
     ]
    }
   ],
   "source": [
    "performance(Y, Yp)"
   ]
  },
  {
   "cell_type": "code",
   "execution_count": 111,
   "id": "33a5ac53-9e4c-4fd7-a4fd-52fd21765a18",
   "metadata": {},
   "outputs": [],
   "source": [
    "# adjusted_rand_score(labels_true=Y, labels_pred=Yp)"
   ]
  },
  {
   "cell_type": "code",
   "execution_count": 112,
   "id": "dcfd4491-fd68-480c-81cf-dbb6d713f066",
   "metadata": {},
   "outputs": [],
   "source": [
    "# print(f'{adjusted_rand_score(labels_true=Y, labels_pred=Yp)*100.0:0.4f}')"
   ]
  },
  {
   "cell_type": "code",
   "execution_count": null,
   "id": "dde5d777-6b52-44b6-a047-e3b5d7de5bb7",
   "metadata": {},
   "outputs": [],
   "source": []
  },
  {
   "cell_type": "code",
   "execution_count": null,
   "id": "b0e4783c-572d-45a3-a8f5-33adc5b3ddec",
   "metadata": {},
   "outputs": [],
   "source": []
  }
 ],
 "metadata": {
  "kernelspec": {
   "display_name": "Python 3 (ipykernel)",
   "language": "python",
   "name": "python3"
  },
  "language_info": {
   "codemirror_mode": {
    "name": "ipython",
    "version": 3
   },
   "file_extension": ".py",
   "mimetype": "text/x-python",
   "name": "python",
   "nbconvert_exporter": "python",
   "pygments_lexer": "ipython3",
   "version": "3.7.13"
  }
 },
 "nbformat": 4,
 "nbformat_minor": 5
}
